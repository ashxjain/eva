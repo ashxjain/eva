{
  "nbformat": 4,
  "nbformat_minor": 0,
  "metadata": {
    "colab": {
      "name": "EVA5_S6.ipynb",
      "provenance": [],
      "collapsed_sections": []
    },
    "kernelspec": {
      "name": "python3",
      "display_name": "Python 3"
    },
    "accelerator": "GPU"
  },
  "cells": [
    {
      "cell_type": "markdown",
      "metadata": {
        "id": "4DbotbK7s30r",
        "colab_type": "text"
      },
      "source": [
        "## MNIST Classification\n"
      ]
    },
    {
      "cell_type": "code",
      "metadata": {
        "id": "bViBhbdAUuwU",
        "colab_type": "code",
        "colab": {
          "base_uri": "https://localhost:8080/",
          "height": 34
        },
        "outputId": "433e9f3f-430c-4d9b-e242-71c9cdadfd6e"
      },
      "source": [
        "!pip install torchsummary\n",
        "from __future__ import print_function\n",
        "import torch\n",
        "import torch.nn as nn\n",
        "import torch.nn.functional as F\n",
        "import torch.optim as optim\n",
        "from torchvision import datasets, transforms\n",
        "from torchsummary import summary\n",
        "import matplotlib.pyplot as plt\n",
        "from torch.optim.lr_scheduler import StepLR\n",
        "from functools import partial"
      ],
      "execution_count": 1,
      "outputs": [
        {
          "output_type": "stream",
          "text": [
            "Requirement already satisfied: torchsummary in /usr/local/lib/python3.6/dist-packages (1.5.1)\n"
          ],
          "name": "stdout"
        }
      ]
    },
    {
      "cell_type": "code",
      "metadata": {
        "id": "EC9kPtQKUzWT",
        "colab_type": "code",
        "colab": {}
      },
      "source": [
        "# transforms.py\n",
        "\n",
        "from torchvision import transforms\n",
        "\n",
        "# Train Phase transformations\n",
        "def mnist_transforms():\n",
        "  train_transforms = transforms.Compose([\n",
        "                                        transforms.RandomRotation((-7.0,7.0), fill=(1,)),\n",
        "                                        transforms.RandomAffine(degrees=20, translate=(0.1,0.1), scale=(0.9, 1.1)),\n",
        "                                        transforms.ColorJitter(brightness=0.10, contrast=0.1, saturation=0.10, hue=0.1),\n",
        "                                        transforms.ToTensor(),\n",
        "                                        transforms.Normalize((0.1307,), (0.3081,)) # The mean and std have to be sequences (e.g., tuples), therefore you should add a comma after the values. \n",
        "                                        ])\n",
        "\n",
        "  # Test Phase transformations\n",
        "  test_transforms = transforms.Compose([\n",
        "                                        transforms.ToTensor(),\n",
        "                                        transforms.Normalize((0.1307,), (0.3081,))\n",
        "                                        ])\n",
        "  \n",
        "  return train_transforms, test_transforms"
      ],
      "execution_count": 2,
      "outputs": []
    },
    {
      "cell_type": "code",
      "metadata": {
        "id": "Q-Fb8698U1ca",
        "colab_type": "code",
        "colab": {}
      },
      "source": [
        "# dataset.py\n",
        "\n",
        "from torchvision import datasets\n",
        "\n",
        "def mnist():\n",
        "  train_transforms, test_transforms = mnist_transforms()\n",
        "  train = datasets.MNIST('./data', train=True, download=True, transform=train_transforms)\n",
        "  test = datasets.MNIST('./data', train=False, download=True, transform=test_transforms)\n",
        "  return train, test"
      ],
      "execution_count": 3,
      "outputs": []
    },
    {
      "cell_type": "code",
      "metadata": {
        "id": "Bn9zhXytVSAr",
        "colab_type": "code",
        "colab": {}
      },
      "source": [
        "# utils.py\n",
        "\n",
        "import sys\n",
        "import matplotlib.pyplot as plt\n",
        "\n",
        "def plot_results(train_losses, train_acc, test_losses, test_acc):\n",
        "  fig, axs = plt.subplots(2,2,figsize=(15,10))\n",
        "  for label, losses in train_losses.items():\n",
        "    axs[0, 0].plot(losses, label = label)\n",
        "  axs[0, 0].set_title(\"Training Loss\")\n",
        "  axs[0, 0].legend()\n",
        "\n",
        "  for label, acc in train_acc.items():\n",
        "    axs[1, 0].plot(acc, label = label)\n",
        "  axs[1, 0].set_title(\"Training Accuracy\")\n",
        "  axs[1, 0].legend()\n",
        "\n",
        "  for label, losses in test_losses.items():\n",
        "    axs[0, 1].plot(losses, label = label)\n",
        "  axs[0, 1].set_title(\"Test Loss\")\n",
        "  axs[0, 1].legend()\n",
        "\n",
        "  for label, acc in test_acc.items():\n",
        "    axs[1, 1].plot(acc, label = label)\n",
        "  axs[1, 1].set_title(\"Test Accuracy\")\n",
        "  axs[1, 1].legend()\n",
        "\n",
        "def printout(msg):\n",
        "  print(msg)\n",
        "  sys.stdout.flush()\n",
        "\n",
        "def show_images_from_loader(data_loader, image_count=60):\n",
        "  figure = plt.figure()\n",
        "  for data, target in data_loader:\n",
        "    for index in range(data.shape[0]):\n",
        "      plt.subplot(6, 10, index+1)\n",
        "      plt.axis('off')\n",
        "      plt.imshow(data[index].numpy().squeeze(), cmap='gray_r')\n",
        "      if index + 1 == image_count:\n",
        "        break\n",
        "    break\n",
        "\n",
        "# Show misclassified images with respect to a model\n",
        "def show_misclassified_images_from_model(model, model_path, data_loader, class_labels, image_count):\n",
        "  model.load_state_dict(torch.load(model_path))\n",
        "  model.to(device)\n",
        "  model.eval()\n",
        "\n",
        "  correct = 0\n",
        "  figure = plt.figure(figsize=(15,15))\n",
        "  count = 0\n",
        "  with torch.no_grad():\n",
        "      for data, target in data_loader:\n",
        "          data, target = data.to(device), target.to(device)\n",
        "          output = model(data)\n",
        "          pred = output.argmax(dim=1, keepdim=True)  # get the index of the max log-probability\n",
        "          correct += pred.eq(target.view_as(pred)).sum().item()\n",
        "\n",
        "          for idx in range(len(pred)):\n",
        "            i_pred, i_act = pred[idx], target[idx]\n",
        "            if i_pred != i_act:\n",
        "                annotation = \"Actual: %s, Predicted: %s\" % (class_labels[i_act], class_labels[i_pred])\n",
        "                count += 1\n",
        "                plt.subplot(image_count/5, 5, count)\n",
        "                plt.axis('off')\n",
        "                plt.imshow(data[idx].cpu().numpy().squeeze(), cmap='gray_r')\n",
        "                plt.annotate(annotation, xy=(0,0), xytext=(0,-1.2), fontsize=13)\n",
        "            if count == image_count:\n",
        "                return"
      ],
      "execution_count": 4,
      "outputs": []
    },
    {
      "cell_type": "code",
      "metadata": {
        "id": "lVMwe4uuRagM",
        "colab_type": "code",
        "colab": {}
      },
      "source": [
        "# regularizers.py\n",
        "\n",
        "def l1_loss(model, loss, lambda_l1):\n",
        "  l1 = 0\n",
        "  for p in model.parameters():\n",
        "    l1 = l1 + p.abs().sum()\n",
        "  loss = loss + lambda_l1 * l1\n",
        "  return loss"
      ],
      "execution_count": 5,
      "outputs": []
    },
    {
      "cell_type": "code",
      "metadata": {
        "id": "eaKshDp8VU0K",
        "colab_type": "code",
        "colab": {}
      },
      "source": [
        "# train.py\n",
        "\n",
        "from tqdm import tqdm\n",
        "\n",
        "def train(model, device, train_loader, optimizer, epoch, opts, hyper_params):\n",
        "  model.train()\n",
        "  pbar = tqdm(train_loader)\n",
        "  correct = 0\n",
        "  processed = 0\n",
        "\n",
        "  train_losses = []\n",
        "  train_acc = []\n",
        "\n",
        "  for batch_idx, (data, target) in enumerate(pbar):\n",
        "    # get samples\n",
        "    data, target = data.to(device), target.to(device)\n",
        "\n",
        "    # Init\n",
        "    optimizer.zero_grad()\n",
        "    # In PyTorch, we need to set the gradients to zero before starting to do backpropragation because PyTorch accumulates the gradients on subsequent backward passes. \n",
        "    # Because of this, when you start your training loop, ideally you should zero out the gradients so that you do the parameter update correctly.\n",
        "\n",
        "    # Predict\n",
        "    y_pred = model(data)\n",
        "\n",
        "    # Calculate loss\n",
        "    loss = F.nll_loss(y_pred, target)\n",
        "    # L1 Regularization\n",
        "    if ModelOpts.L1 in opts:\n",
        "      l1_lambda = hyper_params.get(\"l1_lambda\", 0.1)\n",
        "      loss = l1_loss(model, loss, l1_lambda)\n",
        "\n",
        "    train_losses.append(loss)\n",
        "\n",
        "    # Backpropagation\n",
        "    loss.backward()\n",
        "    optimizer.step()\n",
        "\n",
        "    # Update pbar-tqdm\n",
        "    \n",
        "    pred = y_pred.argmax(dim=1, keepdim=True)  # get the index of the max log-probability\n",
        "    correct += pred.eq(target.view_as(pred)).sum().item()\n",
        "    processed += len(data)\n",
        "\n",
        "    pbar.set_description(desc= f'Loss={loss.item()} Batch_id={batch_idx} Accuracy={100*correct/processed:0.2f}')\n",
        "    train_acc.append(100*correct/processed)\n",
        "\n",
        "  return train_losses, train_acc"
      ],
      "execution_count": 6,
      "outputs": []
    },
    {
      "cell_type": "code",
      "metadata": {
        "id": "JnhZCaZ3FkvA",
        "colab_type": "code",
        "colab": {}
      },
      "source": [
        "# test.py\n",
        "\n",
        "def test(model, device, test_loader):\n",
        "    model.eval()\n",
        "    test_loss = 0\n",
        "    correct = 0\n",
        "    test_losses = []\n",
        "    test_acc = []\n",
        "\n",
        "    with torch.no_grad():\n",
        "        for data, target in test_loader:\n",
        "            data, target = data.to(device), target.to(device)\n",
        "            output = model(data)\n",
        "            test_loss += F.nll_loss(output, target, reduction='sum').item()  # sum up batch loss\n",
        "            pred = output.argmax(dim=1, keepdim=True)  # get the index of the max log-probability\n",
        "            correct += pred.eq(target.view_as(pred)).sum().item()\n",
        "\n",
        "    test_loss /= len(test_loader.dataset)\n",
        "    test_losses.append(test_loss)\n",
        "\n",
        "    print('\\nTest set: Average loss: {:.4f}, Accuracy: {}/{} ({:.2f}%)\\n'.format(\n",
        "        test_loss, correct, len(test_loader.dataset),\n",
        "        100. * correct / len(test_loader.dataset)))\n",
        "    \n",
        "    test_acc.append(100. * correct / len(test_loader.dataset))\n",
        "\n",
        "    return test_losses, test_acc"
      ],
      "execution_count": 7,
      "outputs": []
    },
    {
      "cell_type": "code",
      "metadata": {
        "id": "tRkBi8kOnfvX",
        "colab_type": "code",
        "colab": {}
      },
      "source": [
        "# models.py\n",
        "\n",
        "class ModelOpts:\n",
        "    L1 = \"L1\"\n",
        "    L2 = \"L2\"\n",
        "    BN = \"BN\"\n",
        "    GBN = \"GBN\"\n",
        "    Save = \"Save Model\"\n",
        "\n",
        "    def get_name(opts):\n",
        "      nameParts = []\n",
        "      for opt in opts:\n",
        "        if opt == ModelOpts.Save:\n",
        "          continue\n",
        "        nameParts.append(opt)\n",
        "      return \"+\".join(nameParts)\n",
        "\n",
        "\n",
        "# Source: https://github.com/apple/ml-cifar-10-faster/blob/master/utils.py#L147\n",
        "class GhostBatchNorm(nn.BatchNorm2d):\n",
        "    def __init__(self, num_features, num_splits, **kw):\n",
        "        super().__init__(num_features, **kw)\n",
        "        self.num_splits = num_splits\n",
        "        self.register_buffer('running_mean', torch.zeros(num_features * self.num_splits))\n",
        "        self.register_buffer('running_var', torch.ones(num_features * self.num_splits))\n",
        "\n",
        "    def train(self, mode=True):\n",
        "        if (self.training is True) and (mode is False):  # lazily collate stats when we are going to use them\n",
        "            self.running_mean = torch.mean(self.running_mean.view(self.num_splits, self.num_features), dim=0).repeat(\n",
        "                self.num_splits)\n",
        "            self.running_var = torch.mean(self.running_var.view(self.num_splits, self.num_features), dim=0).repeat(\n",
        "                self.num_splits)\n",
        "        return super().train(mode)\n",
        "\n",
        "    def forward(self, input):\n",
        "        N, C, H, W = input.shape\n",
        "        if self.training or not self.track_running_stats:\n",
        "            return F.batch_norm(\n",
        "                input.view(-1, C * self.num_splits, H, W), self.running_mean, self.running_var,\n",
        "                self.weight.repeat(self.num_splits), self.bias.repeat(self.num_splits),\n",
        "                True, self.momentum, self.eps).view(N, C, H, W)\n",
        "        else:\n",
        "            return F.batch_norm(\n",
        "                input, self.running_mean[:self.num_features], self.running_var[:self.num_features],\n",
        "                self.weight, self.bias, False, self.momentum, self.eps)\n",
        "\n",
        "class MNIST_S6(nn.Module):\n",
        "  \n",
        "    def conv_block (self, in_channels, out_channels, kernel_size, padding = 1):\n",
        "      return nn.Sequential(\n",
        "            nn.Conv2d(in_channels = in_channels, out_channels = out_channels, kernel_size = kernel_size, padding = padding, bias = False),\n",
        "            nn.ReLU(),\n",
        "            self.bn(out_channels),\n",
        "            nn.Dropout(0.01))\n",
        "        \n",
        "    def out_block(self, in_channels, kernel_size = 1):\n",
        "      return nn.Sequential(\n",
        "        nn.Conv2d(in_channels=in_channels, out_channels=10, kernel_size = kernel_size, padding = 0, bias = False))\n",
        "\n",
        "    def __init__(self, opts=[]):\n",
        "        super(MNIST_S6, self).__init__()\n",
        "        if ModelOpts.GBN in opts:\n",
        "          self.bn = partial(GhostBatchNorm, num_splits=2)\n",
        "        else:\n",
        "          self.bn = nn.BatchNorm2d\n",
        "        self.conv1 = self.conv_block(1, 10, 3)\n",
        "        self.conv2 = self.conv_block(10, 10, 3, 0)\n",
        "        self.conv3 = self.conv_block(10, 11, 3)\n",
        "        self.conv4 = self.conv_block(11, 11, 3, 0)\n",
        "        self.conv5 = self.conv_block(11, 12, 3)\n",
        "        self.conv6 = self.conv_block(12, 12, 3, 0)\n",
        "        self.conv8 = self.out_block(12, 3)\n",
        "        self.pool = nn.MaxPool2d(2, 2)\n",
        "        \n",
        "    def forward(self, x):\n",
        "        x = self.conv1(x)\n",
        "        x = self.conv2(x)\n",
        "        x = self.pool(x)\n",
        "        x = self.conv3(x)\n",
        "        x = self.conv4(x)\n",
        "        x = self.pool(x)\n",
        "        x = self.conv5(x)\n",
        "        x = self.conv6(x)\n",
        "        x = self.conv8(x)\n",
        "        x = x.view(-1, 10)\n",
        "        return F.log_softmax(x, dim=-1)"
      ],
      "execution_count": 8,
      "outputs": []
    },
    {
      "cell_type": "markdown",
      "metadata": {
        "id": "gnUsP-lg4h8Z",
        "colab_type": "text"
      },
      "source": [
        "### Load Dataset"
      ]
    },
    {
      "cell_type": "code",
      "metadata": {
        "id": "9OHFnZ5NU5C3",
        "colab_type": "code",
        "colab": {
          "base_uri": "https://localhost:8080/",
          "height": 34
        },
        "outputId": "9cbe1459-46e8-4fcd-9efc-0dbdaa677575"
      },
      "source": [
        "SEED = 1\n",
        "\n",
        "# CUDA?\n",
        "cuda = torch.cuda.is_available()\n",
        "device = torch.device(\"cuda\" if cuda else \"cpu\")\n",
        "print(\"CUDA Available?\", cuda, \"Device\", device)\n",
        "\n",
        "# For reproducibility\n",
        "torch.manual_seed(SEED)\n",
        "if cuda:\n",
        "    torch.cuda.manual_seed(SEED)\n",
        "\n",
        "# load dataset\n",
        "train_data, test_data = mnist()\n",
        "\n",
        "# dataloader arguments - something you'll fetch these from cmdprmt\n",
        "dataloader_args = dict(shuffle=True, batch_size=128, num_workers=4, pin_memory=True) if cuda else dict(shuffle=True, batch_size=64)\n",
        "\n",
        "# train dataloader\n",
        "train_loader = torch.utils.data.DataLoader(train_data, **dataloader_args)\n",
        "\n",
        "# test dataloader\n",
        "test_loader = torch.utils.data.DataLoader(test_data, **dataloader_args)"
      ],
      "execution_count": 9,
      "outputs": [
        {
          "output_type": "stream",
          "text": [
            "CUDA Available? True Device cuda\n"
          ],
          "name": "stdout"
        }
      ]
    },
    {
      "cell_type": "markdown",
      "metadata": {
        "id": "FiW7xbiQqe7h",
        "colab_type": "text"
      },
      "source": [
        "### Visualize images, train/test. To verify if transforms are applied appropriately"
      ]
    },
    {
      "cell_type": "code",
      "metadata": {
        "id": "eu-8DR7ZjT9R",
        "colab_type": "code",
        "colab": {
          "base_uri": "https://localhost:8080/",
          "height": 246
        },
        "outputId": "4b4e5b0c-d939-4ab7-b08b-84b236dd04c8"
      },
      "source": [
        "show_images_from_loader(train_loader)"
      ],
      "execution_count": 10,
      "outputs": [
        {
          "output_type": "display_data",
          "data": {
            "image/png": "[encoded data removed]",
            "text/plain": [
              "<Figure size 432x288 with 60 Axes>"
            ]
          },
          "metadata": {
            "tags": [],
            "needs_background": "light"
          }
        }
      ]
    },
    {
      "cell_type": "code",
      "metadata": {
        "id": "wB83NyOvlI5d",
        "colab_type": "code",
        "colab": {
          "base_uri": "https://localhost:8080/",
          "height": 246
        },
        "outputId": "6a89243f-349b-49c9-f01c-67871379e7bb"
      },
      "source": [
        "show_images_from_loader(test_loader)"
      ],
      "execution_count": 11,
      "outputs": [
        {
          "output_type": "display_data",
          "data": {
            "image/png": "[encoded data removed]",
            "text/plain": [
              "<Figure size 432x288 with 60 Axes>"
            ]
          },
          "metadata": {
            "tags": [],
            "needs_background": "light"
          }
        }
      ]
    },
    {
      "cell_type": "markdown",
      "metadata": {
        "id": "x-sC0po4qq-f",
        "colab_type": "text"
      },
      "source": [
        "### Verify model & its parameters"
      ]
    },
    {
      "cell_type": "code",
      "metadata": {
        "id": "Sif-VfVvDVx_",
        "colab_type": "code",
        "colab": {
          "base_uri": "https://localhost:8080/",
          "height": 697
        },
        "outputId": "8ecd62b0-0b3c-435a-99af-02deafe56a67"
      },
      "source": [
        "model = MNIST_S6().to(device)\n",
        "summary(model, input_size=(1, 28, 28))"
      ],
      "execution_count": 12,
      "outputs": [
        {
          "output_type": "stream",
          "text": [
            "----------------------------------------------------------------\n",
            "        Layer (type)               Output Shape         Param #\n",
            "================================================================\n",
            "            Conv2d-1           [-1, 10, 28, 28]              90\n",
            "              ReLU-2           [-1, 10, 28, 28]               0\n",
            "       BatchNorm2d-3           [-1, 10, 28, 28]              20\n",
            "           Dropout-4           [-1, 10, 28, 28]               0\n",
            "            Conv2d-5           [-1, 10, 26, 26]             900\n",
            "              ReLU-6           [-1, 10, 26, 26]               0\n",
            "       BatchNorm2d-7           [-1, 10, 26, 26]              20\n",
            "           Dropout-8           [-1, 10, 26, 26]               0\n",
            "         MaxPool2d-9           [-1, 10, 13, 13]               0\n",
            "           Conv2d-10           [-1, 11, 13, 13]             990\n",
            "             ReLU-11           [-1, 11, 13, 13]               0\n",
            "      BatchNorm2d-12           [-1, 11, 13, 13]              22\n",
            "          Dropout-13           [-1, 11, 13, 13]               0\n",
            "           Conv2d-14           [-1, 11, 11, 11]           1,089\n",
            "             ReLU-15           [-1, 11, 11, 11]               0\n",
            "      BatchNorm2d-16           [-1, 11, 11, 11]              22\n",
            "          Dropout-17           [-1, 11, 11, 11]               0\n",
            "        MaxPool2d-18             [-1, 11, 5, 5]               0\n",
            "           Conv2d-19             [-1, 12, 5, 5]           1,188\n",
            "             ReLU-20             [-1, 12, 5, 5]               0\n",
            "      BatchNorm2d-21             [-1, 12, 5, 5]              24\n",
            "          Dropout-22             [-1, 12, 5, 5]               0\n",
            "           Conv2d-23             [-1, 12, 3, 3]           1,296\n",
            "             ReLU-24             [-1, 12, 3, 3]               0\n",
            "      BatchNorm2d-25             [-1, 12, 3, 3]              24\n",
            "          Dropout-26             [-1, 12, 3, 3]               0\n",
            "           Conv2d-27             [-1, 10, 1, 1]           1,080\n",
            "================================================================\n",
            "Total params: 6,765\n",
            "Trainable params: 6,765\n",
            "Non-trainable params: 0\n",
            "----------------------------------------------------------------\n",
            "Input size (MB): 0.00\n",
            "Forward/backward pass size (MB): 0.57\n",
            "Params size (MB): 0.03\n",
            "Estimated Total Size (MB): 0.60\n",
            "----------------------------------------------------------------\n"
          ],
          "name": "stdout"
        }
      ]
    },
    {
      "cell_type": "markdown",
      "metadata": {
        "id": "yHuCl4Wr4mGH",
        "colab_type": "text"
      },
      "source": [
        "### Train/Test Model"
      ]
    },
    {
      "cell_type": "code",
      "metadata": {
        "id": "IFsRBwy8nktn",
        "colab_type": "code",
        "colab": {
          "base_uri": "https://localhost:8080/",
          "height": 1000
        },
        "outputId": "af6c822e-5510-4a65-f530-6bfe95d525b4"
      },
      "source": [
        "model_options = [\n",
        "                [ModelOpts.L1, ModelOpts.BN],\n",
        "                [ModelOpts.L2, ModelOpts.BN],\n",
        "                [ModelOpts.L1, ModelOpts.L2, ModelOpts.BN],\n",
        "                [ModelOpts.GBN, ModelOpts.Save],\n",
        "                [ModelOpts.L1, ModelOpts.L2, ModelOpts.GBN],\n",
        "              ]\n",
        "\n",
        "hyper_params = {\"l1_lambda\": 0.0001}\n",
        "EPOCHS = 25\n",
        "\n",
        "train_losses = dict()\n",
        "train_acc = dict()\n",
        "test_losses = dict()\n",
        "test_acc = dict()\n",
        "for opts in model_options:\n",
        "  model_name = ModelOpts.get_name(opts)\n",
        "\n",
        "  train_losses[model_name] = []\n",
        "  train_acc[model_name] = []\n",
        "  test_losses[model_name] = []\n",
        "  test_acc[model_name] = []\n",
        "\n",
        "  title = f\"Executing model with Options {opts}\"\n",
        "  printout(title)\n",
        "  printout(\"=\"*len(title))\n",
        "\n",
        "  model = MNIST_S6(opts).to(device)\n",
        "  if ModelOpts.L2 in opts:\n",
        "    optimizer = optim.SGD(model.parameters(), lr=0.1, momentum=0.9, dampening=0, weight_decay=0, nesterov=False)\n",
        "  else:\n",
        "    optimizer = optim.SGD(model.parameters(), lr=0.1, momentum=0.9)\n",
        "  #SstepLR to fine tune learning rate to converge faster\n",
        "  scheduler = StepLR(optimizer, step_size=5, gamma=0.5)\n",
        "  for epoch in range(EPOCHS):\n",
        "      printout(f\"Epoch: {epoch}\")\n",
        "      tr_loss, tr_acc = train(model, device, train_loader, optimizer, epoch, opts, hyper_params)\n",
        "      train_losses[model_name].extend(tr_loss)\n",
        "      train_acc[model_name].extend(tr_acc)\n",
        "      scheduler.step()\n",
        "      te_loss, te_acc = test(model, device, test_loader)\n",
        "      test_losses[model_name].extend(te_loss)\n",
        "      test_acc[model_name].extend(te_acc)\n",
        "\n",
        "  if ModelOpts.Save in opts:\n",
        "    torch.save(model.state_dict(), f\"./{model_name}.pth\")\n",
        "\n",
        "plot_results(train_losses, train_acc, test_losses, test_acc)"
      ],
      "execution_count": 13,
      "outputs": [
        {
          "output_type": "stream",
          "text": [
            "Executing model with Options ['L1', 'BN']\n",
            "=========================================\n",
            "Epoch: 0\n"
          ],
          "name": "stdout"
        },
        {
          "output_type": "stream",
          "text": [
            "Loss=0.3098923861980438 Batch_id=468 Accuracy=90.30: 100%|██████████| 469/469 [00:39<00:00, 11.91it/s]\n"
          ],
          "name": "stderr"
        },
        {
          "output_type": "stream",
          "text": [
            "\n",
            "Test set: Average loss: 0.0594, Accuracy: 9802/10000 (98.02%)\n",
            "\n",
            "Epoch: 1\n"
          ],
          "name": "stdout"
        },
        {
          "output_type": "stream",
          "text": [
            "Loss=0.18874341249465942 Batch_id=468 Accuracy=95.61: 100%|██████████| 469/469 [00:39<00:00, 11.91it/s]\n"
          ],
          "name": "stderr"
        },
        {
          "output_type": "stream",
          "text": [
            "\n",
            "Test set: Average loss: 0.0587, Accuracy: 9805/10000 (98.05%)\n",
            "\n",
            "Epoch: 2\n"
          ],
          "name": "stdout"
        },
        {
          "output_type": "stream",
          "text": [
            "Loss=0.25195157527923584 Batch_id=468 Accuracy=96.28: 100%|██████████| 469/469 [00:39<00:00, 11.90it/s]\n"
          ],
          "name": "stderr"
        },
        {
          "output_type": "stream",
          "text": [
            "\n",
            "Test set: Average loss: 0.0523, Accuracy: 9843/10000 (98.43%)\n",
            "\n",
            "Epoch: 3\n"
          ],
          "name": "stdout"
        },
        {
          "output_type": "stream",
          "text": [
            "Loss=0.2090906798839569 Batch_id=468 Accuracy=96.64: 100%|██████████| 469/469 [00:39<00:00, 11.93it/s]\n"
          ],
          "name": "stderr"
        },
        {
          "output_type": "stream",
          "text": [
            "\n",
            "Test set: Average loss: 0.0395, Accuracy: 9880/10000 (98.80%)\n",
            "\n",
            "Epoch: 4\n"
          ],
          "name": "stdout"
        },
        {
          "output_type": "stream",
          "text": [
            "Loss=0.15906235575675964 Batch_id=468 Accuracy=96.78: 100%|██████████| 469/469 [00:39<00:00, 11.91it/s]\n"
          ],
          "name": "stderr"
        },
        {
          "output_type": "stream",
          "text": [
            "\n",
            "Test set: Average loss: 0.0418, Accuracy: 9864/10000 (98.64%)\n",
            "\n",
            "Epoch: 5\n"
          ],
          "name": "stdout"
        },
        {
          "output_type": "stream",
          "text": [
            "Loss=0.16932609677314758 Batch_id=468 Accuracy=97.53: 100%|██████████| 469/469 [00:39<00:00, 11.93it/s]\n"
          ],
          "name": "stderr"
        },
        {
          "output_type": "stream",
          "text": [
            "\n",
            "Test set: Average loss: 0.0361, Accuracy: 9884/10000 (98.84%)\n",
            "\n",
            "Epoch: 6\n"
          ],
          "name": "stdout"
        },
        {
          "output_type": "stream",
          "text": [
            "Loss=0.14769509434700012 Batch_id=468 Accuracy=97.58: 100%|██████████| 469/469 [00:39<00:00, 11.98it/s]\n"
          ],
          "name": "stderr"
        },
        {
          "output_type": "stream",
          "text": [
            "\n",
            "Test set: Average loss: 0.0229, Accuracy: 9917/10000 (99.17%)\n",
            "\n",
            "Epoch: 7\n"
          ],
          "name": "stdout"
        },
        {
          "output_type": "stream",
          "text": [
            "Loss=0.13157199323177338 Batch_id=468 Accuracy=97.63: 100%|██████████| 469/469 [00:39<00:00, 11.84it/s]\n"
          ],
          "name": "stderr"
        },
        {
          "output_type": "stream",
          "text": [
            "\n",
            "Test set: Average loss: 0.0222, Accuracy: 9936/10000 (99.36%)\n",
            "\n",
            "Epoch: 8\n"
          ],
          "name": "stdout"
        },
        {
          "output_type": "stream",
          "text": [
            "Loss=0.12562522292137146 Batch_id=468 Accuracy=97.52: 100%|██████████| 469/469 [00:39<00:00, 11.94it/s]\n"
          ],
          "name": "stderr"
        },
        {
          "output_type": "stream",
          "text": [
            "\n",
            "Test set: Average loss: 0.0287, Accuracy: 9904/10000 (99.04%)\n",
            "\n",
            "Epoch: 9\n"
          ],
          "name": "stdout"
        },
        {
          "output_type": "stream",
          "text": [
            "Loss=0.22506588697433472 Batch_id=468 Accuracy=97.54: 100%|██████████| 469/469 [00:39<00:00, 11.95it/s]\n"
          ],
          "name": "stderr"
        },
        {
          "output_type": "stream",
          "text": [
            "\n",
            "Test set: Average loss: 0.0282, Accuracy: 9908/10000 (99.08%)\n",
            "\n",
            "Epoch: 10\n"
          ],
          "name": "stdout"
        },
        {
          "output_type": "stream",
          "text": [
            "Loss=0.17974989116191864 Batch_id=468 Accuracy=97.99: 100%|██████████| 469/469 [00:39<00:00, 11.86it/s]\n"
          ],
          "name": "stderr"
        },
        {
          "output_type": "stream",
          "text": [
            "\n",
            "Test set: Average loss: 0.0232, Accuracy: 9928/10000 (99.28%)\n",
            "\n",
            "Epoch: 11\n"
          ],
          "name": "stdout"
        },
        {
          "output_type": "stream",
          "text": [
            "Loss=0.12302246689796448 Batch_id=468 Accuracy=97.99: 100%|██████████| 469/469 [00:39<00:00, 11.83it/s]\n"
          ],
          "name": "stderr"
        },
        {
          "output_type": "stream",
          "text": [
            "\n",
            "Test set: Average loss: 0.0211, Accuracy: 9933/10000 (99.33%)\n",
            "\n",
            "Epoch: 12\n"
          ],
          "name": "stdout"
        },
        {
          "output_type": "stream",
          "text": [
            "Loss=0.09645261615514755 Batch_id=468 Accuracy=97.98: 100%|██████████| 469/469 [00:39<00:00, 11.89it/s]\n"
          ],
          "name": "stderr"
        },
        {
          "output_type": "stream",
          "text": [
            "\n",
            "Test set: Average loss: 0.0226, Accuracy: 9930/10000 (99.30%)\n",
            "\n",
            "Epoch: 13\n"
          ],
          "name": "stdout"
        },
        {
          "output_type": "stream",
          "text": [
            "Loss=0.21751472353935242 Batch_id=468 Accuracy=98.00: 100%|██████████| 469/469 [00:39<00:00, 11.93it/s]\n"
          ],
          "name": "stderr"
        },
        {
          "output_type": "stream",
          "text": [
            "\n",
            "Test set: Average loss: 0.0221, Accuracy: 9922/10000 (99.22%)\n",
            "\n",
            "Epoch: 14\n"
          ],
          "name": "stdout"
        },
        {
          "output_type": "stream",
          "text": [
            "Loss=0.17827394604682922 Batch_id=468 Accuracy=98.08: 100%|██████████| 469/469 [00:39<00:00, 11.96it/s]\n"
          ],
          "name": "stderr"
        },
        {
          "output_type": "stream",
          "text": [
            "\n",
            "Test set: Average loss: 0.0311, Accuracy: 9901/10000 (99.01%)\n",
            "\n",
            "Epoch: 15\n"
          ],
          "name": "stdout"
        },
        {
          "output_type": "stream",
          "text": [
            "Loss=0.14352008700370789 Batch_id=468 Accuracy=98.18: 100%|██████████| 469/469 [00:39<00:00, 11.88it/s]\n"
          ],
          "name": "stderr"
        },
        {
          "output_type": "stream",
          "text": [
            "\n",
            "Test set: Average loss: 0.0178, Accuracy: 9942/10000 (99.42%)\n",
            "\n",
            "Epoch: 16\n"
          ],
          "name": "stdout"
        },
        {
          "output_type": "stream",
          "text": [
            "Loss=0.12535081803798676 Batch_id=468 Accuracy=98.26: 100%|██████████| 469/469 [00:39<00:00, 11.97it/s]\n"
          ],
          "name": "stderr"
        },
        {
          "output_type": "stream",
          "text": [
            "\n",
            "Test set: Average loss: 0.0192, Accuracy: 9943/10000 (99.43%)\n",
            "\n",
            "Epoch: 17\n"
          ],
          "name": "stdout"
        },
        {
          "output_type": "stream",
          "text": [
            "Loss=0.21527552604675293 Batch_id=468 Accuracy=98.30: 100%|██████████| 469/469 [00:39<00:00, 11.94it/s]\n"
          ],
          "name": "stderr"
        },
        {
          "output_type": "stream",
          "text": [
            "\n",
            "Test set: Average loss: 0.0184, Accuracy: 9946/10000 (99.46%)\n",
            "\n",
            "Epoch: 18\n"
          ],
          "name": "stdout"
        },
        {
          "output_type": "stream",
          "text": [
            "Loss=0.08317543566226959 Batch_id=468 Accuracy=98.22: 100%|██████████| 469/469 [00:39<00:00, 11.94it/s]\n"
          ],
          "name": "stderr"
        },
        {
          "output_type": "stream",
          "text": [
            "\n",
            "Test set: Average loss: 0.0187, Accuracy: 9932/10000 (99.32%)\n",
            "\n",
            "Epoch: 19\n"
          ],
          "name": "stdout"
        },
        {
          "output_type": "stream",
          "text": [
            "Loss=0.1521538943052292 Batch_id=468 Accuracy=98.20: 100%|██████████| 469/469 [00:39<00:00, 11.92it/s]\n"
          ],
          "name": "stderr"
        },
        {
          "output_type": "stream",
          "text": [
            "\n",
            "Test set: Average loss: 0.0189, Accuracy: 9938/10000 (99.38%)\n",
            "\n",
            "Epoch: 20\n"
          ],
          "name": "stdout"
        },
        {
          "output_type": "stream",
          "text": [
            "Loss=0.08353513479232788 Batch_id=468 Accuracy=98.44: 100%|██████████| 469/469 [00:39<00:00, 11.90it/s]\n"
          ],
          "name": "stderr"
        },
        {
          "output_type": "stream",
          "text": [
            "\n",
            "Test set: Average loss: 0.0183, Accuracy: 9945/10000 (99.45%)\n",
            "\n",
            "Epoch: 21\n"
          ],
          "name": "stdout"
        },
        {
          "output_type": "stream",
          "text": [
            "Loss=0.09154956787824631 Batch_id=468 Accuracy=98.46: 100%|██████████| 469/469 [00:39<00:00, 11.89it/s]\n"
          ],
          "name": "stderr"
        },
        {
          "output_type": "stream",
          "text": [
            "\n",
            "Test set: Average loss: 0.0174, Accuracy: 9947/10000 (99.47%)\n",
            "\n",
            "Epoch: 22\n"
          ],
          "name": "stdout"
        },
        {
          "output_type": "stream",
          "text": [
            "Loss=0.13429519534111023 Batch_id=468 Accuracy=98.42: 100%|██████████| 469/469 [00:39<00:00, 11.86it/s]\n"
          ],
          "name": "stderr"
        },
        {
          "output_type": "stream",
          "text": [
            "\n",
            "Test set: Average loss: 0.0175, Accuracy: 9947/10000 (99.47%)\n",
            "\n",
            "Epoch: 23\n"
          ],
          "name": "stdout"
        },
        {
          "output_type": "stream",
          "text": [
            "Loss=0.12458738684654236 Batch_id=468 Accuracy=98.41: 100%|██████████| 469/469 [00:39<00:00, 11.77it/s]\n"
          ],
          "name": "stderr"
        },
        {
          "output_type": "stream",
          "text": [
            "\n",
            "Test set: Average loss: 0.0175, Accuracy: 9954/10000 (99.54%)\n",
            "\n",
            "Epoch: 24\n"
          ],
          "name": "stdout"
        },
        {
          "output_type": "stream",
          "text": [
            "Loss=0.08458277583122253 Batch_id=468 Accuracy=98.39: 100%|██████████| 469/469 [00:39<00:00, 11.84it/s]\n"
          ],
          "name": "stderr"
        },
        {
          "output_type": "stream",
          "text": [
            "\n",
            "Test set: Average loss: 0.0179, Accuracy: 9943/10000 (99.43%)\n",
            "\n",
            "Executing model with Options ['L2', 'BN']\n",
            "=========================================\n",
            "Epoch: 0\n"
          ],
          "name": "stdout"
        },
        {
          "output_type": "stream",
          "text": [
            "Loss=0.11624333262443542 Batch_id=468 Accuracy=90.66: 100%|██████████| 469/469 [00:38<00:00, 12.24it/s]\n"
          ],
          "name": "stderr"
        },
        {
          "output_type": "stream",
          "text": [
            "\n",
            "Test set: Average loss: 0.0703, Accuracy: 9787/10000 (97.87%)\n",
            "\n",
            "Epoch: 1\n"
          ],
          "name": "stdout"
        },
        {
          "output_type": "stream",
          "text": [
            "Loss=0.19649581611156464 Batch_id=468 Accuracy=95.67: 100%|██████████| 469/469 [00:38<00:00, 12.10it/s]\n"
          ],
          "name": "stderr"
        },
        {
          "output_type": "stream",
          "text": [
            "\n",
            "Test set: Average loss: 0.0696, Accuracy: 9774/10000 (97.74%)\n",
            "\n",
            "Epoch: 2\n"
          ],
          "name": "stdout"
        },
        {
          "output_type": "stream",
          "text": [
            "Loss=0.10648145526647568 Batch_id=468 Accuracy=96.38: 100%|██████████| 469/469 [00:38<00:00, 12.11it/s]\n"
          ],
          "name": "stderr"
        },
        {
          "output_type": "stream",
          "text": [
            "\n",
            "Test set: Average loss: 0.0399, Accuracy: 9869/10000 (98.69%)\n",
            "\n",
            "Epoch: 3\n"
          ],
          "name": "stdout"
        },
        {
          "output_type": "stream",
          "text": [
            "Loss=0.057364821434020996 Batch_id=468 Accuracy=96.79: 100%|██████████| 469/469 [00:38<00:00, 12.30it/s]\n"
          ],
          "name": "stderr"
        },
        {
          "output_type": "stream",
          "text": [
            "\n",
            "Test set: Average loss: 0.0432, Accuracy: 9871/10000 (98.71%)\n",
            "\n",
            "Epoch: 4\n"
          ],
          "name": "stdout"
        },
        {
          "output_type": "stream",
          "text": [
            "Loss=0.16189514100551605 Batch_id=468 Accuracy=97.09: 100%|██████████| 469/469 [00:38<00:00, 12.16it/s]\n"
          ],
          "name": "stderr"
        },
        {
          "output_type": "stream",
          "text": [
            "\n",
            "Test set: Average loss: 0.0315, Accuracy: 9906/10000 (99.06%)\n",
            "\n",
            "Epoch: 5\n"
          ],
          "name": "stdout"
        },
        {
          "output_type": "stream",
          "text": [
            "Loss=0.12273753434419632 Batch_id=468 Accuracy=97.59: 100%|██████████| 469/469 [00:38<00:00, 12.12it/s]\n"
          ],
          "name": "stderr"
        },
        {
          "output_type": "stream",
          "text": [
            "\n",
            "Test set: Average loss: 0.0253, Accuracy: 9919/10000 (99.19%)\n",
            "\n",
            "Epoch: 6\n"
          ],
          "name": "stdout"
        },
        {
          "output_type": "stream",
          "text": [
            "Loss=0.0857517421245575 Batch_id=468 Accuracy=97.68: 100%|██████████| 469/469 [00:38<00:00, 12.10it/s]\n"
          ],
          "name": "stderr"
        },
        {
          "output_type": "stream",
          "text": [
            "\n",
            "Test set: Average loss: 0.0248, Accuracy: 9924/10000 (99.24%)\n",
            "\n",
            "Epoch: 7\n"
          ],
          "name": "stdout"
        },
        {
          "output_type": "stream",
          "text": [
            "Loss=0.04161829873919487 Batch_id=468 Accuracy=97.79: 100%|██████████| 469/469 [00:38<00:00, 12.20it/s]\n"
          ],
          "name": "stderr"
        },
        {
          "output_type": "stream",
          "text": [
            "\n",
            "Test set: Average loss: 0.0257, Accuracy: 9911/10000 (99.11%)\n",
            "\n",
            "Epoch: 8\n"
          ],
          "name": "stdout"
        },
        {
          "output_type": "stream",
          "text": [
            "Loss=0.02279648743569851 Batch_id=468 Accuracy=97.87: 100%|██████████| 469/469 [00:38<00:00, 12.18it/s]\n"
          ],
          "name": "stderr"
        },
        {
          "output_type": "stream",
          "text": [
            "\n",
            "Test set: Average loss: 0.0252, Accuracy: 9929/10000 (99.29%)\n",
            "\n",
            "Epoch: 9\n"
          ],
          "name": "stdout"
        },
        {
          "output_type": "stream",
          "text": [
            "Loss=0.11360203474760056 Batch_id=468 Accuracy=97.86: 100%|██████████| 469/469 [00:38<00:00, 12.19it/s]\n"
          ],
          "name": "stderr"
        },
        {
          "output_type": "stream",
          "text": [
            "\n",
            "Test set: Average loss: 0.0236, Accuracy: 9929/10000 (99.29%)\n",
            "\n",
            "Epoch: 10\n"
          ],
          "name": "stdout"
        },
        {
          "output_type": "stream",
          "text": [
            "Loss=0.03984943777322769 Batch_id=468 Accuracy=98.12: 100%|██████████| 469/469 [00:38<00:00, 12.16it/s]\n"
          ],
          "name": "stderr"
        },
        {
          "output_type": "stream",
          "text": [
            "\n",
            "Test set: Average loss: 0.0223, Accuracy: 9930/10000 (99.30%)\n",
            "\n",
            "Epoch: 11\n"
          ],
          "name": "stdout"
        },
        {
          "output_type": "stream",
          "text": [
            "Loss=0.04790021479129791 Batch_id=468 Accuracy=98.03: 100%|██████████| 469/469 [00:38<00:00, 12.15it/s]\n"
          ],
          "name": "stderr"
        },
        {
          "output_type": "stream",
          "text": [
            "\n",
            "Test set: Average loss: 0.0239, Accuracy: 9927/10000 (99.27%)\n",
            "\n",
            "Epoch: 12\n"
          ],
          "name": "stdout"
        },
        {
          "output_type": "stream",
          "text": [
            "Loss=0.011568604968488216 Batch_id=468 Accuracy=98.09: 100%|██████████| 469/469 [00:38<00:00, 12.16it/s]\n"
          ],
          "name": "stderr"
        },
        {
          "output_type": "stream",
          "text": [
            "\n",
            "Test set: Average loss: 0.0227, Accuracy: 9935/10000 (99.35%)\n",
            "\n",
            "Epoch: 13\n"
          ],
          "name": "stdout"
        },
        {
          "output_type": "stream",
          "text": [
            "Loss=0.07879409939050674 Batch_id=468 Accuracy=98.26: 100%|██████████| 469/469 [00:38<00:00, 12.24it/s]\n"
          ],
          "name": "stderr"
        },
        {
          "output_type": "stream",
          "text": [
            "\n",
            "Test set: Average loss: 0.0208, Accuracy: 9934/10000 (99.34%)\n",
            "\n",
            "Epoch: 14\n"
          ],
          "name": "stdout"
        },
        {
          "output_type": "stream",
          "text": [
            "Loss=0.12048535794019699 Batch_id=468 Accuracy=98.23: 100%|██████████| 469/469 [00:38<00:00, 12.33it/s]\n"
          ],
          "name": "stderr"
        },
        {
          "output_type": "stream",
          "text": [
            "\n",
            "Test set: Average loss: 0.0222, Accuracy: 9932/10000 (99.32%)\n",
            "\n",
            "Epoch: 15\n"
          ],
          "name": "stdout"
        },
        {
          "output_type": "stream",
          "text": [
            "Loss=0.06447882205247879 Batch_id=468 Accuracy=98.33: 100%|██████████| 469/469 [00:37<00:00, 12.39it/s]\n"
          ],
          "name": "stderr"
        },
        {
          "output_type": "stream",
          "text": [
            "\n",
            "Test set: Average loss: 0.0202, Accuracy: 9935/10000 (99.35%)\n",
            "\n",
            "Epoch: 16\n"
          ],
          "name": "stdout"
        },
        {
          "output_type": "stream",
          "text": [
            "Loss=0.13617171347141266 Batch_id=468 Accuracy=98.30: 100%|██████████| 469/469 [00:38<00:00, 12.25it/s]\n"
          ],
          "name": "stderr"
        },
        {
          "output_type": "stream",
          "text": [
            "\n",
            "Test set: Average loss: 0.0198, Accuracy: 9944/10000 (99.44%)\n",
            "\n",
            "Epoch: 17\n"
          ],
          "name": "stdout"
        },
        {
          "output_type": "stream",
          "text": [
            "Loss=0.08255019038915634 Batch_id=468 Accuracy=98.26: 100%|██████████| 469/469 [00:38<00:00, 12.23it/s]\n"
          ],
          "name": "stderr"
        },
        {
          "output_type": "stream",
          "text": [
            "\n",
            "Test set: Average loss: 0.0219, Accuracy: 9930/10000 (99.30%)\n",
            "\n",
            "Epoch: 18\n"
          ],
          "name": "stdout"
        },
        {
          "output_type": "stream",
          "text": [
            "Loss=0.015508917160332203 Batch_id=468 Accuracy=98.33: 100%|██████████| 469/469 [00:38<00:00, 12.30it/s]\n"
          ],
          "name": "stderr"
        },
        {
          "output_type": "stream",
          "text": [
            "\n",
            "Test set: Average loss: 0.0201, Accuracy: 9934/10000 (99.34%)\n",
            "\n",
            "Epoch: 19\n"
          ],
          "name": "stdout"
        },
        {
          "output_type": "stream",
          "text": [
            "Loss=0.007589319720864296 Batch_id=468 Accuracy=98.33: 100%|██████████| 469/469 [00:38<00:00, 12.22it/s]\n"
          ],
          "name": "stderr"
        },
        {
          "output_type": "stream",
          "text": [
            "\n",
            "Test set: Average loss: 0.0196, Accuracy: 9940/10000 (99.40%)\n",
            "\n",
            "Epoch: 20\n"
          ],
          "name": "stdout"
        },
        {
          "output_type": "stream",
          "text": [
            "Loss=0.06266085058450699 Batch_id=468 Accuracy=98.36: 100%|██████████| 469/469 [00:38<00:00, 12.21it/s]\n"
          ],
          "name": "stderr"
        },
        {
          "output_type": "stream",
          "text": [
            "\n",
            "Test set: Average loss: 0.0188, Accuracy: 9940/10000 (99.40%)\n",
            "\n",
            "Epoch: 21\n"
          ],
          "name": "stdout"
        },
        {
          "output_type": "stream",
          "text": [
            "Loss=0.12415305525064468 Batch_id=468 Accuracy=98.41: 100%|██████████| 469/469 [00:37<00:00, 12.35it/s]\n"
          ],
          "name": "stderr"
        },
        {
          "output_type": "stream",
          "text": [
            "\n",
            "Test set: Average loss: 0.0184, Accuracy: 9943/10000 (99.43%)\n",
            "\n",
            "Epoch: 22\n"
          ],
          "name": "stdout"
        },
        {
          "output_type": "stream",
          "text": [
            "Loss=0.0592363066971302 Batch_id=468 Accuracy=98.42: 100%|██████████| 469/469 [00:38<00:00, 12.22it/s]\n"
          ],
          "name": "stderr"
        },
        {
          "output_type": "stream",
          "text": [
            "\n",
            "Test set: Average loss: 0.0194, Accuracy: 9938/10000 (99.38%)\n",
            "\n",
            "Epoch: 23\n"
          ],
          "name": "stdout"
        },
        {
          "output_type": "stream",
          "text": [
            "Loss=0.05433240160346031 Batch_id=468 Accuracy=98.39: 100%|██████████| 469/469 [00:38<00:00, 12.27it/s]\n"
          ],
          "name": "stderr"
        },
        {
          "output_type": "stream",
          "text": [
            "\n",
            "Test set: Average loss: 0.0190, Accuracy: 9937/10000 (99.37%)\n",
            "\n",
            "Epoch: 24\n"
          ],
          "name": "stdout"
        },
        {
          "output_type": "stream",
          "text": [
            "Loss=0.08117466419935226 Batch_id=468 Accuracy=98.39: 100%|██████████| 469/469 [00:38<00:00, 12.29it/s]\n"
          ],
          "name": "stderr"
        },
        {
          "output_type": "stream",
          "text": [
            "\n",
            "Test set: Average loss: 0.0187, Accuracy: 9941/10000 (99.41%)\n",
            "\n",
            "Executing model with Options ['L1', 'L2', 'BN']\n",
            "===============================================\n",
            "Epoch: 0\n"
          ],
          "name": "stdout"
        },
        {
          "output_type": "stream",
          "text": [
            "Loss=0.28527286648750305 Batch_id=468 Accuracy=90.86: 100%|██████████| 469/469 [00:39<00:00, 12.01it/s]\n"
          ],
          "name": "stderr"
        },
        {
          "output_type": "stream",
          "text": [
            "\n",
            "Test set: Average loss: 0.0683, Accuracy: 9774/10000 (97.74%)\n",
            "\n",
            "Epoch: 1\n"
          ],
          "name": "stdout"
        },
        {
          "output_type": "stream",
          "text": [
            "Loss=0.25959864258766174 Batch_id=468 Accuracy=95.82: 100%|██████████| 469/469 [00:39<00:00, 11.98it/s]\n"
          ],
          "name": "stderr"
        },
        {
          "output_type": "stream",
          "text": [
            "\n",
            "Test set: Average loss: 0.0504, Accuracy: 9837/10000 (98.37%)\n",
            "\n",
            "Epoch: 2\n"
          ],
          "name": "stdout"
        },
        {
          "output_type": "stream",
          "text": [
            "Loss=0.2292197346687317 Batch_id=468 Accuracy=96.28: 100%|██████████| 469/469 [00:39<00:00, 12.02it/s]\n"
          ],
          "name": "stderr"
        },
        {
          "output_type": "stream",
          "text": [
            "\n",
            "Test set: Average loss: 0.0477, Accuracy: 9845/10000 (98.45%)\n",
            "\n",
            "Epoch: 3\n"
          ],
          "name": "stdout"
        },
        {
          "output_type": "stream",
          "text": [
            "Loss=0.22815491259098053 Batch_id=468 Accuracy=96.53: 100%|██████████| 469/469 [00:39<00:00, 11.95it/s]\n"
          ],
          "name": "stderr"
        },
        {
          "output_type": "stream",
          "text": [
            "\n",
            "Test set: Average loss: 0.0418, Accuracy: 9854/10000 (98.54%)\n",
            "\n",
            "Epoch: 4\n"
          ],
          "name": "stdout"
        },
        {
          "output_type": "stream",
          "text": [
            "Loss=0.25243881344795227 Batch_id=468 Accuracy=96.77: 100%|██████████| 469/469 [00:39<00:00, 11.99it/s]\n"
          ],
          "name": "stderr"
        },
        {
          "output_type": "stream",
          "text": [
            "\n",
            "Test set: Average loss: 0.0431, Accuracy: 9863/10000 (98.63%)\n",
            "\n",
            "Epoch: 5\n"
          ],
          "name": "stdout"
        },
        {
          "output_type": "stream",
          "text": [
            "Loss=0.15421953797340393 Batch_id=468 Accuracy=97.60: 100%|██████████| 469/469 [00:39<00:00, 12.01it/s]\n"
          ],
          "name": "stderr"
        },
        {
          "output_type": "stream",
          "text": [
            "\n",
            "Test set: Average loss: 0.0341, Accuracy: 9889/10000 (98.89%)\n",
            "\n",
            "Epoch: 6\n"
          ],
          "name": "stdout"
        },
        {
          "output_type": "stream",
          "text": [
            "Loss=0.1088908463716507 Batch_id=468 Accuracy=97.67: 100%|██████████| 469/469 [00:39<00:00, 11.90it/s]\n"
          ],
          "name": "stderr"
        },
        {
          "output_type": "stream",
          "text": [
            "\n",
            "Test set: Average loss: 0.0331, Accuracy: 9895/10000 (98.95%)\n",
            "\n",
            "Epoch: 7\n"
          ],
          "name": "stdout"
        },
        {
          "output_type": "stream",
          "text": [
            "Loss=0.20361030101776123 Batch_id=468 Accuracy=97.53: 100%|██████████| 469/469 [00:39<00:00, 11.96it/s]\n"
          ],
          "name": "stderr"
        },
        {
          "output_type": "stream",
          "text": [
            "\n",
            "Test set: Average loss: 0.0259, Accuracy: 9917/10000 (99.17%)\n",
            "\n",
            "Epoch: 8\n"
          ],
          "name": "stdout"
        },
        {
          "output_type": "stream",
          "text": [
            "Loss=0.1883375644683838 Batch_id=468 Accuracy=97.70: 100%|██████████| 469/469 [00:38<00:00, 12.10it/s]\n"
          ],
          "name": "stderr"
        },
        {
          "output_type": "stream",
          "text": [
            "\n",
            "Test set: Average loss: 0.0295, Accuracy: 9908/10000 (99.08%)\n",
            "\n",
            "Epoch: 9\n"
          ],
          "name": "stdout"
        },
        {
          "output_type": "stream",
          "text": [
            "Loss=0.14651229977607727 Batch_id=468 Accuracy=97.52: 100%|██████████| 469/469 [00:38<00:00, 12.04it/s]\n"
          ],
          "name": "stderr"
        },
        {
          "output_type": "stream",
          "text": [
            "\n",
            "Test set: Average loss: 0.0330, Accuracy: 9893/10000 (98.93%)\n",
            "\n",
            "Epoch: 10\n"
          ],
          "name": "stdout"
        },
        {
          "output_type": "stream",
          "text": [
            "Loss=0.11191385984420776 Batch_id=468 Accuracy=98.08: 100%|██████████| 469/469 [00:39<00:00, 12.02it/s]\n"
          ],
          "name": "stderr"
        },
        {
          "output_type": "stream",
          "text": [
            "\n",
            "Test set: Average loss: 0.0221, Accuracy: 9930/10000 (99.30%)\n",
            "\n",
            "Epoch: 11\n"
          ],
          "name": "stdout"
        },
        {
          "output_type": "stream",
          "text": [
            "Loss=0.10167955607175827 Batch_id=468 Accuracy=98.12: 100%|██████████| 469/469 [00:39<00:00, 12.02it/s]\n"
          ],
          "name": "stderr"
        },
        {
          "output_type": "stream",
          "text": [
            "\n",
            "Test set: Average loss: 0.0219, Accuracy: 9930/10000 (99.30%)\n",
            "\n",
            "Epoch: 12\n"
          ],
          "name": "stdout"
        },
        {
          "output_type": "stream",
          "text": [
            "Loss=0.17826467752456665 Batch_id=468 Accuracy=98.05: 100%|██████████| 469/469 [00:38<00:00, 12.07it/s]\n"
          ],
          "name": "stderr"
        },
        {
          "output_type": "stream",
          "text": [
            "\n",
            "Test set: Average loss: 0.0269, Accuracy: 9906/10000 (99.06%)\n",
            "\n",
            "Epoch: 13\n"
          ],
          "name": "stdout"
        },
        {
          "output_type": "stream",
          "text": [
            "Loss=0.09701506048440933 Batch_id=468 Accuracy=98.07: 100%|██████████| 469/469 [00:39<00:00, 11.95it/s]\n"
          ],
          "name": "stderr"
        },
        {
          "output_type": "stream",
          "text": [
            "\n",
            "Test set: Average loss: 0.0215, Accuracy: 9928/10000 (99.28%)\n",
            "\n",
            "Epoch: 14\n"
          ],
          "name": "stdout"
        },
        {
          "output_type": "stream",
          "text": [
            "Loss=0.11795587837696075 Batch_id=468 Accuracy=98.01: 100%|██████████| 469/469 [00:39<00:00, 11.97it/s]\n"
          ],
          "name": "stderr"
        },
        {
          "output_type": "stream",
          "text": [
            "\n",
            "Test set: Average loss: 0.0241, Accuracy: 9924/10000 (99.24%)\n",
            "\n",
            "Epoch: 15\n"
          ],
          "name": "stdout"
        },
        {
          "output_type": "stream",
          "text": [
            "Loss=0.10911503434181213 Batch_id=468 Accuracy=98.23: 100%|██████████| 469/469 [00:38<00:00, 12.10it/s]\n"
          ],
          "name": "stderr"
        },
        {
          "output_type": "stream",
          "text": [
            "\n",
            "Test set: Average loss: 0.0202, Accuracy: 9935/10000 (99.35%)\n",
            "\n",
            "Epoch: 16\n"
          ],
          "name": "stdout"
        },
        {
          "output_type": "stream",
          "text": [
            "Loss=0.09174676239490509 Batch_id=468 Accuracy=98.28: 100%|██████████| 469/469 [00:38<00:00, 12.05it/s]\n"
          ],
          "name": "stderr"
        },
        {
          "output_type": "stream",
          "text": [
            "\n",
            "Test set: Average loss: 0.0195, Accuracy: 9937/10000 (99.37%)\n",
            "\n",
            "Epoch: 17\n"
          ],
          "name": "stdout"
        },
        {
          "output_type": "stream",
          "text": [
            "Loss=0.09432835131883621 Batch_id=468 Accuracy=98.28: 100%|██████████| 469/469 [00:38<00:00, 12.04it/s]\n"
          ],
          "name": "stderr"
        },
        {
          "output_type": "stream",
          "text": [
            "\n",
            "Test set: Average loss: 0.0224, Accuracy: 9922/10000 (99.22%)\n",
            "\n",
            "Epoch: 18\n"
          ],
          "name": "stdout"
        },
        {
          "output_type": "stream",
          "text": [
            "Loss=0.21655181050300598 Batch_id=468 Accuracy=98.24: 100%|██████████| 469/469 [00:39<00:00, 11.98it/s]\n"
          ],
          "name": "stderr"
        },
        {
          "output_type": "stream",
          "text": [
            "\n",
            "Test set: Average loss: 0.0205, Accuracy: 9928/10000 (99.28%)\n",
            "\n",
            "Epoch: 19\n"
          ],
          "name": "stdout"
        },
        {
          "output_type": "stream",
          "text": [
            "Loss=0.15501761436462402 Batch_id=468 Accuracy=98.26: 100%|██████████| 469/469 [00:38<00:00, 12.06it/s]\n"
          ],
          "name": "stderr"
        },
        {
          "output_type": "stream",
          "text": [
            "\n",
            "Test set: Average loss: 0.0205, Accuracy: 9930/10000 (99.30%)\n",
            "\n",
            "Epoch: 20\n"
          ],
          "name": "stdout"
        },
        {
          "output_type": "stream",
          "text": [
            "Loss=0.0801495611667633 Batch_id=468 Accuracy=98.34: 100%|██████████| 469/469 [00:39<00:00, 11.99it/s]\n"
          ],
          "name": "stderr"
        },
        {
          "output_type": "stream",
          "text": [
            "\n",
            "Test set: Average loss: 0.0185, Accuracy: 9940/10000 (99.40%)\n",
            "\n",
            "Epoch: 21\n"
          ],
          "name": "stdout"
        },
        {
          "output_type": "stream",
          "text": [
            "Loss=0.12967193126678467 Batch_id=468 Accuracy=98.39: 100%|██████████| 469/469 [00:39<00:00, 11.94it/s]\n"
          ],
          "name": "stderr"
        },
        {
          "output_type": "stream",
          "text": [
            "\n",
            "Test set: Average loss: 0.0185, Accuracy: 9939/10000 (99.39%)\n",
            "\n",
            "Epoch: 22\n"
          ],
          "name": "stdout"
        },
        {
          "output_type": "stream",
          "text": [
            "Loss=0.11045762151479721 Batch_id=468 Accuracy=98.47: 100%|██████████| 469/469 [00:38<00:00, 12.04it/s]\n"
          ],
          "name": "stderr"
        },
        {
          "output_type": "stream",
          "text": [
            "\n",
            "Test set: Average loss: 0.0178, Accuracy: 9935/10000 (99.35%)\n",
            "\n",
            "Epoch: 23\n"
          ],
          "name": "stdout"
        },
        {
          "output_type": "stream",
          "text": [
            "Loss=0.15154315531253815 Batch_id=468 Accuracy=98.36: 100%|██████████| 469/469 [00:39<00:00, 12.00it/s]\n"
          ],
          "name": "stderr"
        },
        {
          "output_type": "stream",
          "text": [
            "\n",
            "Test set: Average loss: 0.0191, Accuracy: 9934/10000 (99.34%)\n",
            "\n",
            "Epoch: 24\n"
          ],
          "name": "stdout"
        },
        {
          "output_type": "stream",
          "text": [
            "Loss=0.15390430390834808 Batch_id=468 Accuracy=98.42: 100%|██████████| 469/469 [00:38<00:00, 12.04it/s]\n"
          ],
          "name": "stderr"
        },
        {
          "output_type": "stream",
          "text": [
            "\n",
            "Test set: Average loss: 0.0180, Accuracy: 9936/10000 (99.36%)\n",
            "\n",
            "Executing model with Options ['GBN', 'Save Model']\n",
            "==================================================\n",
            "Epoch: 0\n"
          ],
          "name": "stdout"
        },
        {
          "output_type": "stream",
          "text": [
            "Loss=0.25159525871276855 Batch_id=468 Accuracy=90.26: 100%|██████████| 469/469 [00:38<00:00, 12.26it/s]\n"
          ],
          "name": "stderr"
        },
        {
          "output_type": "stream",
          "text": [
            "\n",
            "Test set: Average loss: 0.0582, Accuracy: 9836/10000 (98.36%)\n",
            "\n",
            "Epoch: 1\n"
          ],
          "name": "stdout"
        },
        {
          "output_type": "stream",
          "text": [
            "Loss=0.1206500455737114 Batch_id=468 Accuracy=95.70: 100%|██████████| 469/469 [00:38<00:00, 12.15it/s]\n"
          ],
          "name": "stderr"
        },
        {
          "output_type": "stream",
          "text": [
            "\n",
            "Test set: Average loss: 0.0490, Accuracy: 9851/10000 (98.51%)\n",
            "\n",
            "Epoch: 2\n"
          ],
          "name": "stdout"
        },
        {
          "output_type": "stream",
          "text": [
            "Loss=0.20737935602664948 Batch_id=468 Accuracy=96.26: 100%|██████████| 469/469 [00:38<00:00, 12.22it/s]\n"
          ],
          "name": "stderr"
        },
        {
          "output_type": "stream",
          "text": [
            "\n",
            "Test set: Average loss: 0.0344, Accuracy: 9889/10000 (98.89%)\n",
            "\n",
            "Epoch: 3\n"
          ],
          "name": "stdout"
        },
        {
          "output_type": "stream",
          "text": [
            "Loss=0.12726940214633942 Batch_id=468 Accuracy=96.58: 100%|██████████| 469/469 [00:38<00:00, 12.16it/s]\n"
          ],
          "name": "stderr"
        },
        {
          "output_type": "stream",
          "text": [
            "\n",
            "Test set: Average loss: 0.0385, Accuracy: 9884/10000 (98.84%)\n",
            "\n",
            "Epoch: 4\n"
          ],
          "name": "stdout"
        },
        {
          "output_type": "stream",
          "text": [
            "Loss=0.020131053403019905 Batch_id=468 Accuracy=96.91: 100%|██████████| 469/469 [00:38<00:00, 12.25it/s]\n"
          ],
          "name": "stderr"
        },
        {
          "output_type": "stream",
          "text": [
            "\n",
            "Test set: Average loss: 0.0346, Accuracy: 9889/10000 (98.89%)\n",
            "\n",
            "Epoch: 5\n"
          ],
          "name": "stdout"
        },
        {
          "output_type": "stream",
          "text": [
            "Loss=0.12427718192338943 Batch_id=468 Accuracy=97.45: 100%|██████████| 469/469 [00:38<00:00, 12.24it/s]\n"
          ],
          "name": "stderr"
        },
        {
          "output_type": "stream",
          "text": [
            "\n",
            "Test set: Average loss: 0.0268, Accuracy: 9914/10000 (99.14%)\n",
            "\n",
            "Epoch: 6\n"
          ],
          "name": "stdout"
        },
        {
          "output_type": "stream",
          "text": [
            "Loss=0.08552669733762741 Batch_id=468 Accuracy=97.52: 100%|██████████| 469/469 [00:38<00:00, 12.21it/s]\n"
          ],
          "name": "stderr"
        },
        {
          "output_type": "stream",
          "text": [
            "\n",
            "Test set: Average loss: 0.0308, Accuracy: 9917/10000 (99.17%)\n",
            "\n",
            "Epoch: 7\n"
          ],
          "name": "stdout"
        },
        {
          "output_type": "stream",
          "text": [
            "Loss=0.07284419983625412 Batch_id=468 Accuracy=97.52: 100%|██████████| 469/469 [00:38<00:00, 12.18it/s]\n"
          ],
          "name": "stderr"
        },
        {
          "output_type": "stream",
          "text": [
            "\n",
            "Test set: Average loss: 0.0262, Accuracy: 9918/10000 (99.18%)\n",
            "\n",
            "Epoch: 8\n"
          ],
          "name": "stdout"
        },
        {
          "output_type": "stream",
          "text": [
            "Loss=0.0930895134806633 Batch_id=468 Accuracy=97.54: 100%|██████████| 469/469 [00:38<00:00, 12.18it/s]\n"
          ],
          "name": "stderr"
        },
        {
          "output_type": "stream",
          "text": [
            "\n",
            "Test set: Average loss: 0.0258, Accuracy: 9919/10000 (99.19%)\n",
            "\n",
            "Epoch: 9\n"
          ],
          "name": "stdout"
        },
        {
          "output_type": "stream",
          "text": [
            "Loss=0.037471704185009 Batch_id=468 Accuracy=97.64: 100%|██████████| 469/469 [00:38<00:00, 12.13it/s]\n"
          ],
          "name": "stderr"
        },
        {
          "output_type": "stream",
          "text": [
            "\n",
            "Test set: Average loss: 0.0241, Accuracy: 9930/10000 (99.30%)\n",
            "\n",
            "Epoch: 10\n"
          ],
          "name": "stdout"
        },
        {
          "output_type": "stream",
          "text": [
            "Loss=0.005987111013382673 Batch_id=468 Accuracy=97.74: 100%|██████████| 469/469 [00:38<00:00, 12.25it/s]\n"
          ],
          "name": "stderr"
        },
        {
          "output_type": "stream",
          "text": [
            "\n",
            "Test set: Average loss: 0.0237, Accuracy: 9928/10000 (99.28%)\n",
            "\n",
            "Epoch: 11\n"
          ],
          "name": "stdout"
        },
        {
          "output_type": "stream",
          "text": [
            "Loss=0.14363105595111847 Batch_id=468 Accuracy=97.85: 100%|██████████| 469/469 [00:38<00:00, 12.11it/s]\n"
          ],
          "name": "stderr"
        },
        {
          "output_type": "stream",
          "text": [
            "\n",
            "Test set: Average loss: 0.0230, Accuracy: 9929/10000 (99.29%)\n",
            "\n",
            "Epoch: 12\n"
          ],
          "name": "stdout"
        },
        {
          "output_type": "stream",
          "text": [
            "Loss=0.04397425055503845 Batch_id=468 Accuracy=97.92: 100%|██████████| 469/469 [00:38<00:00, 12.24it/s]\n"
          ],
          "name": "stderr"
        },
        {
          "output_type": "stream",
          "text": [
            "\n",
            "Test set: Average loss: 0.0218, Accuracy: 9931/10000 (99.31%)\n",
            "\n",
            "Epoch: 13\n"
          ],
          "name": "stdout"
        },
        {
          "output_type": "stream",
          "text": [
            "Loss=0.04557782784104347 Batch_id=468 Accuracy=98.08: 100%|██████████| 469/469 [00:38<00:00, 12.17it/s]\n"
          ],
          "name": "stderr"
        },
        {
          "output_type": "stream",
          "text": [
            "\n",
            "Test set: Average loss: 0.0225, Accuracy: 9930/10000 (99.30%)\n",
            "\n",
            "Epoch: 14\n"
          ],
          "name": "stdout"
        },
        {
          "output_type": "stream",
          "text": [
            "Loss=0.16775555908679962 Batch_id=468 Accuracy=97.93: 100%|██████████| 469/469 [00:38<00:00, 12.23it/s]\n"
          ],
          "name": "stderr"
        },
        {
          "output_type": "stream",
          "text": [
            "\n",
            "Test set: Average loss: 0.0225, Accuracy: 9933/10000 (99.33%)\n",
            "\n",
            "Epoch: 15\n"
          ],
          "name": "stdout"
        },
        {
          "output_type": "stream",
          "text": [
            "Loss=0.04162408411502838 Batch_id=468 Accuracy=98.05: 100%|██████████| 469/469 [00:39<00:00, 11.97it/s]\n"
          ],
          "name": "stderr"
        },
        {
          "output_type": "stream",
          "text": [
            "\n",
            "Test set: Average loss: 0.0215, Accuracy: 9931/10000 (99.31%)\n",
            "\n",
            "Epoch: 16\n"
          ],
          "name": "stdout"
        },
        {
          "output_type": "stream",
          "text": [
            "Loss=0.03599679097533226 Batch_id=468 Accuracy=98.10: 100%|██████████| 469/469 [00:38<00:00, 12.20it/s]\n"
          ],
          "name": "stderr"
        },
        {
          "output_type": "stream",
          "text": [
            "\n",
            "Test set: Average loss: 0.0205, Accuracy: 9944/10000 (99.44%)\n",
            "\n",
            "Epoch: 17\n"
          ],
          "name": "stdout"
        },
        {
          "output_type": "stream",
          "text": [
            "Loss=0.05735151842236519 Batch_id=468 Accuracy=98.12: 100%|██████████| 469/469 [00:38<00:00, 12.24it/s]\n"
          ],
          "name": "stderr"
        },
        {
          "output_type": "stream",
          "text": [
            "\n",
            "Test set: Average loss: 0.0217, Accuracy: 9933/10000 (99.33%)\n",
            "\n",
            "Epoch: 18\n"
          ],
          "name": "stdout"
        },
        {
          "output_type": "stream",
          "text": [
            "Loss=0.03619822859764099 Batch_id=468 Accuracy=98.11: 100%|██████████| 469/469 [00:38<00:00, 12.24it/s]\n"
          ],
          "name": "stderr"
        },
        {
          "output_type": "stream",
          "text": [
            "\n",
            "Test set: Average loss: 0.0223, Accuracy: 9927/10000 (99.27%)\n",
            "\n",
            "Epoch: 19\n"
          ],
          "name": "stdout"
        },
        {
          "output_type": "stream",
          "text": [
            "Loss=0.026163814589381218 Batch_id=468 Accuracy=98.12: 100%|██████████| 469/469 [00:38<00:00, 12.10it/s]\n"
          ],
          "name": "stderr"
        },
        {
          "output_type": "stream",
          "text": [
            "\n",
            "Test set: Average loss: 0.0202, Accuracy: 9932/10000 (99.32%)\n",
            "\n",
            "Epoch: 20\n"
          ],
          "name": "stdout"
        },
        {
          "output_type": "stream",
          "text": [
            "Loss=0.019648736342787743 Batch_id=468 Accuracy=98.22: 100%|██████████| 469/469 [00:38<00:00, 12.19it/s]\n"
          ],
          "name": "stderr"
        },
        {
          "output_type": "stream",
          "text": [
            "\n",
            "Test set: Average loss: 0.0206, Accuracy: 9933/10000 (99.33%)\n",
            "\n",
            "Epoch: 21\n"
          ],
          "name": "stdout"
        },
        {
          "output_type": "stream",
          "text": [
            "Loss=0.06590922176837921 Batch_id=468 Accuracy=98.17: 100%|██████████| 469/469 [00:38<00:00, 12.25it/s]\n"
          ],
          "name": "stderr"
        },
        {
          "output_type": "stream",
          "text": [
            "\n",
            "Test set: Average loss: 0.0214, Accuracy: 9936/10000 (99.36%)\n",
            "\n",
            "Epoch: 22\n"
          ],
          "name": "stdout"
        },
        {
          "output_type": "stream",
          "text": [
            "Loss=0.1076921820640564 Batch_id=468 Accuracy=98.13: 100%|██████████| 469/469 [00:38<00:00, 12.26it/s]\n"
          ],
          "name": "stderr"
        },
        {
          "output_type": "stream",
          "text": [
            "\n",
            "Test set: Average loss: 0.0220, Accuracy: 9935/10000 (99.35%)\n",
            "\n",
            "Epoch: 23\n"
          ],
          "name": "stdout"
        },
        {
          "output_type": "stream",
          "text": [
            "Loss=0.05624958872795105 Batch_id=468 Accuracy=98.25: 100%|██████████| 469/469 [00:38<00:00, 12.27it/s]\n"
          ],
          "name": "stderr"
        },
        {
          "output_type": "stream",
          "text": [
            "\n",
            "Test set: Average loss: 0.0214, Accuracy: 9936/10000 (99.36%)\n",
            "\n",
            "Epoch: 24\n"
          ],
          "name": "stdout"
        },
        {
          "output_type": "stream",
          "text": [
            "Loss=0.09242886304855347 Batch_id=468 Accuracy=98.22: 100%|██████████| 469/469 [00:38<00:00, 12.21it/s]\n"
          ],
          "name": "stderr"
        },
        {
          "output_type": "stream",
          "text": [
            "\n",
            "Test set: Average loss: 0.0211, Accuracy: 9938/10000 (99.38%)\n",
            "\n",
            "Executing model with Options ['L1', 'L2', 'GBN']\n",
            "================================================\n",
            "Epoch: 0\n"
          ],
          "name": "stdout"
        },
        {
          "output_type": "stream",
          "text": [
            "Loss=0.2600533664226532 Batch_id=468 Accuracy=90.53: 100%|██████████| 469/469 [00:39<00:00, 11.89it/s]\n"
          ],
          "name": "stderr"
        },
        {
          "output_type": "stream",
          "text": [
            "\n",
            "Test set: Average loss: 0.0583, Accuracy: 9801/10000 (98.01%)\n",
            "\n",
            "Epoch: 1\n"
          ],
          "name": "stdout"
        },
        {
          "output_type": "stream",
          "text": [
            "Loss=0.24096128344535828 Batch_id=468 Accuracy=95.62: 100%|██████████| 469/469 [00:39<00:00, 11.92it/s]\n"
          ],
          "name": "stderr"
        },
        {
          "output_type": "stream",
          "text": [
            "\n",
            "Test set: Average loss: 0.0615, Accuracy: 9792/10000 (97.92%)\n",
            "\n",
            "Epoch: 2\n"
          ],
          "name": "stdout"
        },
        {
          "output_type": "stream",
          "text": [
            "Loss=0.12415960431098938 Batch_id=468 Accuracy=96.21: 100%|██████████| 469/469 [00:39<00:00, 11.92it/s]\n"
          ],
          "name": "stderr"
        },
        {
          "output_type": "stream",
          "text": [
            "\n",
            "Test set: Average loss: 0.0510, Accuracy: 9822/10000 (98.22%)\n",
            "\n",
            "Epoch: 3\n"
          ],
          "name": "stdout"
        },
        {
          "output_type": "stream",
          "text": [
            "Loss=0.21161124110221863 Batch_id=468 Accuracy=96.34: 100%|██████████| 469/469 [00:39<00:00, 11.92it/s]\n"
          ],
          "name": "stderr"
        },
        {
          "output_type": "stream",
          "text": [
            "\n",
            "Test set: Average loss: 0.0608, Accuracy: 9800/10000 (98.00%)\n",
            "\n",
            "Epoch: 4\n"
          ],
          "name": "stdout"
        },
        {
          "output_type": "stream",
          "text": [
            "Loss=0.23071607947349548 Batch_id=468 Accuracy=96.60: 100%|██████████| 469/469 [00:39<00:00, 11.93it/s]\n"
          ],
          "name": "stderr"
        },
        {
          "output_type": "stream",
          "text": [
            "\n",
            "Test set: Average loss: 0.0362, Accuracy: 9883/10000 (98.83%)\n",
            "\n",
            "Epoch: 5\n"
          ],
          "name": "stdout"
        },
        {
          "output_type": "stream",
          "text": [
            "Loss=0.16848349571228027 Batch_id=468 Accuracy=97.40: 100%|██████████| 469/469 [00:39<00:00, 11.95it/s]\n"
          ],
          "name": "stderr"
        },
        {
          "output_type": "stream",
          "text": [
            "\n",
            "Test set: Average loss: 0.0276, Accuracy: 9905/10000 (99.05%)\n",
            "\n",
            "Epoch: 6\n"
          ],
          "name": "stdout"
        },
        {
          "output_type": "stream",
          "text": [
            "Loss=0.28142568469047546 Batch_id=468 Accuracy=97.60: 100%|██████████| 469/469 [00:39<00:00, 11.86it/s]\n"
          ],
          "name": "stderr"
        },
        {
          "output_type": "stream",
          "text": [
            "\n",
            "Test set: Average loss: 0.0248, Accuracy: 9916/10000 (99.16%)\n",
            "\n",
            "Epoch: 7\n"
          ],
          "name": "stdout"
        },
        {
          "output_type": "stream",
          "text": [
            "Loss=0.26896071434020996 Batch_id=468 Accuracy=97.58: 100%|██████████| 469/469 [00:39<00:00, 11.91it/s]\n"
          ],
          "name": "stderr"
        },
        {
          "output_type": "stream",
          "text": [
            "\n",
            "Test set: Average loss: 0.0285, Accuracy: 9898/10000 (98.98%)\n",
            "\n",
            "Epoch: 8\n"
          ],
          "name": "stdout"
        },
        {
          "output_type": "stream",
          "text": [
            "Loss=0.2678109407424927 Batch_id=468 Accuracy=97.50: 100%|██████████| 469/469 [00:39<00:00, 11.88it/s]\n"
          ],
          "name": "stderr"
        },
        {
          "output_type": "stream",
          "text": [
            "\n",
            "Test set: Average loss: 0.0402, Accuracy: 9869/10000 (98.69%)\n",
            "\n",
            "Epoch: 9\n"
          ],
          "name": "stdout"
        },
        {
          "output_type": "stream",
          "text": [
            "Loss=0.10108073800802231 Batch_id=468 Accuracy=97.51: 100%|██████████| 469/469 [00:39<00:00, 11.85it/s]\n"
          ],
          "name": "stderr"
        },
        {
          "output_type": "stream",
          "text": [
            "\n",
            "Test set: Average loss: 0.0222, Accuracy: 9924/10000 (99.24%)\n",
            "\n",
            "Epoch: 10\n"
          ],
          "name": "stdout"
        },
        {
          "output_type": "stream",
          "text": [
            "Loss=0.11585772037506104 Batch_id=468 Accuracy=97.90: 100%|██████████| 469/469 [00:39<00:00, 11.86it/s]\n"
          ],
          "name": "stderr"
        },
        {
          "output_type": "stream",
          "text": [
            "\n",
            "Test set: Average loss: 0.0243, Accuracy: 9919/10000 (99.19%)\n",
            "\n",
            "Epoch: 11\n"
          ],
          "name": "stdout"
        },
        {
          "output_type": "stream",
          "text": [
            "Loss=0.1248907744884491 Batch_id=468 Accuracy=97.91: 100%|██████████| 469/469 [00:39<00:00, 11.85it/s]\n"
          ],
          "name": "stderr"
        },
        {
          "output_type": "stream",
          "text": [
            "\n",
            "Test set: Average loss: 0.0250, Accuracy: 9905/10000 (99.05%)\n",
            "\n",
            "Epoch: 12\n"
          ],
          "name": "stdout"
        },
        {
          "output_type": "stream",
          "text": [
            "Loss=0.11479935050010681 Batch_id=468 Accuracy=97.90: 100%|██████████| 469/469 [00:39<00:00, 11.80it/s]\n"
          ],
          "name": "stderr"
        },
        {
          "output_type": "stream",
          "text": [
            "\n",
            "Test set: Average loss: 0.0250, Accuracy: 9911/10000 (99.11%)\n",
            "\n",
            "Epoch: 13\n"
          ],
          "name": "stdout"
        },
        {
          "output_type": "stream",
          "text": [
            "Loss=0.12893660366535187 Batch_id=468 Accuracy=97.96: 100%|██████████| 469/469 [00:39<00:00, 11.88it/s]\n"
          ],
          "name": "stderr"
        },
        {
          "output_type": "stream",
          "text": [
            "\n",
            "Test set: Average loss: 0.0210, Accuracy: 9928/10000 (99.28%)\n",
            "\n",
            "Epoch: 14\n"
          ],
          "name": "stdout"
        },
        {
          "output_type": "stream",
          "text": [
            "Loss=0.13142499327659607 Batch_id=468 Accuracy=97.98: 100%|██████████| 469/469 [00:39<00:00, 11.74it/s]\n"
          ],
          "name": "stderr"
        },
        {
          "output_type": "stream",
          "text": [
            "\n",
            "Test set: Average loss: 0.0255, Accuracy: 9910/10000 (99.10%)\n",
            "\n",
            "Epoch: 15\n"
          ],
          "name": "stdout"
        },
        {
          "output_type": "stream",
          "text": [
            "Loss=0.12474176287651062 Batch_id=468 Accuracy=98.16: 100%|██████████| 469/469 [00:39<00:00, 11.90it/s]\n"
          ],
          "name": "stderr"
        },
        {
          "output_type": "stream",
          "text": [
            "\n",
            "Test set: Average loss: 0.0232, Accuracy: 9929/10000 (99.29%)\n",
            "\n",
            "Epoch: 16\n"
          ],
          "name": "stdout"
        },
        {
          "output_type": "stream",
          "text": [
            "Loss=0.10563196986913681 Batch_id=468 Accuracy=98.21: 100%|██████████| 469/469 [00:39<00:00, 11.82it/s]\n"
          ],
          "name": "stderr"
        },
        {
          "output_type": "stream",
          "text": [
            "\n",
            "Test set: Average loss: 0.0209, Accuracy: 9931/10000 (99.31%)\n",
            "\n",
            "Epoch: 17\n"
          ],
          "name": "stdout"
        },
        {
          "output_type": "stream",
          "text": [
            "Loss=0.10110874474048615 Batch_id=468 Accuracy=98.20: 100%|██████████| 469/469 [00:39<00:00, 11.85it/s]\n"
          ],
          "name": "stderr"
        },
        {
          "output_type": "stream",
          "text": [
            "\n",
            "Test set: Average loss: 0.0211, Accuracy: 9928/10000 (99.28%)\n",
            "\n",
            "Epoch: 18\n"
          ],
          "name": "stdout"
        },
        {
          "output_type": "stream",
          "text": [
            "Loss=0.13487035036087036 Batch_id=468 Accuracy=98.18: 100%|██████████| 469/469 [00:39<00:00, 11.87it/s]\n"
          ],
          "name": "stderr"
        },
        {
          "output_type": "stream",
          "text": [
            "\n",
            "Test set: Average loss: 0.0184, Accuracy: 9941/10000 (99.41%)\n",
            "\n",
            "Epoch: 19\n"
          ],
          "name": "stdout"
        },
        {
          "output_type": "stream",
          "text": [
            "Loss=0.08329185098409653 Batch_id=468 Accuracy=98.18: 100%|██████████| 469/469 [00:39<00:00, 11.93it/s]\n"
          ],
          "name": "stderr"
        },
        {
          "output_type": "stream",
          "text": [
            "\n",
            "Test set: Average loss: 0.0220, Accuracy: 9928/10000 (99.28%)\n",
            "\n",
            "Epoch: 20\n"
          ],
          "name": "stdout"
        },
        {
          "output_type": "stream",
          "text": [
            "Loss=0.20462465286254883 Batch_id=468 Accuracy=98.38: 100%|██████████| 469/469 [00:39<00:00, 11.85it/s]\n"
          ],
          "name": "stderr"
        },
        {
          "output_type": "stream",
          "text": [
            "\n",
            "Test set: Average loss: 0.0168, Accuracy: 9938/10000 (99.38%)\n",
            "\n",
            "Epoch: 21\n"
          ],
          "name": "stdout"
        },
        {
          "output_type": "stream",
          "text": [
            "Loss=0.11087185144424438 Batch_id=468 Accuracy=98.38: 100%|██████████| 469/469 [00:39<00:00, 11.84it/s]\n"
          ],
          "name": "stderr"
        },
        {
          "output_type": "stream",
          "text": [
            "\n",
            "Test set: Average loss: 0.0176, Accuracy: 9942/10000 (99.42%)\n",
            "\n",
            "Epoch: 22\n"
          ],
          "name": "stdout"
        },
        {
          "output_type": "stream",
          "text": [
            "Loss=0.09018447995185852 Batch_id=468 Accuracy=98.26: 100%|██████████| 469/469 [00:39<00:00, 11.82it/s]\n"
          ],
          "name": "stderr"
        },
        {
          "output_type": "stream",
          "text": [
            "\n",
            "Test set: Average loss: 0.0184, Accuracy: 9934/10000 (99.34%)\n",
            "\n",
            "Epoch: 23\n"
          ],
          "name": "stdout"
        },
        {
          "output_type": "stream",
          "text": [
            "Loss=0.2001625895500183 Batch_id=468 Accuracy=98.41: 100%|██████████| 469/469 [00:39<00:00, 11.84it/s]\n"
          ],
          "name": "stderr"
        },
        {
          "output_type": "stream",
          "text": [
            "\n",
            "Test set: Average loss: 0.0176, Accuracy: 9942/10000 (99.42%)\n",
            "\n",
            "Epoch: 24\n"
          ],
          "name": "stdout"
        },
        {
          "output_type": "stream",
          "text": [
            "Loss=0.07187611609697342 Batch_id=468 Accuracy=98.32: 100%|██████████| 469/469 [00:39<00:00, 11.84it/s]\n"
          ],
          "name": "stderr"
        },
        {
          "output_type": "stream",
          "text": [
            "\n",
            "Test set: Average loss: 0.0177, Accuracy: 9937/10000 (99.37%)\n",
            "\n"
          ],
          "name": "stdout"
        },
        {
          "output_type": "display_data",
          "data": {
            "image/png": "[encoded data removed]",
            "text/plain": [
              "<Figure size 1080x720 with 4 Axes>"
            ]
          },
          "metadata": {
            "tags": [],
            "needs_background": "light"
          }
        }
      ]
    },
    {
      "cell_type": "markdown",
      "metadata": {
        "id": "5GkGD4dpezyl",
        "colab_type": "text"
      },
      "source": [
        "### Show 25 mis-classified images for Model with GBN"
      ]
    },
    {
      "cell_type": "code",
      "metadata": {
        "id": "ye8GW1jyZS6j",
        "colab_type": "code",
        "colab": {
          "base_uri": "https://localhost:8080/",
          "height": 860
        },
        "outputId": "61335185-a1f9-41a3-9efb-d5896e1c820f"
      },
      "source": [
        "model = MNIST_S6(opts=[ModelOpts.GBN])\n",
        "model_path = f\"{ModelOpts.GBN}.pth\"\n",
        "class_labels = range(10)\n",
        "test_loader = torch.utils.data.DataLoader(test_data, **dataloader_args)\n",
        "show_misclassified_images_from_model(model, model_path, test_loader, class_labels, image_count=25)"
      ],
      "execution_count": 14,
      "outputs": [
        {
          "output_type": "display_data",
          "data": {
            "image/png": "[encoded data removed]",
            "text/plain": [
              "<Figure size 1080x1080 with 25 Axes>"
            ]
          },
          "metadata": {
            "tags": [],
            "needs_background": "light"
          }
        }
      ]
    }
  ]
}