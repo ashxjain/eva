{
  "nbformat": 4,
  "nbformat_minor": 0,
  "metadata": {
    "colab": {
      "name": "KMeansClustering.ipynb",
      "provenance": []
    },
    "kernelspec": {
      "name": "python3",
      "display_name": "Python 3"
    }
  },
  "cells": [
    {
      "cell_type": "markdown",
      "metadata": {
        "id": "ofCp4voHaR7o"
      },
      "source": [
        "### K-Means Clustering on Bounding Boxes of *hardhat,mask,vest,boots* dataset"
      ]
    },
    {
      "cell_type": "markdown",
      "metadata": {
        "id": "BlQuHmkEadkz"
      },
      "source": [
        "#### 1: Downloading annotations file containing the dimensions of bounding boxes"
      ]
    },
    {
      "cell_type": "code",
      "metadata": {
        "id": "EfWS7p6dJtle",
        "outputId": "67fc03d1-0b5b-4127-a442-802ddcc74ac8",
        "colab": {
          "base_uri": "https://localhost:8080/",
          "height": 309
        }
      },
      "source": [
        "!wget https://github.com/ashxjain/eva/raw/master/P5_S12/images_vgg_image_annotations.jso"
      ],
      "execution_count": 1,
      "outputs": [
        {
          "output_type": "stream",
          "text": [
            "--2020-10-17 06:05:27--  https://github.com/ashxjain/eva/raw/master/P5_S12/images_vgg_image_annotations.json\n",
            "Resolving github.com (github.com)... 140.82.114.3\n",
            "Connecting to github.com (github.com)|140.82.114.3|:443... connected.\n",
            "HTTP request sent, awaiting response... 302 Found\n",
            "Location: https://raw.githubusercontent.com/ashxjain/eva/master/P5_S12/images_vgg_image_annotations.json [following]\n",
            "--2020-10-17 06:05:27--  https://raw.githubusercontent.com/ashxjain/eva/master/P5_S12/images_vgg_image_annotations.json\n",
            "Resolving raw.githubusercontent.com (raw.githubusercontent.com)... 151.101.0.133, 151.101.64.133, 151.101.128.133, ...\n",
            "Connecting to raw.githubusercontent.com (raw.githubusercontent.com)|151.101.0.133|:443... connected.\n",
            "HTTP request sent, awaiting response... 200 OK\n",
            "Length: 126468 (124K) [text/plain]\n",
            "Saving to: ‘images_vgg_image_annotations.json’\n",
            "\n",
            "images_vgg_image_an 100%[===================>] 123.50K  --.-KB/s    in 0.04s   \n",
            "\n",
            "2020-10-17 06:05:27 (3.13 MB/s) - ‘images_vgg_image_annotations.json’ saved [126468/126468]\n",
            "\n"
          ],
          "name": "stdout"
        }
      ]
    },
    {
      "cell_type": "markdown",
      "metadata": {
        "id": "rSphY77lakCy"
      },
      "source": [
        "#### 2: Load the annnotations json file"
      ]
    },
    {
      "cell_type": "code",
      "metadata": {
        "id": "lmnBABirKGnb",
        "outputId": "d2e725ca-4e4a-4735-fdc4-577069996b9f",
        "colab": {
          "base_uri": "https://localhost:8080/",
          "height": 34
        }
      },
      "source": [
        "import json\n",
        "\n",
        "with open('images_vgg_image_annotations.json') as f:\n",
        "  data = json.load(f)\n",
        "  print(\"loaded json data successfully\")"
      ],
      "execution_count": 43,
      "outputs": [
        {
          "output_type": "stream",
          "text": [
            "loaded json data successfully\n"
          ],
          "name": "stdout"
        }
      ]
    },
    {
      "cell_type": "markdown",
      "metadata": {
        "id": "SZmypOlWMl3Q"
      },
      "source": [
        "#### 3: Get dimensions of each image"
      ]
    },
    {
      "cell_type": "code",
      "metadata": {
        "id": "eeiSRBH_MlDG"
      },
      "source": [
        "from urllib import request as ulreq\n",
        "from PIL import ImageFile\n",
        " \n",
        "def get_dim_from_image_url(uri):\n",
        "    # get image dimensions (None if not known)\n",
        "    file = ulreq.urlopen(uri)\n",
        "    def get_dim():\n",
        "      p = ImageFile.Parser()\n",
        "      while True:\n",
        "          data = file.read(1024)\n",
        "          if not data:\n",
        "              break\n",
        "          p.feed(data)\n",
        "          if p.image:\n",
        "              return p.image.size\n",
        "      return None\n",
        "    size = get_dim()\n",
        "    file.close()\n",
        "    return size"
      ],
      "execution_count": 44,
      "outputs": []
    },
    {
      "cell_type": "markdown",
      "metadata": {
        "id": "oefIag8vKsMX"
      },
      "source": [
        "#### 4: Compute the centre location, width and height of each bounding box, and normalise it by image dimensions"
      ]
    },
    {
      "cell_type": "code",
      "metadata": {
        "id": "XpQvpQ-BKrtP"
      },
      "source": [
        "from collections import namedtuple\n",
        "\n",
        "img_size = namedtuple('img_metadata', 'filename img_w img_h')\n",
        "bbox = namedtuple('bbox', 'norm_cx norm_cy norm_w norm_h')\n",
        "\n",
        "img_sizes = []\n",
        "bboxes = []\n",
        "urlprefix = \"https://github.com/ashxjain/eva/raw/master/P5_S12/images/\"\n",
        "\n",
        "for img_obj in data:\n",
        "  obj = data[img_obj]\n",
        "  img_w, img_h = get_dim_from_image_url(urlprefix+obj[\"filename\"])\n",
        "  img_sizes.append(img_size(obj['filename'], img_w, img_h))\n",
        "  for region in obj[\"regions\"]:\n",
        "    norm_cx = region[\"shape_attributes\"][\"x\"] /img_w\n",
        "    norm_cy = region[\"shape_attributes\"][\"y\"] / img_h\n",
        "    norm_w = region[\"shape_attributes\"][\"width\"] / img_w\n",
        "    norm_h = region[\"shape_attributes\"][\"height\"] / img_h\n",
        "    bboxes.append(bbox(norm_cx, norm_cy, norm_w, norm_h))"
      ],
      "execution_count": null,
      "outputs": []
    },
    {
      "cell_type": "markdown",
      "metadata": {
        "id": "uff7y7wILB9c"
      },
      "source": [
        "#### 5: Plot the h & w for each bounding box"
      ]
    },
    {
      "cell_type": "code",
      "metadata": {
        "id": "-n3as1CaXqTM",
        "outputId": "2ece2e7a-38e0-4885-953b-92a643c8d953",
        "colab": {
          "base_uri": "https://localhost:8080/",
          "height": 282
        }
      },
      "source": [
        "from matplotlib import pyplot as plt\n",
        "import numpy as np\n",
        "\n",
        "wh = [(b.norm_w, b.norm_h) for b in bboxes]\n",
        "np_wh = np.array(wh)\n",
        "plt.scatter(np_wh[:,0], np_wh[:,1])"
      ],
      "execution_count": 37,
      "outputs": [
        {
          "output_type": "execute_result",
          "data": {
            "text/plain": [
              "<matplotlib.collections.PathCollection at 0x7f45626ac2e8>"
            ]
          },
          "metadata": {
            "tags": []
          },
          "execution_count": 37
        },
        {
          "output_type": "display_data",
          "data": {
            "image/png": "[encoded data removed]",
            "text/plain": [
              "<Figure size 432x288 with 1 Axes>"
            ]
          },
          "metadata": {
            "tags": [],
            "needs_background": "light"
          }
        }
      ]
    },
    {
      "cell_type": "markdown",
      "metadata": {
        "id": "3-NFKWJxa6Hi"
      },
      "source": [
        "#### 6: Find optimal number of clusters using Elbow Method\n",
        "* We graph the relationship between the number of clusters and Within Cluster Sum of Squares (WCSS) then we select the number of clusters where the change in WCSS begins to level off.\n",
        "* WCSS is defined as the sum of the squared distance between each member of the cluster and its centroid.\n",
        "* We train multiple models using a different number of clusters and storing the value of the intertia_ property (WCSS) every time."
      ]
    },
    {
      "cell_type": "code",
      "metadata": {
        "id": "bIFpdpZAYHvN",
        "outputId": "57456378-6f47-4eca-aab7-a981e2f3d792",
        "colab": {
          "base_uri": "https://localhost:8080/",
          "height": 295
        }
      },
      "source": [
        "from sklearn.cluster import KMeans\n",
        "\n",
        "wcss = []\n",
        "for i in range(1, 11):\n",
        "    kmeans = KMeans(n_clusters=i, init='k-means++', max_iter=300, n_init=10, random_state=0)\n",
        "    kmeans.fit(np_wh)\n",
        "    wcss.append(kmeans.inertia_)\n",
        "plt.plot(range(1, 11), wcss)\n",
        "plt.title('Elbow Method')\n",
        "plt.xlabel('Number of clusters')\n",
        "plt.ylabel('WCSS')\n",
        "plt.show()"
      ],
      "execution_count": 38,
      "outputs": [
        {
          "output_type": "display_data",
          "data": {
            "image/png": "[encoded data removed]",
            "text/plain": [
              "<Figure size 432x288 with 1 Axes>"
            ]
          },
          "metadata": {
            "tags": [],
            "needs_background": "light"
          }
        }
      ]
    },
    {
      "cell_type": "markdown",
      "metadata": {
        "id": "pDIJ7htwbg80"
      },
      "source": [
        "#### 7: Categorize the data using optimum number of clusters (5)"
      ]
    },
    {
      "cell_type": "code",
      "metadata": {
        "id": "CjEWZNZAZSrL",
        "outputId": "e9c586a2-2460-4f1a-878b-83e4abf971ed",
        "colab": {
          "base_uri": "https://localhost:8080/",
          "height": 265
        }
      },
      "source": [
        "# k-means++ ensures that you don’t fall into the random initialization tra\n",
        "kmeans = KMeans(n_clusters=5, init='k-means++', max_iter=300, n_init=10, random_state=0)\n",
        "pred_y = kmeans.fit_predict(np_wh)\n",
        "plt.scatter(np_wh[:,0], np_wh[:,1])\n",
        "plt.scatter(kmeans.cluster_centers_[:, 0], kmeans.cluster_centers_[:, 1], s=300, c='red')\n",
        "plt.show()"
      ],
      "execution_count": 40,
      "outputs": [
        {
          "output_type": "display_data",
          "data": {
            "image/png": "[encoded data removed]",
            "text/plain": [
              "<Figure size 432x288 with 1 Axes>"
            ]
          },
          "metadata": {
            "tags": [],
            "needs_background": "light"
          }
        }
      ]
    },
    {
      "cell_type": "markdown",
      "metadata": {
        "id": "uaP-PH-Cby9w"
      },
      "source": [
        "#### 8: Final cluster values [bounding boxes]"
      ]
    },
    {
      "cell_type": "code",
      "metadata": {
        "id": "2oT-qn7QZk-a",
        "outputId": "07058200-ef24-432c-fc5e-6c9f47a630a2",
        "colab": {
          "base_uri": "https://localhost:8080/",
          "height": 102
        }
      },
      "source": [
        "print(kmeans.cluster_centers_)"
      ],
      "execution_count": 42,
      "outputs": [
        {
          "output_type": "stream",
          "text": [
            "[[0.08483493 0.08602006]\n",
            " [0.23510401 0.42370416]\n",
            " [0.13661584 0.23031227]\n",
            " [0.29969706 0.22231716]\n",
            " [0.62021337 0.42348333]]\n"
          ],
          "name": "stdout"
        }
      ]
    }
  ]
}