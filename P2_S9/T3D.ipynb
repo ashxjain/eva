{
  "nbformat": 4,
  "nbformat_minor": 0,
  "metadata": {
    "colab": {
      "name": "T3D.ipynb",
      "provenance": []
    },
    "kernelspec": {
      "name": "python3",
      "display_name": "Python 3"
    }
  },
  "cells": [
    {
      "cell_type": "markdown",
      "metadata": {
        "id": "l1mBXkgyHIkF",
        "colab_type": "text"
      },
      "source": [
        "Initialization"
      ]
    },
    {
      "cell_type": "code",
      "metadata": {
        "id": "8sKZWh3PHEEO",
        "colab_type": "code",
        "colab": {}
      },
      "source": [
        "import os\n",
        "import time\n",
        "import random\n",
        "import numpy as np\n",
        "import matplotlib.pyplot as plt\n",
        "import pybullet_envs\n",
        "import gym\n",
        "import torch\n",
        "import torch.nn as nn\n",
        "import torch.nn.functional as F\n",
        "from gym import wrappers\n",
        "from torch.autograd import Variable\n",
        "from collections import deque"
      ],
      "execution_count": 0,
      "outputs": []
    },
    {
      "cell_type": "markdown",
      "metadata": {
        "id": "UpngGwxzHLai",
        "colab_type": "text"
      },
      "source": [
        "We initialize the Experience Replay Memory with a size of 1e6. Then we populate it with new transitions\n"
      ]
    },
    {
      "cell_type": "code",
      "metadata": {
        "id": "jREy1l1DHEBu",
        "colab_type": "code",
        "colab": {}
      },
      "source": [
        "class ReplayBuffer(object):\n",
        "    def __init__(self, max_size = 1e6):\n",
        "        self.storage = []\n",
        "        self.max_size = max_size\n",
        "        self.ptr = 0\n",
        "\n",
        "    def add(self, transition):\n",
        "        if len(self.storage) == self.max_size:\n",
        "            self.storage[int(self.ptr)] = transition\n",
        "            self.ptr = (self.ptr + 1) % self.max_size\n",
        "        else:\n",
        "            self.storage.append(transition)\n",
        "\n",
        "    def sample(self, batch_size):\n",
        "        ind = np.random.randint(0, len(self.storage), batch_size)\n",
        "        batch_states, batch_next_states, batch_actions, batch_rewards, \\\n",
        "                batch_dones = [], [], [], [], []\n",
        "        for i in ind:\n",
        "            state, next_state, action, reward, done = self.storage[i]\n",
        "            batch_states.append(np.array(state, copy = False))\n",
        "            batch_next_states.append(np.array(next_state, copy = False))\n",
        "            batch_actions.append(np.array(action, copy = False))\n",
        "            batch_rewards.append(np.array(reward, copy = False))\n",
        "            batch_dones.append(np.array(done, copy = False))\n",
        "        return np.array(batch_states), np.array(batch_next_states), \\\n",
        "                np.array(batch_actions), np.array(batch_rewards).reshape(-1, 1), \\\n",
        "                np.array(batch_dones).reshape(-1, 1)"
      ],
      "execution_count": 0,
      "outputs": []
    },
    {
      "cell_type": "markdown",
      "metadata": {
        "id": "rwgZu-jzHYhB",
        "colab_type": "text"
      },
      "source": [
        "Build one DNN for the Actor model and one for Actor Target"
      ]
    },
    {
      "cell_type": "code",
      "metadata": {
        "id": "PANrY8CAHd6z",
        "colab_type": "code",
        "colab": {}
      },
      "source": [
        "class Actor(nn.Module):\n",
        "\n",
        "    def __init__(self, state_dims, action_dim, max_action):\n",
        "        # max_action is to clip in case we added too much noise\n",
        "        super(Actor, self).__init__() # activate the inheritance\n",
        "        self.layer_1 = nn.Linear(state_dims, 400)\n",
        "        self.layer_2 = nn.Linear(400, 300)\n",
        "        self.layer_3 = nn.Linear(300, action_dim)\n",
        "        self.max_action = max_action\n",
        "\n",
        "    def forward(self, x):\n",
        "        x = F.relu(self.layer_1(x))\n",
        "        x = F.relu(self.layer_2(x))\n",
        "        x = self.max_action * torch.tanh(self.layer_3(x))\n",
        "        return x"
      ],
      "execution_count": 0,
      "outputs": []
    },
    {
      "cell_type": "markdown",
      "metadata": {
        "id": "dbts-60VHfX-",
        "colab_type": "text"
      },
      "source": [
        "Build two DNNs for the two Critic models and two DNNs for the two Critic Targets"
      ]
    },
    {
      "cell_type": "code",
      "metadata": {
        "id": "80fYweTyHkQ2",
        "colab_type": "code",
        "colab": {}
      },
      "source": [
        "class Critic(nn.Module):\n",
        "\n",
        "    def __init__(self, state_dims, action_dim):\n",
        "        super(Critic, self).__init__() # activate the inheritance\n",
        "        # First Critic Network\n",
        "        self.layer_1 = nn.Linear(state_dims + action_dim, 400)\n",
        "        self.layer_2 = nn.Linear(400, 300)\n",
        "        self.layer_3 = nn.Linear(300, action_dim)\n",
        "        # Second Critic Network\n",
        "        self.layer_4 = nn.Linear(state_dims + action_dim, 400)\n",
        "        self.layer_5 = nn.Linear(400, 300)\n",
        "        self.layer_6 = nn.Linear(300, action_dim)\n",
        "\n",
        "    def forward(self, x, u): # x - state, u - action\n",
        "        xu = torch.cat([x, u], 1) # 1 for vrtcl concatenation, 0 for Hzntl\n",
        "        # forward propagation on first critic\n",
        "        x1 = F.relu(self.layer_1(xu))\n",
        "        x1 = F.relu(self.layer_2(x1))\n",
        "        x1 = self.layer_3(x1)\n",
        "        # forward propagation on second critic\n",
        "        x2 = F.relu(self.layer_4(xu))\n",
        "        x2 = F.relu(self.layer_5(x2))\n",
        "        x2 = self.layer_6(x2)\n",
        "\n",
        "        return x1, x2\n",
        "\n",
        "    def Q1(self, x, u): # x - state, u - action\n",
        "        # This is used for updating the Q values\n",
        "        xu = torch.cat([x, u], 1) # 1 for vrtcl concatenation, 0 for Hzntl\n",
        "        x1 = F.relu(self.layer_1(xu))\n",
        "        x1 = F.relu(self.layer_2(x1))\n",
        "        x1 = self.layer_3(x1)\n",
        "        return x1"
      ],
      "execution_count": 0,
      "outputs": []
    },
    {
      "cell_type": "markdown",
      "metadata": {
        "id": "jvAw3_r7Hlwr",
        "colab_type": "text"
      },
      "source": [
        "Selecting the device (CPU or GPU)"
      ]
    },
    {
      "cell_type": "code",
      "metadata": {
        "id": "vwpMehdIHmiy",
        "colab_type": "code",
        "colab": {}
      },
      "source": [
        "device = torch.device('cuda' if torch.cuda.is_available() else 'cpu')"
      ],
      "execution_count": 0,
      "outputs": []
    },
    {
      "cell_type": "markdown",
      "metadata": {
        "id": "PBhb-2s2Ho3J",
        "colab_type": "text"
      },
      "source": [
        "Building the whole training process into a class"
      ]
    },
    {
      "cell_type": "code",
      "metadata": {
        "id": "j-JVTvDqHYMG",
        "colab_type": "code",
        "colab": {}
      },
      "source": [
        "class T3D(object):\n",
        "    def __init__(self, state_dims, action_dim, max_action):\n",
        "        # making sure our T3D class can work with any env\n",
        "        self.actor = Actor(state_dims, action_dim, max_action).to(device) # GD\n",
        "        self.actor_target = Actor(state_dims, action_dim, max_action).to(device) # Polyak Avg\n",
        "        # initializing with model weights to keep the same\n",
        "        self.actor_target.load_state_dict(self.actor.state_dict)\n",
        "        self.actor_optimizer = torch.optim.Adam(self.actor.parameters())\n",
        "        self.max_action = max_action\n",
        "\n",
        "        self.critic = Critic(state_dims, action_dim).to(device) # GD\n",
        "        self.critic_target = Critic(state_dims, action_dim).to(device) # Polyak Avg\n",
        "        # initializing with model weights to keep the same\n",
        "        self.critic_target.load_state_dict(self.critic.state_dict)\n",
        "        self.critic_optimizer = torch.optim.Adam(self.critic.parameters())\n",
        "\n",
        "    def select_action(self, state):\n",
        "        state = torch.Tensor(state.reshape(1, -1)).to(device)\n",
        "        # need to convert to numpy, for clipping\n",
        "        return self.actor(state).cpu().data.numpy().Flatten()\n",
        "\n",
        "    def train(self, replay_buffer, iterations, batch_size=100, discount=0.99,\n",
        "        tau = 0.005, policy_noise=0.2, noise_clip=0.5, policy_freq=2):\n",
        "      for it in range(iterations):\n",
        "          # Sample from a batch of transitions (s, s', a, r) from the memory\n",
        "          batch_states, batch_next_states, batch_actions, batch_rewards, batch_dones \\\n",
        "              = replay_buffer.sample(batch_size)\n",
        "          state = torch.Tensor(batch_states).to(device)\n",
        "          next_state = torch.Tensor(batch_next_states).to(device)\n",
        "          action = torch.Tensor(batch_actions).to(device)\n",
        "          reward = torch.Tensor(batch_rewards).to(device)\n",
        "          done = torch.Tensor(batch_dones).to(device)\n",
        "\n",
        "          # From the next state s', the actor target plays the next action a'\n",
        "          next_action = self.actor_target.forward(next_state)\n",
        "\n",
        "          # We add Gaussian noise to this next action a' and\n",
        "          # we clamp it in a range of values supported by the environment\n",
        "          noise = torch.Tensor(next_action).data.normal_(0, policy_noise).to(device)\n",
        "          noise = noise.clamp(-noise_clip, noise_clip)\n",
        "          next_action = (next_action + noise).clamp(-self.max_action, self.max_action)\n",
        "\n",
        "          # The two Critic targets take each the couple (s', a')\n",
        "          # as input and return two Q values, Qt1(s', a') and\n",
        "          # Qt2(s', a') as outputs\n",
        "          target_Q1, target_Q2 = self.critic_target.forward(next_state, next_action)\n",
        "\n",
        "          # Keep the minimum of these two Q-Values\n",
        "          target_Q = torch.min(target_Q1, target_Q2)\n",
        "\n",
        "          # We get the final target of the two Critic models, which is:\n",
        "          #            Qt = r + gamma * min(Qt1, Qt2)\n",
        "          # We can define target_q or Qt as:\n",
        "          #            reward + discount  * torch.min(Qt1, Qt2)\n",
        "          # but it won't work:\n",
        "          # * First, we are only supposed to run this if the episode is over,\n",
        "          #   which means we need to integrate done\n",
        "          # * Second, target_q would create it's computation graph, and without\n",
        "          #   detaching Qt1/Qt2 from their own graph, we are complicating things,\n",
        "          #   i.e. we need to use detach\n",
        "          target_Q = reward + ((1-done) * discount * target_Q).detach()\n",
        "\n",
        "          # Two critic models take (s, a) as input and return two Q-Vales\n",
        "          current_Q1, current_Q2 = self.critic.forward(state, action)\n",
        "\n",
        "          # Compute the critic loss\n",
        "          critic_loss = F.mse_loss(current_Q1, target_Q) + F.mse_loss(current_Q2, target_Q)\n",
        "\n",
        "          # Backpropagate this critic loss and update the parameters\n",
        "          # of two Critic models with an Adam optimizer\n",
        "          self.critic_optimizer.zero_grad() # initializing the gradients to zero\n",
        "          critic_loss.backward() # computing the gradients\n",
        "          self.critic_optimizer.step() # performing weight updates\n",
        "\n",
        "          # Once every two iterations, we update our Actor model by performing\n",
        "          # gradient ASCENT on the output of the first Critic model\n",
        "          if it % policy_freq == 0:\n",
        "              # This is DPG part\n",
        "              actor_loss = -(self.critic.Q1(state, self.actor(state)).mean())\n",
        "              self.actor_optimizer.grad_zero()\n",
        "              actor_loss.backward()\n",
        "              self.actor_optimizer.step()\n",
        "\n",
        "              # Once in every two iterations, we update our Actor Target\n",
        "              # by Polyak Averaging\n",
        "              for param, target_param in zip(self.actor.parameters(), self.actor_target.parameters()):\n",
        "                  target_param.data.copy_(tau * param.data + (1 - tau) * target_param.data)\n",
        "\n",
        "              # Once in every two iterations, we update our Critic Target\n",
        "              # by Polyak Averaging\n",
        "              for param, target_param in zip(self.critic.parameters(), self.critic_target.parameters()):\n",
        "                  target_param.data.copy_(tau * param.data + (1 - tau) * target_param.data)\n",
        "\n",
        "          # T3D is done!!\n"
      ],
      "execution_count": 0,
      "outputs": []
    }
  ]
}