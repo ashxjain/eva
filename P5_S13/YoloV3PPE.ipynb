{
  "nbformat": 4,
  "nbformat_minor": 0,
  "metadata": {
    "colab": {
      "name": "YoloV3PPE",
      "provenance": [],
      "collapsed_sections": []
    },
    "kernelspec": {
      "name": "python3",
      "display_name": "Python 3"
    },
    "accelerator": "GPU"
  },
  "cells": [
    {
      "cell_type": "code",
      "metadata": {
        "id": "dFa1C2XDwcMP",
        "outputId": "de270a7e-bbc5-4e90-dcd6-4f9e473f5596",
        "colab": {
          "base_uri": "https://localhost:8080/",
          "height": 102
        }
      },
      "source": [
        "!git clone https://github.com/theschoolofai/YoloV3.git"
      ],
      "execution_count": 1,
      "outputs": [
        {
          "output_type": "stream",
          "text": [
            "Cloning into 'YoloV3'...\n",
            "remote: Enumerating objects: 156, done.\u001b[K\n",
            "remote: Total 156 (delta 0), reused 0 (delta 0), pack-reused 156\u001b[K\n",
            "Receiving objects: 100% (156/156), 12.74 MiB | 45.00 MiB/s, done.\n",
            "Resolving deltas: 100% (7/7), done.\n"
          ],
          "name": "stdout"
        }
      ]
    },
    {
      "cell_type": "code",
      "metadata": {
        "id": "Dm2pvUNCzEY9",
        "outputId": "6923dba8-1ccc-426c-d8f1-470c27b6531d",
        "colab": {
          "base_uri": "https://localhost:8080/",
          "height": 34
        }
      },
      "source": [
        "from google.colab import drive\n",
        "drive.mount('/content/drive')"
      ],
      "execution_count": 2,
      "outputs": [
        {
          "output_type": "stream",
          "text": [
            "Mounted at /content/gdrive\n"
          ],
          "name": "stdout"
        }
      ]
    },
    {
      "cell_type": "code",
      "metadata": {
        "id": "oJWPCDSv0gw3",
        "outputId": "20048249-2697-4fca-c551-1532569e8f1a",
        "colab": {
          "base_uri": "https://localhost:8080/",
          "height": 34
        }
      },
      "source": [
        "import time\n",
        "import glob\n",
        "import torch\n",
        "import os\n",
        "\n",
        "from IPython.display import Image, clear_output \n",
        "print('PyTorch %s %s' % (torch.__version__, torch.cuda.get_device_properties(0) if torch.cuda.is_available() else 'CPU'))"
      ],
      "execution_count": 66,
      "outputs": [
        {
          "output_type": "stream",
          "text": [
            "PyTorch 1.6.0+cu101 _CudaDeviceProperties(name='Tesla T4', major=7, minor=5, total_memory=15079MB, multi_processor_count=40)\n"
          ],
          "name": "stdout"
        }
      ]
    },
    {
      "cell_type": "code",
      "metadata": {
        "id": "c5LJYRxG02VQ",
        "outputId": "35b6d751-4362-4b99-b82c-c8f69b082b00",
        "colab": {
          "base_uri": "https://localhost:8080/",
          "height": 34
        }
      },
      "source": [
        "!ls -altrh drive/My\\ Drive/EVA/Datasets/YoloV3-PPE/YoloV3_Dataset.zip"
      ],
      "execution_count": 14,
      "outputs": [
        {
          "output_type": "stream",
          "text": [
            "-r-------- 1 root root 265M Oct 22 11:19 'drive/My Drive/EVA/Datasets/YoloV3-PPE/YoloV3_Dataset.zip'\n"
          ],
          "name": "stdout"
        }
      ]
    },
    {
      "cell_type": "markdown",
      "metadata": {
        "id": "saSou5VlZf-I"
      },
      "source": [
        "### Custom dataset - Setup appropriate files for training"
      ]
    },
    {
      "cell_type": "code",
      "metadata": {
        "id": "TGzld4vCasJw"
      },
      "source": [
        "!unzip drive/My\\ Drive/EVA/Datasets/YoloV3-PPE/YoloV3_Dataset.zip"
      ],
      "execution_count": null,
      "outputs": []
    },
    {
      "cell_type": "code",
      "metadata": {
        "id": "xiBBf3N-aYdL",
        "outputId": "7af6ff99-bae6-44fb-c2d0-49f9d948c47d",
        "colab": {
          "base_uri": "https://localhost:8080/",
          "height": 204
        }
      },
      "source": [
        "%%shell\n",
        "srcFolder=\"YoloV3_Dataset\"\n",
        "targetDataFolder=\"YoloV3/data/ppedata/\"\n",
        "mkdir -p $targetDataFolder\n",
        "# create ppe.data file\n",
        "cat > $targetDataFolder/ppe.data <<EOF\n",
        "classes=4\n",
        "train=data/ppedata/ppetrain.txt\n",
        "valid=data/ppedata/ppetest.txt \n",
        "names=data/ppedata/ppe.names\n",
        "EOF\n",
        "\n",
        "# copy required files from dataset\n",
        "cp $srcFolder/classes.txt $targetDataFolder/ppe.names\n",
        "mkdir -p images && cp $srcFolder/Images/* $targetDataFolder/images/\n",
        "mkdir -p labels && cp $srcFolder/Labels/* $targetDataFolder/labels/\n",
        "# Make sure any decimals around 1 i.e 1.xxxxx should be rounded off to 1.0\n",
        "sed -i 's/1\\.[0-9]*/1.0/g'  $targetDataFolder/labels/*\n",
        "\n",
        "echo \"> ppe.data\"\n",
        "cat $targetDataFolder/ppe.data\n",
        "\n",
        "echo \"\"; echo \"> ppe.names\"\n",
        "cat $targetDataFolder/ppe.names; echo\"\""
      ],
      "execution_count": 60,
      "outputs": [
        {
          "output_type": "stream",
          "text": [
            "> ppe.data\n",
            "classes=4\n",
            "train=data/ppedata/ppetrain.txt\n",
            "valid=data/ppedata/ppetest.txt \n",
            "names=data/ppedata/ppe.names\n",
            "\n",
            "> ppe.names\n",
            "hardhat\n",
            "vest\n",
            "mask\n",
            "boots\n"
          ],
          "name": "stdout"
        },
        {
          "output_type": "execute_result",
          "data": {
            "text/plain": [
              ""
            ]
          },
          "metadata": {
            "tags": []
          },
          "execution_count": 60
        }
      ]
    },
    {
      "cell_type": "markdown",
      "metadata": {
        "id": "AR-PenjP4NYK"
      },
      "source": [
        "#### Split train/test images (9:1) based of Labels"
      ]
    },
    {
      "cell_type": "code",
      "metadata": {
        "id": "-U7FZgbXy3Wh",
        "outputId": "09fe87ce-8c60-4cdc-c3c6-719c1b99ccb0",
        "colab": {
          "base_uri": "https://localhost:8080/",
          "height": 272
        }
      },
      "source": [
        "import re\n",
        "import os\n",
        "import imagesize\n",
        "\n",
        "srcFolder=\"YoloV3_Dataset\"\n",
        "targetDataFolder=\"YoloV3/data/ppedata\"\n",
        "trainFile = open(f'{targetDataFolder}/ppetrain.txt', 'w')\n",
        "testFile = open(f'{targetDataFolder}/ppetest.txt', 'w')\n",
        "trainShapesFile = open(f'{targetDataFolder}/ppetrain.shapes', 'w')\n",
        "testShapesFile = open(f'{targetDataFolder}/ppetest.shapes', 'w')\n",
        "labelFiles = os.listdir(srcFolder + \"/Labels\")\n",
        "imgFiles = os.listdir(srcFolder + \"/Images\")\n",
        "count = 0\n",
        "testCnt = len(labelFiles)/10\n",
        "trainCnt = len(labelFiles) - testCnt\n",
        "for file in labelFiles:\n",
        "  imgParts = file.split(\".txt\")\n",
        "  r = re.compile(re.escape(imgParts[0])+\".*\")\n",
        "  found = False\n",
        "  for imgFile in imgFiles:\n",
        "    if r.match(imgFile):\n",
        "      shape = imagesize.get(f'{srcFolder}/Images/{imgFile}')\n",
        "      if count < trainCnt:\n",
        "        trainFile.write(f'./data/ppedata/images/{imgFile}\\n')\n",
        "        if shape: trainShapesFile.write(f'{shape[0]} {shape[1]}\\n')\n",
        "      else:\n",
        "        testFile.write(f'./data/ppedata/images/{imgFile}\\n')\n",
        "        if shape: testShapesFile.write(f'{shape[0]} {shape[1]}\\n')\n",
        "      count+=1\n",
        "      found = True\n",
        "      break\n",
        "trainFile.close()\n",
        "testFile.close()\n",
        "trainShapesFile.close()\n",
        "testShapesFile.close()\n",
        "\n",
        "!echo \"Total train images: $(cat YoloV3/data/ppedata/ppetrain.txt | wc -l)\"\n",
        "!echo \"Total train image shapes: $(cat YoloV3/data/ppedata/ppetrain.shapes | wc -l)\"\n",
        "!echo \"Top 5 lines of train file: $(head -n 5 YoloV3/data/ppedata/ppetrain.txt)\"\n",
        "!echo \"\";\n",
        "!echo \"Total test images: $(cat YoloV3/data/ppedata/ppetest.txt | wc -l)\"\n",
        "!echo \"Total test image shapes: $(cat YoloV3/data/ppedata/ppetest.shapes | wc -l)\"\n",
        "!echo \"Top 5 lines of test file: $(head -n 5 YoloV3/data/ppedata/ppetest.txt)\""
      ],
      "execution_count": 37,
      "outputs": [
        {
          "output_type": "stream",
          "text": [
            "Total train images: 3174\n",
            "Total train image shapes: 3174\n",
            "Top 5 lines of train file: ./data/ppedata/images/a32.jpg\n",
            "./data/ppedata/images/portrait-of-a-man-using-pm-25-pollution-mask-in-the-street-of-a-big-picture-id1146047559.jpg\n",
            "./data/ppedata/images/portrait-of-woman-with-medical-mask-standing-on-road-in-city-epidemic-picture-id1213279564.jpg\n",
            "./data/ppedata/images/z042 .jpg\n",
            "./data/ppedata/images/Aimg_062.jpg\n",
            "\n",
            "Total test images: 347\n",
            "Total test image shapes: 347\n",
            "Top 5 lines of test file: ./data/ppedata/images/HV_010.jpg\n",
            "./data/ppedata/images/E79.jpg\n",
            "./data/ppedata/images/E82.jpg\n",
            "./data/ppedata/images/Aimg_055.jpg\n",
            "./data/ppedata/images/Q16.jpg\n"
          ],
          "name": "stdout"
        }
      ]
    },
    {
      "cell_type": "markdown",
      "metadata": {
        "id": "qGQnGsVy9h41"
      },
      "source": [
        "#### Change architecture based on Dataset\n",
        "* For COCO's 80 classes, YOLOv3's output vector has 255 dimensions ( (4+1+80)*3)* Now we have 4 class, so we would need to change it's architecture."
      ]
    },
    {
      "cell_type": "code",
      "metadata": {
        "id": "iHEtBW7w9xz1",
        "outputId": "1e74d441-5362-4afc-e030-38c18078a652",
        "colab": {
          "base_uri": "https://localhost:8080/",
          "height": 153
        }
      },
      "source": [
        "%%shell\n",
        "# Copy the contents of 'yolov3-spp.cfg' file to a new file called 'yolov3-ppe.cfg' file in the data/cfg folder.\n",
        "cp YoloV3/cfg/yolov3-spp.cfg YoloV3/cfg/yolov3-ppe.cfg\n",
        "\n",
        "# Search for 'filters=255' (you should get entries entries). Change 255 to *27* = (4+1+4)*3\n",
        "sed -i 's/filters=255/filters=27/g' YoloV3/cfg/yolov3-ppe.cfg\n",
        "\n",
        "# Search for 'classes=80' and change all three entries to 'classes=4'\n",
        "sed -i 's/classes=80/classes=4/g' YoloV3/cfg/yolov3-ppe.cfg\n",
        "\n",
        "# Verify if changes took place successfully\n",
        "grep \"filters=27\" YoloV3/cfg/yolov3-ppe.cfg\n",
        "grep \"classes\" YoloV3/cfg/yolov3-ppe.cfg"
      ],
      "execution_count": 40,
      "outputs": [
        {
          "output_type": "stream",
          "text": [
            "filters=27\n",
            "filters=27\n",
            "filters=27\n",
            "\n",
            "classes=4\n",
            "classes=4\n",
            "classes=4\n",
            "\n"
          ],
          "name": "stdout"
        },
        {
          "output_type": "execute_result",
          "data": {
            "text/plain": [
              ""
            ]
          },
          "metadata": {
            "tags": []
          },
          "execution_count": 40
        }
      ]
    },
    {
      "cell_type": "markdown",
      "metadata": {
        "id": "NX2sLmin-wjz"
      },
      "source": [
        "#### Download model weights"
      ]
    },
    {
      "cell_type": "code",
      "metadata": {
        "id": "VIvSNjaxZfSN"
      },
      "source": [
        "# Create a folder called weights in the root (YoloV3) folder\n",
        "!mkdir -p YoloV3/weights\n",
        "!cp drive/My\\ Drive/EVA/Models/yolov3-spp-ultralytics.pt YoloV3/weights/"
      ],
      "execution_count": 41,
      "outputs": []
    },
    {
      "cell_type": "code",
      "metadata": {
        "id": "WTBafLfy1JUS",
        "outputId": "e11ff401-3c22-44b2-ddff-4bb4ce1023ea",
        "colab": {
          "base_uri": "https://localhost:8080/",
          "height": 68
        }
      },
      "source": [
        "!cd YoloV3/; ls weights; ls data/ppedata"
      ],
      "execution_count": 57,
      "outputs": [
        {
          "output_type": "stream",
          "text": [
            "yolov3-spp-ultralytics.pt\n",
            "images\tppe.data   ppe.shapes\t   ppetest.txt\t    ppetrain.txt\n",
            "labels\tppe.names  ppetest.shapes  ppetrain.shapes\n"
          ],
          "name": "stdout"
        },
        {
          "output_type": "execute_result",
          "data": {
            "text/plain": [
              ""
            ]
          },
          "metadata": {
            "tags": []
          },
          "execution_count": 57
        }
      ]
    },
    {
      "cell_type": "markdown",
      "metadata": {
        "id": "phEsoT8XThik"
      },
      "source": [
        "#### Perform training"
      ]
    },
    {
      "cell_type": "code",
      "metadata": {
        "id": "QlJI4ZxFTqvT",
        "outputId": "b9d5e2cc-1467-4fd4-ea41-2f6d39b3ed02",
        "colab": {
          "base_uri": "https://localhost:8080/",
          "height": 34
        }
      },
      "source": [
        "# Prevent Colab Random Disconnects\n",
        "import IPython\n",
        "from google.colab import output\n",
        "display(IPython.display.Javascript('''\n",
        " function ClickConnect(){\n",
        "   btn = document.querySelector(\"colab-connect-button\")\n",
        "   if (btn != null){\n",
        "     console.log(\"Click colab-connect-button\");\n",
        "     btn.click()\n",
        "     }\n",
        "   btn = document.getElementById('ok')\n",
        "   if (btn != null){\n",
        "     console.log(\"Click reconnect\");\n",
        "     btn.click()\n",
        "     }\n",
        "  }\n",
        "setInterval(ClickConnect,60000)\n",
        "'''))\n",
        "print(\"Done.\")"
      ],
      "execution_count": 97,
      "outputs": [
        {
          "output_type": "display_data",
          "data": {
            "application/javascript": [
              "\n",
              " function ClickConnect(){\n",
              "   btn = document.querySelector(\"colab-connect-button\")\n",
              "   if (btn != null){\n",
              "     console.log(\"Click colab-connect-button\");\n",
              "     btn.click()\n",
              "     }\n",
              "   btn = document.getElementById('ok')\n",
              "   if (btn != null){\n",
              "     console.log(\"Click reconnect\");\n",
              "     btn.click()\n",
              "     }\n",
              "  }\n",
              "setInterval(ClickConnect,60000)\n"
            ],
            "text/plain": [
              "<IPython.core.display.Javascript object>"
            ]
          },
          "metadata": {
            "tags": []
          }
        },
        {
          "output_type": "stream",
          "text": [
            "Done.\n"
          ],
          "name": "stdout"
        }
      ]
    },
    {
      "cell_type": "code",
      "metadata": {
        "id": "z_j3dXQk1L3s",
        "outputId": "aca03561-f83d-4a4a-ce33-18cf078b5fcd",
        "colab": {
          "base_uri": "https://localhost:8080/",
          "height": 734
        }
      },
      "source": [
        "!cd YoloV3; python train.py --data data/ppedata/ppe.data --cfg cfg/yolov3-ppe.cfg --batch 3 --cache --epochs 3 --nosave\n"
      ],
      "execution_count": 61,
      "outputs": [
        {
          "output_type": "stream",
          "text": [
            "Namespace(accumulate=4, adam=False, batch_size=3, bucket='', cache_images=True, cfg='cfg/yolov3-ppe.cfg', data='data/ppedata/ppe.data', device='', epochs=3, evolve=False, img_size=[512], multi_scale=False, name='', nosave=True, notest=False, rect=False, resume=False, single_cls=False, weights='weights/yolov3-spp-ultralytics.pt')\n",
            "Using CUDA device0 _CudaDeviceProperties(name='Tesla T4', total_memory=15079MB)\n",
            "\n",
            "2020-10-24 10:09:51.963412: I tensorflow/stream_executor/platform/default/dso_loader.cc:48] Successfully opened dynamic library libcudart.so.10.1\n",
            "Run 'tensorboard --logdir=runs' to view tensorboard at http://localhost:6006/\n",
            "Model Summary: 225 layers, 6.25895e+07 parameters, 6.25895e+07 gradients\n",
            "Caching labels (2992 found, 137 missing, 45 empty, 0 duplicate, for 3174 images): 100% 3174/3174 [00:00<00:00, 8221.66it/s]\n",
            "Caching images (1.8GB): 100% 3174/3174 [00:21<00:00, 149.66it/s]\n",
            "Caching labels (333 found, 10 missing, 4 empty, 0 duplicate, for 347 images): 100% 347/347 [00:00<00:00, 7952.83it/s]\n",
            "Caching images (0.1GB): 100% 347/347 [00:03<00:00, 98.23it/s]\n",
            "Image sizes 512 - 512 train, 512 test\n",
            "Using 2 dataloader workers\n",
            "Starting training for 3 epochs...\n",
            "\n",
            "     Epoch   gpu_mem      GIoU       obj       cls     total   targets  img_size\n",
            "  0% 0/1058 [00:00<?, ?it/s]/usr/local/lib/python3.6/dist-packages/torch/cuda/memory.py:346: FutureWarning: torch.cuda.memory_cached has been renamed to torch.cuda.memory_reserved\n",
            "  FutureWarning)\n",
            "       0/2     2.59G      7.08      8.43      3.44        19        29       512:   0% 1/1058 [00:03<1:04:14,  3.65s/it]/usr/local/lib/python3.6/dist-packages/torch/cuda/memory.py:346: FutureWarning: torch.cuda.memory_cached has been renamed to torch.cuda.memory_reserved\n",
            "  FutureWarning)\n",
            "       0/2     2.89G      4.58      3.21      2.15      9.94        26       512: 100% 1058/1058 [07:06<00:00,  2.48it/s]\n",
            "               Class    Images   Targets         P         R   mAP@0.5        F1:   0% 0/116 [00:00<?, ?it/s]/content/YoloV3/utils/utils.py:530: UserWarning: This overload of nonzero is deprecated:\n",
            "\tnonzero()\n",
            "Consider using one of the following signatures instead:\n",
            "\tnonzero(*, bool as_tuple) (Triggered internally at  /pytorch/torch/csrc/utils/python_arg_parser.cpp:766.)\n",
            "  i, j = (x[:, 5:] > conf_thres).nonzero().t()\n",
            "               Class    Images   Targets         P         R   mAP@0.5        F1: 100% 116/116 [00:12<00:00,  9.25it/s]\n",
            "                 all       347  1.56e+03     0.386     0.558      0.43     0.447\n",
            "\n",
            "     Epoch   gpu_mem      GIoU       obj       cls     total   targets  img_size\n",
            "  0% 0/1058 [00:00<?, ?it/s]/usr/local/lib/python3.6/dist-packages/torch/cuda/memory.py:346: FutureWarning: torch.cuda.memory_cached has been renamed to torch.cuda.memory_reserved\n",
            "  FutureWarning)\n",
            "       1/2     3.24G      3.26      1.94      1.07      6.27        24       512: 100% 1058/1058 [07:13<00:00,  2.44it/s]\n",
            "               Class    Images   Targets         P         R   mAP@0.5        F1: 100% 116/116 [00:11<00:00, 10.44it/s]\n",
            "                 all       347  1.56e+03     0.492     0.613      0.53     0.538\n",
            "\n",
            "     Epoch   gpu_mem      GIoU       obj       cls     total   targets  img_size\n",
            "       2/2     3.24G      2.77       1.7     0.931       5.4        15       512: 100% 1058/1058 [07:14<00:00,  2.44it/s]\n",
            "               Class    Images   Targets         P         R   mAP@0.5        F1: 100% 116/116 [00:11<00:00, 10.36it/s]\n",
            "                 all       347  1.56e+03     0.499     0.684      0.58     0.565\n",
            "3 epochs completed in 0.370 hours.\n",
            "\n"
          ],
          "name": "stdout"
        }
      ]
    },
    {
      "cell_type": "code",
      "metadata": {
        "id": "ElYu4RG01NVw",
        "outputId": "9259ab24-1eea-427c-b45b-a19671f9da53",
        "colab": {
          "base_uri": "https://localhost:8080/",
          "height": 1000
        }
      },
      "source": [
        "!cd YoloV3; python train.py --data data/ppedata/ppe.data --batch 10 --cache --cfg cfg/yolov3-ppe.cfg --epochs 50"
      ],
      "execution_count": 100,
      "outputs": [
        {
          "output_type": "stream",
          "text": [
            "Namespace(accumulate=4, adam=False, batch_size=10, bucket='', cache_images=True, cfg='cfg/yolov3-ppe.cfg', data='data/ppedata/ppe.data', device='', epochs=50, evolve=False, img_size=[512], multi_scale=False, name='', nosave=False, notest=False, rect=False, resume=False, single_cls=False, weights='weights/yolov3-spp-ultralytics.pt')\n",
            "Using CUDA device0 _CudaDeviceProperties(name='Tesla T4', total_memory=15079MB)\n",
            "\n",
            "2020-10-24 11:13:26.817736: I tensorflow/stream_executor/platform/default/dso_loader.cc:48] Successfully opened dynamic library libcudart.so.10.1\n",
            "Run 'tensorboard --logdir=runs' to view tensorboard at http://localhost:6006/\n",
            "Model Summary: 225 layers, 6.25895e+07 parameters, 6.25895e+07 gradients\n",
            "Caching labels (2992 found, 137 missing, 45 empty, 0 duplicate, for 3174 images): 100% 3174/3174 [00:00<00:00, 8070.28it/s]\n",
            "Caching images (1.8GB): 100% 3174/3174 [00:21<00:00, 150.90it/s]\n",
            "Caching labels (333 found, 10 missing, 4 empty, 0 duplicate, for 347 images): 100% 347/347 [00:00<00:00, 6974.03it/s]\n",
            "Caching images (0.1GB): 100% 347/347 [00:03<00:00, 99.96it/s]\n",
            "Image sizes 512 - 512 train, 512 test\n",
            "Using 2 dataloader workers\n",
            "Starting training for 50 epochs...\n",
            "\n",
            "     Epoch   gpu_mem      GIoU       obj       cls     total   targets  img_size\n",
            "  0% 0/318 [00:00<?, ?it/s]/usr/local/lib/python3.6/dist-packages/torch/cuda/memory.py:346: FutureWarning: torch.cuda.memory_cached has been renamed to torch.cuda.memory_reserved\n",
            "  FutureWarning)\n",
            "      0/49     7.37G      7.52      6.91      3.47      17.9        62       512:   0% 1/318 [00:03<19:55,  3.77s/it]/usr/local/lib/python3.6/dist-packages/torch/cuda/memory.py:346: FutureWarning: torch.cuda.memory_cached has been renamed to torch.cuda.memory_reserved\n",
            "  FutureWarning)\n",
            "      0/49     7.71G      4.91      3.41       2.3      10.6        18       512: 100% 318/318 [05:40<00:00,  1.07s/it]\n",
            "               Class    Images   Targets         P         R   mAP@0.5        F1:   0% 0/35 [00:00<?, ?it/s]/content/YoloV3/utils/utils.py:530: UserWarning: This overload of nonzero is deprecated:\n",
            "\tnonzero()\n",
            "Consider using one of the following signatures instead:\n",
            "\tnonzero(*, bool as_tuple) (Triggered internally at  /pytorch/torch/csrc/utils/python_arg_parser.cpp:766.)\n",
            "  i, j = (x[:, 5:] > conf_thres).nonzero().t()\n",
            "               Class    Images   Targets         P         R   mAP@0.5        F1: 100% 35/35 [00:12<00:00,  2.88it/s]\n",
            "                 all       347  1.56e+03     0.329     0.544     0.384     0.406\n",
            "\n",
            "     Epoch   gpu_mem      GIoU       obj       cls     total   targets  img_size\n",
            "  0% 0/318 [00:00<?, ?it/s]/usr/local/lib/python3.6/dist-packages/torch/cuda/memory.py:346: FutureWarning: torch.cuda.memory_cached has been renamed to torch.cuda.memory_reserved\n",
            "  FutureWarning)\n",
            "      1/49     7.72G      3.55      1.92      1.06      6.52        20       512: 100% 318/318 [05:47<00:00,  1.09s/it]\n",
            "               Class    Images   Targets         P         R   mAP@0.5        F1: 100% 35/35 [00:10<00:00,  3.22it/s]\n",
            "                 all       347  1.56e+03     0.464     0.627     0.524     0.526\n",
            "\n",
            "     Epoch   gpu_mem      GIoU       obj       cls     total   targets  img_size\n",
            "      2/49     7.72G       3.1      1.71      0.92      5.74        26       512: 100% 318/318 [05:47<00:00,  1.09s/it]\n",
            "               Class    Images   Targets         P         R   mAP@0.5        F1: 100% 35/35 [00:10<00:00,  3.25it/s]\n",
            "                 all       347  1.56e+03     0.466     0.668     0.551     0.545\n",
            "\n",
            "     Epoch   gpu_mem      GIoU       obj       cls     total   targets  img_size\n",
            "  0% 0/318 [00:00<?, ?it/s]\n",
            "Model Bias Summary:    layer        regression        objectness    classification\n",
            "                          89      -0.15+/-0.19      -5.27+/-0.53      -1.55+/-0.31 \n",
            "                         101       0.04+/-0.24      -5.23+/-0.29      -1.53+/-0.18 \n",
            "                         113       0.14+/-0.22      -5.99+/-0.23      -1.53+/-0.26 \n",
            "      3/49     7.72G      2.89      1.61     0.923      5.43        19       512: 100% 318/318 [05:47<00:00,  1.09s/it]\n",
            "               Class    Images   Targets         P         R   mAP@0.5        F1: 100% 35/35 [00:10<00:00,  3.31it/s]\n",
            "                 all       347  1.56e+03     0.494     0.677     0.565     0.569\n",
            "\n",
            "     Epoch   gpu_mem      GIoU       obj       cls     total   targets  img_size\n",
            "      4/49     7.72G      2.76      1.52     0.793      5.07        31       512: 100% 318/318 [05:47<00:00,  1.09s/it]\n",
            "               Class    Images   Targets         P         R   mAP@0.5        F1: 100% 35/35 [00:10<00:00,  3.33it/s]\n",
            "                 all       347  1.56e+03     0.558     0.648     0.576     0.598\n",
            "\n",
            "     Epoch   gpu_mem      GIoU       obj       cls     total   targets  img_size\n",
            "      5/49     7.72G      2.64      1.44     0.668      4.75        14       512: 100% 318/318 [05:47<00:00,  1.09s/it]\n",
            "               Class    Images   Targets         P         R   mAP@0.5        F1: 100% 35/35 [00:10<00:00,  3.32it/s]\n",
            "                 all       347  1.56e+03     0.529     0.691     0.593     0.595\n",
            "\n",
            "     Epoch   gpu_mem      GIoU       obj       cls     total   targets  img_size\n",
            "      6/49     7.72G      2.59      1.38     0.668      4.64        19       512: 100% 318/318 [05:47<00:00,  1.09s/it]\n",
            "               Class    Images   Targets         P         R   mAP@0.5        F1: 100% 35/35 [00:10<00:00,  3.33it/s]\n",
            "                 all       347  1.56e+03     0.566     0.678     0.602      0.61\n",
            "\n",
            "     Epoch   gpu_mem      GIoU       obj       cls     total   targets  img_size\n",
            "      7/49     7.72G      2.53      1.38     0.659      4.57        15       512: 100% 318/318 [05:46<00:00,  1.09s/it]\n",
            "               Class    Images   Targets         P         R   mAP@0.5        F1: 100% 35/35 [00:10<00:00,  3.33it/s]\n",
            "                 all       347  1.56e+03     0.518     0.709     0.583     0.594\n",
            "\n",
            "     Epoch   gpu_mem      GIoU       obj       cls     total   targets  img_size\n",
            "      8/49     7.72G      2.54      1.39     0.621      4.55        23       512: 100% 318/318 [05:47<00:00,  1.09s/it]\n",
            "               Class    Images   Targets         P         R   mAP@0.5        F1: 100% 35/35 [00:10<00:00,  3.35it/s]\n",
            "                 all       347  1.56e+03     0.569     0.635     0.548     0.598\n",
            "\n",
            "     Epoch   gpu_mem      GIoU       obj       cls     total   targets  img_size\n",
            "      9/49     7.72G      2.45      1.36     0.574      4.38        26       512: 100% 318/318 [05:47<00:00,  1.09s/it]\n",
            "               Class    Images   Targets         P         R   mAP@0.5        F1: 100% 35/35 [00:10<00:00,  3.33it/s]\n",
            "                 all       347  1.56e+03     0.548     0.687      0.59     0.608\n",
            "\n",
            "     Epoch   gpu_mem      GIoU       obj       cls     total   targets  img_size\n",
            "     10/49     7.72G      2.46      1.35     0.617      4.43        17       512: 100% 318/318 [05:46<00:00,  1.09s/it]\n",
            "               Class    Images   Targets         P         R   mAP@0.5        F1: 100% 35/35 [00:10<00:00,  3.34it/s]\n",
            "                 all       347  1.56e+03     0.564     0.675     0.582     0.614\n",
            "\n",
            "     Epoch   gpu_mem      GIoU       obj       cls     total   targets  img_size\n",
            "     11/49     7.72G      2.42      1.36     0.554      4.33        24       512: 100% 318/318 [05:47<00:00,  1.09s/it]\n",
            "               Class    Images   Targets         P         R   mAP@0.5        F1: 100% 35/35 [00:10<00:00,  3.32it/s]\n",
            "                 all       347  1.56e+03     0.519     0.713     0.588       0.6\n",
            "\n",
            "     Epoch   gpu_mem      GIoU       obj       cls     total   targets  img_size\n",
            "     12/49     7.72G      2.37      1.31     0.492      4.17        28       512: 100% 318/318 [05:47<00:00,  1.09s/it]\n",
            "               Class    Images   Targets         P         R   mAP@0.5        F1: 100% 35/35 [00:10<00:00,  3.32it/s]\n",
            "                 all       347  1.56e+03     0.549     0.725      0.61     0.621\n",
            "\n",
            "     Epoch   gpu_mem      GIoU       obj       cls     total   targets  img_size\n",
            "     13/49     7.72G      2.33      1.26     0.461      4.05        47       512: 100% 318/318 [05:47<00:00,  1.09s/it]\n",
            "               Class    Images   Targets         P         R   mAP@0.5        F1: 100% 35/35 [00:10<00:00,  3.35it/s]\n",
            "                 all       347  1.56e+03     0.556     0.696     0.599     0.618\n",
            "\n",
            "     Epoch   gpu_mem      GIoU       obj       cls     total   targets  img_size\n",
            "     14/49     7.72G       2.3      1.26     0.437         4        14       512: 100% 318/318 [05:47<00:00,  1.09s/it]\n",
            "               Class    Images   Targets         P         R   mAP@0.5        F1: 100% 35/35 [00:10<00:00,  3.35it/s]\n",
            "                 all       347  1.56e+03     0.571     0.702     0.596     0.628\n",
            "\n",
            "     Epoch   gpu_mem      GIoU       obj       cls     total   targets  img_size\n",
            "     15/49     7.72G      2.25      1.23     0.383      3.86        18       512: 100% 318/318 [05:47<00:00,  1.09s/it]\n",
            "               Class    Images   Targets         P         R   mAP@0.5        F1: 100% 35/35 [00:10<00:00,  3.34it/s]\n",
            "                 all       347  1.56e+03     0.533      0.72     0.586      0.61\n",
            "\n",
            "     Epoch   gpu_mem      GIoU       obj       cls     total   targets  img_size\n",
            "     16/49     7.72G      2.21      1.23     0.362       3.8        26       512: 100% 318/318 [05:47<00:00,  1.09s/it]\n",
            "               Class    Images   Targets         P         R   mAP@0.5        F1: 100% 35/35 [00:10<00:00,  3.35it/s]\n",
            "                 all       347  1.56e+03     0.574     0.687     0.591     0.624\n",
            "\n",
            "     Epoch   gpu_mem      GIoU       obj       cls     total   targets  img_size\n",
            "     17/49     7.72G      2.19      1.21     0.344      3.74        20       512: 100% 318/318 [05:47<00:00,  1.09s/it]\n",
            "               Class    Images   Targets         P         R   mAP@0.5        F1: 100% 35/35 [00:10<00:00,  3.37it/s]\n",
            "                 all       347  1.56e+03     0.561     0.705     0.585     0.625\n",
            "\n",
            "     Epoch   gpu_mem      GIoU       obj       cls     total   targets  img_size\n",
            "     18/49     7.72G      2.17      1.18     0.321      3.67        24       512: 100% 318/318 [05:47<00:00,  1.09s/it]\n",
            "               Class    Images   Targets         P         R   mAP@0.5        F1: 100% 35/35 [00:10<00:00,  3.36it/s]\n",
            "                 all       347  1.56e+03     0.553      0.68     0.557      0.61\n",
            "\n",
            "     Epoch   gpu_mem      GIoU       obj       cls     total   targets  img_size\n",
            "     19/49     7.72G      2.15      1.18     0.353      3.69        30       512: 100% 318/318 [05:46<00:00,  1.09s/it]\n",
            "               Class    Images   Targets         P         R   mAP@0.5        F1: 100% 35/35 [00:10<00:00,  3.34it/s]\n",
            "                 all       347  1.56e+03     0.567     0.697     0.587     0.625\n",
            "\n",
            "     Epoch   gpu_mem      GIoU       obj       cls     total   targets  img_size\n",
            "     20/49     7.72G      2.11      1.18     0.302      3.59        18       512: 100% 318/318 [05:46<00:00,  1.09s/it]\n",
            "               Class    Images   Targets         P         R   mAP@0.5        F1: 100% 35/35 [00:10<00:00,  3.38it/s]\n",
            "                 all       347  1.56e+03     0.593     0.691     0.599     0.637\n",
            "\n",
            "     Epoch   gpu_mem      GIoU       obj       cls     total   targets  img_size\n",
            "     21/49     7.72G      2.07      1.16     0.307      3.54        31       512: 100% 318/318 [05:46<00:00,  1.09s/it]\n",
            "               Class    Images   Targets         P         R   mAP@0.5        F1: 100% 35/35 [00:10<00:00,  3.38it/s]\n",
            "                 all       347  1.56e+03     0.562     0.685     0.576     0.617\n",
            "\n",
            "     Epoch   gpu_mem      GIoU       obj       cls     total   targets  img_size\n",
            "     22/49     7.72G      2.02      1.12     0.279      3.42        14       512: 100% 318/318 [05:46<00:00,  1.09s/it]\n",
            "               Class    Images   Targets         P         R   mAP@0.5        F1: 100% 35/35 [00:10<00:00,  3.38it/s]\n",
            "                 all       347  1.56e+03     0.599     0.701     0.598     0.643\n",
            "\n",
            "     Epoch   gpu_mem      GIoU       obj       cls     total   targets  img_size\n",
            "     23/49     7.72G      2.01      1.14     0.277      3.43        18       512: 100% 318/318 [05:47<00:00,  1.09s/it]\n",
            "               Class    Images   Targets         P         R   mAP@0.5        F1: 100% 35/35 [00:10<00:00,  3.39it/s]\n",
            "                 all       347  1.56e+03     0.603     0.697     0.599     0.645\n",
            "\n",
            "     Epoch   gpu_mem      GIoU       obj       cls     total   targets  img_size\n",
            "     24/49     7.72G      1.97       1.1      0.23       3.3        16       512: 100% 318/318 [05:47<00:00,  1.09s/it]\n",
            "               Class    Images   Targets         P         R   mAP@0.5        F1: 100% 35/35 [00:10<00:00,  3.37it/s]\n",
            "                 all       347  1.56e+03     0.595     0.711     0.592     0.646\n",
            "\n",
            "     Epoch   gpu_mem      GIoU       obj       cls     total   targets  img_size\n",
            "     25/49     7.72G      1.96      1.11     0.239       3.3        20       512: 100% 318/318 [05:46<00:00,  1.09s/it]\n",
            "               Class    Images   Targets         P         R   mAP@0.5        F1: 100% 35/35 [00:10<00:00,  3.38it/s]\n",
            "                 all       347  1.56e+03     0.589     0.684     0.592     0.633\n",
            "\n",
            "     Epoch   gpu_mem      GIoU       obj       cls     total   targets  img_size\n",
            "     26/49     7.72G      1.89      1.06     0.195      3.15        21       512: 100% 318/318 [05:47<00:00,  1.09s/it]\n",
            "               Class    Images   Targets         P         R   mAP@0.5        F1: 100% 35/35 [00:10<00:00,  3.40it/s]\n",
            "                 all       347  1.56e+03     0.585     0.705     0.593     0.639\n",
            "\n",
            "     Epoch   gpu_mem      GIoU       obj       cls     total   targets  img_size\n",
            "     27/49     7.72G      1.87      1.06     0.216      3.15        22       512: 100% 318/318 [05:47<00:00,  1.09s/it]\n",
            "               Class    Images   Targets         P         R   mAP@0.5        F1: 100% 35/35 [00:10<00:00,  3.40it/s]\n",
            "                 all       347  1.56e+03     0.586     0.681     0.583      0.63\n",
            "\n",
            "     Epoch   gpu_mem      GIoU       obj       cls     total   targets  img_size\n",
            "     28/49     7.72G      1.85      1.01     0.178      3.04         9       512: 100% 318/318 [05:46<00:00,  1.09s/it]\n",
            "               Class    Images   Targets         P         R   mAP@0.5        F1: 100% 35/35 [00:10<00:00,  3.40it/s]\n",
            "                 all       347  1.56e+03     0.609     0.687     0.594     0.645\n",
            "\n",
            "     Epoch   gpu_mem      GIoU       obj       cls     total   targets  img_size\n",
            "     29/49     7.72G      1.81      1.02      0.18      3.01        22       512: 100% 318/318 [05:47<00:00,  1.09s/it]\n",
            "               Class    Images   Targets         P         R   mAP@0.5        F1: 100% 35/35 [00:10<00:00,  3.39it/s]\n",
            "                 all       347  1.56e+03      0.59     0.683     0.577     0.633\n",
            "\n",
            "     Epoch   gpu_mem      GIoU       obj       cls     total   targets  img_size\n",
            "     30/49     7.72G      1.79     0.995     0.182      2.96        12       512: 100% 318/318 [05:46<00:00,  1.09s/it]\n",
            "               Class    Images   Targets         P         R   mAP@0.5        F1: 100% 35/35 [00:10<00:00,  3.39it/s]\n",
            "                 all       347  1.56e+03     0.621     0.679     0.585     0.648\n",
            "\n",
            "     Epoch   gpu_mem      GIoU       obj       cls     total   targets  img_size\n",
            "     31/49     7.72G      1.76     0.973     0.161      2.89        18       512: 100% 318/318 [05:47<00:00,  1.09s/it]\n",
            "               Class    Images   Targets         P         R   mAP@0.5        F1: 100% 35/35 [00:10<00:00,  3.40it/s]\n",
            "                 all       347  1.56e+03     0.611     0.686     0.593     0.646\n",
            "\n",
            "     Epoch   gpu_mem      GIoU       obj       cls     total   targets  img_size\n",
            "     32/49     7.72G      1.73     0.967     0.164      2.86        36       512: 100% 318/318 [05:47<00:00,  1.09s/it]\n",
            "               Class    Images   Targets         P         R   mAP@0.5        F1: 100% 35/35 [00:10<00:00,  3.42it/s]\n",
            "                 all       347  1.56e+03     0.621     0.696     0.604     0.655\n",
            "\n",
            "     Epoch   gpu_mem      GIoU       obj       cls     total   targets  img_size\n",
            "     33/49     7.72G       1.7     0.959     0.145       2.8        20       512: 100% 318/318 [05:47<00:00,  1.09s/it]\n",
            "               Class    Images   Targets         P         R   mAP@0.5        F1: 100% 35/35 [00:10<00:00,  3.42it/s]\n",
            "                 all       347  1.56e+03     0.635     0.692     0.602     0.661\n",
            "\n",
            "     Epoch   gpu_mem      GIoU       obj       cls     total   targets  img_size\n",
            "     34/49     7.72G      1.66     0.934      0.14      2.73        35       512: 100% 318/318 [05:47<00:00,  1.09s/it]\n",
            "               Class    Images   Targets         P         R   mAP@0.5        F1: 100% 35/35 [00:10<00:00,  3.41it/s]\n",
            "                 all       347  1.56e+03     0.613     0.688      0.59     0.647\n",
            "\n",
            "     Epoch   gpu_mem      GIoU       obj       cls     total   targets  img_size\n",
            "     35/49     7.72G      1.66     0.924     0.137      2.72        28       512: 100% 318/318 [05:47<00:00,  1.09s/it]\n",
            "               Class    Images   Targets         P         R   mAP@0.5        F1: 100% 35/35 [00:10<00:00,  3.41it/s]\n",
            "                 all       347  1.56e+03     0.644     0.685     0.606     0.664\n",
            "\n",
            "     Epoch   gpu_mem      GIoU       obj       cls     total   targets  img_size\n",
            "     36/49     7.72G      1.63     0.909     0.129      2.66        29       512: 100% 318/318 [05:47<00:00,  1.09s/it]\n",
            "               Class    Images   Targets         P         R   mAP@0.5        F1: 100% 35/35 [00:10<00:00,  3.42it/s]\n",
            "                 all       347  1.56e+03     0.626     0.681     0.595     0.652\n",
            "\n",
            "     Epoch   gpu_mem      GIoU       obj       cls     total   targets  img_size\n",
            "     37/49     7.72G       1.6      0.91     0.116      2.62        25       512: 100% 318/318 [05:47<00:00,  1.09s/it]\n",
            "               Class    Images   Targets         P         R   mAP@0.5        F1: 100% 35/35 [00:10<00:00,  3.42it/s]\n",
            "                 all       347  1.56e+03     0.632      0.68     0.586     0.654\n",
            "\n",
            "     Epoch   gpu_mem      GIoU       obj       cls     total   targets  img_size\n",
            "     38/49     7.72G      1.58     0.879     0.118      2.57        23       512: 100% 318/318 [05:46<00:00,  1.09s/it]\n",
            "               Class    Images   Targets         P         R   mAP@0.5        F1: 100% 35/35 [00:10<00:00,  3.42it/s]\n",
            "                 all       347  1.56e+03     0.629     0.687     0.593     0.657\n",
            "\n",
            "     Epoch   gpu_mem      GIoU       obj       cls     total   targets  img_size\n",
            "     39/49     7.72G      1.55     0.883     0.115      2.55        21       512: 100% 318/318 [05:46<00:00,  1.09s/it]\n",
            "               Class    Images   Targets         P         R   mAP@0.5        F1: 100% 35/35 [00:10<00:00,  3.42it/s]\n",
            "                 all       347  1.56e+03     0.633     0.687     0.597     0.658\n",
            "\n",
            "     Epoch   gpu_mem      GIoU       obj       cls     total   targets  img_size\n",
            "     40/49     7.72G      1.52      0.86    0.0967      2.48        16       512: 100% 318/318 [05:46<00:00,  1.09s/it]\n",
            "               Class    Images   Targets         P         R   mAP@0.5        F1: 100% 35/35 [00:10<00:00,  3.42it/s]\n",
            "                 all       347  1.56e+03     0.639     0.675     0.587     0.655\n",
            "\n",
            "     Epoch   gpu_mem      GIoU       obj       cls     total   targets  img_size\n",
            "     41/49     7.72G      1.51     0.843     0.103      2.46        16       512: 100% 318/318 [05:47<00:00,  1.09s/it]\n",
            "               Class    Images   Targets         P         R   mAP@0.5        F1: 100% 35/35 [00:10<00:00,  3.42it/s]\n",
            "                 all       347  1.56e+03     0.647     0.677     0.598     0.661\n",
            "\n",
            "     Epoch   gpu_mem      GIoU       obj       cls     total   targets  img_size\n",
            "     42/49     7.72G      1.49     0.854    0.0932      2.44        40       512: 100% 318/318 [05:46<00:00,  1.09s/it]\n",
            "               Class    Images   Targets         P         R   mAP@0.5        F1: 100% 35/35 [00:10<00:00,  3.45it/s]\n",
            "                 all       347  1.56e+03      0.66     0.666     0.588     0.662\n",
            "\n",
            "     Epoch   gpu_mem      GIoU       obj       cls     total   targets  img_size\n",
            "     43/49     7.72G      1.45     0.844    0.0937      2.39        13       512: 100% 318/318 [05:46<00:00,  1.09s/it]\n",
            "               Class    Images   Targets         P         R   mAP@0.5        F1: 100% 35/35 [00:10<00:00,  3.44it/s]\n",
            "                 all       347  1.56e+03     0.645     0.677      0.58      0.66\n",
            "\n",
            "     Epoch   gpu_mem      GIoU       obj       cls     total   targets  img_size\n",
            "     44/49     7.72G      1.45     0.829    0.0868      2.36        14       512: 100% 318/318 [05:46<00:00,  1.09s/it]\n",
            "               Class    Images   Targets         P         R   mAP@0.5        F1: 100% 35/35 [00:10<00:00,  3.45it/s]\n",
            "                 all       347  1.56e+03     0.653     0.663     0.581     0.657\n",
            "\n",
            "     Epoch   gpu_mem      GIoU       obj       cls     total   targets  img_size\n",
            "     45/49     7.72G      1.45     0.831    0.0812      2.36        20       512: 100% 318/318 [05:46<00:00,  1.09s/it]\n",
            "               Class    Images   Targets         P         R   mAP@0.5        F1: 100% 35/35 [00:10<00:00,  3.43it/s]\n",
            "                 all       347  1.56e+03     0.635     0.673     0.573     0.653\n",
            "\n",
            "     Epoch   gpu_mem      GIoU       obj       cls     total   targets  img_size\n",
            "     46/49     7.72G      1.42     0.799    0.0881       2.3        21       512: 100% 318/318 [05:47<00:00,  1.09s/it]\n",
            "               Class    Images   Targets         P         R   mAP@0.5        F1: 100% 35/35 [00:10<00:00,  3.44it/s]\n",
            "                 all       347  1.56e+03     0.648     0.671     0.586     0.659\n",
            "\n",
            "     Epoch   gpu_mem      GIoU       obj       cls     total   targets  img_size\n",
            "     47/49     7.72G      1.42     0.816    0.0792      2.31        22       512: 100% 318/318 [05:47<00:00,  1.09s/it]\n",
            "               Class    Images   Targets         P         R   mAP@0.5        F1: 100% 35/35 [00:10<00:00,  3.45it/s]\n",
            "                 all       347  1.56e+03      0.65     0.666     0.583     0.658\n",
            "\n",
            "     Epoch   gpu_mem      GIoU       obj       cls     total   targets  img_size\n",
            "     48/49     7.72G      1.41     0.786    0.0838      2.28        32       512: 100% 318/318 [05:47<00:00,  1.09s/it]\n",
            "               Class    Images   Targets         P         R   mAP@0.5        F1: 100% 35/35 [00:10<00:00,  3.44it/s]\n",
            "                 all       347  1.56e+03     0.648     0.667     0.584     0.657\n",
            "\n",
            "     Epoch   gpu_mem      GIoU       obj       cls     total   targets  img_size\n",
            "     49/49     7.72G       1.4     0.808    0.0787      2.29        16       512: 100% 318/318 [05:47<00:00,  1.09s/it]\n",
            "               Class    Images   Targets         P         R   mAP@0.5        F1: 100% 35/35 [00:10<00:00,  3.44it/s]\n",
            "                 all       347  1.56e+03     0.643     0.672     0.583     0.656\n",
            "50 epochs completed in 4.995 hours.\n",
            "\n"
          ],
          "name": "stdout"
        }
      ]
    },
    {
      "cell_type": "markdown",
      "metadata": {
        "id": "7AhWq8GZX2CB"
      },
      "source": [
        "#### Download sample video containing our classes"
      ]
    },
    {
      "cell_type": "code",
      "metadata": {
        "id": "WuEHqv2FX60B",
        "outputId": "7f784d5e-1f3c-46ba-e286-443874a36301",
        "colab": {
          "base_uri": "https://localhost:8080/",
          "height": 292
        }
      },
      "source": [
        "%%shell\n",
        "wget https://github.com/ashxjain/eva/raw/master/P5_S13/sample_videos/video1.mp4\n",
        "mkdir -p YoloV3/data/source_imgs\n",
        "mv video1.mp4 YoloV3/data/source_imgs/\n",
        "cd YoloV3/data/source_imgs; ffmpeg -i video1.mp4 -r 10 %03d.jpg"
      ],
      "execution_count": 108,
      "outputs": [
        {
          "output_type": "stream",
          "text": [
            "ffmpeg version 3.4.8-0ubuntu0.2 Copyright (c) 2000-2020 the FFmpeg developers\n",
            "  built with gcc 7 (Ubuntu 7.5.0-3ubuntu1~18.04)\n",
            "  configuration: --prefix=/usr --extra-version=0ubuntu0.2 --toolchain=hardened --libdir=/usr/lib/x86_64-linux-gnu --incdir=/usr/include/x86_64-linux-gnu --enable-gpl --disable-stripping --enable-avresample --enable-avisynth --enable-gnutls --enable-ladspa --enable-libass --enable-libbluray --enable-libbs2b --enable-libcaca --enable-libcdio --enable-libflite --enable-libfontconfig --enable-libfreetype --enable-libfribidi --enable-libgme --enable-libgsm --enable-libmp3lame --enable-libmysofa --enable-libopenjpeg --enable-libopenmpt --enable-libopus --enable-libpulse --enable-librubberband --enable-librsvg --enable-libshine --enable-libsnappy --enable-libsoxr --enable-libspeex --enable-libssh --enable-libtheora --enable-libtwolame --enable-libvorbis --enable-libvpx --enable-libwavpack --enable-libwebp --enable-libx265 --enable-libxml2 --enable-libxvid --enable-libzmq --enable-libzvbi --enable-omx --enable-openal --enable-opengl --enable-sdl2 --enable-libdc1394 --enable-libdrm --enable-libiec61883 --enable-chromaprint --enable-frei0r --enable-libopencv --enable-libx264 --enable-shared\n",
            "  libavutil      55. 78.100 / 55. 78.100\n",
            "  libavcodec     57.107.100 / 57.107.100\n",
            "  libavformat    57. 83.100 / 57. 83.100\n",
            "  libavdevice    57. 10.100 / 57. 10.100\n",
            "  libavfilter     6.107.100 /  6.107.100\n",
            "  libavresample   3.  7.  0 /  3.  7.  0\n",
            "  libswscale      4.  8.100 /  4.  8.100\n",
            "  libswresample   2.  9.100 /  2.  9.100\n",
            "  libpostproc    54.  7.100 / 54.  7.100\n",
            "\u001b[0;35m[mov,mp4,m4a,3gp,3g2,mj2 @ 0x55c37e3dc000] \u001b[0m\u001b[0;33mFormat mov,mp4,m4a,3gp,3g2,mj2 detected only with low score of 1, misdetection possible!\n",
            "\u001b[0m\u001b[0;35m[mov,mp4,m4a,3gp,3g2,mj2 @ 0x55c37e3dc000] \u001b[0m\u001b[1;31mmoov atom not found\n",
            "\u001b[0m\u001b[1;31mYoloV3/data/source_imgs/video1.mp4: Invalid data found when processing input\n",
            "\u001b[0m"
          ],
          "name": "stdout"
        }
      ]
    },
    {
      "cell_type": "markdown",
      "metadata": {
        "id": "xUNWHbiDYxZ8"
      },
      "source": [
        "#### Get annotations on the input video frames"
      ]
    },
    {
      "cell_type": "code",
      "metadata": {
        "id": "31oeHX0u2Vwd",
        "outputId": "64348373-d238-438c-b52b-dcaa0cd2da41",
        "colab": {
          "base_uri": "https://localhost:8080/",
          "height": 1000
        }
      },
      "source": [
        "!cd YoloV3; python detect.py --conf-thres 0.1 --cfg cfg/yolov3-ppe.cfg --names data/ppedata/ppe.names --source source_imgs --output out_imgs"
      ],
      "execution_count": 90,
      "outputs": [
        {
          "output_type": "stream",
          "text": [
            "Namespace(agnostic_nms=False, augment=False, cfg='cfg/yolov3-ppe.cfg', classes=None, conf_thres=0.1, device='', fourcc='mp4v', half=False, img_size=512, iou_thres=0.6, names='data/ppedata/ppe.names', output='out_out', save_txt=False, source='input_imgs', view_img=False, weights='weights/last.pt')\n",
            "Using CUDA device0 _CudaDeviceProperties(name='Tesla T4', total_memory=15079MB)\n",
            "\n",
            "Model Summary: 225 layers, 6.25895e+07 parameters, 6.25895e+07 gradients\n",
            "image 1/132 input_imgs/001.jpg: 320x512 4 hardhats, 3 vests, 3 masks, Done. (0.033s)\n",
            "image 2/132 input_imgs/002.jpg: 320x512 5 hardhats, 4 vests, 2 masks, Done. (0.033s)\n",
            "image 3/132 input_imgs/003.jpg: 320x512 5 hardhats, 3 vests, 2 masks, Done. (0.033s)\n",
            "image 4/132 input_imgs/004.jpg: 320x512 4 hardhats, 3 vests, 2 masks, Done. (0.021s)\n",
            "image 5/132 input_imgs/005.jpg: 320x512 5 hardhats, 3 vests, 2 masks, Done. (0.021s)\n",
            "image 6/132 input_imgs/006.jpg: 320x512 5 hardhats, 4 vests, 3 masks, Done. (0.021s)\n",
            "image 7/132 input_imgs/007.jpg: 320x512 7 hardhats, 4 vests, 2 masks, Done. (0.020s)\n",
            "image 8/132 input_imgs/008.jpg: 320x512 6 hardhats, 3 vests, 2 masks, Done. (0.020s)\n",
            "image 9/132 input_imgs/009.jpg: 320x512 6 hardhats, 3 vests, 2 masks, Done. (0.020s)\n",
            "image 10/132 input_imgs/010.jpg: 320x512 5 hardhats, 3 vests, 3 masks, Done. (0.019s)\n",
            "image 11/132 input_imgs/011.jpg: 320x512 5 hardhats, 4 vests, 2 masks, Done. (0.017s)\n",
            "image 12/132 input_imgs/012.jpg: 320x512 4 hardhats, 2 vests, 3 masks, 1 bootss, Done. (0.016s)\n",
            "image 13/132 input_imgs/013.jpg: 320x512 5 hardhats, 3 vests, 2 masks, 1 bootss, Done. (0.017s)\n",
            "image 14/132 input_imgs/014.jpg: 320x512 6 hardhats, 4 vests, 2 masks, 2 bootss, Done. (0.017s)\n",
            "image 15/132 input_imgs/015.jpg: 320x512 5 hardhats, 3 vests, 1 masks, 2 bootss, Done. (0.017s)\n",
            "image 16/132 input_imgs/016.jpg: 320x512 4 hardhats, 3 vests, 1 masks, 4 bootss, Done. (0.017s)\n",
            "image 17/132 input_imgs/017.jpg: 320x512 9 hardhats, 5 vests, 2 masks, 2 bootss, Done. (0.017s)\n",
            "image 18/132 input_imgs/018.jpg: 320x512 7 hardhats, 5 vests, 1 masks, 1 bootss, Done. (0.020s)\n",
            "image 19/132 input_imgs/019.jpg: 320x512 6 hardhats, 9 vests, 3 bootss, Done. (0.017s)\n",
            "image 20/132 input_imgs/020.jpg: 320x512 5 hardhats, 8 vests, 3 masks, 7 bootss, Done. (0.017s)\n",
            "image 21/132 input_imgs/021.jpg: 320x512 5 hardhats, 7 vests, 4 bootss, Done. (0.016s)\n",
            "image 22/132 input_imgs/022.jpg: 320x512 7 hardhats, 12 vests, 8 bootss, Done. (0.018s)\n",
            "image 23/132 input_imgs/023.jpg: 320x512 6 hardhats, 9 vests, 4 bootss, Done. (0.017s)\n",
            "image 24/132 input_imgs/024.jpg: 320x512 4 hardhats, 11 vests, 1 masks, 5 bootss, Done. (0.017s)\n",
            "image 25/132 input_imgs/025.jpg: 320x512 7 hardhats, 11 vests, 3 bootss, Done. (0.017s)\n",
            "image 26/132 input_imgs/026.jpg: 320x512 7 hardhats, 9 vests, 1 masks, 3 bootss, Done. (0.017s)\n",
            "image 27/132 input_imgs/027.jpg: 320x512 4 hardhats, 8 vests, 1 masks, 5 bootss, Done. (0.016s)\n",
            "image 28/132 input_imgs/028.jpg: 320x512 4 hardhats, 3 vests, 1 masks, Done. (0.017s)\n",
            "image 29/132 input_imgs/029.jpg: 320x512 5 hardhats, 2 vests, Done. (0.017s)\n",
            "image 30/132 input_imgs/030.jpg: 320x512 4 hardhats, 3 vests, 1 masks, Done. (0.016s)\n",
            "image 31/132 input_imgs/031.jpg: 320x512 3 hardhats, 4 vests, 2 bootss, Done. (0.018s)\n",
            "image 32/132 input_imgs/032.jpg: 320x512 4 hardhats, 3 vests, 2 bootss, Done. (0.018s)\n",
            "image 33/132 input_imgs/033.jpg: 320x512 4 hardhats, 4 vests, Done. (0.017s)\n",
            "image 34/132 input_imgs/034.jpg: 320x512 3 hardhats, 2 vests, 1 bootss, Done. (0.017s)\n",
            "image 35/132 input_imgs/035.jpg: 320x512 3 hardhats, 3 vests, Done. (0.018s)\n",
            "image 36/132 input_imgs/036.jpg: 320x512 4 hardhats, 2 vests, Done. (0.019s)\n",
            "image 37/132 input_imgs/037.jpg: 320x512 3 hardhats, 2 vests, Done. (0.016s)\n",
            "image 38/132 input_imgs/038.jpg: 320x512 4 hardhats, 3 vests, 1 masks, Done. (0.017s)\n",
            "image 39/132 input_imgs/039.jpg: 320x512 3 hardhats, 3 vests, Done. (0.017s)\n",
            "image 40/132 input_imgs/040.jpg: 320x512 3 hardhats, 3 vests, 1 masks, Done. (0.016s)\n",
            "image 41/132 input_imgs/041.jpg: 320x512 3 hardhats, 2 vests, Done. (0.017s)\n",
            "image 42/132 input_imgs/042.jpg: 320x512 3 hardhats, 3 vests, Done. (0.018s)\n",
            "image 43/132 input_imgs/043.jpg: 320x512 3 hardhats, 2 vests, Done. (0.017s)\n",
            "image 44/132 input_imgs/044.jpg: 320x512 3 hardhats, 3 vests, Done. (0.016s)\n",
            "image 45/132 input_imgs/045.jpg: 320x512 4 hardhats, 3 vests, Done. (0.017s)\n",
            "image 46/132 input_imgs/046.jpg: 320x512 3 hardhats, 3 vests, Done. (0.018s)\n",
            "image 47/132 input_imgs/047.jpg: 320x512 3 hardhats, 2 vests, Done. (0.017s)\n",
            "image 48/132 input_imgs/048.jpg: 320x512 3 hardhats, 3 vests, 1 masks, Done. (0.017s)\n",
            "image 49/132 input_imgs/049.jpg: 320x512 3 hardhats, 3 vests, Done. (0.017s)\n",
            "image 50/132 input_imgs/050.jpg: 320x512 3 hardhats, 4 vests, Done. (0.018s)\n",
            "image 51/132 input_imgs/051.jpg: 320x512 4 hardhats, 2 vests, Done. (0.019s)\n",
            "image 52/132 input_imgs/052.jpg: 320x512 3 hardhats, 2 vests, Done. (0.017s)\n",
            "image 53/132 input_imgs/053.jpg: 320x512 4 hardhats, 3 vests, Done. (0.017s)\n",
            "image 54/132 input_imgs/054.jpg: 320x512 3 hardhats, 2 vests, Done. (0.017s)\n",
            "image 55/132 input_imgs/055.jpg: 320x512 4 hardhats, 3 vests, Done. (0.016s)\n",
            "image 56/132 input_imgs/056.jpg: 320x512 4 hardhats, 3 vests, Done. (0.017s)\n",
            "image 57/132 input_imgs/057.jpg: 320x512 3 hardhats, 3 vests, 1 masks, Done. (0.017s)\n",
            "image 58/132 input_imgs/058.jpg: 320x512 4 hardhats, 3 vests, Done. (0.017s)\n",
            "image 59/132 input_imgs/059.jpg: 320x512 4 hardhats, 3 vests, Done. (0.017s)\n",
            "image 60/132 input_imgs/060.jpg: 320x512 4 hardhats, 2 vests, Done. (0.016s)\n",
            "image 61/132 input_imgs/061.jpg: 320x512 4 hardhats, 4 vests, Done. (0.018s)\n",
            "image 62/132 input_imgs/062.jpg: 320x512 4 hardhats, 3 vests, Done. (0.018s)\n",
            "image 63/132 input_imgs/063.jpg: 320x512 3 hardhats, 3 vests, Done. (0.017s)\n",
            "image 64/132 input_imgs/064.jpg: 320x512 5 hardhats, 3 vests, Done. (0.016s)\n",
            "image 65/132 input_imgs/065.jpg: 320x512 4 hardhats, 4 vests, Done. (0.017s)\n",
            "image 66/132 input_imgs/066.jpg: 320x512 4 hardhats, 3 vests, 2 bootss, Done. (0.019s)\n",
            "image 67/132 input_imgs/067.jpg: 320x512 4 hardhats, 5 vests, 1 bootss, Done. (0.016s)\n",
            "image 68/132 input_imgs/068.jpg: 320x512 4 hardhats, 5 vests, Done. (0.017s)\n",
            "image 69/132 input_imgs/069.jpg: 320x512 4 hardhats, 5 vests, Done. (0.017s)\n",
            "image 70/132 input_imgs/070.jpg: 320x512 4 hardhats, 4 vests, Done. (0.016s)\n",
            "image 71/132 input_imgs/071.jpg: 320x512 5 hardhats, 5 vests, Done. (0.017s)\n",
            "image 72/132 input_imgs/072.jpg: 320x512 5 hardhats, 4 vests, Done. (0.018s)\n",
            "image 73/132 input_imgs/073.jpg: 320x512 5 hardhats, 2 vests, Done. (0.017s)\n",
            "image 74/132 input_imgs/074.jpg: 320x512 4 hardhats, 2 vests, Done. (0.017s)\n",
            "image 75/132 input_imgs/075.jpg: 320x512 3 hardhats, 3 vests, Done. (0.017s)\n",
            "image 76/132 input_imgs/076.jpg: 320x512 3 hardhats, 2 vests, Done. (0.018s)\n",
            "image 77/132 input_imgs/077.jpg: 320x512 4 hardhats, 3 vests, Done. (0.017s)\n",
            "image 78/132 input_imgs/078.jpg: 320x512 3 hardhats, 3 vests, Done. (0.017s)\n",
            "image 79/132 input_imgs/079.jpg: 320x512 5 hardhats, 2 vests, 1 masks, Done. (0.017s)\n",
            "image 80/132 input_imgs/080.jpg: 320x512 5 hardhats, 4 vests, Done. (0.018s)\n",
            "image 81/132 input_imgs/081.jpg: 320x512 4 hardhats, 4 vests, Done. (0.019s)\n",
            "image 82/132 input_imgs/082.jpg: 320x512 4 hardhats, 3 vests, 1 masks, Done. (0.017s)\n",
            "image 83/132 input_imgs/083.jpg: 320x512 4 hardhats, 4 vests, 1 masks, Done. (0.017s)\n",
            "image 84/132 input_imgs/084.jpg: 320x512 4 hardhats, 4 vests, 2 bootss, Done. (0.016s)\n",
            "image 85/132 input_imgs/085.jpg: 320x512 6 hardhats, 4 vests, Done. (0.018s)\n",
            "image 86/132 input_imgs/086.jpg: 320x512 6 hardhats, 4 vests, Done. (0.018s)\n",
            "image 87/132 input_imgs/087.jpg: 320x512 3 hardhats, 6 vests, Done. (0.017s)\n",
            "image 88/132 input_imgs/088.jpg: 320x512 5 hardhats, 5 vests, 1 masks, Done. (0.016s)\n",
            "image 89/132 input_imgs/089.jpg: 320x512 5 hardhats, 7 vests, Done. (0.018s)\n",
            "image 90/132 input_imgs/090.jpg: 320x512 5 hardhats, 4 vests, 1 masks, Done. (0.017s)\n",
            "image 91/132 input_imgs/091.jpg: 320x512 5 hardhats, 6 vests, Done. (0.016s)\n",
            "image 92/132 input_imgs/092.jpg: 320x512 6 hardhats, 6 vests, 1 masks, Done. (0.017s)\n",
            "image 93/132 input_imgs/093.jpg: 320x512 5 hardhats, 6 vests, 1 masks, Done. (0.017s)\n",
            "image 94/132 input_imgs/094.jpg: 320x512 4 hardhats, 5 vests, Done. (0.019s)\n",
            "image 95/132 input_imgs/095.jpg: 320x512 6 hardhats, 8 vests, 2 bootss, Done. (0.017s)\n",
            "image 96/132 input_imgs/096.jpg: 320x512 6 hardhats, 9 vests, Done. (0.017s)\n",
            "image 97/132 input_imgs/097.jpg: 320x512 5 hardhats, 8 vests, Done. (0.016s)\n",
            "image 98/132 input_imgs/098.jpg: 320x512 4 hardhats, 8 vests, 4 bootss, Done. (0.017s)\n",
            "image 99/132 input_imgs/099.jpg: 320x512 4 hardhats, 10 vests, 1 bootss, Done. (0.017s)\n",
            "image 100/132 input_imgs/100.jpg: 320x512 4 hardhats, 15 vests, 1 bootss, Done. (0.016s)\n",
            "image 101/132 input_imgs/101.jpg: 320x512 4 hardhats, 12 vests, 1 masks, 1 bootss, Done. (0.017s)\n",
            "image 102/132 input_imgs/102.jpg: 320x512 5 hardhats, 11 vests, 3 bootss, Done. (0.017s)\n",
            "image 103/132 input_imgs/103.jpg: 320x512 4 hardhats, 11 vests, Done. (0.016s)\n",
            "image 104/132 input_imgs/104.jpg: 320x512 5 hardhats, 8 vests, 1 bootss, Done. (0.017s)\n",
            "image 105/132 input_imgs/105.jpg: 320x512 2 hardhats, 11 vests, 1 masks, 3 bootss, Done. (0.018s)\n",
            "image 106/132 input_imgs/106.jpg: 320x512 4 hardhats, 11 vests, 1 masks, 3 bootss, Done. (0.017s)\n",
            "image 107/132 input_imgs/107.jpg: 320x512 4 hardhats, 12 vests, 1 masks, 1 bootss, Done. (0.016s)\n",
            "image 108/132 input_imgs/108.jpg: 320x512 3 hardhats, 10 vests, 1 masks, 3 bootss, Done. (0.020s)\n",
            "image 109/132 input_imgs/109.jpg: 320x512 3 hardhats, 12 vests, 1 masks, Done. (0.016s)\n",
            "image 110/132 input_imgs/110.jpg: 320x512 5 hardhats, 13 vests, 1 masks, Done. (0.017s)\n",
            "image 111/132 input_imgs/111.jpg: 320x512 4 hardhats, 18 vests, 1 masks, Done. (0.017s)\n",
            "image 112/132 input_imgs/112.jpg: 320x512 6 hardhats, 12 vests, 1 masks, Done. (0.016s)\n",
            "image 113/132 input_imgs/113.jpg: 320x512 3 hardhats, 9 vests, 1 masks, Done. (0.017s)\n",
            "image 114/132 input_imgs/114.jpg: 320x512 5 hardhats, 11 vests, 1 masks, Done. (0.017s)\n",
            "image 115/132 input_imgs/115.jpg: 320x512 4 hardhats, 10 vests, 1 masks, 2 bootss, Done. (0.016s)\n",
            "image 116/132 input_imgs/116.jpg: 320x512 2 hardhats, 11 vests, 1 masks, Done. (0.017s)\n",
            "image 117/132 input_imgs/117.jpg: 320x512 4 hardhats, 8 vests, Done. (0.017s)\n",
            "image 118/132 input_imgs/118.jpg: 320x512 4 hardhats, 11 vests, 1 masks, 1 bootss, Done. (0.016s)\n",
            "image 119/132 input_imgs/119.jpg: 320x512 3 hardhats, 12 vests, 1 masks, Done. (0.017s)\n",
            "image 120/132 input_imgs/120.jpg: 320x512 4 hardhats, 8 vests, 1 masks, Done. (0.017s)\n",
            "image 121/132 input_imgs/121.jpg: 320x512 3 hardhats, 12 vests, 1 masks, 1 bootss, Done. (0.018s)\n",
            "image 122/132 input_imgs/122.jpg: 320x512 3 hardhats, 12 vests, 1 masks, 1 bootss, Done. (0.016s)\n",
            "image 123/132 input_imgs/123.jpg: 320x512 2 hardhats, 7 vests, 1 masks, Done. (0.016s)\n",
            "image 124/132 input_imgs/124.jpg: 320x512 3 hardhats, 9 vests, Done. (0.017s)\n",
            "image 125/132 input_imgs/125.jpg: 320x512 3 hardhats, 10 vests, Done. (0.018s)\n",
            "image 126/132 input_imgs/126.jpg: 320x512 4 hardhats, 12 vests, Done. (0.017s)\n",
            "image 127/132 input_imgs/127.jpg: 320x512 4 hardhats, 19 vests, 1 masks, Done. (0.016s)\n",
            "image 128/132 input_imgs/128.jpg: 320x512 5 hardhats, 17 vests, 2 masks, Done. (0.017s)\n",
            "image 129/132 input_imgs/129.jpg: 320x512 7 hardhats, 16 vests, 2 masks, 2 bootss, Done. (0.017s)\n",
            "image 130/132 input_imgs/130.jpg: 320x512 8 hardhats, 17 vests, 1 masks, Done. (0.016s)\n",
            "image 131/132 input_imgs/131.jpg: 320x512 6 hardhats, 17 vests, 1 masks, Done. (0.017s)\n",
            "image 132/132 input_imgs/132.jpg: 320x512 4 hardhats, 14 vests, 1 masks, 1 bootss, Done. (0.016s)\n",
            "Results saved to /content/YoloV3/out_out\n",
            "Done. (3.621s)\n"
          ],
          "name": "stdout"
        }
      ]
    },
    {
      "cell_type": "code",
      "metadata": {
        "id": "eaSbzlOh3XTB",
        "outputId": "98e5e5f8-3e70-4ad7-fb14-40e62fdbf73c",
        "colab": {
          "base_uri": "https://localhost:8080/",
          "height": 355
        }
      },
      "source": [
        "Image(filename='YoloV3/out_imgs/001.jpg', width=600)"
      ],
      "execution_count": 91,
      "outputs": [
        {
          "output_type": "execute_result",
          "data": {
            "image/jpeg": "[encoded data removed]",
            "text/plain": [
              "<IPython.core.display.Image object>"
            ]
          },
          "metadata": {
            "tags": [],
            "image/jpeg": {
              "width": 600
            }
          },
          "execution_count": 91
        }
      ]
    },
    {
      "cell_type": "markdown",
      "metadata": {
        "id": "c1m2AfwTS2ac"
      },
      "source": [
        "#### Merge frames and convert it to video"
      ]
    },
    {
      "cell_type": "code",
      "metadata": {
        "id": "M0FKXsZ-MAm1",
        "outputId": "f358b892-8aa3-45c8-daf2-5581dc58513b",
        "colab": {
          "base_uri": "https://localhost:8080/",
          "height": 887
        }
      },
      "source": [
        "!ffmpeg -r 10 -i YoloV3/out_imgs/%03d.jpg annotated_video.mp4"
      ],
      "execution_count": 92,
      "outputs": [
        {
          "output_type": "stream",
          "text": [
            "ffmpeg version 3.4.8-0ubuntu0.2 Copyright (c) 2000-2020 the FFmpeg developers\n",
            "  built with gcc 7 (Ubuntu 7.5.0-3ubuntu1~18.04)\n",
            "  configuration: --prefix=/usr --extra-version=0ubuntu0.2 --toolchain=hardened --libdir=/usr/lib/x86_64-linux-gnu --incdir=/usr/include/x86_64-linux-gnu --enable-gpl --disable-stripping --enable-avresample --enable-avisynth --enable-gnutls --enable-ladspa --enable-libass --enable-libbluray --enable-libbs2b --enable-libcaca --enable-libcdio --enable-libflite --enable-libfontconfig --enable-libfreetype --enable-libfribidi --enable-libgme --enable-libgsm --enable-libmp3lame --enable-libmysofa --enable-libopenjpeg --enable-libopenmpt --enable-libopus --enable-libpulse --enable-librubberband --enable-librsvg --enable-libshine --enable-libsnappy --enable-libsoxr --enable-libspeex --enable-libssh --enable-libtheora --enable-libtwolame --enable-libvorbis --enable-libvpx --enable-libwavpack --enable-libwebp --enable-libx265 --enable-libxml2 --enable-libxvid --enable-libzmq --enable-libzvbi --enable-omx --enable-openal --enable-opengl --enable-sdl2 --enable-libdc1394 --enable-libdrm --enable-libiec61883 --enable-chromaprint --enable-frei0r --enable-libopencv --enable-libx264 --enable-shared\n",
            "  libavutil      55. 78.100 / 55. 78.100\n",
            "  libavcodec     57.107.100 / 57.107.100\n",
            "  libavformat    57. 83.100 / 57. 83.100\n",
            "  libavdevice    57. 10.100 / 57. 10.100\n",
            "  libavfilter     6.107.100 /  6.107.100\n",
            "  libavresample   3.  7.  0 /  3.  7.  0\n",
            "  libswscale      4.  8.100 /  4.  8.100\n",
            "  libswresample   2.  9.100 /  2.  9.100\n",
            "  libpostproc    54.  7.100 / 54.  7.100\n",
            "Input #0, image2, from 'YoloV3/out_out/%03d.jpg':\n",
            "  Duration: 00:00:05.28, start: 0.000000, bitrate: N/A\n",
            "    Stream #0:0: Video: mjpeg, yuvj420p(pc, bt470bg/unknown/unknown), 426x240 [SAR 1:1 DAR 71:40], 25 fps, 25 tbr, 25 tbn, 25 tbc\n",
            "Stream mapping:\n",
            "  Stream #0:0 -> #0:0 (mjpeg (native) -> h264 (libx264))\n",
            "Press [q] to stop, [?] for help\n",
            "\u001b[1;36m[libx264 @ 0x55cd86083e00] \u001b[0musing SAR=1/1\n",
            "\u001b[1;36m[libx264 @ 0x55cd86083e00] \u001b[0musing cpu capabilities: MMX2 SSE2Fast SSSE3 SSE4.2 AVX FMA3 BMI2 AVX2\n",
            "\u001b[1;36m[libx264 @ 0x55cd86083e00] \u001b[0mprofile High, level 2.1\n",
            "\u001b[1;36m[libx264 @ 0x55cd86083e00] \u001b[0m264 - core 152 r2854 e9a5903 - H.264/MPEG-4 AVC codec - Copyleft 2003-2017 - http://www.videolan.org/x264.html - options: cabac=1 ref=3 deblock=1:0:0 analyse=0x3:0x113 me=hex subme=7 psy=1 psy_rd=1.00:0.00 mixed_ref=1 me_range=16 chroma_me=1 trellis=1 8x8dct=1 cqm=0 deadzone=21,11 fast_pskip=1 chroma_qp_offset=-2 threads=3 lookahead_threads=1 sliced_threads=0 nr=0 decimate=1 interlaced=0 bluray_compat=0 constrained_intra=0 bframes=3 b_pyramid=2 b_adapt=1 b_bias=0 direct=1 weightb=1 open_gop=0 weightp=2 keyint=250 keyint_min=10 scenecut=40 intra_refresh=0 rc_lookahead=40 rc=crf mbtree=1 crf=23.0 qcomp=0.60 qpmin=0 qpmax=69 qpstep=4 ip_ratio=1.40 aq=1:1.00\n",
            "Output #0, mp4, to 'out.mp4':\n",
            "  Metadata:\n",
            "    encoder         : Lavf57.83.100\n",
            "    Stream #0:0: Video: h264 (libx264) (avc1 / 0x31637661), yuvj420p(pc), 426x240 [SAR 1:1 DAR 71:40], q=-1--1, 10 fps, 10240 tbn, 10 tbc\n",
            "    Metadata:\n",
            "      encoder         : Lavc57.107.100 libx264\n",
            "    Side data:\n",
            "      cpb: bitrate max/min/avg: 0/0/0 buffer size: 0 vbv_delay: -1\n",
            "frame=  132 fps= 64 q=-1.0 Lsize=    1172kB time=00:00:12.90 bitrate= 744.1kbits/s speed=6.26x    \n",
            "video:1169kB audio:0kB subtitle:0kB other streams:0kB global headers:0kB muxing overhead: 0.201103%\n",
            "\u001b[1;36m[libx264 @ 0x55cd86083e00] \u001b[0mframe I:2     Avg QP:23.38  size: 15338\n",
            "\u001b[1;36m[libx264 @ 0x55cd86083e00] \u001b[0mframe P:36    Avg QP:25.30  size: 11127\n",
            "\u001b[1;36m[libx264 @ 0x55cd86083e00] \u001b[0mframe B:94    Avg QP:27.12  size:  8143\n",
            "\u001b[1;36m[libx264 @ 0x55cd86083e00] \u001b[0mconsecutive B-frames:  3.0%  3.0%  9.1% 84.8%\n",
            "\u001b[1;36m[libx264 @ 0x55cd86083e00] \u001b[0mmb I  I16..4: 13.1% 58.5% 28.4%\n",
            "\u001b[1;36m[libx264 @ 0x55cd86083e00] \u001b[0mmb P  I16..4:  8.4% 44.3% 16.9%  P16..4:  9.0% 11.1%  9.9%  0.0%  0.0%    skip: 0.4%\n",
            "\u001b[1;36m[libx264 @ 0x55cd86083e00] \u001b[0mmb B  I16..4:  3.1% 19.2%  9.1%  B16..8: 16.3% 21.3% 16.1%  direct:10.9%  skip: 4.0%  L0:44.2% L1:35.1% BI:20.6%\n",
            "\u001b[1;36m[libx264 @ 0x55cd86083e00] \u001b[0m8x8 transform intra:62.2% inter:67.9%\n",
            "\u001b[1;36m[libx264 @ 0x55cd86083e00] \u001b[0mcoded y,uvDC,uvAC intra: 78.1% 90.4% 50.9% inter: 61.9% 66.1% 39.1%\n",
            "\u001b[1;36m[libx264 @ 0x55cd86083e00] \u001b[0mi16 v,h,dc,p: 43% 30% 26%  1%\n",
            "\u001b[1;36m[libx264 @ 0x55cd86083e00] \u001b[0mi8 v,h,dc,ddl,ddr,vr,hd,vl,hu: 30% 17% 37%  4%  1%  2%  1%  2%  6%\n",
            "\u001b[1;36m[libx264 @ 0x55cd86083e00] \u001b[0mi4 v,h,dc,ddl,ddr,vr,hd,vl,hu: 40% 25% 12%  3%  4%  4%  4%  4%  4%\n",
            "\u001b[1;36m[libx264 @ 0x55cd86083e00] \u001b[0mi8c dc,h,v,p: 28% 28% 38%  5%\n",
            "\u001b[1;36m[libx264 @ 0x55cd86083e00] \u001b[0mWeighted P-Frames: Y:36.1% UV:19.4%\n",
            "\u001b[1;36m[libx264 @ 0x55cd86083e00] \u001b[0mref P L0: 45.5% 15.5% 19.6% 13.9%  5.4%\n",
            "\u001b[1;36m[libx264 @ 0x55cd86083e00] \u001b[0mref B L0: 82.4% 13.8%  3.8%\n",
            "\u001b[1;36m[libx264 @ 0x55cd86083e00] \u001b[0mref B L1: 93.9%  6.1%\n",
            "\u001b[1;36m[libx264 @ 0x55cd86083e00] \u001b[0mkb/s:725.28\n"
          ],
          "name": "stdout"
        }
      ]
    }
  ]
}