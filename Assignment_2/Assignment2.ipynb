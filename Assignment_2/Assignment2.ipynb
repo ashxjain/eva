{
  "nbformat": 4,
  "nbformat_minor": 0,
  "metadata": {
    "colab": {
      "name": "Assignment2.ipynb",
      "version": "0.3.2",
      "provenance": [],
      "collapsed_sections": []
    },
    "kernelspec": {
      "name": "python3",
      "display_name": "Python 3"
    },
    "accelerator": "GPU"
  },
  "cells": [
    {
      "cell_type": "markdown",
      "metadata": {
        "id": "-nJ7YEw_vyjG",
        "colab_type": "text"
      },
      "source": [
        "# **Not an ideal network**"
      ]
    },
    {
      "cell_type": "code",
      "metadata": {
        "id": "kGWv5hBhv2jf",
        "colab_type": "code",
        "colab": {
          "base_uri": "https://localhost:8080/",
          "height": 34
        },
        "outputId": "dffbde9b-55f8-429b-9abb-1955ddd53e62"
      },
      "source": [
        "# \n",
        "# As Colab doesn't come with keras pre-installed,\n",
        "# following installs keras\n",
        "#\n",
        "\n",
        "# https://keras.io/\n",
        "!pip install -q keras\n",
        "import keras"
      ],
      "execution_count": 1,
      "outputs": [
        {
          "output_type": "stream",
          "text": [
            "Using TensorFlow backend.\n"
          ],
          "name": "stderr"
        }
      ]
    },
    {
      "cell_type": "code",
      "metadata": {
        "id": "wnMlDJQKv4VG",
        "colab_type": "code",
        "colab": {}
      },
      "source": [
        "#\n",
        "# Import necessary modules required to build/compile/run\n",
        "# the convolutional network\n",
        "#\n",
        "import numpy as np\n",
        "\n",
        "from keras.models import Sequential\n",
        "from keras.layers import Flatten\n",
        "from keras.layers import Convolution2D\n",
        "from keras.utils import np_utils\n",
        "\n",
        "from keras.datasets import mnist"
      ],
      "execution_count": 0,
      "outputs": []
    },
    {
      "cell_type": "code",
      "metadata": {
        "id": "8CdSu2lMwB9s",
        "colab_type": "code",
        "colab": {
          "base_uri": "https://localhost:8080/",
          "height": 52
        },
        "outputId": "6bfce56e-f591-4968-b918-26a7f7a5f472"
      },
      "source": [
        "#\n",
        "# Load dataset into memory\n",
        "#\n",
        "# Dataset is divided into Training & Test data\n",
        "#\n",
        "# MNIST is a handwritten number dataset, which already\n",
        "# comes with dataset divided into training & test\n",
        "#\n",
        "\n",
        "(X_train, y_train), (X_test, y_test) = mnist.load_data()"
      ],
      "execution_count": 3,
      "outputs": [
        {
          "output_type": "stream",
          "text": [
            "Downloading data from https://s3.amazonaws.com/img-datasets/mnist.npz\n",
            "11493376/11490434 [==============================] - 1s 0us/step\n"
          ],
          "name": "stdout"
        }
      ]
    },
    {
      "cell_type": "code",
      "metadata": {
        "id": "tLaDf0-rwCmj",
        "colab_type": "code",
        "colab": {
          "base_uri": "https://localhost:8080/",
          "height": 304
        },
        "outputId": "f8413773-4588-4420-9da1-f7f1d77fff40"
      },
      "source": [
        "#\n",
        "# It is always better to play with dataset first\n",
        "# to know more details about it\n",
        "#\n",
        "# Like below, we print the shape of the training set\n",
        "# i.e. it shows the total count of images and the\n",
        "# size of each image\n",
        "# (60000, 28, 28) => 60000 images of size 28x28\n",
        "#\n",
        "# We also plot the image using matplotlib's imshow func\n",
        "# to get a visual understanding of the dataset\n",
        "#\n",
        "\n",
        "print (X_train.shape)\n",
        "from matplotlib import pyplot as plt\n",
        "%matplotlib inline\n",
        "plt.imshow(X_train[0])"
      ],
      "execution_count": 4,
      "outputs": [
        {
          "output_type": "stream",
          "text": [
            "(60000, 28, 28)\n"
          ],
          "name": "stdout"
        },
        {
          "output_type": "execute_result",
          "data": {
            "text/plain": [
              "<matplotlib.image.AxesImage at 0x7ff13694f630>"
            ]
          },
          "metadata": {
            "tags": []
          },
          "execution_count": 4
        },
        {
          "output_type": "display_data",
          "data": {
            "image/png": "[encoded data removed]",
            "text/plain": [
              "<Figure size 432x288 with 1 Axes>"
            ]
          },
          "metadata": {
            "tags": []
          }
        }
      ]
    },
    {
      "cell_type": "code",
      "metadata": {
        "id": "erb11jNwwFwl",
        "colab_type": "code",
        "colab": {}
      },
      "source": [
        "#\n",
        "# Keras requires input dataset to be in a certain format\n",
        "# i.e. it needs 3 axes to be present, 2 for size and\n",
        "# 1 for number of channels\n",
        "#\n",
        "# Since this is a grayscale image, number of channels will\n",
        "# be 1. And hence we use `reshape` function to add another\n",
        "# axes\n",
        "#\n",
        "# This is done for all the data: training & test\n",
        "#\n",
        "\n",
        "X_train = X_train.reshape(X_train.shape[0], 28, 28,1)\n",
        "X_test = X_test.reshape(X_test.shape[0], 28, 28,1)"
      ],
      "execution_count": 0,
      "outputs": []
    },
    {
      "cell_type": "code",
      "metadata": {
        "id": "RLK4YDoRwHet",
        "colab_type": "code",
        "colab": {}
      },
      "source": [
        "#\n",
        "# A neural network learns its weights by continuously adding\n",
        "# gradient error vectors (multiplied by a learning rate)\n",
        "# computed from backpropagation as it is trained\n",
        "#\n",
        "# With current dataset, the ranges of distribution of values\n",
        "# will vary a lot and if they are not normalized the gradient\n",
        "# descent algorithm will oscillate a lot to figure out better\n",
        "# minima\n",
        "#\n",
        "# Hence, datasets are usually normalized to a smaller range.\n",
        "# In this case, they are divided by max pixel value which is 255\n",
        "# Since division is performed all values are initially converted\n",
        "# to float\n",
        "#\n",
        "\n",
        "X_train = X_train.astype('float32')\n",
        "X_test = X_test.astype('float32')\n",
        "X_train /= 255\n",
        "X_test /= 255"
      ],
      "execution_count": 0,
      "outputs": []
    },
    {
      "cell_type": "code",
      "metadata": {
        "id": "JNKLOmhlwJQl",
        "colab_type": "code",
        "colab": {
          "base_uri": "https://localhost:8080/",
          "height": 34
        },
        "outputId": "6855eee0-e505-4d0f-f06e-980a67af9ffb"
      },
      "source": [
        "#\n",
        "# We must look at how dataset output is encoded and convert it to\n",
        "# a format required by Keras\n",
        "#\n",
        "# As we can see below, dataset output is direct value for the image\n",
        "# If image is number 5, output value is 5\n",
        "#\n",
        "\n",
        "y_train[:10]"
      ],
      "execution_count": 7,
      "outputs": [
        {
          "output_type": "execute_result",
          "data": {
            "text/plain": [
              "array([5, 0, 4, 1, 9, 2, 1, 3, 1, 4], dtype=uint8)"
            ]
          },
          "metadata": {
            "tags": []
          },
          "execution_count": 7
        }
      ]
    },
    {
      "cell_type": "code",
      "metadata": {
        "id": "YusMJguiwKsM",
        "colab_type": "code",
        "colab": {}
      },
      "source": [
        "#\n",
        "# Convert 1-dimensional class arrays to 10-dimensional class matrices\n",
        "# \n",
        "# As the network will map the input image of size 28x28x1 to an output\n",
        "# of size 10x1, we need to encode the output values to a 10-dim class\n",
        "#\n",
        "# Each index of 10x1 array, indicates a number.\n",
        "# For Ex: \n",
        "#     5 is encoded as [0., 0., 0., 0., 0., 1., 0., 0., 0., 0.]\n",
        "#\n",
        "\n",
        "Y_train = np_utils.to_categorical(y_train, 10)\n",
        "Y_test = np_utils.to_categorical(y_test, 10)"
      ],
      "execution_count": 0,
      "outputs": []
    },
    {
      "cell_type": "code",
      "metadata": {
        "id": "upxc99AswMW0",
        "colab_type": "code",
        "colab": {
          "base_uri": "https://localhost:8080/",
          "height": 191
        },
        "outputId": "c6f5e142-9daf-4363-a2e1-609b5c063f55"
      },
      "source": [
        "#\n",
        "# Here's how our output values looks like after encoding\n",
        "# it to 10-dimensional class\n",
        "#\n",
        "# Following shows first 10 output values\n",
        "#\n",
        "\n",
        "Y_train[:10]\n"
      ],
      "execution_count": 13,
      "outputs": [
        {
          "output_type": "execute_result",
          "data": {
            "text/plain": [
              "array([[0., 0., 0., 0., 0., 1., 0., 0., 0., 0.],\n",
              "       [1., 0., 0., 0., 0., 0., 0., 0., 0., 0.],\n",
              "       [0., 0., 0., 0., 1., 0., 0., 0., 0., 0.],\n",
              "       [0., 1., 0., 0., 0., 0., 0., 0., 0., 0.],\n",
              "       [0., 0., 0., 0., 0., 0., 0., 0., 0., 1.],\n",
              "       [0., 0., 1., 0., 0., 0., 0., 0., 0., 0.],\n",
              "       [0., 1., 0., 0., 0., 0., 0., 0., 0., 0.],\n",
              "       [0., 0., 0., 1., 0., 0., 0., 0., 0., 0.],\n",
              "       [0., 1., 0., 0., 0., 0., 0., 0., 0., 0.],\n",
              "       [0., 0., 0., 0., 1., 0., 0., 0., 0., 0.]], dtype=float32)"
            ]
          },
          "metadata": {
            "tags": []
          },
          "execution_count": 13
        }
      ]
    },
    {
      "cell_type": "code",
      "metadata": {
        "id": "irTVUE47wNwr",
        "colab_type": "code",
        "colab": {
          "base_uri": "https://localhost:8080/",
          "height": 714
        },
        "outputId": "ad2d5af0-8900-48c8-d0d4-33a5ae528efa"
      },
      "source": [
        "#\n",
        "# Import required modules to build the network\n",
        "#\n",
        "\n",
        "from keras.layers import Activation, MaxPooling2D\n",
        "\n",
        "#\n",
        "# We are building a Sequential network i.e. a network\n",
        "# with sequential layers of convolution, max-pooling &\n",
        "# activation layers\n",
        "# There are no skip connections or branches involved here\n",
        "#\n",
        "# We are just building the network here\n",
        "# To actually run it, we will need to compile it first\n",
        "#\n",
        "\n",
        "model = Sequential()\n",
        "\n",
        "#\n",
        "# Following is block of two layers:\n",
        "#  * A convolutional layer with 32 Kernels of size (3x3x1)\n",
        "#  * Followed by an Activation layer of type `relu` (allows only postive values)\n",
        "#\n",
        "# This outputs a image with 32 channels\n",
        "# \n",
        "# Since this is the first layer, input_shape should be specified\n",
        "#\n",
        "\n",
        "# Input Dim: 28x28x1\n",
        "model.add(Convolution2D(32, 3, 3, activation='relu', input_shape=(28,28,1)))\n",
        "# Global Receptive Field: 3x3\n",
        "\n",
        "#\n",
        "# Following takes input from previous layer and hence we don't have\n",
        "# to specify the input_shape here\n",
        "#\n",
        "# This is also block of two layers as mentioned earlier\n",
        "#\n",
        "# Here the number of kernels is 64, each of size 3x3x32\n",
        "#\n",
        "# Same explanation goes for the layer following it, with number\n",
        "# of kernels = 128, each of size 3x3x64\n",
        "#\n",
        "\n",
        "# Input Dim: 26x26x32\n",
        "model.add(Convolution2D(64, 3, 3, activation='relu'))\n",
        "# Global Receptive Field: 5x5\n",
        "\n",
        "# Input Dim: 24x24x64\n",
        "model.add(Convolution2D(128, 3, 3, activation='relu'))\n",
        "# Global Receptive Field: 7x7\n",
        "\n",
        "#\n",
        "# Following is max-pooling layer, it used to reduce the channel\n",
        "# size. It also groups common features together. This helps\n",
        "# greatly in reducing the number of parameters and hence making\n",
        "# it more faster and compute efficient\n",
        "#\n",
        "# We usually max-pool over 2x2 pixel\n",
        "#\n",
        "# Also this layer is commonly added after initial few layers\n",
        "#\n",
        "\n",
        "# Input Dim: 22x22x128\n",
        "model.add(MaxPooling2D(pool_size=(2, 2)))\n",
        "# Global Receptive Field: 8x8\n",
        "\n",
        "#\n",
        "# Same explanation goes for the following layers as mentioned above\n",
        "# \n",
        "\n",
        "# Input Dim: 11x11x128\n",
        "model.add(Convolution2D(256, 3, 3, activation='relu'))\n",
        "# Global Receptive Field: 12x12\n",
        "\n",
        "# Input Dim: 9x9x256\n",
        "model.add(Convolution2D(512, 3, 3, activation='relu'))\n",
        "# Global Receptive Field: 16x16\n",
        "\n",
        "# Input Dim: 7x7x512\n",
        "model.add(Convolution2D(1024, 3, 3, activation='relu'))\n",
        "# Global Receptive Field: 20x20\n",
        "\n",
        "# Input Dim: 5x5x1024\n",
        "model.add(Convolution2D(2048, 3, 3, activation='relu'))\n",
        "# Global Receptive Field: 24x24\n",
        "\n",
        "#\n",
        "# As we need 10 classes, we do a convolution of 3x3 (10) \n",
        "#\n",
        "\n",
        "# Input Dim: 3x3x2048\n",
        "model.add(Convolution2D(10, 3, 3, activation='relu'))\n",
        "# Global Receptive Field: 28x28\n",
        "\n",
        "#\n",
        "# Since the output will be in matrix format, it needs to be\n",
        "# flattened into an array\n",
        "#\n",
        "\n",
        "# Input Dim: 1x1x10\n",
        "model.add(Flatten())\n",
        "\n",
        "#\n",
        "# Finally Softmax to convert the output to probability distribution\n",
        "# so that we get the most confident value as our output value\n",
        "#\n",
        "\n",
        "# Input Dim: 1x10\n",
        "model.add(Activation('softmax'))\n",
        "\n",
        "#\n",
        "# We have built the network, to see how our network looks, number of\n",
        "# params required etc, we use the following function\n",
        "#\n",
        "\n",
        "model.summary()"
      ],
      "execution_count": 20,
      "outputs": [
        {
          "output_type": "stream",
          "text": [
            "_________________________________________________________________\n",
            "Layer (type)                 Output Shape              Param #   \n",
            "=================================================================\n",
            "conv2d_9 (Conv2D)            (None, 26, 26, 32)        320       \n",
            "_________________________________________________________________\n",
            "conv2d_10 (Conv2D)           (None, 24, 24, 64)        18496     \n",
            "_________________________________________________________________\n",
            "conv2d_11 (Conv2D)           (None, 22, 22, 128)       73856     \n",
            "_________________________________________________________________\n",
            "max_pooling2d_2 (MaxPooling2 (None, 11, 11, 128)       0         \n",
            "_________________________________________________________________\n",
            "conv2d_12 (Conv2D)           (None, 9, 9, 256)         295168    \n",
            "_________________________________________________________________\n",
            "conv2d_13 (Conv2D)           (None, 7, 7, 512)         1180160   \n",
            "_________________________________________________________________\n",
            "conv2d_14 (Conv2D)           (None, 5, 5, 1024)        4719616   \n",
            "_________________________________________________________________\n",
            "conv2d_15 (Conv2D)           (None, 3, 3, 2048)        18876416  \n",
            "_________________________________________________________________\n",
            "conv2d_16 (Conv2D)           (None, 1, 1, 10)          184330    \n",
            "_________________________________________________________________\n",
            "flatten_2 (Flatten)          (None, 10)                0         \n",
            "_________________________________________________________________\n",
            "activation_2 (Activation)    (None, 10)                0         \n",
            "=================================================================\n",
            "Total params: 25,348,362\n",
            "Trainable params: 25,348,362\n",
            "Non-trainable params: 0\n",
            "_________________________________________________________________\n"
          ],
          "name": "stdout"
        },
        {
          "output_type": "stream",
          "text": [
            "/usr/local/lib/python3.6/dist-packages/ipykernel_launcher.py:15: UserWarning: Update your `Conv2D` call to the Keras 2 API: `Conv2D(32, (3, 3), activation=\"relu\", input_shape=(28, 28, 1...)`\n",
            "  from ipykernel import kernelapp as app\n",
            "/usr/local/lib/python3.6/dist-packages/ipykernel_launcher.py:16: UserWarning: Update your `Conv2D` call to the Keras 2 API: `Conv2D(64, (3, 3), activation=\"relu\")`\n",
            "  app.launch_new_instance()\n",
            "/usr/local/lib/python3.6/dist-packages/ipykernel_launcher.py:17: UserWarning: Update your `Conv2D` call to the Keras 2 API: `Conv2D(128, (3, 3), activation=\"relu\")`\n",
            "/usr/local/lib/python3.6/dist-packages/ipykernel_launcher.py:21: UserWarning: Update your `Conv2D` call to the Keras 2 API: `Conv2D(256, (3, 3), activation=\"relu\")`\n",
            "/usr/local/lib/python3.6/dist-packages/ipykernel_launcher.py:22: UserWarning: Update your `Conv2D` call to the Keras 2 API: `Conv2D(512, (3, 3), activation=\"relu\")`\n",
            "/usr/local/lib/python3.6/dist-packages/ipykernel_launcher.py:23: UserWarning: Update your `Conv2D` call to the Keras 2 API: `Conv2D(1024, (3, 3), activation=\"relu\")`\n",
            "/usr/local/lib/python3.6/dist-packages/ipykernel_launcher.py:24: UserWarning: Update your `Conv2D` call to the Keras 2 API: `Conv2D(2048, (3, 3), activation=\"relu\")`\n",
            "/usr/local/lib/python3.6/dist-packages/ipykernel_launcher.py:25: UserWarning: Update your `Conv2D` call to the Keras 2 API: `Conv2D(10, (3, 3), activation=\"relu\")`\n"
          ],
          "name": "stderr"
        }
      ]
    },
    {
      "cell_type": "code",
      "metadata": {
        "id": "VYZOpRb6yG7_",
        "colab_type": "code",
        "colab": {}
      },
      "source": [
        "#\n",
        "# Above model must be compiled inorder to train our dataset\n",
        "#\n",
        "# As part of compilation we can specific how our network should\n",
        "# be trained and how it should be interpreted\n",
        "#\n",
        "# Loss = Loss function used in backpropation\n",
        "# Optimizer = Gradient Descent algorithm used in backpropagation\n",
        "# Metric = Metric to be considered for evaluation network performance\n",
        "#          In this case, `accuracy`. If we accuracy increases after each\n",
        "#          epoch then we are in right direction, if decreases then something\n",
        "#          is wrong with the network. If constant, then we con stop the training\n",
        "#\n",
        "\n",
        "model.compile(loss='categorical_crossentropy',\n",
        "             optimizer='adam',\n",
        "             metrics=['accuracy'])"
      ],
      "execution_count": 0,
      "outputs": []
    },
    {
      "cell_type": "code",
      "metadata": {
        "id": "5O248wVQyMft",
        "colab_type": "code",
        "colab": {
          "base_uri": "https://localhost:8080/",
          "height": 489
        },
        "outputId": "41a06837-7bff-47a8-8ab4-65e2ab564628"
      },
      "source": [
        "#\n",
        "# Now that the model is ready and compiled, we can start training it\n",
        "#\n",
        "# We fit function with following arguments to it:\n",
        "#  * X_train, Y_train = Training dataset\n",
        "#  * batch_size = At a time how many images should be passed to the network.\n",
        "#                 If we pass single image, then our network will learn only\n",
        "#                 about that image, and on passing other image it'll forget what\n",
        "#                 it learnt earlier. Hence we pass a batch of images selected at\n",
        "#                 random\n",
        "#  * nb_epoch = Number of times a batch of different images is to be passed.\n",
        "#               Number of epoch is set based on trial & error, once we see that\n",
        "#               the accuracy is constant and not changing much we fix the epoch\n",
        "#               value\n",
        "#\n",
        "\n",
        "model.fit(X_train, Y_train, batch_size=32, nb_epoch=10, verbose=1)"
      ],
      "execution_count": 15,
      "outputs": [
        {
          "output_type": "stream",
          "text": [
            "WARNING:tensorflow:From /usr/local/lib/python3.6/dist-packages/tensorflow/python/ops/math_ops.py:3066: to_int32 (from tensorflow.python.ops.math_ops) is deprecated and will be removed in a future version.\n",
            "Instructions for updating:\n",
            "Use tf.cast instead.\n"
          ],
          "name": "stdout"
        },
        {
          "output_type": "stream",
          "text": [
            "/usr/local/lib/python3.6/dist-packages/ipykernel_launcher.py:1: UserWarning: The `nb_epoch` argument in `fit` has been renamed `epochs`.\n",
            "  \"\"\"Entry point for launching an IPython kernel.\n"
          ],
          "name": "stderr"
        },
        {
          "output_type": "stream",
          "text": [
            "Epoch 1/10\n",
            "60000/60000 [==============================] - 115s 2ms/step - loss: 2.1164 - acc: 0.1886\n",
            "Epoch 2/10\n",
            "60000/60000 [==============================] - 112s 2ms/step - loss: 2.2715 - acc: 0.1131\n",
            "Epoch 3/10\n",
            "60000/60000 [==============================] - 112s 2ms/step - loss: 2.3026 - acc: 0.0987\n",
            "Epoch 4/10\n",
            "60000/60000 [==============================] - 113s 2ms/step - loss: 2.3026 - acc: 0.0987\n",
            "Epoch 5/10\n",
            "60000/60000 [==============================] - 113s 2ms/step - loss: 2.3026 - acc: 0.0987\n",
            "Epoch 6/10\n",
            "60000/60000 [==============================] - 113s 2ms/step - loss: 2.3026 - acc: 0.0987\n",
            "Epoch 7/10\n",
            "60000/60000 [==============================] - 113s 2ms/step - loss: 2.3026 - acc: 0.0987\n",
            "Epoch 8/10\n",
            "60000/60000 [==============================] - 113s 2ms/step - loss: 2.3026 - acc: 0.0987\n",
            "Epoch 9/10\n",
            "60000/60000 [==============================] - 113s 2ms/step - loss: 2.3026 - acc: 0.0987\n",
            "Epoch 10/10\n",
            "60000/60000 [==============================] - 113s 2ms/step - loss: 2.3026 - acc: 0.0987\n"
          ],
          "name": "stdout"
        },
        {
          "output_type": "execute_result",
          "data": {
            "text/plain": [
              "<keras.callbacks.History at 0x7ff1336c6cc0>"
            ]
          },
          "metadata": {
            "tags": []
          },
          "execution_count": 15
        }
      ]
    },
    {
      "cell_type": "code",
      "metadata": {
        "id": "Sst4KneiyOL5",
        "colab_type": "code",
        "colab": {}
      },
      "source": [
        "#\n",
        "# Evaluate function is used to run test data on the trained network\n",
        "# And get the score of how it performed on test data\n",
        "#\n",
        "\n",
        "score = model.evaluate(X_test, Y_test, verbose=0)"
      ],
      "execution_count": 0,
      "outputs": []
    },
    {
      "cell_type": "code",
      "metadata": {
        "id": "CfJiXOKsyj4y",
        "colab_type": "code",
        "colab": {
          "base_uri": "https://localhost:8080/",
          "height": 34
        },
        "outputId": "cf1bf693-aa16-4ba7-bb74-87e3f78b7753"
      },
      "source": [
        "#\n",
        "# evaluate outputs two values:\n",
        "#  * loss value\n",
        "#  * accuracy\n",
        "#\n",
        "# Above shows how does the network performs on unseen data\n",
        "#\n",
        "\n",
        "print(score)"
      ],
      "execution_count": 17,
      "outputs": [
        {
          "output_type": "stream",
          "text": [
            "[2.3025851249694824, 0.098]\n"
          ],
          "name": "stdout"
        }
      ]
    },
    {
      "cell_type": "code",
      "metadata": {
        "id": "hwLSXt7nyn_0",
        "colab_type": "code",
        "colab": {}
      },
      "source": [
        "#\n",
        "# We can now input an unseen image to the network\n",
        "# and see what value it predicts\n",
        "#\n",
        "\n",
        "y_pred = model.predict(X_test)"
      ],
      "execution_count": 0,
      "outputs": []
    },
    {
      "cell_type": "code",
      "metadata": {
        "id": "WWKKoOKwyppN",
        "colab_type": "code",
        "colab": {
          "base_uri": "https://localhost:8080/",
          "height": 191
        },
        "outputId": "cded4764-76c2-4353-906a-e9c6b23b4f19"
      },
      "source": [
        "#\n",
        "# As seen below, network predicted output donot match actual output\n",
        "# This is because the network is badly designed\n",
        "#\n",
        "\n",
        "print(y_pred[:9])\n",
        "print(y_test[:9])"
      ],
      "execution_count": 19,
      "outputs": [
        {
          "output_type": "stream",
          "text": [
            "[[0.1 0.1 0.1 0.1 0.1 0.1 0.1 0.1 0.1 0.1]\n",
            " [0.1 0.1 0.1 0.1 0.1 0.1 0.1 0.1 0.1 0.1]\n",
            " [0.1 0.1 0.1 0.1 0.1 0.1 0.1 0.1 0.1 0.1]\n",
            " [0.1 0.1 0.1 0.1 0.1 0.1 0.1 0.1 0.1 0.1]\n",
            " [0.1 0.1 0.1 0.1 0.1 0.1 0.1 0.1 0.1 0.1]\n",
            " [0.1 0.1 0.1 0.1 0.1 0.1 0.1 0.1 0.1 0.1]\n",
            " [0.1 0.1 0.1 0.1 0.1 0.1 0.1 0.1 0.1 0.1]\n",
            " [0.1 0.1 0.1 0.1 0.1 0.1 0.1 0.1 0.1 0.1]\n",
            " [0.1 0.1 0.1 0.1 0.1 0.1 0.1 0.1 0.1 0.1]]\n",
            "[7 2 1 0 4 1 4 9 5]\n"
          ],
          "name": "stdout"
        }
      ]
    },
    {
      "cell_type": "markdown",
      "metadata": {
        "id": "zHPTud-lePNc",
        "colab_type": "text"
      },
      "source": [
        "### Why is the model not performing well?\n",
        " * High number of parameters: There are so many layers with increased number of channels. Also there is only one max-pooling layer used to reduce channel size. This introduces high number of parameters causing the network to learn slower and needs high compute capacity. It needs much longer time & higher epochs to train\n",
        " * Lesser epoch value: Since there are so many parameters, network can't be trained with just 10 epochs\n",
        " * Less number of max pooling layers: With appropriate number of max-pooling layers ( in this network 2 would be ideal), network learns faster and can perform much better"
      ]
    }
  ]
}