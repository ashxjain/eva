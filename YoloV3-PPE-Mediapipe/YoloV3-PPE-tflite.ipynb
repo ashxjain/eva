{
  "nbformat": 4,
  "nbformat_minor": 0,
  "metadata": {
    "colab": {
      "name": "Copy of YoloV3PPE_179.ipynb",
      "provenance": [],
      "collapsed_sections": []
    },
    "kernelspec": {
      "name": "python3",
      "display_name": "Python 3"
    },
    "accelerator": "GPU"
  },
  "cells": [
    {
      "cell_type": "code",
      "metadata": {
        "id": "dFa1C2XDwcMP",
        "outputId": "2d2b6d13-172e-4912-8c61-1b49454657de",
        "colab": {
          "base_uri": "https://localhost:8080/",
          "height": 136
        }
      },
      "source": [
        "!git clone https://github.com/ashxjain/YoloV3.git"
      ],
      "execution_count": null,
      "outputs": [
        {
          "output_type": "stream",
          "text": [
            "Cloning into 'YoloV3'...\n",
            "remote: Enumerating objects: 3, done.\u001b[K\n",
            "remote: Counting objects: 100% (3/3), done.\u001b[K\n",
            "remote: Compressing objects: 100% (3/3), done.\u001b[K\n",
            "remote: Total 159 (delta 0), reused 1 (delta 0), pack-reused 156\u001b[K\n",
            "Receiving objects: 100% (159/159), 12.75 MiB | 9.61 MiB/s, done.\n",
            "Resolving deltas: 100% (7/7), done.\n"
          ],
          "name": "stdout"
        }
      ]
    },
    {
      "cell_type": "code",
      "metadata": {
        "id": "Dm2pvUNCzEY9",
        "outputId": "247b256c-6832-4240-eb02-6bb3d026c018",
        "colab": {
          "base_uri": "https://localhost:8080/",
          "height": 34
        }
      },
      "source": [
        "from google.colab import drive\n",
        "drive.mount('/content/drive')"
      ],
      "execution_count": null,
      "outputs": [
        {
          "output_type": "stream",
          "text": [
            "Mounted at /content/drive\n"
          ],
          "name": "stdout"
        }
      ]
    },
    {
      "cell_type": "code",
      "metadata": {
        "id": "oJWPCDSv0gw3",
        "outputId": "c9aa0456-d83b-4c7a-b6e8-ae0b400b0503",
        "colab": {
          "base_uri": "https://localhost:8080/",
          "height": 34
        }
      },
      "source": [
        "import time\n",
        "import glob\n",
        "import torch\n",
        "import os\n",
        "\n",
        "from IPython.display import Image, clear_output \n",
        "print('PyTorch %s %s' % (torch.__version__, torch.cuda.get_device_properties(0) if torch.cuda.is_available() else 'CPU'))"
      ],
      "execution_count": null,
      "outputs": [
        {
          "output_type": "stream",
          "text": [
            "PyTorch 1.6.0+cu101 _CudaDeviceProperties(name='Tesla K80', major=3, minor=7, total_memory=11441MB, multi_processor_count=13)\n"
          ],
          "name": "stdout"
        }
      ]
    },
    {
      "cell_type": "code",
      "metadata": {
        "id": "c5LJYRxG02VQ",
        "outputId": "a43c58eb-2bb5-49f9-aeca-49f5010c3a30",
        "colab": {
          "base_uri": "https://localhost:8080/",
          "height": 34
        }
      },
      "source": [
        "!ls -altrh drive/My\\ Drive/EVA/Datasets/YoloV3-PPE/YoloV3_Dataset.zip"
      ],
      "execution_count": null,
      "outputs": [
        {
          "output_type": "stream",
          "text": [
            "-rw------- 1 root root 265M Oct 22 16:16 'drive/My Drive/EVA/Datasets/YoloV3-PPE/YoloV3_Dataset.zip'\n"
          ],
          "name": "stdout"
        }
      ]
    },
    {
      "cell_type": "markdown",
      "metadata": {
        "id": "saSou5VlZf-I"
      },
      "source": [
        "### Custom dataset - Setup appropriate files for training"
      ]
    },
    {
      "cell_type": "code",
      "metadata": {
        "id": "TGzld4vCasJw"
      },
      "source": [
        "!unzip drive/My\\ Drive/EVA/Datasets/YoloV3-PPE/YoloV3_Dataset.zip"
      ],
      "execution_count": null,
      "outputs": []
    },
    {
      "cell_type": "code",
      "metadata": {
        "id": "xiBBf3N-aYdL",
        "outputId": "75cf74af-c0bc-463a-d80a-d9145335e273",
        "colab": {
          "base_uri": "https://localhost:8080/",
          "height": 204
        }
      },
      "source": [
        "%%shell\n",
        "srcFolder=\"YoloV3_Dataset\"\n",
        "targetDataFolder=\"YoloV3/data/ppedata\"\n",
        "mkdir -p $targetDataFolder\n",
        "# create ppe.data file\n",
        "cat > $targetDataFolder/ppe.data <<EOF\n",
        "classes=4\n",
        "train=data/ppedata/ppetrain.txt\n",
        "valid=data/ppedata/ppetest.txt \n",
        "names=data/ppedata/ppe.names\n",
        "EOF\n",
        "\n",
        "# copy required files from dataset\n",
        "cp $srcFolder/classes.txt $targetDataFolder/ppe.names\n",
        "mkdir -p $targetDataFolder/images && cp $srcFolder/Images/* $targetDataFolder/images/\n",
        "mkdir -p $targetDataFolder/labels && cp $srcFolder/Labels/* $targetDataFolder/labels/\n",
        "# Make sure any decimals around 1 i.e 1.xxxxx should be rounded off to 1.0\n",
        "sed -i 's/1\\.[0-9]*/1.0/g'  $targetDataFolder/labels/*\n",
        "\n",
        "echo \"> ppe.data\"\n",
        "cat $targetDataFolder/ppe.data\n",
        "\n",
        "echo \"\"; echo \"> ppe.names\"\n",
        "cat $targetDataFolder/ppe.names; echo\"\""
      ],
      "execution_count": null,
      "outputs": [
        {
          "output_type": "stream",
          "text": [
            "> ppe.data\n",
            "classes=4\n",
            "train=data/ppedata/ppetrain.txt\n",
            "valid=data/ppedata/ppetest.txt \n",
            "names=data/ppedata/ppe.names\n",
            "\n",
            "> ppe.names\n",
            "hardhat\n",
            "vest\n",
            "mask\n",
            "boots\n"
          ],
          "name": "stdout"
        },
        {
          "output_type": "execute_result",
          "data": {
            "text/plain": [
              ""
            ]
          },
          "metadata": {
            "tags": []
          },
          "execution_count": 6
        }
      ]
    },
    {
      "cell_type": "markdown",
      "metadata": {
        "id": "AR-PenjP4NYK"
      },
      "source": [
        "#### Split train/test images (9:1) based of Labels"
      ]
    },
    {
      "cell_type": "code",
      "metadata": {
        "id": "-U7FZgbXy3Wh",
        "outputId": "af2f9631-027c-4edb-e3fc-9717544da43d",
        "colab": {
          "base_uri": "https://localhost:8080/",
          "height": 292
        }
      },
      "source": [
        "import re\n",
        "import os\n",
        "import imagesize\n",
        "\n",
        "srcFolder=\"YoloV3_Dataset\"\n",
        "targetDataFolder=\"YoloV3/data/ppedata\"\n",
        "trainFile = open(f'{targetDataFolder}/ppetrain.txt', 'w')\n",
        "testFile = open(f'{targetDataFolder}/ppetest.txt', 'w')\n",
        "trainShapesFile = open(f'{targetDataFolder}/ppetrain.shapes', 'w')\n",
        "testShapesFile = open(f'{targetDataFolder}/ppetest.shapes', 'w')\n",
        "labelFiles = os.listdir(srcFolder + \"/Labels\")\n",
        "imgFiles = os.listdir(srcFolder + \"/Images\")\n",
        "count = 0\n",
        "testCnt = len(labelFiles)/10\n",
        "trainCnt = len(labelFiles) - testCnt\n",
        "for file in labelFiles:\n",
        "  imgParts = file.split(\".txt\")\n",
        "  r = re.compile(re.escape(imgParts[0])+\".*\")\n",
        "  found = False\n",
        "  for imgFile in imgFiles:\n",
        "    if r.match(imgFile):\n",
        "      shape = imagesize.get(f'{srcFolder}/Images/{imgFile}')\n",
        "      if count < trainCnt:\n",
        "        trainFile.write(f'./data/ppedata/images/{imgFile}\\n')\n",
        "        if shape: trainShapesFile.write(f'{shape[0]} {shape[1]}\\n')\n",
        "      else:\n",
        "        testFile.write(f'./data/ppedata/images/{imgFile}\\n')\n",
        "        if shape: testShapesFile.write(f'{shape[0]} {shape[1]}\\n')\n",
        "      count+=1\n",
        "      found = True\n",
        "      break\n",
        "trainFile.close()\n",
        "testFile.close()\n",
        "trainShapesFile.close()\n",
        "testShapesFile.close()\n",
        "\n",
        "!echo \"Total train images: $(cat YoloV3/data/ppedata/ppetrain.txt | wc -l)\"\n",
        "!echo \"Total train image shapes: $(cat YoloV3/data/ppedata/ppetrain.shapes | wc -l)\"\n",
        "!echo \"Top 5 lines of train file: $(head -n 5 YoloV3/data/ppedata/ppetrain.txt)\"\n",
        "!echo \"\";\n",
        "!echo \"Total test images: $(cat YoloV3/data/ppedata/ppetest.txt | wc -l)\"\n",
        "!echo \"Total test image shapes: $(cat YoloV3/data/ppedata/ppetest.shapes | wc -l)\"\n",
        "!echo \"Top 5 lines of test file: $(head -n 5 YoloV3/data/ppedata/ppetest.txt)\""
      ],
      "execution_count": null,
      "outputs": [
        {
          "output_type": "stream",
          "text": [
            "Total train images: 3174\n",
            "Total train image shapes: 3174\n",
            "Top 5 lines of train file: ./data/ppedata/images/img_027.jpg\n",
            "./data/ppedata/images/8c7d91f6.jpg\n",
            "./data/ppedata/images/K158.jpg\n",
            "./data/ppedata/images/Himage_055.jpg\n",
            "./data/ppedata/images/LImage_002.jpg\n",
            "\n",
            "Total test images: 347\n",
            "Total test image shapes: 347\n",
            "Top 5 lines of test file: ./data/ppedata/images/Fimg_049.jpg\n",
            "./data/ppedata/images/Mimg_036.jpg\n",
            "./data/ppedata/images/27581351-painter-worker-wearing-safety-mask-or-safety-work-on-job-painting-of-building-house-or-apartment-wal.jpg\n",
            "./data/ppedata/images/SImage_75(1).jpg\n",
            "./data/ppedata/images/young-woman-wearing-medical-face-mask-studio-portrait-picture-id1202943482.jpg\n"
          ],
          "name": "stdout"
        }
      ]
    },
    {
      "cell_type": "markdown",
      "metadata": {
        "id": "qGQnGsVy9h41"
      },
      "source": [
        "#### Change architecture based on Dataset\n",
        "* For COCO's 80 classes, YOLOv3's output vector has 255 dimensions ( (4+1+80)*3)* Now we have 4 class, so we would need to change it's architecture."
      ]
    },
    {
      "cell_type": "code",
      "metadata": {
        "id": "iHEtBW7w9xz1",
        "outputId": "a910e88b-b80c-44c1-8c38-3bc78ed92314",
        "colab": {
          "base_uri": "https://localhost:8080/"
        }
      },
      "source": [
        "%%shell\n",
        "# Copy the contents of 'yolov3-spp.cfg' file to a new file called 'yolov3-ppe.cfg' file in the data/cfg folder.\n",
        "cp YoloV3/cfg/yolov3-spp.cfg YoloV3/cfg/yolov3-ppe.cfg\n",
        "\n",
        "# Search for 'filters=255' (you should get entries entries). Change 255 to *27* = (4+1+4)*3\n",
        "sed -i 's/filters=255/filters=27/g' YoloV3/cfg/yolov3-ppe.cfg\n",
        "\n",
        "# Search for 'classes=80' and change all three entries to 'classes=4'\n",
        "sed -i 's/classes=80/classes=4/g' YoloV3/cfg/yolov3-ppe.cfg\n",
        "\n",
        "sed -i 's/burn_in.*/burn_in=100/g' YoloV3/cfg/yolov3-ppe.cfg\n",
        "sed -i 's/max_batches.*/max_batches=5000/g' YoloV3/cfg/yolov3-ppe.cfg\n",
        "sed -i 's/steps=.*/steps=4000,4500/g' YoloV3/cfg/yolov3-ppe.cfg\n",
        "\n",
        "# Verify if changes took place successfully\n",
        "grep \"filters=27\" YoloV3/cfg/yolov3-ppe.cfg\n",
        "grep \"classes\" YoloV3/cfg/yolov3-ppe.cfg\n",
        "grep \"burn_in\" YoloV3/cfg/yolov3-ppe.cfg\n",
        "grep \"max_batches\" YoloV3/cfg/yolov3-ppe.cfg\n",
        "grep \"steps=\" YoloV3/cfg/yolov3-ppe.cfg"
      ],
      "execution_count": null,
      "outputs": [
        {
          "output_type": "stream",
          "text": [
            "filters=27\n",
            "filters=27\n",
            "filters=27\n",
            "classes=4\n",
            "classes=4\n",
            "classes=4\n",
            "burn_in=100\n",
            "max_batches=5000\n",
            "steps=4000,4500\n"
          ],
          "name": "stdout"
        },
        {
          "output_type": "execute_result",
          "data": {
            "text/plain": [
              ""
            ]
          },
          "metadata": {
            "tags": []
          },
          "execution_count": 8
        }
      ]
    },
    {
      "cell_type": "markdown",
      "metadata": {
        "id": "NX2sLmin-wjz"
      },
      "source": [
        "#### Download model weights"
      ]
    },
    {
      "cell_type": "code",
      "metadata": {
        "id": "VIvSNjaxZfSN"
      },
      "source": [
        "# Create a folder called weights in the root (YoloV3) folder\n",
        "!mkdir -p YoloV3/weights\n",
        "!cp drive/My\\ Drive/weights/*.pt YoloV3/weights/"
      ],
      "execution_count": null,
      "outputs": []
    },
    {
      "cell_type": "code",
      "metadata": {
        "id": "WTBafLfy1JUS",
        "outputId": "93a79d1f-94ce-4f92-d540-2cc2632fb6b6",
        "colab": {
          "base_uri": "https://localhost:8080/",
          "height": 51
        }
      },
      "source": [
        "!cd YoloV3/; ls weights"
      ],
      "execution_count": null,
      "outputs": [
        {
          "output_type": "stream",
          "text": [
            "best.pt  yolov3_best_300.pt  yolov3-spp-ultralytics.pt\n",
            "last.pt  yolov3_last_300.pt\n"
          ],
          "name": "stdout"
        }
      ]
    },
    {
      "cell_type": "code",
      "metadata": {
        "id": "Btb9JVO7AaFV",
        "outputId": "2b550871-4fce-4f7e-d4cb-f81134386b1f",
        "colab": {
          "base_uri": "https://localhost:8080/",
          "height": 530
        }
      },
      "source": [
        "# onnx-tf doesn't work with tf v2.0.0, hence install 2.2.0\n",
        "#!pip install tensorflow==2.2.0\n",
        "!pip install onnx\n",
        "!pip install git+https://github.com/onnx/onnx-tensorflow.git\n",
        "!pip install tensorflow-addons"
      ],
      "execution_count": null,
      "outputs": [
        {
          "output_type": "stream",
          "text": [
            "Collecting onnx\n",
            "\u001b[?25l  Downloading https://files.pythonhosted.org/packages/36/ee/bc7bc88fc8449266add978627e90c363069211584b937fd867b0ccc59f09/onnx-1.7.0-cp36-cp36m-manylinux1_x86_64.whl (7.4MB)\n",
            "\u001b[K     |████████████████████████████████| 7.4MB 6.0MB/s \n",
            "\u001b[?25hRequirement already satisfied: protobuf in /usr/local/lib/python3.6/dist-packages (from onnx) (3.12.4)\n",
            "Requirement already satisfied: numpy in /usr/local/lib/python3.6/dist-packages (from onnx) (1.18.5)\n",
            "Requirement already satisfied: typing-extensions>=3.6.2.1 in /usr/local/lib/python3.6/dist-packages (from onnx) (3.7.4.3)\n",
            "Requirement already satisfied: six in /usr/local/lib/python3.6/dist-packages (from onnx) (1.15.0)\n",
            "Requirement already satisfied: setuptools in /usr/local/lib/python3.6/dist-packages (from protobuf->onnx) (50.3.0)\n",
            "Installing collected packages: onnx\n",
            "Successfully installed onnx-1.7.0\n",
            "Collecting git+https://github.com/onnx/onnx-tensorflow.git\n",
            "  Cloning https://github.com/onnx/onnx-tensorflow.git to /tmp/pip-req-build-ugx0psyx\n",
            "  Running command git clone -q https://github.com/onnx/onnx-tensorflow.git /tmp/pip-req-build-ugx0psyx\n",
            "Requirement already satisfied: onnx>=1.6.0 in /usr/local/lib/python3.6/dist-packages (from onnx-tf==1.6.0) (1.7.0)\n",
            "Requirement already satisfied: PyYAML in /usr/local/lib/python3.6/dist-packages (from onnx-tf==1.6.0) (3.13)\n",
            "Requirement already satisfied: typing-extensions>=3.6.2.1 in /usr/local/lib/python3.6/dist-packages (from onnx>=1.6.0->onnx-tf==1.6.0) (3.7.4.3)\n",
            "Requirement already satisfied: numpy in /usr/local/lib/python3.6/dist-packages (from onnx>=1.6.0->onnx-tf==1.6.0) (1.18.5)\n",
            "Requirement already satisfied: six in /usr/local/lib/python3.6/dist-packages (from onnx>=1.6.0->onnx-tf==1.6.0) (1.15.0)\n",
            "Requirement already satisfied: protobuf in /usr/local/lib/python3.6/dist-packages (from onnx>=1.6.0->onnx-tf==1.6.0) (3.12.4)\n",
            "Requirement already satisfied: setuptools in /usr/local/lib/python3.6/dist-packages (from protobuf->onnx>=1.6.0->onnx-tf==1.6.0) (50.3.0)\n",
            "Building wheels for collected packages: onnx-tf\n",
            "  Building wheel for onnx-tf (setup.py) ... \u001b[?25l\u001b[?25hdone\n",
            "  Created wheel for onnx-tf: filename=onnx_tf-1.6.0-cp36-none-any.whl size=199528 sha256=e0706b16bfd0454c714bed4de6007e3319304b85c27e950820f1af846349e3db\n",
            "  Stored in directory: /tmp/pip-ephem-wheel-cache-nfbysbl4/wheels/54/24/31/8873b33d2d560efdfa1ed6f346df67ef793b1897358705a480\n",
            "Successfully built onnx-tf\n",
            "Installing collected packages: onnx-tf\n",
            "Successfully installed onnx-tf-1.6.0\n",
            "Requirement already satisfied: tensorflow-addons in /usr/local/lib/python3.6/dist-packages (0.8.3)\n",
            "Requirement already satisfied: typeguard in /usr/local/lib/python3.6/dist-packages (from tensorflow-addons) (2.7.1)\n"
          ],
          "name": "stdout"
        }
      ]
    },
    {
      "cell_type": "code",
      "metadata": {
        "id": "JYtzDXei8C8Z",
        "outputId": "bbf69514-3ef6-4493-8287-71ca68a48729",
        "colab": {
          "base_uri": "https://localhost:8080/",
          "height": 1000
        }
      },
      "source": [
        "# Set ONNX_EXPORT global variable to true to get weights in onnx format\n",
        "!sed -i 's/ONNX_EXPORT = False/ONNX_EXPORT = True/g' YoloV3/models.py\n",
        "!cd YoloV3; python detect.py --conf-thres 0.1 --cfg cfg/yolov3-ppe.cfg"
      ],
      "execution_count": null,
      "outputs": [
        {
          "output_type": "stream",
          "text": [
            "Namespace(agnostic_nms=False, augment=False, cfg='cfg/yolov3-ppe.cfg', classes=None, conf_thres=0.1, device='', fourcc='mp4v', half=False, img_size=512, iou_thres=0.6, names='data/customdata/custom.names', output='output', save_txt=False, source='data/customdata/images', view_img=False, weights='weights/last.pt')\n",
            "Using CPU\n",
            "\n",
            "Fusing layers...\n",
            "/content/YoloV3/utils/layers.py:60: TracerWarning: Converting a tensor to a Python boolean might cause the trace to be incorrect. We can't record the data flow of Python values, so this value will be treated as a constant in the future. This means that the trace might not generalize to other inputs!\n",
            "  if nx == na:  # same shape\n",
            "graph torch-jit-export (\n",
            "  %x[FLOAT, 1x3x320x192]\n",
            ") initializers (\n",
            "  %465[INT64, 2]\n",
            "  %466[INT64, 2]\n",
            "  %module_list.0.0.bias[FLOAT, 32]\n",
            "  %module_list.0.0.weight[FLOAT, 32x3x3x3]\n",
            "  %module_list.1.0.bias[FLOAT, 64]\n",
            "  %module_list.1.0.weight[FLOAT, 64x32x3x3]\n",
            "  %module_list.10.0.bias[FLOAT, 128]\n",
            "  %module_list.10.0.weight[FLOAT, 128x64x3x3]\n",
            "  %module_list.100.Conv2d.bias[FLOAT, 27]\n",
            "  %module_list.100.Conv2d.weight[FLOAT, 27x512x1x1]\n",
            "  %module_list.103.0.bias[FLOAT, 128]\n",
            "  %module_list.103.0.weight[FLOAT, 128x256x1x1]\n",
            "  %module_list.106.0.bias[FLOAT, 128]\n",
            "  %module_list.106.0.weight[FLOAT, 128x384x1x1]\n",
            "  %module_list.107.0.bias[FLOAT, 256]\n",
            "  %module_list.107.0.weight[FLOAT, 256x128x3x3]\n",
            "  %module_list.108.0.bias[FLOAT, 128]\n",
            "  %module_list.108.0.weight[FLOAT, 128x256x1x1]\n",
            "  %module_list.109.0.bias[FLOAT, 256]\n",
            "  %module_list.109.0.weight[FLOAT, 256x128x3x3]\n",
            "  %module_list.110.0.bias[FLOAT, 128]\n",
            "  %module_list.110.0.weight[FLOAT, 128x256x1x1]\n",
            "  %module_list.111.0.bias[FLOAT, 256]\n",
            "  %module_list.111.0.weight[FLOAT, 256x128x3x3]\n",
            "  %module_list.112.Conv2d.bias[FLOAT, 27]\n",
            "  %module_list.112.Conv2d.weight[FLOAT, 27x256x1x1]\n",
            "  %module_list.12.0.bias[FLOAT, 256]\n",
            "  %module_list.12.0.weight[FLOAT, 256x128x3x3]\n",
            "  %module_list.13.0.bias[FLOAT, 128]\n",
            "  %module_list.13.0.weight[FLOAT, 128x256x1x1]\n",
            "  %module_list.14.0.bias[FLOAT, 256]\n",
            "  %module_list.14.0.weight[FLOAT, 256x128x3x3]\n",
            "  %module_list.16.0.bias[FLOAT, 128]\n",
            "  %module_list.16.0.weight[FLOAT, 128x256x1x1]\n",
            "  %module_list.17.0.bias[FLOAT, 256]\n",
            "  %module_list.17.0.weight[FLOAT, 256x128x3x3]\n",
            "  %module_list.19.0.bias[FLOAT, 128]\n",
            "  %module_list.19.0.weight[FLOAT, 128x256x1x1]\n",
            "  %module_list.2.0.bias[FLOAT, 32]\n",
            "  %module_list.2.0.weight[FLOAT, 32x64x1x1]\n",
            "  %module_list.20.0.bias[FLOAT, 256]\n",
            "  %module_list.20.0.weight[FLOAT, 256x128x3x3]\n",
            "  %module_list.22.0.bias[FLOAT, 128]\n",
            "  %module_list.22.0.weight[FLOAT, 128x256x1x1]\n",
            "  %module_list.23.0.bias[FLOAT, 256]\n",
            "  %module_list.23.0.weight[FLOAT, 256x128x3x3]\n",
            "  %module_list.25.0.bias[FLOAT, 128]\n",
            "  %module_list.25.0.weight[FLOAT, 128x256x1x1]\n",
            "  %module_list.26.0.bias[FLOAT, 256]\n",
            "  %module_list.26.0.weight[FLOAT, 256x128x3x3]\n",
            "  %module_list.28.0.bias[FLOAT, 128]\n",
            "  %module_list.28.0.weight[FLOAT, 128x256x1x1]\n",
            "  %module_list.29.0.bias[FLOAT, 256]\n",
            "  %module_list.29.0.weight[FLOAT, 256x128x3x3]\n",
            "  %module_list.3.0.bias[FLOAT, 64]\n",
            "  %module_list.3.0.weight[FLOAT, 64x32x3x3]\n",
            "  %module_list.31.0.bias[FLOAT, 128]\n",
            "  %module_list.31.0.weight[FLOAT, 128x256x1x1]\n",
            "  %module_list.32.0.bias[FLOAT, 256]\n",
            "  %module_list.32.0.weight[FLOAT, 256x128x3x3]\n",
            "  %module_list.34.0.bias[FLOAT, 128]\n",
            "  %module_list.34.0.weight[FLOAT, 128x256x1x1]\n",
            "  %module_list.35.0.bias[FLOAT, 256]\n",
            "  %module_list.35.0.weight[FLOAT, 256x128x3x3]\n",
            "  %module_list.37.0.bias[FLOAT, 512]\n",
            "  %module_list.37.0.weight[FLOAT, 512x256x3x3]\n",
            "  %module_list.38.0.bias[FLOAT, 256]\n",
            "  %module_list.38.0.weight[FLOAT, 256x512x1x1]\n",
            "  %module_list.39.0.bias[FLOAT, 512]\n",
            "  %module_list.39.0.weight[FLOAT, 512x256x3x3]\n",
            "  %module_list.41.0.bias[FLOAT, 256]\n",
            "  %module_list.41.0.weight[FLOAT, 256x512x1x1]\n",
            "  %module_list.42.0.bias[FLOAT, 512]\n",
            "  %module_list.42.0.weight[FLOAT, 512x256x3x3]\n",
            "  %module_list.44.0.bias[FLOAT, 256]\n",
            "  %module_list.44.0.weight[FLOAT, 256x512x1x1]\n",
            "  %module_list.45.0.bias[FLOAT, 512]\n",
            "  %module_list.45.0.weight[FLOAT, 512x256x3x3]\n",
            "  %module_list.47.0.bias[FLOAT, 256]\n",
            "  %module_list.47.0.weight[FLOAT, 256x512x1x1]\n",
            "  %module_list.48.0.bias[FLOAT, 512]\n",
            "  %module_list.48.0.weight[FLOAT, 512x256x3x3]\n",
            "  %module_list.5.0.bias[FLOAT, 128]\n",
            "  %module_list.5.0.weight[FLOAT, 128x64x3x3]\n",
            "  %module_list.50.0.bias[FLOAT, 256]\n",
            "  %module_list.50.0.weight[FLOAT, 256x512x1x1]\n",
            "  %module_list.51.0.bias[FLOAT, 512]\n",
            "  %module_list.51.0.weight[FLOAT, 512x256x3x3]\n",
            "  %module_list.53.0.bias[FLOAT, 256]\n",
            "  %module_list.53.0.weight[FLOAT, 256x512x1x1]\n",
            "  %module_list.54.0.bias[FLOAT, 512]\n",
            "  %module_list.54.0.weight[FLOAT, 512x256x3x3]\n",
            "  %module_list.56.0.bias[FLOAT, 256]\n",
            "  %module_list.56.0.weight[FLOAT, 256x512x1x1]\n",
            "  %module_list.57.0.bias[FLOAT, 512]\n",
            "  %module_list.57.0.weight[FLOAT, 512x256x3x3]\n",
            "  %module_list.59.0.bias[FLOAT, 256]\n",
            "  %module_list.59.0.weight[FLOAT, 256x512x1x1]\n",
            "  %module_list.6.0.bias[FLOAT, 64]\n",
            "  %module_list.6.0.weight[FLOAT, 64x128x1x1]\n",
            "  %module_list.60.0.bias[FLOAT, 512]\n",
            "  %module_list.60.0.weight[FLOAT, 512x256x3x3]\n",
            "  %module_list.62.0.bias[FLOAT, 1024]\n",
            "  %module_list.62.0.weight[FLOAT, 1024x512x3x3]\n",
            "  %module_list.63.0.bias[FLOAT, 512]\n",
            "  %module_list.63.0.weight[FLOAT, 512x1024x1x1]\n",
            "  %module_list.64.0.bias[FLOAT, 1024]\n",
            "  %module_list.64.0.weight[FLOAT, 1024x512x3x3]\n",
            "  %module_list.66.0.bias[FLOAT, 512]\n",
            "  %module_list.66.0.weight[FLOAT, 512x1024x1x1]\n",
            "  %module_list.67.0.bias[FLOAT, 1024]\n",
            "  %module_list.67.0.weight[FLOAT, 1024x512x3x3]\n",
            "  %module_list.69.0.bias[FLOAT, 512]\n",
            "  %module_list.69.0.weight[FLOAT, 512x1024x1x1]\n",
            "  %module_list.7.0.bias[FLOAT, 128]\n",
            "  %module_list.7.0.weight[FLOAT, 128x64x3x3]\n",
            "  %module_list.70.0.bias[FLOAT, 1024]\n",
            "  %module_list.70.0.weight[FLOAT, 1024x512x3x3]\n",
            "  %module_list.72.0.bias[FLOAT, 512]\n",
            "  %module_list.72.0.weight[FLOAT, 512x1024x1x1]\n",
            "  %module_list.73.0.bias[FLOAT, 1024]\n",
            "  %module_list.73.0.weight[FLOAT, 1024x512x3x3]\n",
            "  %module_list.75.0.bias[FLOAT, 512]\n",
            "  %module_list.75.0.weight[FLOAT, 512x1024x1x1]\n",
            "  %module_list.76.0.bias[FLOAT, 1024]\n",
            "  %module_list.76.0.weight[FLOAT, 1024x512x3x3]\n",
            "  %module_list.77.0.bias[FLOAT, 512]\n",
            "  %module_list.77.0.weight[FLOAT, 512x1024x1x1]\n",
            "  %module_list.84.0.bias[FLOAT, 512]\n",
            "  %module_list.84.0.weight[FLOAT, 512x2048x1x1]\n",
            "  %module_list.85.0.bias[FLOAT, 1024]\n",
            "  %module_list.85.0.weight[FLOAT, 1024x512x3x3]\n",
            "  %module_list.86.0.bias[FLOAT, 512]\n",
            "  %module_list.86.0.weight[FLOAT, 512x1024x1x1]\n",
            "  %module_list.87.0.bias[FLOAT, 1024]\n",
            "  %module_list.87.0.weight[FLOAT, 1024x512x3x3]\n",
            "  %module_list.88.Conv2d.bias[FLOAT, 27]\n",
            "  %module_list.88.Conv2d.weight[FLOAT, 27x1024x1x1]\n",
            "  %module_list.9.0.bias[FLOAT, 64]\n",
            "  %module_list.9.0.weight[FLOAT, 64x128x1x1]\n",
            "  %module_list.91.0.bias[FLOAT, 256]\n",
            "  %module_list.91.0.weight[FLOAT, 256x512x1x1]\n",
            "  %module_list.94.0.bias[FLOAT, 256]\n",
            "  %module_list.94.0.weight[FLOAT, 256x768x1x1]\n",
            "  %module_list.95.0.bias[FLOAT, 512]\n",
            "  %module_list.95.0.weight[FLOAT, 512x256x3x3]\n",
            "  %module_list.96.0.bias[FLOAT, 256]\n",
            "  %module_list.96.0.weight[FLOAT, 256x512x1x1]\n",
            "  %module_list.97.0.bias[FLOAT, 512]\n",
            "  %module_list.97.0.weight[FLOAT, 512x256x3x3]\n",
            "  %module_list.98.0.bias[FLOAT, 256]\n",
            "  %module_list.98.0.weight[FLOAT, 256x512x1x1]\n",
            "  %module_list.99.0.bias[FLOAT, 512]\n",
            "  %module_list.99.0.weight[FLOAT, 512x256x3x3]\n",
            ") {\n",
            "  %153 = Conv[dilations = [1, 1], group = 1, kernel_shape = [3, 3], pads = [1, 1, 1, 1], strides = [1, 1]](%x, %module_list.0.0.weight, %module_list.0.0.bias)\n",
            "  %154 = LeakyRelu[alpha = 0.100000001490116](%153)\n",
            "  %155 = Conv[dilations = [1, 1], group = 1, kernel_shape = [3, 3], pads = [1, 1, 1, 1], strides = [2, 2]](%154, %module_list.1.0.weight, %module_list.1.0.bias)\n",
            "  %156 = LeakyRelu[alpha = 0.100000001490116](%155)\n",
            "  %157 = Conv[dilations = [1, 1], group = 1, kernel_shape = [1, 1], pads = [0, 0, 0, 0], strides = [1, 1]](%156, %module_list.2.0.weight, %module_list.2.0.bias)\n",
            "  %158 = LeakyRelu[alpha = 0.100000001490116](%157)\n",
            "  %159 = Conv[dilations = [1, 1], group = 1, kernel_shape = [3, 3], pads = [1, 1, 1, 1], strides = [1, 1]](%158, %module_list.3.0.weight, %module_list.3.0.bias)\n",
            "  %160 = LeakyRelu[alpha = 0.100000001490116](%159)\n",
            "  %161 = Add(%160, %156)\n",
            "  %162 = Conv[dilations = [1, 1], group = 1, kernel_shape = [3, 3], pads = [1, 1, 1, 1], strides = [2, 2]](%161, %module_list.5.0.weight, %module_list.5.0.bias)\n",
            "  %163 = LeakyRelu[alpha = 0.100000001490116](%162)\n",
            "  %164 = Conv[dilations = [1, 1], group = 1, kernel_shape = [1, 1], pads = [0, 0, 0, 0], strides = [1, 1]](%163, %module_list.6.0.weight, %module_list.6.0.bias)\n",
            "  %165 = LeakyRelu[alpha = 0.100000001490116](%164)\n",
            "  %166 = Conv[dilations = [1, 1], group = 1, kernel_shape = [3, 3], pads = [1, 1, 1, 1], strides = [1, 1]](%165, %module_list.7.0.weight, %module_list.7.0.bias)\n",
            "  %167 = LeakyRelu[alpha = 0.100000001490116](%166)\n",
            "  %168 = Add(%167, %163)\n",
            "  %169 = Conv[dilations = [1, 1], group = 1, kernel_shape = [1, 1], pads = [0, 0, 0, 0], strides = [1, 1]](%168, %module_list.9.0.weight, %module_list.9.0.bias)\n",
            "  %170 = LeakyRelu[alpha = 0.100000001490116](%169)\n",
            "  %171 = Conv[dilations = [1, 1], group = 1, kernel_shape = [3, 3], pads = [1, 1, 1, 1], strides = [1, 1]](%170, %module_list.10.0.weight, %module_list.10.0.bias)\n",
            "  %172 = LeakyRelu[alpha = 0.100000001490116](%171)\n",
            "  %173 = Add(%172, %168)\n",
            "  %174 = Conv[dilations = [1, 1], group = 1, kernel_shape = [3, 3], pads = [1, 1, 1, 1], strides = [2, 2]](%173, %module_list.12.0.weight, %module_list.12.0.bias)\n",
            "  %175 = LeakyRelu[alpha = 0.100000001490116](%174)\n",
            "  %176 = Conv[dilations = [1, 1], group = 1, kernel_shape = [1, 1], pads = [0, 0, 0, 0], strides = [1, 1]](%175, %module_list.13.0.weight, %module_list.13.0.bias)\n",
            "  %177 = LeakyRelu[alpha = 0.100000001490116](%176)\n",
            "  %178 = Conv[dilations = [1, 1], group = 1, kernel_shape = [3, 3], pads = [1, 1, 1, 1], strides = [1, 1]](%177, %module_list.14.0.weight, %module_list.14.0.bias)\n",
            "  %179 = LeakyRelu[alpha = 0.100000001490116](%178)\n",
            "  %180 = Add(%179, %175)\n",
            "  %181 = Conv[dilations = [1, 1], group = 1, kernel_shape = [1, 1], pads = [0, 0, 0, 0], strides = [1, 1]](%180, %module_list.16.0.weight, %module_list.16.0.bias)\n",
            "  %182 = LeakyRelu[alpha = 0.100000001490116](%181)\n",
            "  %183 = Conv[dilations = [1, 1], group = 1, kernel_shape = [3, 3], pads = [1, 1, 1, 1], strides = [1, 1]](%182, %module_list.17.0.weight, %module_list.17.0.bias)\n",
            "  %184 = LeakyRelu[alpha = 0.100000001490116](%183)\n",
            "  %185 = Add(%184, %180)\n",
            "  %186 = Conv[dilations = [1, 1], group = 1, kernel_shape = [1, 1], pads = [0, 0, 0, 0], strides = [1, 1]](%185, %module_list.19.0.weight, %module_list.19.0.bias)\n",
            "  %187 = LeakyRelu[alpha = 0.100000001490116](%186)\n",
            "  %188 = Conv[dilations = [1, 1], group = 1, kernel_shape = [3, 3], pads = [1, 1, 1, 1], strides = [1, 1]](%187, %module_list.20.0.weight, %module_list.20.0.bias)\n",
            "  %189 = LeakyRelu[alpha = 0.100000001490116](%188)\n",
            "  %190 = Add(%189, %185)\n",
            "  %191 = Conv[dilations = [1, 1], group = 1, kernel_shape = [1, 1], pads = [0, 0, 0, 0], strides = [1, 1]](%190, %module_list.22.0.weight, %module_list.22.0.bias)\n",
            "  %192 = LeakyRelu[alpha = 0.100000001490116](%191)\n",
            "  %193 = Conv[dilations = [1, 1], group = 1, kernel_shape = [3, 3], pads = [1, 1, 1, 1], strides = [1, 1]](%192, %module_list.23.0.weight, %module_list.23.0.bias)\n",
            "  %194 = LeakyRelu[alpha = 0.100000001490116](%193)\n",
            "  %195 = Add(%194, %190)\n",
            "  %196 = Conv[dilations = [1, 1], group = 1, kernel_shape = [1, 1], pads = [0, 0, 0, 0], strides = [1, 1]](%195, %module_list.25.0.weight, %module_list.25.0.bias)\n",
            "  %197 = LeakyRelu[alpha = 0.100000001490116](%196)\n",
            "  %198 = Conv[dilations = [1, 1], group = 1, kernel_shape = [3, 3], pads = [1, 1, 1, 1], strides = [1, 1]](%197, %module_list.26.0.weight, %module_list.26.0.bias)\n",
            "  %199 = LeakyRelu[alpha = 0.100000001490116](%198)\n",
            "  %200 = Add(%199, %195)\n",
            "  %201 = Conv[dilations = [1, 1], group = 1, kernel_shape = [1, 1], pads = [0, 0, 0, 0], strides = [1, 1]](%200, %module_list.28.0.weight, %module_list.28.0.bias)\n",
            "  %202 = LeakyRelu[alpha = 0.100000001490116](%201)\n",
            "  %203 = Conv[dilations = [1, 1], group = 1, kernel_shape = [3, 3], pads = [1, 1, 1, 1], strides = [1, 1]](%202, %module_list.29.0.weight, %module_list.29.0.bias)\n",
            "  %204 = LeakyRelu[alpha = 0.100000001490116](%203)\n",
            "  %205 = Add(%204, %200)\n",
            "  %206 = Conv[dilations = [1, 1], group = 1, kernel_shape = [1, 1], pads = [0, 0, 0, 0], strides = [1, 1]](%205, %module_list.31.0.weight, %module_list.31.0.bias)\n",
            "  %207 = LeakyRelu[alpha = 0.100000001490116](%206)\n",
            "  %208 = Conv[dilations = [1, 1], group = 1, kernel_shape = [3, 3], pads = [1, 1, 1, 1], strides = [1, 1]](%207, %module_list.32.0.weight, %module_list.32.0.bias)\n",
            "  %209 = LeakyRelu[alpha = 0.100000001490116](%208)\n",
            "  %210 = Add(%209, %205)\n",
            "  %211 = Conv[dilations = [1, 1], group = 1, kernel_shape = [1, 1], pads = [0, 0, 0, 0], strides = [1, 1]](%210, %module_list.34.0.weight, %module_list.34.0.bias)\n",
            "  %212 = LeakyRelu[alpha = 0.100000001490116](%211)\n",
            "  %213 = Conv[dilations = [1, 1], group = 1, kernel_shape = [3, 3], pads = [1, 1, 1, 1], strides = [1, 1]](%212, %module_list.35.0.weight, %module_list.35.0.bias)\n",
            "  %214 = LeakyRelu[alpha = 0.100000001490116](%213)\n",
            "  %215 = Add(%214, %210)\n",
            "  %216 = Conv[dilations = [1, 1], group = 1, kernel_shape = [3, 3], pads = [1, 1, 1, 1], strides = [2, 2]](%215, %module_list.37.0.weight, %module_list.37.0.bias)\n",
            "  %217 = LeakyRelu[alpha = 0.100000001490116](%216)\n",
            "  %218 = Conv[dilations = [1, 1], group = 1, kernel_shape = [1, 1], pads = [0, 0, 0, 0], strides = [1, 1]](%217, %module_list.38.0.weight, %module_list.38.0.bias)\n",
            "  %219 = LeakyRelu[alpha = 0.100000001490116](%218)\n",
            "  %220 = Conv[dilations = [1, 1], group = 1, kernel_shape = [3, 3], pads = [1, 1, 1, 1], strides = [1, 1]](%219, %module_list.39.0.weight, %module_list.39.0.bias)\n",
            "  %221 = LeakyRelu[alpha = 0.100000001490116](%220)\n",
            "  %222 = Add(%221, %217)\n",
            "  %223 = Conv[dilations = [1, 1], group = 1, kernel_shape = [1, 1], pads = [0, 0, 0, 0], strides = [1, 1]](%222, %module_list.41.0.weight, %module_list.41.0.bias)\n",
            "  %224 = LeakyRelu[alpha = 0.100000001490116](%223)\n",
            "  %225 = Conv[dilations = [1, 1], group = 1, kernel_shape = [3, 3], pads = [1, 1, 1, 1], strides = [1, 1]](%224, %module_list.42.0.weight, %module_list.42.0.bias)\n",
            "  %226 = LeakyRelu[alpha = 0.100000001490116](%225)\n",
            "  %227 = Add(%226, %222)\n",
            "  %228 = Conv[dilations = [1, 1], group = 1, kernel_shape = [1, 1], pads = [0, 0, 0, 0], strides = [1, 1]](%227, %module_list.44.0.weight, %module_list.44.0.bias)\n",
            "  %229 = LeakyRelu[alpha = 0.100000001490116](%228)\n",
            "  %230 = Conv[dilations = [1, 1], group = 1, kernel_shape = [3, 3], pads = [1, 1, 1, 1], strides = [1, 1]](%229, %module_list.45.0.weight, %module_list.45.0.bias)\n",
            "  %231 = LeakyRelu[alpha = 0.100000001490116](%230)\n",
            "  %232 = Add(%231, %227)\n",
            "  %233 = Conv[dilations = [1, 1], group = 1, kernel_shape = [1, 1], pads = [0, 0, 0, 0], strides = [1, 1]](%232, %module_list.47.0.weight, %module_list.47.0.bias)\n",
            "  %234 = LeakyRelu[alpha = 0.100000001490116](%233)\n",
            "  %235 = Conv[dilations = [1, 1], group = 1, kernel_shape = [3, 3], pads = [1, 1, 1, 1], strides = [1, 1]](%234, %module_list.48.0.weight, %module_list.48.0.bias)\n",
            "  %236 = LeakyRelu[alpha = 0.100000001490116](%235)\n",
            "  %237 = Add(%236, %232)\n",
            "  %238 = Conv[dilations = [1, 1], group = 1, kernel_shape = [1, 1], pads = [0, 0, 0, 0], strides = [1, 1]](%237, %module_list.50.0.weight, %module_list.50.0.bias)\n",
            "  %239 = LeakyRelu[alpha = 0.100000001490116](%238)\n",
            "  %240 = Conv[dilations = [1, 1], group = 1, kernel_shape = [3, 3], pads = [1, 1, 1, 1], strides = [1, 1]](%239, %module_list.51.0.weight, %module_list.51.0.bias)\n",
            "  %241 = LeakyRelu[alpha = 0.100000001490116](%240)\n",
            "  %242 = Add(%241, %237)\n",
            "  %243 = Conv[dilations = [1, 1], group = 1, kernel_shape = [1, 1], pads = [0, 0, 0, 0], strides = [1, 1]](%242, %module_list.53.0.weight, %module_list.53.0.bias)\n",
            "  %244 = LeakyRelu[alpha = 0.100000001490116](%243)\n",
            "  %245 = Conv[dilations = [1, 1], group = 1, kernel_shape = [3, 3], pads = [1, 1, 1, 1], strides = [1, 1]](%244, %module_list.54.0.weight, %module_list.54.0.bias)\n",
            "  %246 = LeakyRelu[alpha = 0.100000001490116](%245)\n",
            "  %247 = Add(%246, %242)\n",
            "  %248 = Conv[dilations = [1, 1], group = 1, kernel_shape = [1, 1], pads = [0, 0, 0, 0], strides = [1, 1]](%247, %module_list.56.0.weight, %module_list.56.0.bias)\n",
            "  %249 = LeakyRelu[alpha = 0.100000001490116](%248)\n",
            "  %250 = Conv[dilations = [1, 1], group = 1, kernel_shape = [3, 3], pads = [1, 1, 1, 1], strides = [1, 1]](%249, %module_list.57.0.weight, %module_list.57.0.bias)\n",
            "  %251 = LeakyRelu[alpha = 0.100000001490116](%250)\n",
            "  %252 = Add(%251, %247)\n",
            "  %253 = Conv[dilations = [1, 1], group = 1, kernel_shape = [1, 1], pads = [0, 0, 0, 0], strides = [1, 1]](%252, %module_list.59.0.weight, %module_list.59.0.bias)\n",
            "  %254 = LeakyRelu[alpha = 0.100000001490116](%253)\n",
            "  %255 = Conv[dilations = [1, 1], group = 1, kernel_shape = [3, 3], pads = [1, 1, 1, 1], strides = [1, 1]](%254, %module_list.60.0.weight, %module_list.60.0.bias)\n",
            "  %256 = LeakyRelu[alpha = 0.100000001490116](%255)\n",
            "  %257 = Add(%256, %252)\n",
            "  %258 = Conv[dilations = [1, 1], group = 1, kernel_shape = [3, 3], pads = [1, 1, 1, 1], strides = [2, 2]](%257, %module_list.62.0.weight, %module_list.62.0.bias)\n",
            "  %259 = LeakyRelu[alpha = 0.100000001490116](%258)\n",
            "  %260 = Conv[dilations = [1, 1], group = 1, kernel_shape = [1, 1], pads = [0, 0, 0, 0], strides = [1, 1]](%259, %module_list.63.0.weight, %module_list.63.0.bias)\n",
            "  %261 = LeakyRelu[alpha = 0.100000001490116](%260)\n",
            "  %262 = Conv[dilations = [1, 1], group = 1, kernel_shape = [3, 3], pads = [1, 1, 1, 1], strides = [1, 1]](%261, %module_list.64.0.weight, %module_list.64.0.bias)\n",
            "  %263 = LeakyRelu[alpha = 0.100000001490116](%262)\n",
            "  %264 = Add(%263, %259)\n",
            "  %265 = Conv[dilations = [1, 1], group = 1, kernel_shape = [1, 1], pads = [0, 0, 0, 0], strides = [1, 1]](%264, %module_list.66.0.weight, %module_list.66.0.bias)\n",
            "  %266 = LeakyRelu[alpha = 0.100000001490116](%265)\n",
            "  %267 = Conv[dilations = [1, 1], group = 1, kernel_shape = [3, 3], pads = [1, 1, 1, 1], strides = [1, 1]](%266, %module_list.67.0.weight, %module_list.67.0.bias)\n",
            "  %268 = LeakyRelu[alpha = 0.100000001490116](%267)\n",
            "  %269 = Add(%268, %264)\n",
            "  %270 = Conv[dilations = [1, 1], group = 1, kernel_shape = [1, 1], pads = [0, 0, 0, 0], strides = [1, 1]](%269, %module_list.69.0.weight, %module_list.69.0.bias)\n",
            "  %271 = LeakyRelu[alpha = 0.100000001490116](%270)\n",
            "  %272 = Conv[dilations = [1, 1], group = 1, kernel_shape = [3, 3], pads = [1, 1, 1, 1], strides = [1, 1]](%271, %module_list.70.0.weight, %module_list.70.0.bias)\n",
            "  %273 = LeakyRelu[alpha = 0.100000001490116](%272)\n",
            "  %274 = Add(%273, %269)\n",
            "  %275 = Conv[dilations = [1, 1], group = 1, kernel_shape = [1, 1], pads = [0, 0, 0, 0], strides = [1, 1]](%274, %module_list.72.0.weight, %module_list.72.0.bias)\n",
            "  %276 = LeakyRelu[alpha = 0.100000001490116](%275)\n",
            "  %277 = Conv[dilations = [1, 1], group = 1, kernel_shape = [3, 3], pads = [1, 1, 1, 1], strides = [1, 1]](%276, %module_list.73.0.weight, %module_list.73.0.bias)\n",
            "  %278 = LeakyRelu[alpha = 0.100000001490116](%277)\n",
            "  %279 = Add(%278, %274)\n",
            "  %280 = Conv[dilations = [1, 1], group = 1, kernel_shape = [1, 1], pads = [0, 0, 0, 0], strides = [1, 1]](%279, %module_list.75.0.weight, %module_list.75.0.bias)\n",
            "  %281 = LeakyRelu[alpha = 0.100000001490116](%280)\n",
            "  %282 = Conv[dilations = [1, 1], group = 1, kernel_shape = [3, 3], pads = [1, 1, 1, 1], strides = [1, 1]](%281, %module_list.76.0.weight, %module_list.76.0.bias)\n",
            "  %283 = LeakyRelu[alpha = 0.100000001490116](%282)\n",
            "  %284 = Conv[dilations = [1, 1], group = 1, kernel_shape = [1, 1], pads = [0, 0, 0, 0], strides = [1, 1]](%283, %module_list.77.0.weight, %module_list.77.0.bias)\n",
            "  %285 = LeakyRelu[alpha = 0.100000001490116](%284)\n",
            "  %286 = MaxPool[ceil_mode = 0, kernel_shape = [5, 5], pads = [2, 2, 2, 2], strides = [1, 1]](%285)\n",
            "  %287 = MaxPool[ceil_mode = 0, kernel_shape = [9, 9], pads = [4, 4, 4, 4], strides = [1, 1]](%285)\n",
            "  %288 = MaxPool[ceil_mode = 0, kernel_shape = [13, 13], pads = [6, 6, 6, 6], strides = [1, 1]](%285)\n",
            "  %289 = Concat[axis = 1](%288, %287, %286, %285)\n",
            "  %290 = Conv[dilations = [1, 1], group = 1, kernel_shape = [1, 1], pads = [0, 0, 0, 0], strides = [1, 1]](%289, %module_list.84.0.weight, %module_list.84.0.bias)\n",
            "  %291 = LeakyRelu[alpha = 0.100000001490116](%290)\n",
            "  %292 = Conv[dilations = [1, 1], group = 1, kernel_shape = [3, 3], pads = [1, 1, 1, 1], strides = [1, 1]](%291, %module_list.85.0.weight, %module_list.85.0.bias)\n",
            "  %293 = LeakyRelu[alpha = 0.100000001490116](%292)\n",
            "  %294 = Conv[dilations = [1, 1], group = 1, kernel_shape = [1, 1], pads = [0, 0, 0, 0], strides = [1, 1]](%293, %module_list.86.0.weight, %module_list.86.0.bias)\n",
            "  %295 = LeakyRelu[alpha = 0.100000001490116](%294)\n",
            "  %296 = Conv[dilations = [1, 1], group = 1, kernel_shape = [3, 3], pads = [1, 1, 1, 1], strides = [1, 1]](%295, %module_list.87.0.weight, %module_list.87.0.bias)\n",
            "  %297 = LeakyRelu[alpha = 0.100000001490116](%296)\n",
            "  %298 = Conv[dilations = [1, 1], group = 1, kernel_shape = [1, 1], pads = [0, 0, 0, 0], strides = [1, 1]](%297, %module_list.88.Conv2d.weight, %module_list.88.Conv2d.bias)\n",
            "  %299 = Constant[value = <Tensor>]()\n",
            "  %300 = Reshape(%298, %299)\n",
            "  %301 = Transpose[perm = [0, 1, 3, 4, 2]](%300)\n",
            "  %302 = Constant[value = <Tensor>]()\n",
            "  %303 = Reshape(%301, %302)\n",
            "  %304 = Constant[value = <Tensor>]()\n",
            "  %305 = Constant[value = <Tensor>]()\n",
            "  %306 = Constant[value = <Tensor>]()\n",
            "  %307 = Constant[value = <Tensor>]()\n",
            "  %308 = Slice(%303, %305, %306, %304, %307)\n",
            "  %309 = Sigmoid(%308)\n",
            "  %310 = Constant[value = <Tensor>]()\n",
            "  %311 = Add(%309, %310)\n",
            "  %312 = Constant[value = <Tensor>]()\n",
            "  %313 = Constant[value = <Tensor>]()\n",
            "  %314 = Constant[value = <Tensor>]()\n",
            "  %315 = Constant[value = <Tensor>]()\n",
            "  %316 = Slice(%303, %313, %314, %312, %315)\n",
            "  %317 = Exp(%316)\n",
            "  %318 = Constant[value = <Tensor>]()\n",
            "  %319 = Mul(%317, %318)\n",
            "  %320 = Constant[value = <Tensor>]()\n",
            "  %321 = Constant[value = <Tensor>]()\n",
            "  %322 = Constant[value = <Tensor>]()\n",
            "  %323 = Constant[value = <Tensor>]()\n",
            "  %324 = Slice(%303, %321, %322, %320, %323)\n",
            "  %325 = Sigmoid(%324)\n",
            "  %326 = Constant[value = <Tensor>]()\n",
            "  %327 = Constant[value = <Tensor>]()\n",
            "  %328 = Constant[value = <Tensor>]()\n",
            "  %329 = Constant[value = <Tensor>]()\n",
            "  %330 = Slice(%303, %327, %328, %326, %329)\n",
            "  %331 = Sigmoid(%330)\n",
            "  %332 = Mul(%325, %331)\n",
            "  %333 = Constant[value = <Tensor>]()\n",
            "  %334 = Mul(%311, %333)\n",
            "  %335 = Conv[dilations = [1, 1], group = 1, kernel_shape = [1, 1], pads = [0, 0, 0, 0], strides = [1, 1]](%295, %module_list.91.0.weight, %module_list.91.0.bias)\n",
            "  %336 = LeakyRelu[alpha = 0.100000001490116](%335)\n",
            "  %338 = Constant[value = <Tensor>]()\n",
            "  %339 = Shape(%336)\n",
            "  %340 = Constant[value = <Tensor>]()\n",
            "  %341 = Constant[value = <Tensor>]()\n",
            "  %342 = Constant[value = <Tensor>]()\n",
            "  %343 = Slice(%339, %341, %342, %340)\n",
            "  %345 = Concat[axis = 0](%343, %465)\n",
            "  %346 = Constant[value = <Tensor>]()\n",
            "  %347 = Resize[coordinate_transformation_mode = 'asymmetric', cubic_coeff_a = -0.75, mode = 'nearest', nearest_mode = 'floor'](%336, %338, %346, %345)\n",
            "  %348 = Concat[axis = 1](%347, %257)\n",
            "  %349 = Conv[dilations = [1, 1], group = 1, kernel_shape = [1, 1], pads = [0, 0, 0, 0], strides = [1, 1]](%348, %module_list.94.0.weight, %module_list.94.0.bias)\n",
            "  %350 = LeakyRelu[alpha = 0.100000001490116](%349)\n",
            "  %351 = Conv[dilations = [1, 1], group = 1, kernel_shape = [3, 3], pads = [1, 1, 1, 1], strides = [1, 1]](%350, %module_list.95.0.weight, %module_list.95.0.bias)\n",
            "  %352 = LeakyRelu[alpha = 0.100000001490116](%351)\n",
            "  %353 = Conv[dilations = [1, 1], group = 1, kernel_shape = [1, 1], pads = [0, 0, 0, 0], strides = [1, 1]](%352, %module_list.96.0.weight, %module_list.96.0.bias)\n",
            "  %354 = LeakyRelu[alpha = 0.100000001490116](%353)\n",
            "  %355 = Conv[dilations = [1, 1], group = 1, kernel_shape = [3, 3], pads = [1, 1, 1, 1], strides = [1, 1]](%354, %module_list.97.0.weight, %module_list.97.0.bias)\n",
            "  %356 = LeakyRelu[alpha = 0.100000001490116](%355)\n",
            "  %357 = Conv[dilations = [1, 1], group = 1, kernel_shape = [1, 1], pads = [0, 0, 0, 0], strides = [1, 1]](%356, %module_list.98.0.weight, %module_list.98.0.bias)\n",
            "  %358 = LeakyRelu[alpha = 0.100000001490116](%357)\n",
            "  %359 = Conv[dilations = [1, 1], group = 1, kernel_shape = [3, 3], pads = [1, 1, 1, 1], strides = [1, 1]](%358, %module_list.99.0.weight, %module_list.99.0.bias)\n",
            "  %360 = LeakyRelu[alpha = 0.100000001490116](%359)\n",
            "  %361 = Conv[dilations = [1, 1], group = 1, kernel_shape = [1, 1], pads = [0, 0, 0, 0], strides = [1, 1]](%360, %module_list.100.Conv2d.weight, %module_list.100.Conv2d.bias)\n",
            "  %362 = Constant[value = <Tensor>]()\n",
            "  %363 = Reshape(%361, %362)\n",
            "  %364 = Transpose[perm = [0, 1, 3, 4, 2]](%363)\n",
            "  %365 = Constant[value = <Tensor>]()\n",
            "  %366 = Reshape(%364, %365)\n",
            "  %367 = Constant[value = <Tensor>]()\n",
            "  %368 = Constant[value = <Tensor>]()\n",
            "  %369 = Constant[value = <Tensor>]()\n",
            "  %370 = Constant[value = <Tensor>]()\n",
            "  %371 = Slice(%366, %368, %369, %367, %370)\n",
            "  %372 = Sigmoid(%371)\n",
            "  %373 = Constant[value = <Tensor>]()\n",
            "  %374 = Add(%372, %373)\n",
            "  %375 = Constant[value = <Tensor>]()\n",
            "  %376 = Constant[value = <Tensor>]()\n",
            "  %377 = Constant[value = <Tensor>]()\n",
            "  %378 = Constant[value = <Tensor>]()\n",
            "  %379 = Slice(%366, %376, %377, %375, %378)\n",
            "  %380 = Exp(%379)\n",
            "  %381 = Constant[value = <Tensor>]()\n",
            "  %382 = Mul(%380, %381)\n",
            "  %383 = Constant[value = <Tensor>]()\n",
            "  %384 = Constant[value = <Tensor>]()\n",
            "  %385 = Constant[value = <Tensor>]()\n",
            "  %386 = Constant[value = <Tensor>]()\n",
            "  %387 = Slice(%366, %384, %385, %383, %386)\n",
            "  %388 = Sigmoid(%387)\n",
            "  %389 = Constant[value = <Tensor>]()\n",
            "  %390 = Constant[value = <Tensor>]()\n",
            "  %391 = Constant[value = <Tensor>]()\n",
            "  %392 = Constant[value = <Tensor>]()\n",
            "  %393 = Slice(%366, %390, %391, %389, %392)\n",
            "  %394 = Sigmoid(%393)\n",
            "  %395 = Mul(%388, %394)\n",
            "  %396 = Constant[value = <Tensor>]()\n",
            "  %397 = Mul(%374, %396)\n",
            "  %398 = Conv[dilations = [1, 1], group = 1, kernel_shape = [1, 1], pads = [0, 0, 0, 0], strides = [1, 1]](%358, %module_list.103.0.weight, %module_list.103.0.bias)\n",
            "  %399 = LeakyRelu[alpha = 0.100000001490116](%398)\n",
            "  %401 = Constant[value = <Tensor>]()\n",
            "  %402 = Shape(%399)\n",
            "  %403 = Constant[value = <Tensor>]()\n",
            "  %404 = Constant[value = <Tensor>]()\n",
            "  %405 = Constant[value = <Tensor>]()\n",
            "  %406 = Slice(%402, %404, %405, %403)\n",
            "  %408 = Concat[axis = 0](%406, %466)\n",
            "  %409 = Constant[value = <Tensor>]()\n",
            "  %410 = Resize[coordinate_transformation_mode = 'asymmetric', cubic_coeff_a = -0.75, mode = 'nearest', nearest_mode = 'floor'](%399, %401, %409, %408)\n",
            "  %411 = Concat[axis = 1](%410, %215)\n",
            "  %412 = Conv[dilations = [1, 1], group = 1, kernel_shape = [1, 1], pads = [0, 0, 0, 0], strides = [1, 1]](%411, %module_list.106.0.weight, %module_list.106.0.bias)\n",
            "  %413 = LeakyRelu[alpha = 0.100000001490116](%412)\n",
            "  %414 = Conv[dilations = [1, 1], group = 1, kernel_shape = [3, 3], pads = [1, 1, 1, 1], strides = [1, 1]](%413, %module_list.107.0.weight, %module_list.107.0.bias)\n",
            "  %415 = LeakyRelu[alpha = 0.100000001490116](%414)\n",
            "  %416 = Conv[dilations = [1, 1], group = 1, kernel_shape = [1, 1], pads = [0, 0, 0, 0], strides = [1, 1]](%415, %module_list.108.0.weight, %module_list.108.0.bias)\n",
            "  %417 = LeakyRelu[alpha = 0.100000001490116](%416)\n",
            "  %418 = Conv[dilations = [1, 1], group = 1, kernel_shape = [3, 3], pads = [1, 1, 1, 1], strides = [1, 1]](%417, %module_list.109.0.weight, %module_list.109.0.bias)\n",
            "  %419 = LeakyRelu[alpha = 0.100000001490116](%418)\n",
            "  %420 = Conv[dilations = [1, 1], group = 1, kernel_shape = [1, 1], pads = [0, 0, 0, 0], strides = [1, 1]](%419, %module_list.110.0.weight, %module_list.110.0.bias)\n",
            "  %421 = LeakyRelu[alpha = 0.100000001490116](%420)\n",
            "  %422 = Conv[dilations = [1, 1], group = 1, kernel_shape = [3, 3], pads = [1, 1, 1, 1], strides = [1, 1]](%421, %module_list.111.0.weight, %module_list.111.0.bias)\n",
            "  %423 = LeakyRelu[alpha = 0.100000001490116](%422)\n",
            "  %424 = Conv[dilations = [1, 1], group = 1, kernel_shape = [1, 1], pads = [0, 0, 0, 0], strides = [1, 1]](%423, %module_list.112.Conv2d.weight, %module_list.112.Conv2d.bias)\n",
            "  %425 = Constant[value = <Tensor>]()\n",
            "  %426 = Reshape(%424, %425)\n",
            "  %427 = Transpose[perm = [0, 1, 3, 4, 2]](%426)\n",
            "  %428 = Constant[value = <Tensor>]()\n",
            "  %429 = Reshape(%427, %428)\n",
            "  %430 = Constant[value = <Tensor>]()\n",
            "  %431 = Constant[value = <Tensor>]()\n",
            "  %432 = Constant[value = <Tensor>]()\n",
            "  %433 = Constant[value = <Tensor>]()\n",
            "  %434 = Slice(%429, %431, %432, %430, %433)\n",
            "  %435 = Sigmoid(%434)\n",
            "  %436 = Constant[value = <Tensor>]()\n",
            "  %437 = Add(%435, %436)\n",
            "  %438 = Constant[value = <Tensor>]()\n",
            "  %439 = Constant[value = <Tensor>]()\n",
            "  %440 = Constant[value = <Tensor>]()\n",
            "  %441 = Constant[value = <Tensor>]()\n",
            "  %442 = Slice(%429, %439, %440, %438, %441)\n",
            "  %443 = Exp(%442)\n",
            "  %444 = Constant[value = <Tensor>]()\n",
            "  %445 = Mul(%443, %444)\n",
            "  %446 = Constant[value = <Tensor>]()\n",
            "  %447 = Constant[value = <Tensor>]()\n",
            "  %448 = Constant[value = <Tensor>]()\n",
            "  %449 = Constant[value = <Tensor>]()\n",
            "  %450 = Slice(%429, %447, %448, %446, %449)\n",
            "  %451 = Sigmoid(%450)\n",
            "  %452 = Constant[value = <Tensor>]()\n",
            "  %453 = Constant[value = <Tensor>]()\n",
            "  %454 = Constant[value = <Tensor>]()\n",
            "  %455 = Constant[value = <Tensor>]()\n",
            "  %456 = Slice(%429, %453, %454, %452, %455)\n",
            "  %457 = Sigmoid(%456)\n",
            "  %458 = Mul(%451, %457)\n",
            "  %459 = Constant[value = <Tensor>]()\n",
            "  %460 = Mul(%437, %459)\n",
            "  %461 = Concat[axis = 0](%332, %395, %458)\n",
            "  %462 = Concat[axis = 0](%334, %397, %460)\n",
            "  %463 = Concat[axis = 0](%319, %382, %445)\n",
            "  %464 = Concat[axis = 1](%462, %463)\n",
            "  return %461, %464\n",
            "}\n"
          ],
          "name": "stdout"
        }
      ]
    },
    {
      "cell_type": "code",
      "metadata": {
        "id": "WiEtBZ7rAvH_",
        "outputId": "ddf21b12-1eae-47d0-dcb2-52c597e00e70",
        "colab": {
          "base_uri": "https://localhost:8080/",
          "height": 34
        }
      },
      "source": [
        "from onnx_tf.backend import prepare\n",
        "import onnx\n",
        "\n",
        "TF_PATH = \"YoloV3/weights/last.pb\" # where the representation of tensorflow model will be stored\n",
        "ONNX_PATH = \"YoloV3/weights/last.onnx\" # path to my existing ONNX model\n",
        "onnx_model = onnx.load(ONNX_PATH)  # load onnx model\n",
        "\n",
        "# prepare function converts an ONNX model to an internel representation\n",
        "# of the computational graph called TensorflowRep and returns\n",
        "# the converted representation.\n",
        "tf_rep = prepare(onnx_model)  # creating TensorflowRep object\n",
        "\n",
        "# export_graph function obtains the graph proto corresponding to the ONNX\n",
        "# model associated with the backend representation and serializes\n",
        "# to a protobuf file.\n",
        "tf_rep.export_graph(TF_PATH)"
      ],
      "execution_count": null,
      "outputs": [
        {
          "output_type": "stream",
          "text": [
            "INFO:tensorflow:Assets written to: YoloV3/weights/last.pb/assets\n"
          ],
          "name": "stdout"
        }
      ]
    },
    {
      "cell_type": "code",
      "metadata": {
        "id": "UYb5LchMDsz2",
        "outputId": "5804011f-2f74-40ff-cea8-7da9b05b80da",
        "colab": {
          "base_uri": "https://localhost:8080/",
          "height": 54
        }
      },
      "source": [
        "import tensorflow as tf\n",
        "\n",
        "TF_PATH = \"YoloV3/weights/last.pb\" # where the forzen graph is stored\n",
        "TFLITE_PATH = \"YoloV3/weights/last.tflite\"\n",
        "# protobuf needs your virtual environment to be explictly exported in the path\n",
        "#os.environ[\"PATH\"] = \"/opt/miniconda3/envs/convert/bin:/opt/miniconda3/bin:/usr/local/sbin:....\"\n",
        "\n",
        "# make a converter object from the saved tensorflow file\n",
        "#converter = tf.compat.v1.lite.TFLiteConverter.from_frozen_graph(TF_PATH,  # TensorFlow freezegraph .pb model file\n",
        "converter = tf.lite.TFLiteConverter.from_saved_model(TF_PATH,  # TensorFlow freezegraph .pb model file\n",
        "                                                      )\n",
        "\n",
        "# tell converter which type of optimization techniques to use\n",
        "# to view the best option for optimization read documentation of tflite about optimization\n",
        "# go to this link https://www.tensorflow.org/lite/guide/get_started#4_optimize_your_model_optional\n",
        "# converter.optimizations = [tf.compat.v1.lite.Optimize.DEFAULT]\n",
        "\n",
        "converter.experimental_new_converter = True\n",
        "\n",
        "# I had to explicitly state the ops\n",
        "converter.target_spec.supported_ops = [tf.compat.v1.lite.OpsSet.TFLITE_BUILTINS,\n",
        "                                       tf.compat.v1.lite.OpsSet.SELECT_TF_OPS]\n",
        "\n",
        "tf_lite_model = converter.convert()\n",
        "# Save the model.\n",
        "with open(TFLITE_PATH, 'wb') as f:\n",
        "    f.write(tf_lite_model)"
      ],
      "execution_count": null,
      "outputs": [
        {
          "output_type": "stream",
          "text": [
            "INFO:absl:Using experimental converter: If you encountered a problem please file a bug. You can opt-out by setting experimental_new_converter=False\n"
          ],
          "name": "stderr"
        }
      ]
    },
    {
      "cell_type": "code",
      "metadata": {
        "id": "i2J3nX7mr_67"
      },
      "source": [
        "!cp drive/My\\ Drive/weights/last.tflite YoloV3/weights/last.tflite "
      ],
      "execution_count": null,
      "outputs": []
    }
  ]
}