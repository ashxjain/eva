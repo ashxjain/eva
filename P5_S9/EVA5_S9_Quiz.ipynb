{
  "nbformat": 4,
  "nbformat_minor": 0,
  "metadata": {
    "colab": {
      "name": "EVA5_S9_Quiz.ipynb",
      "provenance": []
    },
    "kernelspec": {
      "name": "python3",
      "display_name": "Python 3"
    },
    "accelerator": "GPU",
    "widgets": {
      "application/vnd.jupyter.widget-state+json": {
        "3db72465d1d54922b59e75bfbdc6f426": {
          "model_module": "@jupyter-widgets/controls",
          "model_name": "HBoxModel",
          "state": {
            "_view_name": "HBoxView",
            "_dom_classes": [],
            "_model_name": "HBoxModel",
            "_view_module": "@jupyter-widgets/controls",
            "_model_module_version": "1.5.0",
            "_view_count": null,
            "_view_module_version": "1.5.0",
            "box_style": "",
            "layout": "IPY_MODEL_bdff237842b2486fbdac2fff6bb8aa84",
            "_model_module": "@jupyter-widgets/controls",
            "children": [
              "IPY_MODEL_e4ad21bf63444b0aa5358b2c0a64c292",
              "IPY_MODEL_108f3e518ac44f388e44107a9c773ab6"
            ]
          }
        },
        "bdff237842b2486fbdac2fff6bb8aa84": {
          "model_module": "@jupyter-widgets/base",
          "model_name": "LayoutModel",
          "state": {
            "_view_name": "LayoutView",
            "grid_template_rows": null,
            "right": null,
            "justify_content": null,
            "_view_module": "@jupyter-widgets/base",
            "overflow": null,
            "_model_module_version": "1.2.0",
            "_view_count": null,
            "flex_flow": null,
            "width": null,
            "min_width": null,
            "border": null,
            "align_items": null,
            "bottom": null,
            "_model_module": "@jupyter-widgets/base",
            "top": null,
            "grid_column": null,
            "overflow_y": null,
            "overflow_x": null,
            "grid_auto_flow": null,
            "grid_area": null,
            "grid_template_columns": null,
            "flex": null,
            "_model_name": "LayoutModel",
            "justify_items": null,
            "grid_row": null,
            "max_height": null,
            "align_content": null,
            "visibility": null,
            "align_self": null,
            "height": null,
            "min_height": null,
            "padding": null,
            "grid_auto_rows": null,
            "grid_gap": null,
            "max_width": null,
            "order": null,
            "_view_module_version": "1.2.0",
            "grid_template_areas": null,
            "object_position": null,
            "object_fit": null,
            "grid_auto_columns": null,
            "margin": null,
            "display": null,
            "left": null
          }
        },
        "e4ad21bf63444b0aa5358b2c0a64c292": {
          "model_module": "@jupyter-widgets/controls",
          "model_name": "FloatProgressModel",
          "state": {
            "_view_name": "ProgressView",
            "style": "IPY_MODEL_addbd16d45bf487782196d1b354478ff",
            "_dom_classes": [],
            "description": "",
            "_model_name": "FloatProgressModel",
            "bar_style": "info",
            "max": 1,
            "_view_module": "@jupyter-widgets/controls",
            "_model_module_version": "1.5.0",
            "value": 1,
            "_view_count": null,
            "_view_module_version": "1.5.0",
            "orientation": "horizontal",
            "min": 0,
            "description_tooltip": null,
            "_model_module": "@jupyter-widgets/controls",
            "layout": "IPY_MODEL_a0eb22b5909e4d7b90a35c60b87c0846"
          }
        },
        "108f3e518ac44f388e44107a9c773ab6": {
          "model_module": "@jupyter-widgets/controls",
          "model_name": "HTMLModel",
          "state": {
            "_view_name": "HTMLView",
            "style": "IPY_MODEL_c8579137acfb4775b700be19cd451fb1",
            "_dom_classes": [],
            "description": "",
            "_model_name": "HTMLModel",
            "placeholder": "​",
            "_view_module": "@jupyter-widgets/controls",
            "_model_module_version": "1.5.0",
            "value": " 170500096/? [00:20&lt;00:00, 53501210.15it/s]",
            "_view_count": null,
            "_view_module_version": "1.5.0",
            "description_tooltip": null,
            "_model_module": "@jupyter-widgets/controls",
            "layout": "IPY_MODEL_25496c9700cc469496342be39d56a531"
          }
        },
        "addbd16d45bf487782196d1b354478ff": {
          "model_module": "@jupyter-widgets/controls",
          "model_name": "ProgressStyleModel",
          "state": {
            "_view_name": "StyleView",
            "_model_name": "ProgressStyleModel",
            "description_width": "initial",
            "_view_module": "@jupyter-widgets/base",
            "_model_module_version": "1.5.0",
            "_view_count": null,
            "_view_module_version": "1.2.0",
            "bar_color": null,
            "_model_module": "@jupyter-widgets/controls"
          }
        },
        "a0eb22b5909e4d7b90a35c60b87c0846": {
          "model_module": "@jupyter-widgets/base",
          "model_name": "LayoutModel",
          "state": {
            "_view_name": "LayoutView",
            "grid_template_rows": null,
            "right": null,
            "justify_content": null,
            "_view_module": "@jupyter-widgets/base",
            "overflow": null,
            "_model_module_version": "1.2.0",
            "_view_count": null,
            "flex_flow": null,
            "width": null,
            "min_width": null,
            "border": null,
            "align_items": null,
            "bottom": null,
            "_model_module": "@jupyter-widgets/base",
            "top": null,
            "grid_column": null,
            "overflow_y": null,
            "overflow_x": null,
            "grid_auto_flow": null,
            "grid_area": null,
            "grid_template_columns": null,
            "flex": null,
            "_model_name": "LayoutModel",
            "justify_items": null,
            "grid_row": null,
            "max_height": null,
            "align_content": null,
            "visibility": null,
            "align_self": null,
            "height": null,
            "min_height": null,
            "padding": null,
            "grid_auto_rows": null,
            "grid_gap": null,
            "max_width": null,
            "order": null,
            "_view_module_version": "1.2.0",
            "grid_template_areas": null,
            "object_position": null,
            "object_fit": null,
            "grid_auto_columns": null,
            "margin": null,
            "display": null,
            "left": null
          }
        },
        "c8579137acfb4775b700be19cd451fb1": {
          "model_module": "@jupyter-widgets/controls",
          "model_name": "DescriptionStyleModel",
          "state": {
            "_view_name": "StyleView",
            "_model_name": "DescriptionStyleModel",
            "description_width": "",
            "_view_module": "@jupyter-widgets/base",
            "_model_module_version": "1.5.0",
            "_view_count": null,
            "_view_module_version": "1.2.0",
            "_model_module": "@jupyter-widgets/controls"
          }
        },
        "25496c9700cc469496342be39d56a531": {
          "model_module": "@jupyter-widgets/base",
          "model_name": "LayoutModel",
          "state": {
            "_view_name": "LayoutView",
            "grid_template_rows": null,
            "right": null,
            "justify_content": null,
            "_view_module": "@jupyter-widgets/base",
            "overflow": null,
            "_model_module_version": "1.2.0",
            "_view_count": null,
            "flex_flow": null,
            "width": null,
            "min_width": null,
            "border": null,
            "align_items": null,
            "bottom": null,
            "_model_module": "@jupyter-widgets/base",
            "top": null,
            "grid_column": null,
            "overflow_y": null,
            "overflow_x": null,
            "grid_auto_flow": null,
            "grid_area": null,
            "grid_template_columns": null,
            "flex": null,
            "_model_name": "LayoutModel",
            "justify_items": null,
            "grid_row": null,
            "max_height": null,
            "align_content": null,
            "visibility": null,
            "align_self": null,
            "height": null,
            "min_height": null,
            "padding": null,
            "grid_auto_rows": null,
            "grid_gap": null,
            "max_width": null,
            "order": null,
            "_view_module_version": "1.2.0",
            "grid_template_areas": null,
            "object_position": null,
            "object_fit": null,
            "grid_auto_columns": null,
            "margin": null,
            "display": null,
            "left": null
          }
        }
      }
    }
  },
  "cells": [
    {
      "cell_type": "code",
      "metadata": {
        "id": "osbIHARGt-33",
        "outputId": "9f1145a9-2c95-4f27-e0f8-077c2213be03",
        "colab": {
          "base_uri": "https://localhost:8080/",
          "height": 34
        }
      },
      "source": [
        "from datetime import datetime\n",
        "print(f'Current Date/Time: {datetime.now()}')"
      ],
      "execution_count": 1,
      "outputs": [
        {
          "output_type": "stream",
          "text": [
            "Current Date/Time: 2020-09-26 20:11:26.611044\n"
          ],
          "name": "stdout"
        }
      ]
    },
    {
      "cell_type": "code",
      "metadata": {
        "id": "zgAR4iW8ubxR",
        "outputId": "0d91bf9c-b3ab-4403-e3fb-96aecc328474",
        "colab": {
          "base_uri": "https://localhost:8080/",
          "height": 119
        }
      },
      "source": [
        "!rm -rf pytorch_utils\n",
        "!git clone https://github.com/toniqapps/pytorch_utils.git"
      ],
      "execution_count": 2,
      "outputs": [
        {
          "output_type": "stream",
          "text": [
            "Cloning into 'pytorch_utils'...\n",
            "remote: Enumerating objects: 83, done.\u001b[K\n",
            "remote: Counting objects: 100% (83/83), done.\u001b[K\n",
            "remote: Compressing objects: 100% (76/76), done.\u001b[K\n",
            "remote: Total 83 (delta 49), reused 17 (delta 6), pack-reused 0\u001b[K\n",
            "Unpacking objects: 100% (83/83), done.\n"
          ],
          "name": "stdout"
        }
      ]
    },
    {
      "cell_type": "code",
      "metadata": {
        "id": "clMhqhVR06uz",
        "outputId": "782968ba-1c9e-4f31-8c6b-f90800cc8c94",
        "colab": {
          "base_uri": "https://localhost:8080/",
          "height": 34
        }
      },
      "source": [
        "!pip install torchsummary"
      ],
      "execution_count": 3,
      "outputs": [
        {
          "output_type": "stream",
          "text": [
            "Requirement already satisfied: torchsummary in /usr/local/lib/python3.6/dist-packages (1.5.1)\n"
          ],
          "name": "stdout"
        }
      ]
    },
    {
      "cell_type": "code",
      "metadata": {
        "id": "ct3r49Hd1UKM"
      },
      "source": [
        "import torch\n",
        "import torchvision\n",
        "import torchvision.transforms as transforms"
      ],
      "execution_count": 4,
      "outputs": []
    },
    {
      "cell_type": "markdown",
      "metadata": {
        "id": "U4pMdbTe1ANM"
      },
      "source": [
        "### Load CIFAR10 Dataset"
      ]
    },
    {
      "cell_type": "code",
      "metadata": {
        "id": "z5cAS5Nf0-6t",
        "outputId": "1594a9f4-7c84-46ad-93b4-07a5cc5bcd6d",
        "colab": {
          "base_uri": "https://localhost:8080/",
          "height": 100,
          "referenced_widgets": [
            "3db72465d1d54922b59e75bfbdc6f426",
            "bdff237842b2486fbdac2fff6bb8aa84",
            "e4ad21bf63444b0aa5358b2c0a64c292",
            "108f3e518ac44f388e44107a9c773ab6",
            "addbd16d45bf487782196d1b354478ff",
            "a0eb22b5909e4d7b90a35c60b87c0846",
            "c8579137acfb4775b700be19cd451fb1",
            "25496c9700cc469496342be39d56a531"
          ]
        }
      },
      "source": [
        "from pytorch_utils import dataset\n",
        "\n",
        "train, test = dataset.cifar10()"
      ],
      "execution_count": 5,
      "outputs": [
        {
          "output_type": "stream",
          "text": [
            "Downloading https://www.cs.toronto.edu/~kriz/cifar-10-python.tar.gz to ./data/cifar-10-python.tar.gz\n"
          ],
          "name": "stdout"
        },
        {
          "output_type": "display_data",
          "data": {
            "application/vnd.jupyter.widget-view+json": {
              "model_id": "3db72465d1d54922b59e75bfbdc6f426",
              "version_minor": 0,
              "version_major": 2
            },
            "text/plain": [
              "HBox(children=(FloatProgress(value=1.0, bar_style='info', max=1.0), HTML(value='')))"
            ]
          },
          "metadata": {
            "tags": []
          }
        },
        {
          "output_type": "stream",
          "text": [
            "Extracting ./data/cifar-10-python.tar.gz to ./data\n",
            "Files already downloaded and verified\n"
          ],
          "name": "stdout"
        }
      ]
    },
    {
      "cell_type": "code",
      "metadata": {
        "id": "jaDMA6TU1N0I",
        "outputId": "88b4abd2-83dd-46f6-90d8-bfe518593daa",
        "colab": {
          "base_uri": "https://localhost:8080/",
          "height": 34
        }
      },
      "source": [
        "SEED = 1\n",
        "\n",
        "# CUDA?\n",
        "cuda = torch.cuda.is_available()\n",
        "print(\"CUDA Available?\", cuda)\n",
        "\n",
        "# For reproducibility\n",
        "torch.manual_seed(SEED)\n",
        "\n",
        "if cuda:\n",
        "    torch.cuda.manual_seed(SEED)\n",
        "\n",
        "# dataloader arguments - something you'll fetch these from cmdprmt\n",
        "dataloader_args = dict(shuffle=True, batch_size=128, num_workers=4, pin_memory=True) if cuda else dict(shuffle=True, batch_size=64)\n",
        "\n",
        "# train dataloader\n",
        "trainloader = torch.utils.data.DataLoader(train, **dataloader_args)\n",
        "\n",
        "# test dataloader\n",
        "testloader = torch.utils.data.DataLoader(test, **dataloader_args)\n",
        "\n",
        "classes = ('plane', 'car', 'bird', 'cat',\n",
        "           'deer', 'dog', 'frog', 'horse', 'ship', 'truck')"
      ],
      "execution_count": 6,
      "outputs": [
        {
          "output_type": "stream",
          "text": [
            "CUDA Available? True\n"
          ],
          "name": "stdout"
        }
      ]
    },
    {
      "cell_type": "code",
      "metadata": {
        "id": "tMQfsbFV1aAd",
        "outputId": "3561d983-a5e9-437e-d534-c19c54d3ab4b",
        "colab": {
          "base_uri": "https://localhost:8080/",
          "height": 303
        }
      },
      "source": [
        "import matplotlib.pyplot as plt\n",
        "import numpy as np\n",
        "\n",
        "# functions to show an image\n",
        "\n",
        "\n",
        "def imshow(img):\n",
        "    img = img / 2 + 0.5     # unnormalize\n",
        "    npimg = img.numpy()\n",
        "    plt.imshow(np.transpose(npimg, (1, 2, 0)))\n",
        "\n",
        "\n",
        "# get some random training images\n",
        "dataiter = iter(trainloader)\n",
        "images, labels = dataiter.next()\n",
        "\n",
        "# show images\n",
        "imshow(torchvision.utils.make_grid(images))\n",
        "# print labels\n",
        "print(' '.join('%5s' % classes[labels[j]] for j in range(4)))"
      ],
      "execution_count": 7,
      "outputs": [
        {
          "output_type": "stream",
          "text": [
            "Clipping input data to the valid range for imshow with RGB data ([0..1] for floats or [0..255] for integers).\n"
          ],
          "name": "stderr"
        },
        {
          "output_type": "stream",
          "text": [
            "plane   dog  deer  deer\n"
          ],
          "name": "stdout"
        },
        {
          "output_type": "display_data",
          "data": {
            "image/png": "[encoded data removed]",
            "text/plain": [
              "<Figure size 432x288 with 1 Axes>"
            ]
          },
          "metadata": {
            "tags": [],
            "needs_background": "light"
          }
        }
      ]
    },
    {
      "cell_type": "code",
      "metadata": {
        "id": "kN2TQ43f1t_d",
        "outputId": "3749b81b-7d9f-4e27-a1e3-43073f51a4da",
        "colab": {
          "base_uri": "https://localhost:8080/",
          "height": 34
        }
      },
      "source": [
        "use_cuda = torch.cuda.is_available()\n",
        "device = torch.device(\"cuda\" if use_cuda else \"cpu\")\n",
        "print(device)"
      ],
      "execution_count": 8,
      "outputs": [
        {
          "output_type": "stream",
          "text": [
            "cuda\n"
          ],
          "name": "stdout"
        }
      ]
    },
    {
      "cell_type": "code",
      "metadata": {
        "id": "e7TT2gJq0zsm"
      },
      "source": [
        "import torch.nn as nn\n",
        "import torch.nn.functional as F\n",
        "\n",
        "class QuizDNN(nn.Module):\n",
        "\n",
        "    def conv_block (self, in_channels, out_channels, kernel_size = 3, padding = 1):\n",
        "      return nn.Sequential(\n",
        "            nn.Conv2d(in_channels = in_channels, out_channels = out_channels, kernel_size = kernel_size, padding = padding, bias = False),\n",
        "            nn.ReLU(),\n",
        "            nn.BatchNorm2d(out_channels),\n",
        "            nn.Dropout(0.01))\n",
        "\n",
        "    def __init__(self, opts=[]):\n",
        "        super(QuizDNN, self).__init__()\n",
        "        self.input = self.conv_block(3, 32)\n",
        "        self.conv1 = self.conv_block(32, 32)\n",
        "        self.conv2 = self.conv_block(32, 32)\n",
        "        self.conv3 = self.conv_block(32, 32)\n",
        "        self.conv4 = self.conv_block(32, 32)\n",
        "        self.conv5 = self.conv_block(32, 32)\n",
        "        self.conv6 = self.conv_block(32, 32)\n",
        "        self.conv7 = self.conv_block(32, 32)\n",
        "        self.conv8 = self.conv_block(32, 32)\n",
        "        self.pool = nn.MaxPool2d(2, 2)\n",
        "        self.gap = nn.Sequential(nn.AvgPool2d(kernel_size=8))\n",
        "        self.fc = nn.Linear(32, 10)\n",
        "\n",
        "    def forward(self, x):\n",
        "        x1 = self.input(x) # 32 x 32 x 32\n",
        "        x2 = self.conv1(x1) # 32x32x32\n",
        "        #print(x1.shape, x2.shape)\n",
        "        x3 = self.conv2(x1 + x2) #32x32x32\n",
        "        x4 = self.pool(x1 + x2 + x3) #16x16x32\n",
        "        x5 = self.conv3(x4) #16x16x32\n",
        "        x6 = self.conv4(x4 + x5) #16x16x32\n",
        "        x7 = self.conv5(x4 + x5 + x6) #16x16x32\n",
        "        x8 = self.pool(x5 + x6 + x7) #8x8x32\n",
        "        x9 = self.conv6(x8) #8x8x32\n",
        "        x10 = self.conv7(x8 + x9) #8x8x32\n",
        "        x11 = self.conv8(x8 + x9 + x10) #8x8x32\n",
        "        x12 = self.gap(x11) #1x1x32\n",
        "        x13 = self.fc(x12.view(x12.size(0), -1)) #1x1x10\n",
        "        x = x13.view(-1, 10)\n",
        "        return F.log_softmax(x, dim=-1)\n"
      ],
      "execution_count": 9,
      "outputs": []
    },
    {
      "cell_type": "code",
      "metadata": {
        "id": "6YM12Mda04rR",
        "outputId": "ee017ae6-4c54-4095-cc15-4e4179c58131",
        "colab": {
          "base_uri": "https://localhost:8080/",
          "height": 918
        }
      },
      "source": [
        "from torchsummary import summary\n",
        "\n",
        "net = QuizDNN().to(device)\n",
        "summary(net, input_size=(3, 32, 32))"
      ],
      "execution_count": 10,
      "outputs": [
        {
          "output_type": "stream",
          "text": [
            "----------------------------------------------------------------\n",
            "        Layer (type)               Output Shape         Param #\n",
            "================================================================\n",
            "            Conv2d-1           [-1, 32, 32, 32]             864\n",
            "              ReLU-2           [-1, 32, 32, 32]               0\n",
            "       BatchNorm2d-3           [-1, 32, 32, 32]              64\n",
            "           Dropout-4           [-1, 32, 32, 32]               0\n",
            "            Conv2d-5           [-1, 32, 32, 32]           9,216\n",
            "              ReLU-6           [-1, 32, 32, 32]               0\n",
            "       BatchNorm2d-7           [-1, 32, 32, 32]              64\n",
            "           Dropout-8           [-1, 32, 32, 32]               0\n",
            "            Conv2d-9           [-1, 32, 32, 32]           9,216\n",
            "             ReLU-10           [-1, 32, 32, 32]               0\n",
            "      BatchNorm2d-11           [-1, 32, 32, 32]              64\n",
            "          Dropout-12           [-1, 32, 32, 32]               0\n",
            "        MaxPool2d-13           [-1, 32, 16, 16]               0\n",
            "           Conv2d-14           [-1, 32, 16, 16]           9,216\n",
            "             ReLU-15           [-1, 32, 16, 16]               0\n",
            "      BatchNorm2d-16           [-1, 32, 16, 16]              64\n",
            "          Dropout-17           [-1, 32, 16, 16]               0\n",
            "           Conv2d-18           [-1, 32, 16, 16]           9,216\n",
            "             ReLU-19           [-1, 32, 16, 16]               0\n",
            "      BatchNorm2d-20           [-1, 32, 16, 16]              64\n",
            "          Dropout-21           [-1, 32, 16, 16]               0\n",
            "           Conv2d-22           [-1, 32, 16, 16]           9,216\n",
            "             ReLU-23           [-1, 32, 16, 16]               0\n",
            "      BatchNorm2d-24           [-1, 32, 16, 16]              64\n",
            "          Dropout-25           [-1, 32, 16, 16]               0\n",
            "        MaxPool2d-26             [-1, 32, 8, 8]               0\n",
            "           Conv2d-27             [-1, 32, 8, 8]           9,216\n",
            "             ReLU-28             [-1, 32, 8, 8]               0\n",
            "      BatchNorm2d-29             [-1, 32, 8, 8]              64\n",
            "          Dropout-30             [-1, 32, 8, 8]               0\n",
            "           Conv2d-31             [-1, 32, 8, 8]           9,216\n",
            "             ReLU-32             [-1, 32, 8, 8]               0\n",
            "      BatchNorm2d-33             [-1, 32, 8, 8]              64\n",
            "          Dropout-34             [-1, 32, 8, 8]               0\n",
            "           Conv2d-35             [-1, 32, 8, 8]           9,216\n",
            "             ReLU-36             [-1, 32, 8, 8]               0\n",
            "      BatchNorm2d-37             [-1, 32, 8, 8]              64\n",
            "          Dropout-38             [-1, 32, 8, 8]               0\n",
            "        AvgPool2d-39             [-1, 32, 1, 1]               0\n",
            "           Linear-40                   [-1, 10]             330\n",
            "================================================================\n",
            "Total params: 75,498\n",
            "Trainable params: 75,498\n",
            "Non-trainable params: 0\n",
            "----------------------------------------------------------------\n",
            "Input size (MB): 0.01\n",
            "Forward/backward pass size (MB): 4.02\n",
            "Params size (MB): 0.29\n",
            "Estimated Total Size (MB): 4.32\n",
            "----------------------------------------------------------------\n"
          ],
          "name": "stdout"
        }
      ]
    },
    {
      "cell_type": "code",
      "metadata": {
        "id": "7xbjejruCU9j",
        "outputId": "3468b983-af46-43d4-cde8-59f7c8668300",
        "colab": {
          "base_uri": "https://localhost:8080/",
          "height": 1000
        }
      },
      "source": [
        "import torch.optim as optim\n",
        "from pytorch_utils import train, test\n",
        "import torch.nn as nn\n",
        "\n",
        "criterion = nn.CrossEntropyLoss()\n",
        "optimizer = optim.SGD(net.parameters(), lr=0.1, momentum=0.9, weight_decay=5e-4)\n",
        "\n",
        "model_name = 'cifar_10_plot'\n",
        "\n",
        "train_losses = dict()\n",
        "train_acc = dict()\n",
        "test_losses = dict()\n",
        "test_acc = dict()\n",
        "\n",
        "train_losses[model_name] = []\n",
        "train_acc[model_name] = []\n",
        "test_losses[model_name] = []\n",
        "test_acc[model_name] = []\n",
        "\n",
        "EPOCHS = 40\n",
        "for epoch in range(EPOCHS):\n",
        "    print(\"EPOCH:\", epoch)\n",
        "    tr_loss, tr_acc = train.train(net, device, trainloader, optimizer, criterion, epoch, [], dict())\n",
        "    train_losses[model_name].extend(tr_loss)\n",
        "    train_acc[model_name].extend(tr_acc)\n",
        "    te_loss, te_acc = test.test(net, device, testloader, criterion)\n",
        "    test_losses[model_name].extend(te_loss)\n",
        "    test_acc[model_name].extend(te_acc)"
      ],
      "execution_count": 11,
      "outputs": [
        {
          "output_type": "stream",
          "text": [
            "\r  0%|          | 0/391 [00:00<?, ?it/s]"
          ],
          "name": "stderr"
        },
        {
          "output_type": "stream",
          "text": [
            "EPOCH: 0\n"
          ],
          "name": "stdout"
        },
        {
          "output_type": "stream",
          "text": [
            "Loss=1.2022547721862793 Batch_id=390 Accuracy=47.32: 100%|██████████| 391/391 [00:18<00:00, 21.53it/s]\n",
            "  0%|          | 0/391 [00:00<?, ?it/s]"
          ],
          "name": "stderr"
        },
        {
          "output_type": "stream",
          "text": [
            "\n",
            "Test set: Average loss: 0.0116, Accuracy: 5167/10000 (51.67%)\n",
            "\n",
            "EPOCH: 1\n"
          ],
          "name": "stdout"
        },
        {
          "output_type": "stream",
          "text": [
            "Loss=1.0244405269622803 Batch_id=390 Accuracy=63.32: 100%|██████████| 391/391 [00:18<00:00, 21.40it/s]\n",
            "  0%|          | 0/391 [00:00<?, ?it/s]"
          ],
          "name": "stderr"
        },
        {
          "output_type": "stream",
          "text": [
            "\n",
            "Test set: Average loss: 0.0071, Accuracy: 6745/10000 (67.45%)\n",
            "\n",
            "EPOCH: 2\n"
          ],
          "name": "stdout"
        },
        {
          "output_type": "stream",
          "text": [
            "Loss=0.7513875961303711 Batch_id=390 Accuracy=68.97: 100%|██████████| 391/391 [00:18<00:00, 21.42it/s]\n",
            "  0%|          | 0/391 [00:00<?, ?it/s]"
          ],
          "name": "stderr"
        },
        {
          "output_type": "stream",
          "text": [
            "\n",
            "Test set: Average loss: 0.0079, Accuracy: 6500/10000 (65.00%)\n",
            "\n",
            "EPOCH: 3\n"
          ],
          "name": "stdout"
        },
        {
          "output_type": "stream",
          "text": [
            "Loss=0.589490532875061 Batch_id=390 Accuracy=72.19: 100%|██████████| 391/391 [00:18<00:00, 21.53it/s]\n",
            "  0%|          | 0/391 [00:00<?, ?it/s]"
          ],
          "name": "stderr"
        },
        {
          "output_type": "stream",
          "text": [
            "\n",
            "Test set: Average loss: 0.0068, Accuracy: 7099/10000 (70.99%)\n",
            "\n",
            "EPOCH: 4\n"
          ],
          "name": "stdout"
        },
        {
          "output_type": "stream",
          "text": [
            "Loss=0.8535676002502441 Batch_id=390 Accuracy=74.27: 100%|██████████| 391/391 [00:18<00:00, 21.44it/s]\n",
            "  0%|          | 0/391 [00:00<?, ?it/s]"
          ],
          "name": "stderr"
        },
        {
          "output_type": "stream",
          "text": [
            "\n",
            "Test set: Average loss: 0.0066, Accuracy: 7092/10000 (70.92%)\n",
            "\n",
            "EPOCH: 5\n"
          ],
          "name": "stdout"
        },
        {
          "output_type": "stream",
          "text": [
            "Loss=0.8677236437797546 Batch_id=390 Accuracy=75.60: 100%|██████████| 391/391 [00:18<00:00, 21.08it/s]\n",
            "  0%|          | 0/391 [00:00<?, ?it/s]"
          ],
          "name": "stderr"
        },
        {
          "output_type": "stream",
          "text": [
            "\n",
            "Test set: Average loss: 0.0063, Accuracy: 7294/10000 (72.94%)\n",
            "\n",
            "EPOCH: 6\n"
          ],
          "name": "stdout"
        },
        {
          "output_type": "stream",
          "text": [
            "Loss=0.6161344051361084 Batch_id=390 Accuracy=76.03: 100%|██████████| 391/391 [00:18<00:00, 21.63it/s]\n",
            "  0%|          | 0/391 [00:00<?, ?it/s]"
          ],
          "name": "stderr"
        },
        {
          "output_type": "stream",
          "text": [
            "\n",
            "Test set: Average loss: 0.0068, Accuracy: 7239/10000 (72.39%)\n",
            "\n",
            "EPOCH: 7\n"
          ],
          "name": "stdout"
        },
        {
          "output_type": "stream",
          "text": [
            "Loss=1.3391964435577393 Batch_id=390 Accuracy=77.41: 100%|██████████| 391/391 [00:18<00:00, 21.70it/s]\n",
            "  0%|          | 0/391 [00:00<?, ?it/s]"
          ],
          "name": "stderr"
        },
        {
          "output_type": "stream",
          "text": [
            "\n",
            "Test set: Average loss: 0.0065, Accuracy: 7350/10000 (73.50%)\n",
            "\n",
            "EPOCH: 8\n"
          ],
          "name": "stdout"
        },
        {
          "output_type": "stream",
          "text": [
            "Loss=0.5130715370178223 Batch_id=390 Accuracy=77.75: 100%|██████████| 391/391 [00:18<00:00, 21.24it/s]\n",
            "  0%|          | 0/391 [00:00<?, ?it/s]"
          ],
          "name": "stderr"
        },
        {
          "output_type": "stream",
          "text": [
            "\n",
            "Test set: Average loss: 0.0056, Accuracy: 7657/10000 (76.57%)\n",
            "\n",
            "EPOCH: 9\n"
          ],
          "name": "stdout"
        },
        {
          "output_type": "stream",
          "text": [
            "Loss=0.4859803318977356 Batch_id=390 Accuracy=77.97: 100%|██████████| 391/391 [00:18<00:00, 21.51it/s]\n",
            "  0%|          | 0/391 [00:00<?, ?it/s]"
          ],
          "name": "stderr"
        },
        {
          "output_type": "stream",
          "text": [
            "\n",
            "Test set: Average loss: 0.0058, Accuracy: 7503/10000 (75.03%)\n",
            "\n",
            "EPOCH: 10\n"
          ],
          "name": "stdout"
        },
        {
          "output_type": "stream",
          "text": [
            "Loss=0.5094482898712158 Batch_id=390 Accuracy=78.26: 100%|██████████| 391/391 [00:18<00:00, 21.69it/s]\n",
            "  0%|          | 0/391 [00:00<?, ?it/s]"
          ],
          "name": "stderr"
        },
        {
          "output_type": "stream",
          "text": [
            "\n",
            "Test set: Average loss: 0.0054, Accuracy: 7654/10000 (76.54%)\n",
            "\n",
            "EPOCH: 11\n"
          ],
          "name": "stdout"
        },
        {
          "output_type": "stream",
          "text": [
            "Loss=0.6039443016052246 Batch_id=390 Accuracy=78.62: 100%|██████████| 391/391 [00:17<00:00, 21.73it/s]\n",
            "  0%|          | 0/391 [00:00<?, ?it/s]"
          ],
          "name": "stderr"
        },
        {
          "output_type": "stream",
          "text": [
            "\n",
            "Test set: Average loss: 0.0056, Accuracy: 7627/10000 (76.27%)\n",
            "\n",
            "EPOCH: 12\n"
          ],
          "name": "stdout"
        },
        {
          "output_type": "stream",
          "text": [
            "Loss=0.48551416397094727 Batch_id=390 Accuracy=78.98: 100%|██████████| 391/391 [00:18<00:00, 21.67it/s]\n",
            "  0%|          | 0/391 [00:00<?, ?it/s]"
          ],
          "name": "stderr"
        },
        {
          "output_type": "stream",
          "text": [
            "\n",
            "Test set: Average loss: 0.0054, Accuracy: 7692/10000 (76.92%)\n",
            "\n",
            "EPOCH: 13\n"
          ],
          "name": "stdout"
        },
        {
          "output_type": "stream",
          "text": [
            "Loss=0.4801487922668457 Batch_id=390 Accuracy=79.28: 100%|██████████| 391/391 [00:17<00:00, 21.87it/s]\n",
            "  0%|          | 0/391 [00:00<?, ?it/s]"
          ],
          "name": "stderr"
        },
        {
          "output_type": "stream",
          "text": [
            "\n",
            "Test set: Average loss: 0.0079, Accuracy: 6871/10000 (68.71%)\n",
            "\n",
            "EPOCH: 14\n"
          ],
          "name": "stdout"
        },
        {
          "output_type": "stream",
          "text": [
            "Loss=0.5991522073745728 Batch_id=390 Accuracy=79.32: 100%|██████████| 391/391 [00:17<00:00, 22.00it/s]\n",
            "  0%|          | 0/391 [00:00<?, ?it/s]"
          ],
          "name": "stderr"
        },
        {
          "output_type": "stream",
          "text": [
            "\n",
            "Test set: Average loss: 0.0074, Accuracy: 7086/10000 (70.86%)\n",
            "\n",
            "EPOCH: 15\n"
          ],
          "name": "stdout"
        },
        {
          "output_type": "stream",
          "text": [
            "Loss=0.5003955364227295 Batch_id=390 Accuracy=79.42: 100%|██████████| 391/391 [00:17<00:00, 22.14it/s]\n",
            "  0%|          | 0/391 [00:00<?, ?it/s]"
          ],
          "name": "stderr"
        },
        {
          "output_type": "stream",
          "text": [
            "\n",
            "Test set: Average loss: 0.0051, Accuracy: 7785/10000 (77.85%)\n",
            "\n",
            "EPOCH: 16\n"
          ],
          "name": "stdout"
        },
        {
          "output_type": "stream",
          "text": [
            "Loss=0.48797607421875 Batch_id=390 Accuracy=79.51: 100%|██████████| 391/391 [00:17<00:00, 22.02it/s]\n",
            "  0%|          | 0/391 [00:00<?, ?it/s]"
          ],
          "name": "stderr"
        },
        {
          "output_type": "stream",
          "text": [
            "\n",
            "Test set: Average loss: 0.0053, Accuracy: 7797/10000 (77.97%)\n",
            "\n",
            "EPOCH: 17\n"
          ],
          "name": "stdout"
        },
        {
          "output_type": "stream",
          "text": [
            "Loss=0.7459217309951782 Batch_id=390 Accuracy=79.92: 100%|██████████| 391/391 [00:17<00:00, 22.19it/s]\n",
            "  0%|          | 0/391 [00:00<?, ?it/s]"
          ],
          "name": "stderr"
        },
        {
          "output_type": "stream",
          "text": [
            "\n",
            "Test set: Average loss: 0.0051, Accuracy: 7852/10000 (78.52%)\n",
            "\n",
            "EPOCH: 18\n"
          ],
          "name": "stdout"
        },
        {
          "output_type": "stream",
          "text": [
            "Loss=0.6517205834388733 Batch_id=390 Accuracy=79.80: 100%|██████████| 391/391 [00:17<00:00, 21.85it/s]\n",
            "  0%|          | 0/391 [00:00<?, ?it/s]"
          ],
          "name": "stderr"
        },
        {
          "output_type": "stream",
          "text": [
            "\n",
            "Test set: Average loss: 0.0059, Accuracy: 7628/10000 (76.28%)\n",
            "\n",
            "EPOCH: 19\n"
          ],
          "name": "stdout"
        },
        {
          "output_type": "stream",
          "text": [
            "Loss=0.454346239566803 Batch_id=390 Accuracy=80.15: 100%|██████████| 391/391 [00:17<00:00, 21.90it/s]\n",
            "  0%|          | 0/391 [00:00<?, ?it/s]"
          ],
          "name": "stderr"
        },
        {
          "output_type": "stream",
          "text": [
            "\n",
            "Test set: Average loss: 0.0057, Accuracy: 7682/10000 (76.82%)\n",
            "\n",
            "EPOCH: 20\n"
          ],
          "name": "stdout"
        },
        {
          "output_type": "stream",
          "text": [
            "Loss=0.6171854734420776 Batch_id=390 Accuracy=80.50: 100%|██████████| 391/391 [00:17<00:00, 21.87it/s]\n",
            "  0%|          | 0/391 [00:00<?, ?it/s]"
          ],
          "name": "stderr"
        },
        {
          "output_type": "stream",
          "text": [
            "\n",
            "Test set: Average loss: 0.0050, Accuracy: 7791/10000 (77.91%)\n",
            "\n",
            "EPOCH: 21\n"
          ],
          "name": "stdout"
        },
        {
          "output_type": "stream",
          "text": [
            "Loss=0.7200860977172852 Batch_id=390 Accuracy=80.16: 100%|██████████| 391/391 [00:17<00:00, 21.85it/s]\n",
            "  0%|          | 0/391 [00:00<?, ?it/s]"
          ],
          "name": "stderr"
        },
        {
          "output_type": "stream",
          "text": [
            "\n",
            "Test set: Average loss: 0.0050, Accuracy: 7875/10000 (78.75%)\n",
            "\n",
            "EPOCH: 22\n"
          ],
          "name": "stdout"
        },
        {
          "output_type": "stream",
          "text": [
            "Loss=0.5973418951034546 Batch_id=390 Accuracy=80.52: 100%|██████████| 391/391 [00:17<00:00, 22.12it/s]\n",
            "  0%|          | 0/391 [00:00<?, ?it/s]"
          ],
          "name": "stderr"
        },
        {
          "output_type": "stream",
          "text": [
            "\n",
            "Test set: Average loss: 0.0053, Accuracy: 7791/10000 (77.91%)\n",
            "\n",
            "EPOCH: 23\n"
          ],
          "name": "stdout"
        },
        {
          "output_type": "stream",
          "text": [
            "Loss=0.5829825401306152 Batch_id=390 Accuracy=80.40: 100%|██████████| 391/391 [00:17<00:00, 21.97it/s]\n",
            "  0%|          | 0/391 [00:00<?, ?it/s]"
          ],
          "name": "stderr"
        },
        {
          "output_type": "stream",
          "text": [
            "\n",
            "Test set: Average loss: 0.0050, Accuracy: 7891/10000 (78.91%)\n",
            "\n",
            "EPOCH: 24\n"
          ],
          "name": "stdout"
        },
        {
          "output_type": "stream",
          "text": [
            "Loss=0.5469955205917358 Batch_id=390 Accuracy=80.55: 100%|██████████| 391/391 [00:17<00:00, 21.76it/s]\n",
            "  0%|          | 0/391 [00:00<?, ?it/s]"
          ],
          "name": "stderr"
        },
        {
          "output_type": "stream",
          "text": [
            "\n",
            "Test set: Average loss: 0.0049, Accuracy: 7865/10000 (78.65%)\n",
            "\n",
            "EPOCH: 25\n"
          ],
          "name": "stdout"
        },
        {
          "output_type": "stream",
          "text": [
            "Loss=0.5304132699966431 Batch_id=390 Accuracy=80.68: 100%|██████████| 391/391 [00:17<00:00, 21.95it/s]\n",
            "  0%|          | 0/391 [00:00<?, ?it/s]"
          ],
          "name": "stderr"
        },
        {
          "output_type": "stream",
          "text": [
            "\n",
            "Test set: Average loss: 0.0053, Accuracy: 7777/10000 (77.77%)\n",
            "\n",
            "EPOCH: 26\n"
          ],
          "name": "stdout"
        },
        {
          "output_type": "stream",
          "text": [
            "Loss=0.5926538705825806 Batch_id=390 Accuracy=80.62: 100%|██████████| 391/391 [00:17<00:00, 22.13it/s]\n",
            "  0%|          | 0/391 [00:00<?, ?it/s]"
          ],
          "name": "stderr"
        },
        {
          "output_type": "stream",
          "text": [
            "\n",
            "Test set: Average loss: 0.0055, Accuracy: 7735/10000 (77.35%)\n",
            "\n",
            "EPOCH: 27\n"
          ],
          "name": "stdout"
        },
        {
          "output_type": "stream",
          "text": [
            "Loss=0.6395763158798218 Batch_id=390 Accuracy=80.51: 100%|██████████| 391/391 [00:17<00:00, 22.00it/s]\n",
            "  0%|          | 0/391 [00:00<?, ?it/s]"
          ],
          "name": "stderr"
        },
        {
          "output_type": "stream",
          "text": [
            "\n",
            "Test set: Average loss: 0.0050, Accuracy: 7861/10000 (78.61%)\n",
            "\n",
            "EPOCH: 28\n"
          ],
          "name": "stdout"
        },
        {
          "output_type": "stream",
          "text": [
            "Loss=0.5301540493965149 Batch_id=390 Accuracy=80.72: 100%|██████████| 391/391 [00:17<00:00, 21.85it/s]\n",
            "  0%|          | 0/391 [00:00<?, ?it/s]"
          ],
          "name": "stderr"
        },
        {
          "output_type": "stream",
          "text": [
            "\n",
            "Test set: Average loss: 0.0052, Accuracy: 7818/10000 (78.18%)\n",
            "\n",
            "EPOCH: 29\n"
          ],
          "name": "stdout"
        },
        {
          "output_type": "stream",
          "text": [
            "Loss=0.612511157989502 Batch_id=390 Accuracy=80.61: 100%|██████████| 391/391 [00:17<00:00, 22.04it/s]\n",
            "  0%|          | 0/391 [00:00<?, ?it/s]"
          ],
          "name": "stderr"
        },
        {
          "output_type": "stream",
          "text": [
            "\n",
            "Test set: Average loss: 0.0051, Accuracy: 7804/10000 (78.04%)\n",
            "\n",
            "EPOCH: 30\n"
          ],
          "name": "stdout"
        },
        {
          "output_type": "stream",
          "text": [
            "Loss=0.5466102361679077 Batch_id=390 Accuracy=80.69: 100%|██████████| 391/391 [00:17<00:00, 22.15it/s]\n",
            "  0%|          | 0/391 [00:00<?, ?it/s]"
          ],
          "name": "stderr"
        },
        {
          "output_type": "stream",
          "text": [
            "\n",
            "Test set: Average loss: 0.0053, Accuracy: 7704/10000 (77.04%)\n",
            "\n",
            "EPOCH: 31\n"
          ],
          "name": "stdout"
        },
        {
          "output_type": "stream",
          "text": [
            "Loss=0.527315080165863 Batch_id=390 Accuracy=80.86: 100%|██████████| 391/391 [00:17<00:00, 22.40it/s]\n",
            "  0%|          | 0/391 [00:00<?, ?it/s]"
          ],
          "name": "stderr"
        },
        {
          "output_type": "stream",
          "text": [
            "\n",
            "Test set: Average loss: 0.0054, Accuracy: 7758/10000 (77.58%)\n",
            "\n",
            "EPOCH: 32\n"
          ],
          "name": "stdout"
        },
        {
          "output_type": "stream",
          "text": [
            "Loss=0.5326972603797913 Batch_id=390 Accuracy=80.91: 100%|██████████| 391/391 [00:17<00:00, 22.03it/s]\n",
            "  0%|          | 0/391 [00:00<?, ?it/s]"
          ],
          "name": "stderr"
        },
        {
          "output_type": "stream",
          "text": [
            "\n",
            "Test set: Average loss: 0.0053, Accuracy: 7799/10000 (77.99%)\n",
            "\n",
            "EPOCH: 33\n"
          ],
          "name": "stdout"
        },
        {
          "output_type": "stream",
          "text": [
            "Loss=0.3901430070400238 Batch_id=390 Accuracy=80.76: 100%|██████████| 391/391 [00:17<00:00, 22.29it/s]\n",
            "  0%|          | 0/391 [00:00<?, ?it/s]"
          ],
          "name": "stderr"
        },
        {
          "output_type": "stream",
          "text": [
            "\n",
            "Test set: Average loss: 0.0053, Accuracy: 7756/10000 (77.56%)\n",
            "\n",
            "EPOCH: 34\n"
          ],
          "name": "stdout"
        },
        {
          "output_type": "stream",
          "text": [
            "Loss=0.5364457368850708 Batch_id=390 Accuracy=80.91: 100%|██████████| 391/391 [00:17<00:00, 22.20it/s]\n",
            "  0%|          | 0/391 [00:00<?, ?it/s]"
          ],
          "name": "stderr"
        },
        {
          "output_type": "stream",
          "text": [
            "\n",
            "Test set: Average loss: 0.0050, Accuracy: 7897/10000 (78.97%)\n",
            "\n",
            "EPOCH: 35\n"
          ],
          "name": "stdout"
        },
        {
          "output_type": "stream",
          "text": [
            "Loss=0.5334056615829468 Batch_id=390 Accuracy=80.81: 100%|██████████| 391/391 [00:17<00:00, 22.18it/s]\n",
            "  0%|          | 0/391 [00:00<?, ?it/s]"
          ],
          "name": "stderr"
        },
        {
          "output_type": "stream",
          "text": [
            "\n",
            "Test set: Average loss: 0.0058, Accuracy: 7646/10000 (76.46%)\n",
            "\n",
            "EPOCH: 36\n"
          ],
          "name": "stdout"
        },
        {
          "output_type": "stream",
          "text": [
            "Loss=0.5636392831802368 Batch_id=390 Accuracy=80.94: 100%|██████████| 391/391 [00:17<00:00, 22.07it/s]\n",
            "  0%|          | 0/391 [00:00<?, ?it/s]"
          ],
          "name": "stderr"
        },
        {
          "output_type": "stream",
          "text": [
            "\n",
            "Test set: Average loss: 0.0049, Accuracy: 7936/10000 (79.36%)\n",
            "\n",
            "EPOCH: 37\n"
          ],
          "name": "stdout"
        },
        {
          "output_type": "stream",
          "text": [
            "Loss=0.544735312461853 Batch_id=390 Accuracy=81.05: 100%|██████████| 391/391 [00:17<00:00, 22.30it/s]\n",
            "  0%|          | 0/391 [00:00<?, ?it/s]"
          ],
          "name": "stderr"
        },
        {
          "output_type": "stream",
          "text": [
            "\n",
            "Test set: Average loss: 0.0053, Accuracy: 7738/10000 (77.38%)\n",
            "\n",
            "EPOCH: 38\n"
          ],
          "name": "stdout"
        },
        {
          "output_type": "stream",
          "text": [
            "Loss=0.5604576468467712 Batch_id=390 Accuracy=81.07: 100%|██████████| 391/391 [00:17<00:00, 22.23it/s]\n",
            "  0%|          | 0/391 [00:00<?, ?it/s]"
          ],
          "name": "stderr"
        },
        {
          "output_type": "stream",
          "text": [
            "\n",
            "Test set: Average loss: 0.0055, Accuracy: 7715/10000 (77.15%)\n",
            "\n",
            "EPOCH: 39\n"
          ],
          "name": "stdout"
        },
        {
          "output_type": "stream",
          "text": [
            "Loss=0.4830740988254547 Batch_id=390 Accuracy=81.21: 100%|██████████| 391/391 [00:17<00:00, 21.95it/s]\n"
          ],
          "name": "stderr"
        },
        {
          "output_type": "stream",
          "text": [
            "\n",
            "Test set: Average loss: 0.0050, Accuracy: 7885/10000 (78.85%)\n",
            "\n"
          ],
          "name": "stdout"
        }
      ]
    }
  ]
}