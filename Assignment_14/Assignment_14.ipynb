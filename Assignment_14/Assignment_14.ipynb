{
 "cells": [
  {
   "cell_type": "markdown",
   "metadata": {},
   "source": [
    "### Load Tensorflow Libraries"
   ]
  },
  {
   "cell_type": "code",
   "execution_count": 1,
   "metadata": {},
   "outputs": [
    {
     "name": "stderr",
     "output_type": "stream",
     "text": [
      "/usr/local/lib/python3.5/dist-packages/tensorflow/python/framework/dtypes.py:516: FutureWarning: Passing (type, 1) or '1type' as a synonym of type is deprecated; in a future version of numpy, it will be understood as (type, (1,)) / '(1,)type'.\n",
      "  _np_qint8 = np.dtype([(\"qint8\", np.int8, 1)])\n",
      "/usr/local/lib/python3.5/dist-packages/tensorflow/python/framework/dtypes.py:517: FutureWarning: Passing (type, 1) or '1type' as a synonym of type is deprecated; in a future version of numpy, it will be understood as (type, (1,)) / '(1,)type'.\n",
      "  _np_quint8 = np.dtype([(\"quint8\", np.uint8, 1)])\n",
      "/usr/local/lib/python3.5/dist-packages/tensorflow/python/framework/dtypes.py:518: FutureWarning: Passing (type, 1) or '1type' as a synonym of type is deprecated; in a future version of numpy, it will be understood as (type, (1,)) / '(1,)type'.\n",
      "  _np_qint16 = np.dtype([(\"qint16\", np.int16, 1)])\n",
      "/usr/local/lib/python3.5/dist-packages/tensorflow/python/framework/dtypes.py:519: FutureWarning: Passing (type, 1) or '1type' as a synonym of type is deprecated; in a future version of numpy, it will be understood as (type, (1,)) / '(1,)type'.\n",
      "  _np_quint16 = np.dtype([(\"quint16\", np.uint16, 1)])\n",
      "/usr/local/lib/python3.5/dist-packages/tensorflow/python/framework/dtypes.py:520: FutureWarning: Passing (type, 1) or '1type' as a synonym of type is deprecated; in a future version of numpy, it will be understood as (type, (1,)) / '(1,)type'.\n",
      "  _np_qint32 = np.dtype([(\"qint32\", np.int32, 1)])\n",
      "/usr/local/lib/python3.5/dist-packages/tensorflow/python/framework/dtypes.py:525: FutureWarning: Passing (type, 1) or '1type' as a synonym of type is deprecated; in a future version of numpy, it will be understood as (type, (1,)) / '(1,)type'.\n",
      "  np_resource = np.dtype([(\"resource\", np.ubyte, 1)])\n",
      "/usr/local/lib/python3.5/dist-packages/tensorboard/compat/tensorflow_stub/dtypes.py:541: FutureWarning: Passing (type, 1) or '1type' as a synonym of type is deprecated; in a future version of numpy, it will be understood as (type, (1,)) / '(1,)type'.\n",
      "  _np_qint8 = np.dtype([(\"qint8\", np.int8, 1)])\n",
      "/usr/local/lib/python3.5/dist-packages/tensorboard/compat/tensorflow_stub/dtypes.py:542: FutureWarning: Passing (type, 1) or '1type' as a synonym of type is deprecated; in a future version of numpy, it will be understood as (type, (1,)) / '(1,)type'.\n",
      "  _np_quint8 = np.dtype([(\"quint8\", np.uint8, 1)])\n",
      "/usr/local/lib/python3.5/dist-packages/tensorboard/compat/tensorflow_stub/dtypes.py:543: FutureWarning: Passing (type, 1) or '1type' as a synonym of type is deprecated; in a future version of numpy, it will be understood as (type, (1,)) / '(1,)type'.\n",
      "  _np_qint16 = np.dtype([(\"qint16\", np.int16, 1)])\n",
      "/usr/local/lib/python3.5/dist-packages/tensorboard/compat/tensorflow_stub/dtypes.py:544: FutureWarning: Passing (type, 1) or '1type' as a synonym of type is deprecated; in a future version of numpy, it will be understood as (type, (1,)) / '(1,)type'.\n",
      "  _np_quint16 = np.dtype([(\"quint16\", np.uint16, 1)])\n",
      "/usr/local/lib/python3.5/dist-packages/tensorboard/compat/tensorflow_stub/dtypes.py:545: FutureWarning: Passing (type, 1) or '1type' as a synonym of type is deprecated; in a future version of numpy, it will be understood as (type, (1,)) / '(1,)type'.\n",
      "  _np_qint32 = np.dtype([(\"qint32\", np.int32, 1)])\n",
      "/usr/local/lib/python3.5/dist-packages/tensorboard/compat/tensorflow_stub/dtypes.py:550: FutureWarning: Passing (type, 1) or '1type' as a synonym of type is deprecated; in a future version of numpy, it will be understood as (type, (1,)) / '(1,)type'.\n",
      "  np_resource = np.dtype([(\"resource\", np.ubyte, 1)])\n"
     ]
    }
   ],
   "source": [
    "import tensorflow as tf\n",
    "import tensorflow.keras.backend as K\n",
    "\n",
    "tf.enable_eager_execution()"
   ]
  },
  {
   "cell_type": "markdown",
   "metadata": {},
   "source": [
    "### Use one vGPU"
   ]
  },
  {
   "cell_type": "code",
   "execution_count": 2,
   "metadata": {},
   "outputs": [
    {
     "name": "stdout",
     "output_type": "stream",
     "text": [
      "Sun Aug 25 18:07:28 2019       \n",
      "+-----------------------------------------------------------------------------+\n",
      "| NVIDIA-SMI 418.67       Driver Version: 418.67       CUDA Version: 10.1     |\n",
      "|-------------------------------+----------------------+----------------------+\n",
      "| GPU  Name        Persistence-M| Bus-Id        Disp.A | Volatile Uncorr. ECC |\n",
      "| Fan  Temp  Perf  Pwr:Usage/Cap|         Memory-Usage | GPU-Util  Compute M. |\n",
      "|===============================+======================+======================|\n",
      "|   0  Tesla V100-SXM2...  Off  | 00000000:62:00.0 Off |                    0 |\n",
      "| N/A   46C    P0    57W / 300W |      0MiB / 32480MiB |      0%      Default |\n",
      "+-------------------------------+----------------------+----------------------+\n",
      "|   1  Tesla V100-SXM2...  Off  | 00000000:89:00.0 Off |                    0 |\n",
      "| N/A   45C    P0    55W / 300W |  31405MiB / 32480MiB |      0%      Default |\n",
      "+-------------------------------+----------------------+----------------------+\n",
      "                                                                               \n",
      "+-----------------------------------------------------------------------------+\n",
      "| Processes:                                                       GPU Memory |\n",
      "|  GPU       PID   Type   Process name                             Usage      |\n",
      "|=============================================================================|\n",
      "|    1    129544      C   /root/anaconda3/bin/python                 31395MiB |\n",
      "+-----------------------------------------------------------------------------+\n"
     ]
    }
   ],
   "source": [
    "!nvidia-smi"
   ]
  },
  {
   "cell_type": "code",
   "execution_count": 3,
   "metadata": {
    "colab": {},
    "colab_type": "code",
    "id": "CeQq2P-bjZxp"
   },
   "outputs": [],
   "source": [
    "import os\n",
    "os.environ[\"CUDA_VISIBLE_DEVICES\"]=\"0\""
   ]
  },
  {
   "cell_type": "markdown",
   "metadata": {},
   "source": [
    "### Load custom libraries"
   ]
  },
  {
   "cell_type": "code",
   "execution_count": 4,
   "metadata": {
    "colab": {
     "base_uri": "https://localhost:8080/",
     "height": 119
    },
    "colab_type": "code",
    "id": "cDiIO7ZZiDEm",
    "outputId": "77deaf85-4c39-4b0a-83aa-e9d05512e800"
   },
   "outputs": [
    {
     "name": "stdout",
     "output_type": "stream",
     "text": [
      "Cloning into 'nn_utils'...\n",
      "remote: Enumerating objects: 104, done.\u001b[K\n",
      "remote: Counting objects: 100% (104/104), done.\u001b[K\n",
      "remote: Compressing objects: 100% (73/73), done.\u001b[K\n",
      "remote: Total 104 (delta 57), reused 74 (delta 29), pack-reused 0\u001b[K\n",
      "Receiving objects: 100% (104/104), 17.45 KiB | 0 bytes/s, done.\n",
      "Resolving deltas: 100% (57/57), done.\n",
      "Checking connectivity... done.\n"
     ]
    }
   ],
   "source": [
    "if tf.io.gfile.exists('./nn_utils'):\n",
    "  tf.io.gfile.rmtree('./nn_utils')\n",
    "!git clone https://github.com/ashxjain/nn_utils.git"
   ]
  },
  {
   "cell_type": "code",
   "execution_count": 5,
   "metadata": {
    "colab": {
     "base_uri": "https://localhost:8080/",
     "height": 34
    },
    "colab_type": "code",
    "id": "z0DRPKl39290",
    "outputId": "5d069a8e-d124-4687-f5c3-6cb8f9a6c8c7"
   },
   "outputs": [],
   "source": [
    "import numpy as np\n",
    "import pickle\n",
    "import os\n",
    "import urllib\n",
    "import zipfile \n",
    "import tarfile\n",
    "from six.moves import urllib\n",
    "\n",
    "from __future__ import absolute_import\n",
    "from __future__ import division\n",
    "from __future__ import print_function\n",
    "\n",
    "# tf.keras imports\n",
    "from tensorflow.keras import Model\n",
    "from tensorflow.keras.layers import Dense, Conv2D, Activation, Flatten, MaxPool2D, GlobalMaxPooling2D, Add, Lambda\n",
    "from tensorflow.keras.layers import BatchNormalization, AveragePooling2D, Input, Dropout\n",
    "from tensorflow.keras.preprocessing.image import ImageDataGenerator\n",
    "\n",
    "from tensorflow.keras.callbacks import ModelCheckpoint\n",
    "from tensorflow.keras.optimizers import SGD\n",
    "\n",
    "# import for showing the confusion matrix\n",
    "import itertools\n",
    "from sklearn.metrics import confusion_matrix\n",
    "import matplotlib.pyplot as plt\n",
    "import numpy as np\n",
    "from tensorflow.keras.regularizers import l2\n",
    "\n",
    "import time, math\n",
    "\n",
    "from nn_utils import lr_utils"
   ]
  },
  {
   "cell_type": "code",
   "execution_count": 6,
   "metadata": {
    "colab": {
     "base_uri": "https://localhost:8080/",
     "height": 34
    },
    "colab_type": "code",
    "id": "9Ohk-wk-Ht9U",
    "outputId": "cfdfb23e-aeb1-4c2d-cda9-8e6aa11fea65"
   },
   "outputs": [
    {
     "data": {
      "text/plain": [
       "'1.14.0'"
      ]
     },
     "execution_count": 6,
     "metadata": {},
     "output_type": "execute_result"
    }
   ],
   "source": [
    "tf.__version__"
   ]
  },
  {
   "cell_type": "markdown",
   "metadata": {},
   "source": [
    "### Generate TFRecords\n",
    "\n",
    "* Generate 50000 Training dataset\n",
    "* Generate 10000 Validation dataset\n",
    "* Generate 50000 * 12 Augmented dataset"
   ]
  },
  {
   "cell_type": "code",
   "execution_count": 7,
   "metadata": {},
   "outputs": [
    {
     "name": "stdout",
     "output_type": "stream",
     "text": [
      "Download from https://www.cs.toronto.edu/~kriz/cifar-10-python.tar.gz and extract.\n"
     ]
    },
    {
     "name": "stderr",
     "output_type": "stream",
     "text": [
      "WARNING: Logging before flag parsing goes to stderr.\n",
      "W0825 18:07:54.321067 140465225697024 lazy_loader.py:50] \n",
      "The TensorFlow contrib module will not be included in TensorFlow 2.0.\n",
      "For more information, please see:\n",
      "  * https://github.com/tensorflow/community/blob/master/rfcs/20180907-contrib-sunset.md\n",
      "  * https://github.com/tensorflow/addons\n",
      "  * https://github.com/tensorflow/io (for I/O related ops)\n",
      "If you depend on functionality not listed there, please file an issue.\n",
      "\n",
      "W0825 18:07:54.322296 140465225697024 deprecation.py:323] From <ipython-input-7-24289f2026fb>:39: maybe_download (from tensorflow.contrib.learn.python.learn.datasets.base) is deprecated and will be removed in a future version.\n",
      "Instructions for updating:\n",
      "Please write your own downloading logic.\n"
     ]
    },
    {
     "name": "stdout",
     "output_type": "stream",
     "text": [
      "Generating /root/tfrecords/augmented_train_1.tfrecords...Done [50000 records]\n",
      "Generating /root/tfrecords/augmented_train_10.tfrecords...Done [50000 records]\n",
      "Generating /root/tfrecords/augmented_train_11.tfrecords...Done [50000 records]\n",
      "Generating /root/tfrecords/augmented_train_12.tfrecords...Done [50000 records]\n",
      "Generating /root/tfrecords/augmented_train_2.tfrecords...Done [50000 records]\n",
      "Generating /root/tfrecords/augmented_train_3.tfrecords...Done [50000 records]\n",
      "Generating /root/tfrecords/augmented_train_4.tfrecords...Done [50000 records]\n",
      "Generating /root/tfrecords/augmented_train_5.tfrecords...Done [50000 records]\n",
      "Generating /root/tfrecords/augmented_train_6.tfrecords...Done [50000 records]\n",
      "Generating /root/tfrecords/augmented_train_7.tfrecords...Done [50000 records]\n",
      "Generating /root/tfrecords/augmented_train_8.tfrecords...Done [50000 records]\n",
      "Generating /root/tfrecords/augmented_train_9.tfrecords...Done [50000 records]\n",
      "Generating /root/tfrecords/eval.tfrecords...Done [10000 records]\n",
      "Generating /root/tfrecords/train.tfrecords...Done [50000 records]\n",
      "Done!\n"
     ]
    }
   ],
   "source": [
    "\"\"\"\n",
    "Read CIFAR-10 data from pickled numpy arrays and writes TFRecords.\n",
    "Generates tf.train.Example protos and writes them to TFRecord files from the\n",
    "python version of the CIFAR-10 dataset downloaded from\n",
    "https://www.cs.toronto.edu/~kriz/cifar.html.\n",
    "\"\"\"\n",
    "\n",
    "from __future__ import absolute_import\n",
    "from __future__ import division\n",
    "from __future__ import print_function\n",
    "\n",
    "import argparse\n",
    "import os\n",
    "import sys\n",
    "\n",
    "import tarfile\n",
    "from six.moves import cPickle as pickle\n",
    "from six.moves import xrange\n",
    "import tensorflow as tf\n",
    "import numpy as np\n",
    "\n",
    "from tensorflow.python.keras.utils.data_utils import Sequence, is_generator_or_sequence\n",
    "from albumentations import (\n",
    "    Compose, HorizontalFlip, RandomCrop, ToFloat, PadIfNeeded, Normalize, Cutout,Rotate\n",
    ")\n",
    "import cv2\n",
    "from matplotlib import pyplot as plt\n",
    "\n",
    "\n",
    "\n",
    "CIFAR_FILENAME = 'cifar-10-python.tar.gz'\n",
    "CIFAR_DOWNLOAD_URL = 'https://www.cs.toronto.edu/~kriz/' + CIFAR_FILENAME\n",
    "CIFAR_LOCAL_FOLDER = 'cifar-10-batches-py'\n",
    "\n",
    "\n",
    "def download_and_extract(data_dir):\n",
    "  # download CIFAR-10 if not already downloaded.\n",
    "  tf.contrib.learn.datasets.base.maybe_download(CIFAR_FILENAME, data_dir,\n",
    "                                                CIFAR_DOWNLOAD_URL)\n",
    "  tarfile.open(os.path.join(data_dir, CIFAR_FILENAME),\n",
    "               'r:gz').extractall(data_dir)\n",
    "\n",
    "\n",
    "def _int64_feature(value):\n",
    "  return tf.train.Feature(int64_list=tf.train.Int64List(value=[value]))\n",
    "\n",
    "\n",
    "def _bytes_feature(value):\n",
    "  return tf.train.Feature(bytes_list=tf.train.BytesList(value=[value]))\n",
    "\n",
    "\n",
    "def _get_file_names():\n",
    "  \"\"\"Returns the file names expected to exist in the input_dir.\"\"\"\n",
    "  file_names = {}\n",
    "  file_names['train'] = ['data_batch_%d' % i for i in xrange(1, 6)]\n",
    "  for aug_idx in range(1, 13):\n",
    "      file_names['augmented_train_'+str(aug_idx)] = ['data_batch_%d' % i for i in xrange(1, 6)]  \n",
    "  file_names['eval'] = ['test_batch']\n",
    "  return file_names\n",
    "\n",
    "\n",
    "def read_pickle_from_file(filename):\n",
    "  with tf.gfile.Open(filename, 'rb') as f:\n",
    "    if sys.version_info >= (3, 0):\n",
    "      data_dict = pickle.load(f, encoding='bytes')\n",
    "    else:\n",
    "      data_dict = pickle.load(f)\n",
    "  return data_dict\n",
    "\n",
    "AUGMENTATIONS_TRAIN = Compose([\n",
    "    RandomCrop(32, 32),\n",
    "    HorizontalFlip(p=0.5),\n",
    "    Cutout(num_holes=1, p=1.0),\n",
    "])\n",
    "\n",
    "def preprocess_image(image_raw):\n",
    "    x_train = image_raw.reshape(10000, 32, 32, 3)\n",
    "\n",
    "    pad4 = lambda x: np.pad(x, [(0, 0), (4, 4), (4, 4), (0, 0)], mode='reflect')\n",
    "\n",
    "    x_train = pad4(x_train)\n",
    "    augmented_x = np.zeros((x_train.shape[0], 32, 32, 3))\n",
    "    for i in range(x_train.shape[0]):\n",
    "        augmented_x[i] = AUGMENTATIONS_TRAIN(image=x_train[i])[\"image\"]\n",
    "        \n",
    "    x_train = augmented_x.reshape(10000, 32*32*3).astype(np.int8)\n",
    "    return x_train\n",
    "    \n",
    "def convert_to_tfrecord(input_files, output_file, output_prefix):\n",
    "  \"\"\"Converts a file to TFRecords.\"\"\"\n",
    "  print('Generating %s...' % output_file, end='')\n",
    "  count = 0\n",
    "  with tf.python_io.TFRecordWriter(output_file) as record_writer:\n",
    "    for input_file in input_files:\n",
    "      data_dict = read_pickle_from_file(input_file)\n",
    "      data = data_dict[b'data']\n",
    "      labels = data_dict[b'labels']\n",
    "      num_entries_in_batch = len(labels)\n",
    "      if output_prefix.startswith(\"augmented_train\"):\n",
    "        data = preprocess_image(data)\n",
    "      for i in range(num_entries_in_batch):\n",
    "        example = tf.train.Example(features=tf.train.Features(\n",
    "            feature={\n",
    "                'image': _bytes_feature(data[i].tobytes()),\n",
    "                'label': _int64_feature(labels[i])\n",
    "            }))\n",
    "        record_writer.write(example.SerializeToString())\n",
    "      count += num_entries_in_batch\n",
    "  print('Done [%d records]' % (len(input_files)*num_entries_in_batch))\n",
    "\n",
    "def main(data_dir):\n",
    "  print('Download from {} and extract.'.format(CIFAR_DOWNLOAD_URL))\n",
    "  download_and_extract(data_dir)\n",
    "  file_names = _get_file_names()\n",
    "  input_dir = os.path.join(data_dir, CIFAR_LOCAL_FOLDER)\n",
    "  for mode, files in sorted(file_names.items(), key=lambda item: item[0]):\n",
    "    input_files = [os.path.join(input_dir, f) for f in files]\n",
    "    output_file = os.path.join(data_dir, mode + '.tfrecords')\n",
    "    try:\n",
    "      os.remove(output_file)\n",
    "    except OSError:\n",
    "      pass\n",
    "    # Convert to tf.train.Example and write the to TFRecords.\n",
    "    convert_to_tfrecord(input_files, output_file, mode)\n",
    "  print('Done!')\n",
    "\n",
    "\n",
    "if __name__ == '__main__':\n",
    "  main(\"/root/tfrecords\")"
   ]
  },
  {
   "cell_type": "markdown",
   "metadata": {},
   "source": [
    "### Model: DavidNet"
   ]
  },
  {
   "cell_type": "code",
   "execution_count": 8,
   "metadata": {
    "colab": {},
    "colab_type": "code",
    "id": "9mj6sUIhU009"
   },
   "outputs": [],
   "source": [
    "def init_pytorch(shape, dtype=tf.float32, partition_info=None):\n",
    "  fan = np.prod(shape[:-1])\n",
    "  bound = 1 / math.sqrt(fan)\n",
    "  return tf.random.uniform(shape, minval=-bound, maxval=bound, dtype=dtype)\n",
    "\n",
    "def ConvBN(c, x):\n",
    "  x = Conv2D(c, (3, 3), padding='same', kernel_regularizer=l2(weight_decay),kernel_initializer=init_pytorch, use_bias=False) (x)\n",
    "  x = (BatchNormalization(momentum=0.9)) (x)\n",
    "  x = (Activation('relu')) (x)\n",
    "  return x\n",
    "\n",
    "def layer(c, x):\n",
    "  x = ConvBN(c, x)\n",
    "  x = MaxPool2D (pool_size=(2, 2))(x)\n",
    "  x1 = ConvBN(c, x)\n",
    "  x1 = ConvBN(c, x1)\n",
    "  x1 = Add()([x1, x])\n",
    "  return x1\n",
    "\n",
    "def build(c=64, lr=0.02, tensor=None, out_tensor=None):\n",
    "  if tensor is not None:\n",
    "     _input = Input(tensor=tensor)\n",
    "  else:\n",
    "     _input = Input(shape=(32,32,3))\n",
    "  x = ConvBN (c, _input)\n",
    "  #Layer1\n",
    "  x = layer(c*2, x)\n",
    "  x = ConvBN(c*4, x)\n",
    "  x = MaxPool2D (pool_size=(2, 2))(x)\n",
    "  #Layer2\n",
    "  x = layer(c*8, x)\n",
    "  x = GlobalMaxPooling2D()(x)\n",
    "  x = Flatten()(x)\n",
    "  x = Dense(10, kernel_initializer=init_pytorch, kernel_regularizer=l2(weight_decay), use_bias=False) (x)\n",
    "  x = Lambda(lambda x: x *0.125)(x)\n",
    "  _output = Activation('softmax')(x)\n",
    "  model = Model(inputs=_input, outputs=_output)\n",
    "  \n",
    "  optimizer = SGD(lr=lr, momentum=0.9, nesterov=True)\n",
    "  if out_tensor is not None:\n",
    "    model.compile(loss='sparse_categorical_crossentropy', optimizer=optimizer, metrics=['accuracy'], target_tensors=[out_tensor])\n",
    "  else:\n",
    "    model.compile(loss='sparse_categorical_crossentropy', optimizer=optimizer, metrics=['accuracy'])\n",
    "  return model"
   ]
  },
  {
   "cell_type": "markdown",
   "metadata": {},
   "source": [
    "### Hyper-Parameters"
   ]
  },
  {
   "cell_type": "code",
   "execution_count": 17,
   "metadata": {
    "colab": {},
    "colab_type": "code",
    "id": "szqTyVzuJvFe"
   },
   "outputs": [],
   "source": [
    "nb_epoch = 24\n",
    "batch_size = 512\n",
    "weight_decay = 1e-4"
   ]
  },
  {
   "cell_type": "markdown",
   "metadata": {},
   "source": [
    "### Visualize OneCycleLR Policy Graph"
   ]
  },
  {
   "cell_type": "code",
   "execution_count": 10,
   "metadata": {},
   "outputs": [
    {
     "data": {
      "image/png": "[encoded data removed]",
      "text/plain": [
       "<Figure size 720x288 with 2 Axes>"
      ]
     },
     "metadata": {
      "needs_background": "light"
     },
     "output_type": "display_data"
    }
   ],
   "source": [
    "max_lr=1\n",
    "lr_manager = lr_utils.OneCycleLR(\n",
    "    sl_epoch=5,\n",
    "    end_epoch=8,\n",
    "    max_lr=max_lr, min_lr=max_lr/5.0,\n",
    "    maximum_momentum=0.95,\n",
    "    verbose=True,\n",
    "    batch_size=batch_size,\n",
    "    steps_per_epoch=50000//batch_size\n",
    ")\n",
    "lr_manager.test_run(epochs=24)"
   ]
  },
  {
   "cell_type": "markdown",
   "metadata": {},
   "source": [
    "### Load TFRecords\n",
    "* In every step, load 256 images from training set and 256 from augmented set = 512 images per step\n",
    "* 1 epoch == 97 step == (256+256) * 97 images ~= 50000 images"
   ]
  },
  {
   "cell_type": "code",
   "execution_count": 22,
   "metadata": {},
   "outputs": [],
   "source": [
    "IMAGE_HEIGHT = 32\n",
    "IMAGE_WIDTH = 32\n",
    "IMAGE_DEPTH = 3\n",
    "NUM_CLASSES = 10\n",
    "rgb_mean = tf.constant((0.4914, 0.4822, 0.4465), dtype=tf.float32)\n",
    "rgb_std = tf.constant((0.2470, 0.2435, 0.2616), dtype=tf.float32)\n",
    "\n",
    "def parse_record(serialized_example):\n",
    "    features = tf.parse_single_example(\n",
    "    serialized_example,\n",
    "    features={\n",
    "      'image': tf.FixedLenFeature([], tf.string),\n",
    "      'label': tf.FixedLenFeature([], tf.int64),\n",
    "    })\n",
    "\n",
    "    image = tf.decode_raw(features['image'], tf.uint8)\n",
    "    image.set_shape([IMAGE_DEPTH * IMAGE_HEIGHT * IMAGE_WIDTH])\n",
    "    image = tf.reshape(image, [IMAGE_DEPTH, IMAGE_HEIGHT, IMAGE_WIDTH])\n",
    "    image = tf.cast(tf.transpose(image, [1, 2, 0]), tf.float32) * (1. / 255.)\n",
    "\n",
    "    # TODO: Handle normalization for Augmented images as well\n",
    "    #image = tf.subtract(image, rgb_mean)\n",
    "    #image = tf.divide(image, rgb_std)\n",
    "\n",
    "    label = tf.cast(features['label'], tf.int32)\n",
    "    return image, label\n",
    "\n",
    "def fetch_dataset(filenames, batch_size, training=False):\n",
    "    if training:\n",
    "        files = tf.data.Dataset.from_tensor_slices(filenames)\n",
    "        dataset = files.interleave(lambda x: tf.data.TFRecordDataset(x), cycle_length=2, block_length=batch_size//2)\n",
    "    else:\n",
    "        dataset = tf.data.TFRecordDataset(filenames=filenames)\n",
    "\n",
    "    if training:\n",
    "      buffer_size = batch_size * 2 + 1\n",
    "      dataset = dataset.shuffle(buffer_size=buffer_size)\n",
    "\n",
    "    # Transformation\n",
    "    dataset = dataset.map(parse_record, num_parallel_calls=4)\n",
    "\n",
    "    dataset = dataset.batch(batch_size)\n",
    "    dataset = dataset.prefetch(2 * batch_size)\n",
    "    return dataset\n"
   ]
  },
  {
   "cell_type": "markdown",
   "metadata": {},
   "source": [
    "### Visualize images from TFRecords"
   ]
  },
  {
   "cell_type": "code",
   "execution_count": null,
   "metadata": {},
   "outputs": [],
   "source": [
    "def show_img(img, figsize=(2, 2)):\n",
    "    fig, ax = plt.subplots(figsize=figsize)\n",
    "    ax.grid(False)\n",
    "    ax.set_yticklabels([])\n",
    "    ax.set_xticklabels([])\n",
    "    ax.imshow(img)\n",
    "    plt.imshow(img)\n",
    "\n",
    "files = []\n",
    "for i in range(1,13):\n",
    "    files.append(\"/root/tfrecords/train.tfrecords\")\n",
    "    files.append(\"/root/tfrecords/augmented_train_\"+str(i)+\".tfrecords\")\n",
    "\n",
    "dataset = fetch_dataset(files, 2, False)\n",
    "cnt = 0\n",
    "for i in dataset:\n",
    "    cnt += 1\n",
    "    if cnt == 1 or cnt == 50000 or cnt == 50001:\n",
    "        for img in i[0]:\n",
    "            show_img(img)\n",
    "    if cnt == 50002:\n",
    "        break"
   ]
  },
  {
   "cell_type": "code",
   "execution_count": 23,
   "metadata": {
    "colab": {},
    "colab_type": "code",
    "id": "VQWJ-urr99OC"
   },
   "outputs": [],
   "source": [
    "def train_model(max_lr =1, verbose=True):\n",
    "    if verbose:\n",
    "      verbose_val = 1\n",
    "    else:\n",
    "      verbose_val = 0\n",
    "    checkpoint = ModelCheckpoint(\"assignment_14_weights.hdf5\", monitor='val_acc', verbose=verbose_val, save_best_only=True, mode='max')\n",
    "\n",
    "\n",
    "    lr_manager = lr_utils.OneCycleLR(sl_epoch=5,\n",
    "                        end_epoch=8,\n",
    "                        max_lr=max_lr, min_lr=max_lr/5.0,\n",
    "                        maximum_momentum=0.95,\n",
    "                        verbose=verbose,\n",
    "                        batch_size=batch_size,\n",
    "                        steps_per_epoch=50000//batch_size)\n",
    "\n",
    "    files = []\n",
    "    for i in range(1,13):\n",
    "        files.append(\"/root/tfrecords/train.tfrecords\")\n",
    "        files.append(\"/root/tfrecords/augmented_train_\"+str(i)+\".tfrecords\")\n",
    "    train_data = fetch_dataset(files, batch_size, True)\n",
    "    val_data = fetch_dataset([\"/root/tfrecords/eval.tfrecords\"], batch_size)\n",
    "\n",
    "    callbacks=[lr_manager, checkpoint]\n",
    "\n",
    "    train_history = model.fit(\n",
    "      train_data,\n",
    "      epochs=nb_epoch, steps_per_epoch=50000//batch_size,\n",
    "      validation_data=val_data, validation_steps=10000//batch_size,\n",
    "      callbacks=callbacks)\n",
    "\n",
    "    return train_history"
   ]
  },
  {
   "cell_type": "markdown",
   "metadata": {},
   "source": [
    "### Final Model Run"
   ]
  },
  {
   "cell_type": "code",
   "execution_count": null,
   "metadata": {
    "colab": {
     "base_uri": "https://localhost:8080/",
     "height": 1000
    },
    "colab_type": "code",
    "id": "1K2vFfwJhz3n",
    "outputId": "c9df8861-9933-4724-c927-e8e0f6eae848",
    "scrolled": true
   },
   "outputs": [
    {
     "name": "stdout",
     "output_type": "stream",
     "text": [
      "Epoch 1/24\n",
      "96/97 [============================>.] - ETA: 0s - loss: 1.6306 - acc: 0.4276 - lr: 0.21501 - momentum: 0.93 \n",
      "\n",
      "Epoch 00001: val_acc improved from -inf to 0.53382, saving model to assignment_14_weights.hdf5\n",
      "97/97 [==============================] - 15s 154ms/step - loss: 1.6265 - acc: 0.4293 - val_loss: 1.3739 - val_acc: 0.5338\n",
      "Epoch 2/24\n",
      "96/97 [============================>.] - ETA: 0s - loss: 1.2074 - acc: 0.6042 - lr: 0.31101 - momentum: 0.91 \n",
      "\n",
      "Epoch 00002: val_acc improved from 0.53382 to 0.61246, saving model to assignment_14_weights.hdf5\n",
      "97/97 [==============================] - 8s 87ms/step - loss: 1.2064 - acc: 0.6047 - val_loss: 1.2613 - val_acc: 0.6125\n",
      "Epoch 3/24\n",
      "96/97 [============================>.] - ETA: 0s - loss: 1.0729 - acc: 0.6643 - lr: 0.40701 - momentum: 0.89 \n",
      "\n",
      "Epoch 00003: val_acc did not improve from 0.61246\n",
      "97/97 [==============================] - 8s 85ms/step - loss: 1.0724 - acc: 0.6648 - val_loss: 1.2863 - val_acc: 0.6031\n",
      "Epoch 4/24\n",
      "96/97 [============================>.] - ETA: 0s - loss: 1.0107 - acc: 0.6959 - lr: 0.50301 - momentum: 0.87 \n",
      "\n",
      "Epoch 00004: val_acc improved from 0.61246 to 0.72852, saving model to assignment_14_weights.hdf5\n",
      "97/97 [==============================] - 8s 87ms/step - loss: 1.0111 - acc: 0.6960 - val_loss: 0.9288 - val_acc: 0.7285\n",
      "Epoch 5/24\n",
      "96/97 [============================>.] - ETA: 0s - loss: 0.9382 - acc: 0.7298 - lr: 0.59901 - momentum: 0.85 \n",
      "\n",
      "Epoch 00005: val_acc improved from 0.72852 to 0.72944, saving model to assignment_14_weights.hdf5\n",
      "97/97 [==============================] - 8s 85ms/step - loss: 0.9371 - acc: 0.7301 - val_loss: 1.0210 - val_acc: 0.7294\n",
      "Epoch 6/24\n",
      "96/97 [============================>.] - ETA: 0s - loss: 0.8420 - acc: 0.7695 - lr: 0.55681 - momentum: 0.86 \n",
      "\n",
      "Epoch 00006: val_acc improved from 0.72944 to 0.77457, saving model to assignment_14_weights.hdf5\n",
      "97/97 [==============================] - 8s 85ms/step - loss: 0.8423 - acc: 0.7694 - val_loss: 0.8733 - val_acc: 0.7746\n",
      "Epoch 7/24\n",
      "96/97 [============================>.] - ETA: 0s - loss: 0.7868 - acc: 0.7909 - lr: 0.51318 - momentum: 0.87 \n",
      "\n",
      "Epoch 00007: val_acc did not improve from 0.77457\n",
      "97/97 [==============================] - 8s 84ms/step - loss: 0.7858 - acc: 0.7912 - val_loss: 0.9046 - val_acc: 0.7551\n",
      "Epoch 8/24\n",
      "96/97 [============================>.] - ETA: 0s - loss: 0.7470 - acc: 0.8071 - lr: 0.46954 - momentum: 0.88 \n",
      "\n",
      "Epoch 00008: val_acc improved from 0.77457 to 0.79544, saving model to assignment_14_weights.hdf5\n",
      "97/97 [==============================] - 8s 85ms/step - loss: 0.7463 - acc: 0.8075 - val_loss: 0.8439 - val_acc: 0.7954\n",
      "Epoch 9/24\n",
      "96/97 [============================>.] - ETA: 0s - loss: 0.7123 - acc: 0.8260 - lr: 0.42590 - momentum: 0.89 \n",
      "\n",
      "Epoch 00009: val_acc did not improve from 0.79544\n",
      "97/97 [==============================] - 8s 84ms/step - loss: 0.7121 - acc: 0.8260 - val_loss: 0.8494 - val_acc: 0.7887\n",
      "Epoch 10/24\n",
      "96/97 [============================>.] - ETA: 0s - loss: 0.6920 - acc: 0.8343 - lr: 0.38227 - momentum: 0.90 \n",
      "\n",
      "Epoch 00010: val_acc did not improve from 0.79544\n",
      "97/97 [==============================] - 8s 83ms/step - loss: 0.6919 - acc: 0.8342 - val_loss: 1.1878 - val_acc: 0.7132\n",
      "Epoch 11/24\n",
      "96/97 [============================>.] - ETA: 0s - loss: 0.6647 - acc: 0.8489 - lr: 0.33863 - momentum: 0.90 \n",
      "\n",
      "Epoch 00011: val_acc improved from 0.79544 to 0.83111, saving model to assignment_14_weights.hdf5\n",
      "97/97 [==============================] - 8s 85ms/step - loss: 0.6641 - acc: 0.8491 - val_loss: 0.7442 - val_acc: 0.8311\n",
      "Epoch 12/24\n",
      "96/97 [============================>.] - ETA: 0s - loss: 0.6465 - acc: 0.8564 - lr: 0.29500 - momentum: 0.91 \n",
      "\n",
      "Epoch 00012: val_acc did not improve from 0.83111\n",
      "97/97 [==============================] - 8s 82ms/step - loss: 0.6465 - acc: 0.8566 - val_loss: 0.7498 - val_acc: 0.8281\n",
      "Epoch 13/24\n",
      "96/97 [============================>.] - ETA: 0s - loss: 0.6237 - acc: 0.8643 - lr: 0.25136 - momentum: 0.92 \n",
      "\n",
      "Epoch 00013: val_acc improved from 0.83111 to 0.84745, saving model to assignment_14_weights.hdf5\n",
      "97/97 [==============================] - 8s 85ms/step - loss: 0.6245 - acc: 0.8641 - val_loss: 0.7038 - val_acc: 0.8475\n",
      "Epoch 14/24\n",
      "96/97 [============================>.] - ETA: 0s - loss: 0.6177 - acc: 0.8695 - lr: 0.20772 - momentum: 0.93 \n",
      "\n",
      "Epoch 00014: val_acc improved from 0.84745 to 0.84858, saving model to assignment_14_weights.hdf5\n",
      "97/97 [==============================] - 8s 83ms/step - loss: 0.6172 - acc: 0.8696 - val_loss: 0.7192 - val_acc: 0.8486\n",
      "Epoch 15/24\n",
      "96/97 [============================>.] - ETA: 0s - loss: 0.5870 - acc: 0.8817 - lr: 0.16409 - momentum: 0.94 \n",
      "\n",
      "Epoch 00015: val_acc improved from 0.84858 to 0.85485, saving model to assignment_14_weights.hdf5\n",
      "97/97 [==============================] - 8s 82ms/step - loss: 0.5874 - acc: 0.8816 - val_loss: 0.7025 - val_acc: 0.8549\n",
      "Epoch 16/24\n",
      "96/97 [============================>.] - ETA: 0s - loss: 0.5761 - acc: 0.8881 - lr: 0.12045 - momentum: 0.95 \n",
      "\n",
      "Epoch 00016: val_acc did not improve from 0.85485\n",
      "97/97 [==============================] - 8s 82ms/step - loss: 0.5757 - acc: 0.8884 - val_loss: 0.7007 - val_acc: 0.8537\n",
      "Epoch 17/24\n",
      "96/97 [============================>.] - ETA: 0s - loss: 0.5479 - acc: 0.8977"
     ]
    }
   ],
   "source": [
    "import tensorflow.keras.backend as K\n",
    "\n",
    "lr=0.6\n",
    "\n",
    "model = build(lr=lr)\n",
    "\n",
    "K.set_value(model.optimizer.decay, 0.0005 * batch_size)\n",
    "\n",
    "train_history = train_model(max_lr=lr)"
   ]
  },
  {
   "cell_type": "markdown",
   "metadata": {},
   "source": [
    "### Time taken by: Conv layers & BN layers"
   ]
  },
  {
   "cell_type": "code",
   "execution_count": 20,
   "metadata": {},
   "outputs": [],
   "source": [
    "import time\n",
    "from tensorflow.keras.callbacks import Callback\n",
    "import numpy as np\n",
    "import tensorflow as tf\n",
    "\n",
    "class TimeHistory(Callback):\n",
    "    def on_train_begin(self, logs={}):\n",
    "        self.times = []\n",
    "\n",
    "    def on_epoch_begin(self, batch, logs={}):\n",
    "        self.epoch_time_start = time.time()\n",
    "\n",
    "    def on_epoch_end(self, batch, logs={}):\n",
    "        self.times.append(time.time() - self.epoch_time_start)\n",
    "\n",
    "def get_average_layer_train_time(model, layer_prefix, epochs):\n",
    "\n",
    "    #Loop through each layer setting it Trainable and others as non trainable\n",
    "    time_callback = TimeHistory()\n",
    "    n_layers = 0\n",
    "    \n",
    "    #Setting all layers as non-Trainable\n",
    "    for i in range(len(model.layers)):\n",
    "        model.layers[i].trainable = False\n",
    "        if model.layers[i].name.startswith(layer_prefix):\n",
    "            model.layers[i].trainable = True\n",
    "            n_layers += 1\n",
    "\n",
    "    optimizer = SGD(lr=0.4, momentum=0.9, nesterov=True)\n",
    "    model.compile(loss='sparse_categorical_crossentropy', optimizer=optimizer, metrics=['accuracy'])\n",
    "\n",
    "    \n",
    "    files = []\n",
    "    for i in range(1,13):\n",
    "        files.append(\"/root/tfrecords/train.tfrecords\")\n",
    "        files.append(\"/root/tfrecords/augmented_train_\"+str(i)+\".tfrecords\")\n",
    "    train_data = fetch_dataset(files, batch_size, True)\n",
    "\n",
    "    #Fit on a small number of epochs with callback that records time for each epoch\n",
    "    model.fit(\n",
    "        train_data,\n",
    "        epochs=epochs,\n",
    "        steps_per_epoch=50000//batch_size,\n",
    "        callbacks=[time_callback]\n",
    "    )\n",
    "\n",
    "    #Print average of the time for each layer\n",
    "    print(\">>\", n_layers, layer_prefix, \": Approx (avg) train time for \", epochs, \"epochs =\", np.average(time_callback.times))"
   ]
  },
  {
   "cell_type": "code",
   "execution_count": 21,
   "metadata": {},
   "outputs": [
    {
     "name": "stdout",
     "output_type": "stream",
     "text": [
      "Epoch 1/5\n",
      "97/97 [==============================] - 3s 32ms/step - loss: 2.4127 - acc: 0.0986\n",
      "Epoch 2/5\n",
      "97/97 [==============================] - 3s 34ms/step - loss: 2.4161 - acc: 0.0994\n",
      "Epoch 3/5\n",
      "97/97 [==============================] - 3s 34ms/step - loss: 2.4133 - acc: 0.0983\n",
      "Epoch 4/5\n",
      "97/97 [==============================] - 3s 34ms/step - loss: 2.4160 - acc: 0.0997\n",
      "Epoch 5/5\n",
      "97/97 [==============================] - 3s 34ms/step - loss: 2.4133 - acc: 0.0984\n",
      ">> 0 no-layers : Approx (avg) train time for  5 epochs = 3.260294485092163\n",
      "Epoch 1/5\n",
      "97/97 [==============================] - 12s 124ms/step - loss: 1.6657 - acc: 0.4396\n",
      "Epoch 2/5\n",
      "97/97 [==============================] - 7s 75ms/step - loss: 1.2820 - acc: 0.6022\n",
      "Epoch 3/5\n",
      "97/97 [==============================] - 7s 75ms/step - loss: 1.1371 - acc: 0.6604\n",
      "Epoch 4/5\n",
      "97/97 [==============================] - 7s 75ms/step - loss: 1.0578 - acc: 0.6962\n",
      "Epoch 5/5\n",
      "97/97 [==============================] - 7s 75ms/step - loss: 0.9920 - acc: 0.7226\n",
      ">> 8 conv : Approx (avg) train time for  5 epochs = 8.241568517684936\n",
      "Epoch 1/5\n",
      "97/97 [==============================] - 11s 115ms/step - loss: 0.8831 - acc: 0.7592\n",
      "Epoch 2/5\n",
      "97/97 [==============================] - 6s 59ms/step - loss: 0.8526 - acc: 0.7581\n",
      "Epoch 3/5\n",
      "97/97 [==============================] - 6s 60ms/step - loss: 0.7823 - acc: 0.7811\n",
      "Epoch 4/5\n",
      "97/97 [==============================] - 6s 60ms/step - loss: 0.8021 - acc: 0.7693\n",
      "Epoch 5/5\n",
      "97/97 [==============================] - 6s 60ms/step - loss: 0.7264 - acc: 0.7985\n",
      ">> 8 batch_normalization : Approx (avg) train time for  5 epochs = 6.861351013183594\n"
     ]
    }
   ],
   "source": [
    "model = build()\n",
    "get_average_layer_train_time(model, \"no-layers\", 5)\n",
    "get_average_layer_train_time(model, \"conv\", 5)\n",
    "get_average_layer_train_time(model, \"batch_normalization\", 5)"
   ]
  },
  {
   "cell_type": "markdown",
   "metadata": {},
   "source": [
    "* No Layers = 3s\n",
    "* All Conv Layers = 8-3 = 5s\n",
    "* All BN Layers = 7-3 = 4s"
   ]
  }
 ],
 "metadata": {
  "accelerator": "GPU",
  "colab": {
   "collapsed_sections": [],
   "name": "Assignment_14_93890.ipynb",
   "provenance": [],
   "toc_visible": true,
   "version": "0.3.2"
  },
  "kernelspec": {
   "display_name": "Python 3",
   "language": "python",
   "name": "python3"
  },
  "language_info": {
   "codemirror_mode": {
    "name": "ipython",
    "version": 3
   },
   "file_extension": ".py",
   "mimetype": "text/x-python",
   "name": "python",
   "nbconvert_exporter": "python",
   "pygments_lexer": "ipython3",
   "version": "3.5.6"
  }
 },
 "nbformat": 4,
 "nbformat_minor": 1
}
