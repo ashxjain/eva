{
  "nbformat": 4,
  "nbformat_minor": 0,
  "metadata": {
    "colab": {
      "name": "Copy of EVA4 - Session 2.ipynb",
      "provenance": []
    },
    "kernelspec": {
      "name": "python3",
      "display_name": "Python 3"
    },
    "accelerator": "GPU"
  },
  "cells": [
    {
      "cell_type": "code",
      "metadata": {
        "id": "0m2JWFliFfKT",
        "colab_type": "code",
        "colab": {}
      },
      "source": [
        "from __future__ import print_function\n",
        "import torch\n",
        "import torch.nn as nn\n",
        "import torch.nn.functional as F\n",
        "import torch.optim as optim\n",
        "from torchvision import datasets, transforms"
      ],
      "execution_count": 1,
      "outputs": []
    },
    {
      "cell_type": "markdown",
      "metadata": {
        "id": "-wCoYWNEqL2i",
        "colab_type": "text"
      },
      "source": [
        "# Receptive Field Arithmetic\n",
        "\n",
        "```\n",
        "JumpOut = JumpIn * stride\n",
        "RFout = RFin + (KernelSize - 1) * JumpIn\n",
        "```"
      ]
    },
    {
      "cell_type": "code",
      "metadata": {
        "id": "h_Cx9q2QFgM7",
        "colab_type": "code",
        "colab": {}
      },
      "source": [
        "# Original Model\n",
        "class Net0(nn.Module):\n",
        "    def __init__(self):\n",
        "        super(Net, self).__init__()\n",
        "        self.conv1 = nn.Conv2d(1, 32, 3, padding=1) # 28x28x1 -> 28x28x32 [Jin=1,K=3,RFin=1] RF: 3, Jout: 1\n",
        "        self.conv2 = nn.Conv2d(32, 64, 3, padding=1) # -> 28x28x64 [Jin=1,K=3,RFin=3] RF: 5, Jout: 1\n",
        "        self.pool1 = nn.MaxPool2d(2, 2) # -> 14x14x64 [Jin=1,K=2,RFin=5] RF: 6, Jout: 2\n",
        "        self.conv3 = nn.Conv2d(64, 128, 3, padding=1) # -> 14x14x128 [Jin=2,K=3,RFin=6] RF: 10, Jout: 2\n",
        "        self.conv4 = nn.Conv2d(128, 256, 3, padding=1) # -> 14x14x256 [Jin=2,K=3,RFin=10] RF: 14, Jout: 2\n",
        "        self.pool2 = nn.MaxPool2d(2, 2) # -> 7x7x256 [Jin=2,K=2,RFin=14] RF: 16, Jout: 4\n",
        "        self.conv5 = nn.Conv2d(256, 512, 3) # -> 5x5x512 [Jin=4,K=3,RFin=16] RF: 24, Jout: 4\n",
        "        self.conv6 = nn.Conv2d(512, 1024, 3) # -> 3x3x1024 [Jin=4,K=3,RFin=24] RF: 32, Jout: 4\n",
        "        self.conv7 = nn.Conv2d(1024, 10, 3) # -> 1x1x10 [Jin=4,K=3,RFin=32] RF: 40, Jout: 4\n",
        "\n",
        "    def forward(self, x):\n",
        "        x = self.pool1(F.relu(self.conv2(F.relu(self.conv1(x)))))\n",
        "        x = self.pool2(F.relu(self.conv4(F.relu(self.conv3(x)))))\n",
        "        x = F.relu(self.conv6(F.relu(self.conv5(x))))\n",
        "        x = F.relu(self.conv7(x))\n",
        "        x = x.view(-1, 10)\n",
        "        return F.log_softmax(x)\n",
        "\n",
        "# Number of Parameters = 6.3M\n",
        "# Batch Size = 128\n",
        "# 1st epoch Acc = 29%\n",
        "\n",
        "#-------------------------------------------------------------------------------\n",
        "\n",
        "# Improved Model - 1\n",
        "class Net1(nn.Module):\n",
        "    def __init__(self):\n",
        "        super(Net, self).__init__()\n",
        "        self.conv1 = nn.Conv2d(1, 32, 3, padding=1) # 28x28x1 -> 28x28x32 [Jin=1,K=3,RFin=1] RF: 3, Jout: 1\n",
        "        self.conv2 = nn.Conv2d(32, 64, 3, padding=1) # -> 28x28x64 [Jin=1,K=3,RFin=3] RF: 5, Jout: 1\n",
        "        self.pool1 = nn.MaxPool2d(2, 2) # -> 14x14x64 [Jin=1,K=2,RFin=5] RF: 6, Jout: 2\n",
        "        self.conv3 = nn.Conv2d(64, 128, 3, padding=1) # -> 14x14x128 [Jin=2,K=3,RFin=6] RF: 10, Jout: 2\n",
        "        self.conv4 = nn.Conv2d(128, 256, 3, padding=1) # -> 14x14x256 [Jin=2,K=3,RFin=10] RF: 14, Jout: 2\n",
        "        self.pool2 = nn.MaxPool2d(2, 2) # -> 7x7x256 [Jin=2,K=2,RFin=14] RF: 16, Jout: 4\n",
        "        self.conv5 = nn.Conv2d(256, 512, 3) # -> 5x5x512 [Jin=4,K=3,RFin=16] RF: 24, Jout: 4\n",
        "        self.conv6 = nn.Conv2d(512, 1024, 3) # -> 3x3x1024 [Jin=4,K=3,RFin=24] RF: 32, Jout: 4\n",
        "        self.conv7 = nn.Conv2d(1024, 10, 3) # -> 1x1x10 [Jin=4,K=3,RFin=32] RF: 40, Jout: 4\n",
        "\n",
        "    def forward(self, x):\n",
        "        x = self.pool1(F.relu(self.conv2(F.relu(self.conv1(x)))))\n",
        "        x = self.pool2(F.relu(self.conv4(F.relu(self.conv3(x)))))\n",
        "        x = F.relu(self.conv6(F.relu(self.conv5(x))))\n",
        "        x = self.conv7(x)\n",
        "        x = x.view(-1, 10)\n",
        "        return F.log_softmax(x)\n",
        "\n",
        "# Improvements from original model\n",
        "# * Remove RELU from last Conv layer\n",
        "\n",
        "# Number of Parameters = 6.3M\n",
        "# Batch Size = 128\n",
        "# 1st epoch Acc = 98%\n",
        "\n",
        "#-------------------------------------------------------------------------------\n",
        "\n",
        "# Improved Model - 2\n",
        "class Net(nn.Module):\n",
        "    def __init__(self):\n",
        "        super(Net, self).__init__()\n",
        "\n",
        "        input = lambda in_channels, out_channels: nn.Sequential(\n",
        "            nn.Conv2d(in_channels=1, out_channels=out_channels, kernel_size=3, padding=1),\n",
        "            nn.BatchNorm2d(out_channels),\n",
        "            nn.ReLU(inplace=True),\n",
        "        )\n",
        "        conv = lambda in_channels, out_channels: nn.Sequential(\n",
        "            nn.Conv2d(in_channels=in_channels, out_channels=out_channels, kernel_size=3, padding=1),\n",
        "            nn.BatchNorm2d(out_channels),\n",
        "            nn.ReLU(inplace=True),\n",
        "        )\n",
        "        transition = lambda in_channels, out_channels: nn.Sequential(\n",
        "            nn.Conv2d(in_channels=in_channels, out_channels=out_channels, kernel_size=1),\n",
        "            nn.BatchNorm2d(out_channels),\n",
        "            nn.ReLU(inplace=True),\n",
        "            nn.MaxPool2d(kernel_size=2, stride=2),\n",
        "        )\n",
        "        output = lambda in_channels, out_channels: nn.Sequential(\n",
        "            nn.Conv2d(in_channels=in_channels, out_channels=in_channels, kernel_size=3),\n",
        "            nn.BatchNorm2d(in_channels),\n",
        "            nn.ReLU(inplace=True),\n",
        "            nn.Conv2d(in_channels=in_channels, out_channels=in_channels, kernel_size=3),\n",
        "            nn.BatchNorm2d(in_channels),\n",
        "            nn.ReLU(inplace=True),\n",
        "            nn.Conv2d(in_channels=in_channels, out_channels=out_channels, kernel_size=3),\n",
        "        )\n",
        "\n",
        "        self.input = input(1, 16)\n",
        "        self.conv1 = conv(16, 32)\n",
        "        self.transition1 = transition(32, 16)\n",
        "        self.conv2 = conv(16, 32)\n",
        "        self.transition2 = transition(32, 16)\n",
        "        self.output = output(16, 10)\n",
        "\n",
        "    def forward(self, x):\n",
        "        x = self.input(x)\n",
        "        x = self.conv1(x)\n",
        "        x = self.transition1(x)\n",
        "        x = self.conv2(x)\n",
        "        x = self.transition2(x)\n",
        "        x = self.output(x)\n",
        "        x = x.view(-1, 10)\n",
        "        return F.log_softmax(x)\n",
        "        \n",
        "# Improvements from original model\n",
        "# * Remove RELU from last Conv layer\n",
        "# * Change Batch Size = 64 -> No change, so reverted back to 128\n",
        "# * Reduced number of parameters to less than 20K\n",
        "# * Refactored network to be use nn.Sequential\n",
        "# * Add transition block, this becomes `excite and squeeze` network\n",
        "# * Added Batch Norm after every conv layer, except last layer\n",
        "\n",
        "# Number of Parameters = 16.8K\n",
        "# Batch Size = 128\n",
        "# Max accuracy reached @18th epoch:\n",
        "#   loss=0.0036736882757395506 batch_id=468: 100%|██████████| 469/469 [00:21<00:00, 22.12it/s]\n",
        "#   0%|          | 0/469 [00:00<?, ?it/s]\n",
        "#   Test set: Average loss: 0.0218, Accuracy: 9936/10000 (99%)\n",
        "\n",
        "# Training loss is 0.0036, but test loss is 0.0218... Looks to be overfitting\n",
        "# Two ways to fix overfitting (there are many, but following are two from them):\n",
        "# 1) Add Image Preprocessing:\n",
        "#    ```\n",
        "#    transforms.RandomAffine(degrees=20, translate=(0.1,0.1), scale=(0.9, 1.1)),\n",
        "#    transforms.ColorJitter(brightness=0.2, contrast=0.2),\n",
        "#    ```\n",
        "#   Reached 99.45 @9th epoch:\n",
        "#    loss=0.010153046809136868 batch_id=468: 100%|██████████| 469/469 [00:56<00:00,  8.31it/s]\n",
        "#    0%|          | 0/469 [00:00<?, ?it/s]\n",
        "#    Test set: Average loss: 0.0180, Accuracy: 9945/10000 (99%)\n",
        "\n",
        "#   Reached 99.50 @20th epoch:\n",
        "#    loss=0.03761047497391701 batch_id=468: 100%|██████████| 469/469 [00:56<00:00,  8.36it/s]\n",
        "#    Test set: Average loss: 0.0164, Accuracy: 9950/10000 (100%)\n",
        "\n",
        "# 2) Dropout: No luck, tried 0.1,0.2, didn't get expected results"
      ],
      "execution_count": 7,
      "outputs": []
    },
    {
      "cell_type": "code",
      "metadata": {
        "colab_type": "code",
        "id": "xdydjYTZFyi3",
        "colab": {
          "base_uri": "https://localhost:8080/",
          "height": 680
        },
        "outputId": "5ad6a4a7-765e-4bbd-98ee-5859b89a99b8"
      },
      "source": [
        "!pip install torchsummary\n",
        "from torchsummary import summary\n",
        "use_cuda = torch.cuda.is_available()\n",
        "device = torch.device(\"cuda\" if use_cuda else \"cpu\")\n",
        "model = Net().to(device)\n",
        "summary(model, input_size=(1, 28, 28))"
      ],
      "execution_count": 3,
      "outputs": [
        {
          "output_type": "stream",
          "text": [
            "Requirement already satisfied: torchsummary in /usr/local/lib/python3.6/dist-packages (1.5.1)\n",
            "----------------------------------------------------------------\n",
            "        Layer (type)               Output Shape         Param #\n",
            "================================================================\n",
            "            Conv2d-1           [-1, 16, 28, 28]             160\n",
            "       BatchNorm2d-2           [-1, 16, 28, 28]              32\n",
            "              ReLU-3           [-1, 16, 28, 28]               0\n",
            "            Conv2d-4           [-1, 32, 28, 28]           4,640\n",
            "       BatchNorm2d-5           [-1, 32, 28, 28]              64\n",
            "              ReLU-6           [-1, 32, 28, 28]               0\n",
            "            Conv2d-7           [-1, 16, 28, 28]             528\n",
            "       BatchNorm2d-8           [-1, 16, 28, 28]              32\n",
            "              ReLU-9           [-1, 16, 28, 28]               0\n",
            "        MaxPool2d-10           [-1, 16, 14, 14]               0\n",
            "           Conv2d-11           [-1, 32, 14, 14]           4,640\n",
            "      BatchNorm2d-12           [-1, 32, 14, 14]              64\n",
            "             ReLU-13           [-1, 32, 14, 14]               0\n",
            "           Conv2d-14           [-1, 16, 14, 14]             528\n",
            "      BatchNorm2d-15           [-1, 16, 14, 14]              32\n",
            "             ReLU-16           [-1, 16, 14, 14]               0\n",
            "        MaxPool2d-17             [-1, 16, 7, 7]               0\n",
            "           Conv2d-18             [-1, 16, 5, 5]           2,320\n",
            "      BatchNorm2d-19             [-1, 16, 5, 5]              32\n",
            "             ReLU-20             [-1, 16, 5, 5]               0\n",
            "           Conv2d-21             [-1, 16, 3, 3]           2,320\n",
            "      BatchNorm2d-22             [-1, 16, 3, 3]              32\n",
            "             ReLU-23             [-1, 16, 3, 3]               0\n",
            "           Conv2d-24             [-1, 10, 1, 1]           1,450\n",
            "================================================================\n",
            "Total params: 16,874\n",
            "Trainable params: 16,874\n",
            "Non-trainable params: 0\n",
            "----------------------------------------------------------------\n",
            "Input size (MB): 0.00\n",
            "Forward/backward pass size (MB): 1.41\n",
            "Params size (MB): 0.06\n",
            "Estimated Total Size (MB): 1.47\n",
            "----------------------------------------------------------------\n"
          ],
          "name": "stdout"
        },
        {
          "output_type": "stream",
          "text": [
            "/usr/local/lib/python3.6/dist-packages/ipykernel_launcher.py:112: UserWarning: Implicit dimension choice for log_softmax has been deprecated. Change the call to include dim=X as an argument.\n"
          ],
          "name": "stderr"
        }
      ]
    },
    {
      "cell_type": "code",
      "metadata": {
        "id": "DqTWLaM5GHgH",
        "colab_type": "code",
        "colab": {}
      },
      "source": [
        "torch.manual_seed(1)\n",
        "batch_size = 128\n",
        "\n",
        "kwargs = {'num_workers': 1, 'pin_memory': True} if use_cuda else {}\n",
        "train_loader = torch.utils.data.DataLoader(\n",
        "    datasets.MNIST('../data', train=True, download=True,\n",
        "                    transform=transforms.Compose([\n",
        "                        transforms.RandomAffine(degrees=20, translate=(0.1,0.1), scale=(0.9, 1.1)),\n",
        "                        transforms.ColorJitter(brightness=0.2, contrast=0.2),\n",
        "                        transforms.ToTensor(),\n",
        "                        transforms.Normalize((0.1307,), (0.3081,))\n",
        "                    ])),\n",
        "    batch_size=batch_size, shuffle=True, **kwargs)\n",
        "test_loader = torch.utils.data.DataLoader(\n",
        "    datasets.MNIST('../data', train=False, transform=transforms.Compose([\n",
        "                        transforms.ToTensor(),\n",
        "                        transforms.Normalize((0.1307,), (0.3081,))\n",
        "                    ])),\n",
        "    batch_size=batch_size, shuffle=True, **kwargs)\n"
      ],
      "execution_count": 4,
      "outputs": []
    },
    {
      "cell_type": "code",
      "metadata": {
        "id": "8fDefDhaFlwH",
        "colab_type": "code",
        "colab": {}
      },
      "source": [
        "from tqdm import tqdm\n",
        "def train(model, device, train_loader, optimizer, epoch):\n",
        "    model.train()\n",
        "    pbar = tqdm(train_loader)\n",
        "    for batch_idx, (data, target) in enumerate(pbar):\n",
        "        data, target = data.to(device), target.to(device)\n",
        "        optimizer.zero_grad()\n",
        "        output = model(data)\n",
        "        loss = F.nll_loss(output, target)\n",
        "        loss.backward()\n",
        "        optimizer.step()\n",
        "        pbar.set_description(desc= f'loss={loss.item()} batch_id={batch_idx}')\n",
        "\n",
        "\n",
        "def test(model, device, test_loader):\n",
        "    model.eval()\n",
        "    test_loss = 0\n",
        "    correct = 0\n",
        "    with torch.no_grad():\n",
        "        for data, target in test_loader:\n",
        "            data, target = data.to(device), target.to(device)\n",
        "            output = model(data)\n",
        "            test_loss += F.nll_loss(output, target, reduction='sum').item()  # sum up batch loss\n",
        "            pred = output.argmax(dim=1, keepdim=True)  # get the index of the max log-probability\n",
        "            correct += pred.eq(target.view_as(pred)).sum().item()\n",
        "\n",
        "    test_loss /= len(test_loader.dataset)\n",
        "\n",
        "    print('\\nTest set: Average loss: {:.4f}, Accuracy: {}/{} ({:.0f}%)\\n'.format(\n",
        "        test_loss, correct, len(test_loader.dataset),\n",
        "        100. * correct / len(test_loader.dataset)))"
      ],
      "execution_count": 5,
      "outputs": []
    },
    {
      "cell_type": "code",
      "metadata": {
        "id": "MMWbLWO6FuHb",
        "colab_type": "code",
        "colab": {
          "base_uri": "https://localhost:8080/",
          "height": 1000
        },
        "outputId": "ec1dc42b-4256-4148-8232-c7949a174a8b"
      },
      "source": [
        "model = Net().to(device)\n",
        "optimizer = optim.SGD(model.parameters(), lr=0.01, momentum=0.9)\n",
        "\n",
        "for epoch in range(1, 21):\n",
        "    train(model, device, train_loader, optimizer, epoch)\n",
        "    test(model, device, test_loader)"
      ],
      "execution_count": 6,
      "outputs": [
        {
          "output_type": "stream",
          "text": [
            "  0%|          | 0/469 [00:00<?, ?it/s]/usr/local/lib/python3.6/dist-packages/ipykernel_launcher.py:112: UserWarning: Implicit dimension choice for log_softmax has been deprecated. Change the call to include dim=X as an argument.\n",
            "loss=0.17448244988918304 batch_id=468: 100%|██████████| 469/469 [00:57<00:00,  8.19it/s]\n",
            "  0%|          | 0/469 [00:00<?, ?it/s]"
          ],
          "name": "stderr"
        },
        {
          "output_type": "stream",
          "text": [
            "\n",
            "Test set: Average loss: 0.0550, Accuracy: 9828/10000 (98%)\n",
            "\n"
          ],
          "name": "stdout"
        },
        {
          "output_type": "stream",
          "text": [
            "loss=0.06053571403026581 batch_id=468: 100%|██████████| 469/469 [00:57<00:00,  8.20it/s]\n",
            "  0%|          | 0/469 [00:00<?, ?it/s]"
          ],
          "name": "stderr"
        },
        {
          "output_type": "stream",
          "text": [
            "\n",
            "Test set: Average loss: 0.0766, Accuracy: 9772/10000 (98%)\n",
            "\n"
          ],
          "name": "stdout"
        },
        {
          "output_type": "stream",
          "text": [
            "loss=0.033100757747888565 batch_id=468: 100%|██████████| 469/469 [00:57<00:00,  8.13it/s]\n",
            "  0%|          | 0/469 [00:00<?, ?it/s]"
          ],
          "name": "stderr"
        },
        {
          "output_type": "stream",
          "text": [
            "\n",
            "Test set: Average loss: 0.0287, Accuracy: 9904/10000 (99%)\n",
            "\n"
          ],
          "name": "stdout"
        },
        {
          "output_type": "stream",
          "text": [
            "loss=0.07539474219083786 batch_id=468: 100%|██████████| 469/469 [00:56<00:00,  8.24it/s]\n",
            "  0%|          | 0/469 [00:00<?, ?it/s]"
          ],
          "name": "stderr"
        },
        {
          "output_type": "stream",
          "text": [
            "\n",
            "Test set: Average loss: 0.0258, Accuracy: 9915/10000 (99%)\n",
            "\n"
          ],
          "name": "stdout"
        },
        {
          "output_type": "stream",
          "text": [
            "loss=0.015698876231908798 batch_id=468: 100%|██████████| 469/469 [00:57<00:00,  8.14it/s]\n",
            "  0%|          | 0/469 [00:00<?, ?it/s]"
          ],
          "name": "stderr"
        },
        {
          "output_type": "stream",
          "text": [
            "\n",
            "Test set: Average loss: 0.0257, Accuracy: 9920/10000 (99%)\n",
            "\n"
          ],
          "name": "stdout"
        },
        {
          "output_type": "stream",
          "text": [
            "loss=0.09396729618310928 batch_id=468: 100%|██████████| 469/469 [00:57<00:00,  8.17it/s]\n",
            "  0%|          | 0/469 [00:00<?, ?it/s]"
          ],
          "name": "stderr"
        },
        {
          "output_type": "stream",
          "text": [
            "\n",
            "Test set: Average loss: 0.0270, Accuracy: 9914/10000 (99%)\n",
            "\n"
          ],
          "name": "stdout"
        },
        {
          "output_type": "stream",
          "text": [
            "loss=0.0390128418803215 batch_id=468: 100%|██████████| 469/469 [00:57<00:00,  8.16it/s]\n",
            "  0%|          | 0/469 [00:00<?, ?it/s]"
          ],
          "name": "stderr"
        },
        {
          "output_type": "stream",
          "text": [
            "\n",
            "Test set: Average loss: 0.0223, Accuracy: 9929/10000 (99%)\n",
            "\n"
          ],
          "name": "stdout"
        },
        {
          "output_type": "stream",
          "text": [
            "loss=0.22857029736042023 batch_id=468: 100%|██████████| 469/469 [00:56<00:00,  8.23it/s]\n",
            "  0%|          | 0/469 [00:00<?, ?it/s]"
          ],
          "name": "stderr"
        },
        {
          "output_type": "stream",
          "text": [
            "\n",
            "Test set: Average loss: 0.0244, Accuracy: 9926/10000 (99%)\n",
            "\n"
          ],
          "name": "stdout"
        },
        {
          "output_type": "stream",
          "text": [
            "loss=0.02398875541985035 batch_id=468: 100%|██████████| 469/469 [00:56<00:00,  8.24it/s]\n",
            "  0%|          | 0/469 [00:00<?, ?it/s]"
          ],
          "name": "stderr"
        },
        {
          "output_type": "stream",
          "text": [
            "\n",
            "Test set: Average loss: 0.0229, Accuracy: 9924/10000 (99%)\n",
            "\n"
          ],
          "name": "stdout"
        },
        {
          "output_type": "stream",
          "text": [
            "loss=0.010153046809136868 batch_id=468: 100%|██████████| 469/469 [00:56<00:00,  8.31it/s]\n",
            "  0%|          | 0/469 [00:00<?, ?it/s]"
          ],
          "name": "stderr"
        },
        {
          "output_type": "stream",
          "text": [
            "\n",
            "Test set: Average loss: 0.0180, Accuracy: 9945/10000 (99%)\n",
            "\n"
          ],
          "name": "stdout"
        },
        {
          "output_type": "stream",
          "text": [
            "loss=0.07118254154920578 batch_id=468: 100%|██████████| 469/469 [00:57<00:00,  8.22it/s]\n",
            "  0%|          | 0/469 [00:00<?, ?it/s]"
          ],
          "name": "stderr"
        },
        {
          "output_type": "stream",
          "text": [
            "\n",
            "Test set: Average loss: 0.0199, Accuracy: 9935/10000 (99%)\n",
            "\n"
          ],
          "name": "stdout"
        },
        {
          "output_type": "stream",
          "text": [
            "loss=0.14283184707164764 batch_id=468: 100%|██████████| 469/469 [00:56<00:00,  8.29it/s]\n",
            "  0%|          | 0/469 [00:00<?, ?it/s]"
          ],
          "name": "stderr"
        },
        {
          "output_type": "stream",
          "text": [
            "\n",
            "Test set: Average loss: 0.0204, Accuracy: 9940/10000 (99%)\n",
            "\n"
          ],
          "name": "stdout"
        },
        {
          "output_type": "stream",
          "text": [
            "loss=0.05871129035949707 batch_id=468: 100%|██████████| 469/469 [00:56<00:00,  8.23it/s]\n",
            "  0%|          | 0/469 [00:00<?, ?it/s]"
          ],
          "name": "stderr"
        },
        {
          "output_type": "stream",
          "text": [
            "\n",
            "Test set: Average loss: 0.0170, Accuracy: 9940/10000 (99%)\n",
            "\n"
          ],
          "name": "stdout"
        },
        {
          "output_type": "stream",
          "text": [
            "loss=0.07491671293973923 batch_id=468: 100%|██████████| 469/469 [00:57<00:00,  8.21it/s]\n",
            "  0%|          | 0/469 [00:00<?, ?it/s]"
          ],
          "name": "stderr"
        },
        {
          "output_type": "stream",
          "text": [
            "\n",
            "Test set: Average loss: 0.0182, Accuracy: 9941/10000 (99%)\n",
            "\n"
          ],
          "name": "stdout"
        },
        {
          "output_type": "stream",
          "text": [
            "loss=0.04181000590324402 batch_id=468: 100%|██████████| 469/469 [00:56<00:00,  8.25it/s]\n",
            "  0%|          | 0/469 [00:00<?, ?it/s]"
          ],
          "name": "stderr"
        },
        {
          "output_type": "stream",
          "text": [
            "\n",
            "Test set: Average loss: 0.0173, Accuracy: 9940/10000 (99%)\n",
            "\n"
          ],
          "name": "stdout"
        },
        {
          "output_type": "stream",
          "text": [
            "loss=0.07435145229101181 batch_id=468: 100%|██████████| 469/469 [00:56<00:00,  8.26it/s]\n",
            "  0%|          | 0/469 [00:00<?, ?it/s]"
          ],
          "name": "stderr"
        },
        {
          "output_type": "stream",
          "text": [
            "\n",
            "Test set: Average loss: 0.0197, Accuracy: 9936/10000 (99%)\n",
            "\n"
          ],
          "name": "stdout"
        },
        {
          "output_type": "stream",
          "text": [
            "loss=0.021941764280200005 batch_id=468: 100%|██████████| 469/469 [00:56<00:00,  8.26it/s]\n",
            "  0%|          | 0/469 [00:00<?, ?it/s]"
          ],
          "name": "stderr"
        },
        {
          "output_type": "stream",
          "text": [
            "\n",
            "Test set: Average loss: 0.0189, Accuracy: 9940/10000 (99%)\n",
            "\n"
          ],
          "name": "stdout"
        },
        {
          "output_type": "stream",
          "text": [
            "loss=0.05173914507031441 batch_id=468: 100%|██████████| 469/469 [00:56<00:00,  8.28it/s]\n",
            "  0%|          | 0/469 [00:00<?, ?it/s]"
          ],
          "name": "stderr"
        },
        {
          "output_type": "stream",
          "text": [
            "\n",
            "Test set: Average loss: 0.0182, Accuracy: 9934/10000 (99%)\n",
            "\n"
          ],
          "name": "stdout"
        },
        {
          "output_type": "stream",
          "text": [
            "loss=0.00969836488366127 batch_id=468: 100%|██████████| 469/469 [00:56<00:00,  8.25it/s]\n",
            "  0%|          | 0/469 [00:00<?, ?it/s]"
          ],
          "name": "stderr"
        },
        {
          "output_type": "stream",
          "text": [
            "\n",
            "Test set: Average loss: 0.0181, Accuracy: 9940/10000 (99%)\n",
            "\n"
          ],
          "name": "stdout"
        },
        {
          "output_type": "stream",
          "text": [
            "loss=0.03761047497391701 batch_id=468: 100%|██████████| 469/469 [00:56<00:00,  8.36it/s]\n"
          ],
          "name": "stderr"
        },
        {
          "output_type": "stream",
          "text": [
            "\n",
            "Test set: Average loss: 0.0164, Accuracy: 9950/10000 (100%)\n",
            "\n"
          ],
          "name": "stdout"
        }
      ]
    }
  ]
}
