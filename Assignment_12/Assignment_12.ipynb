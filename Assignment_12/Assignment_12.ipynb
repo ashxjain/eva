{
  "nbformat": 4,
  "nbformat_minor": 0,
  "metadata": {
    "colab": {
      "name": "Assignment_12",
      "version": "0.3.2",
      "provenance": [],
      "collapsed_sections": []
    },
    "kernelspec": {
      "name": "python3",
      "display_name": "Python 3"
    },
    "accelerator": "GPU"
  },
  "cells": [
    {
      "cell_type": "markdown",
      "metadata": {
        "id": "ODdtWq1ik9AN",
        "colab_type": "text"
      },
      "source": [
        "### Make necessary imports"
      ]
    },
    {
      "cell_type": "code",
      "metadata": {
        "id": "KkwXnw9OfHZl",
        "colab_type": "code",
        "outputId": "78f8c4bc-87cc-40b7-9bc2-6e9514cadbef",
        "colab": {
          "base_uri": "https://localhost:8080/",
          "height": 32
        }
      },
      "source": [
        "from keras import backend as K\n",
        "import time\n",
        "import matplotlib.pyplot as plt\n",
        "import numpy as np\n",
        "% matplotlib inline\n",
        "np.random.seed(2017) \n",
        "from keras import regularizers\n",
        "from keras.layers.convolutional import Convolution2D, MaxPooling2D\n",
        "from keras.layers import Activation, Flatten, Dense, Dropout, GlobalMaxPooling2D\n",
        "from keras.layers.normalization import BatchNormalization\n",
        "from keras.utils import np_utils\n",
        "from keras.preprocessing.image import ImageDataGenerator"
      ],
      "execution_count": 1,
      "outputs": [
        {
          "output_type": "stream",
          "text": [
            "Using TensorFlow backend.\n"
          ],
          "name": "stderr"
        }
      ]
    },
    {
      "cell_type": "markdown",
      "metadata": {
        "id": "wQgX1E1zlCBf",
        "colab_type": "text"
      },
      "source": [
        "### Import CIFAR-10 Dataset\n",
        "\n",
        "Cifar10 is a classic dataset for deep learning, consisting of 32×32 images belonging to 10 different classes, such as dog, frog, truck, ship, and so on. Cifar10 resembles MNIST — both have 10 classes and tiny images"
      ]
    },
    {
      "cell_type": "code",
      "metadata": {
        "id": "NHpnoCHZfO8g",
        "colab_type": "code",
        "colab": {
          "base_uri": "https://localhost:8080/",
          "height": 49
        },
        "outputId": "059be097-79f5-4ede-d3fe-49cf9e3f3988"
      },
      "source": [
        "from keras.datasets import cifar10\n",
        "(train_features, train_labels), (test_features, test_labels) = cifar10.load_data()\n",
        "num_train, img_rows, img_cols,img_channels =  train_features.shape\n",
        "num_test, _, _, _ =  test_features.shape\n",
        "num_classes = len(np.unique(train_labels))"
      ],
      "execution_count": 2,
      "outputs": [
        {
          "output_type": "stream",
          "text": [
            "Downloading data from https://www.cs.toronto.edu/~kriz/cifar-10-python.tar.gz\n",
            "170500096/170498071 [==============================] - 11s 0us/step\n"
          ],
          "name": "stdout"
        }
      ]
    },
    {
      "cell_type": "markdown",
      "metadata": {
        "id": "6XqjJ28glMyx",
        "colab_type": "text"
      },
      "source": [
        "### Understanding Dataset"
      ]
    },
    {
      "cell_type": "code",
      "metadata": {
        "id": "2R9KHV8A19cw",
        "colab_type": "code",
        "outputId": "6551093a-408d-49ef-8491-f94799d18fdb",
        "colab": {
          "base_uri": "https://localhost:8080/",
          "height": 65
        }
      },
      "source": [
        "print (num_classes)\n",
        "print (num_train)\n",
        "print (train_features.shape)"
      ],
      "execution_count": 3,
      "outputs": [
        {
          "output_type": "stream",
          "text": [
            "10\n",
            "50000\n",
            "(50000, 32, 32, 3)\n"
          ],
          "name": "stdout"
        }
      ]
    },
    {
      "cell_type": "code",
      "metadata": {
        "id": "14HyBUXdfS6G",
        "colab_type": "code",
        "outputId": "beb11506-b433-4e56-9a78-b6f3f82ee57f",
        "colab": {
          "base_uri": "https://localhost:8080/",
          "height": 211
        }
      },
      "source": [
        "class_names = ['airplane','automobile','bird','cat','deer',\n",
        "               'dog','frog','horse','ship','truck']\n",
        "fig = plt.figure(figsize=(8,3))\n",
        "for i in range(num_classes):\n",
        "    ax = fig.add_subplot(2, 5, 1 + i, xticks=[], yticks=[])\n",
        "    idx = np.where(train_labels[:]==i)[0]\n",
        "    features_idx = train_features[idx,::]\n",
        "    img_num = np.random.randint(features_idx.shape[0])\n",
        "    im = features_idx[img_num]\n",
        "    ax.set_title(class_names[i])\n",
        "    plt.imshow(im)\n",
        "plt.show()"
      ],
      "execution_count": 4,
      "outputs": [
        {
          "output_type": "display_data",
          "data": {
            "image/png": "[encoded data removed]",
            "text/plain": [
              "<Figure size 576x216 with 10 Axes>"
            ]
          },
          "metadata": {
            "tags": []
          }
        }
      ]
    },
    {
      "cell_type": "markdown",
      "metadata": {
        "id": "rTBtjU6GC0AT",
        "colab_type": "text"
      },
      "source": [
        "### Import nn_utils: Library for commonly used utilities"
      ]
    },
    {
      "cell_type": "code",
      "metadata": {
        "id": "iNS5m53OtTzZ",
        "colab_type": "code",
        "colab": {
          "base_uri": "https://localhost:8080/",
          "height": 141
        },
        "outputId": "439251cf-e474-4e4c-8214-794ed98f6974"
      },
      "source": [
        "!git clone https://github.com/ashxjain/nn_utils.git"
      ],
      "execution_count": 5,
      "outputs": [
        {
          "output_type": "stream",
          "text": [
            "Cloning into 'nn_utils'...\n",
            "remote: Enumerating objects: 42, done.\u001b[K\n",
            "remote: Counting objects: 100% (42/42), done.\u001b[K\n",
            "remote: Compressing objects: 100% (32/32), done.\u001b[K\n",
            "remote: Total 42 (delta 16), reused 32 (delta 8), pack-reused 0\u001b[K\n",
            "Unpacking objects: 100% (42/42), done.\n"
          ],
          "name": "stdout"
        }
      ]
    },
    {
      "cell_type": "markdown",
      "metadata": {
        "colab_type": "text",
        "id": "suXeo6hwJoRf"
      },
      "source": [
        "### Image Preprocessing"
      ]
    },
    {
      "cell_type": "code",
      "metadata": {
        "id": "e5U2c0unqgdP",
        "colab_type": "code",
        "outputId": "18aa56b5-f6c9-4ed0-88e5-177cfa0e1ab1",
        "colab": {
          "base_uri": "https://localhost:8080/",
          "height": 82
        }
      },
      "source": [
        "from nn_utils import preprocessing\n",
        "\n",
        "# load dataset\n",
        "(trainX, trainy), (testX, testy) = cifar10.load_data()\n",
        "\n",
        "\n",
        "print('Statistics train=%.3f (%.3f), test=%.3f (%.3f)' % (trainX.mean(), trainX.std(), testX.mean(), testX.std()))\n",
        "\n",
        "# create generator that centers pixel values\n",
        "datagen = ImageDataGenerator(\n",
        "    featurewise_center=True,\n",
        "    featurewise_std_normalization=True,\n",
        ")\n",
        "\n",
        "# calculate the mean on the training dataset\n",
        "datagen.fit(trainX)\n",
        "#print('Data Generator mean=%.3f, std=%.3f' % (datagen.mean, datagen.std))\n",
        "\n",
        "# demonstrate effect on a single batch of samples\n",
        "iterator = datagen.flow(trainX, trainy, batch_size=128)\n",
        "\n",
        "# get a batch\n",
        "batchX, batchy = iterator.next()\n",
        "\n",
        "# pixel stats in the batch\n",
        "print(batchX.shape, batchX.mean(), batchX.std())\n",
        "\n",
        "# demonstrate effect on entire training dataset\n",
        "iterator = datagen.flow(trainX, trainy, batch_size=len(trainX), shuffle=False)\n",
        "\n",
        "# get a batch\n",
        "batchX, batchy = iterator.next()\n",
        "\n",
        "# pixel stats in the batch\n",
        "print(batchX.shape, batchX.mean(), batchX.std())\n",
        "\n",
        "print(batchX.min(), batchX.max())"
      ],
      "execution_count": 16,
      "outputs": [
        {
          "output_type": "stream",
          "text": [
            "Statistics train=120.708 (64.150), test=121.529 (64.061)\n",
            "(128, 32, 32, 3) 0.095549256 1.0508757\n",
            "(50000, 32, 32, 3) -1.6605131e-06 1.0000001\n",
            "-1.9892113 2.1267967\n"
          ],
          "name": "stdout"
        }
      ]
    },
    {
      "cell_type": "code",
      "metadata": {
        "colab_type": "code",
        "id": "7pwwMQ7XsyOD",
        "colab": {}
      },
      "source": [
        "# create generator that centers pixel values\n",
        "iterator1 = datagen.flow(testX, testy, batch_size=len(testX), shuffle=False)\n",
        "batch_testX, batch_testy = iterator1.next()\n",
        "\n",
        "X_train = batchX\n",
        "X_test = batch_testX\n",
        "\n",
        "y_train = batchy\n",
        "y_test = batch_testy\n",
        "\n",
        "# Convert 1-dimensional class arrays to 10-dimensional class matrices\n",
        "Y_train = np_utils.to_categorical(y_train, 10)\n",
        "Y_test = np_utils.to_categorical(y_test, 10)                        "
      ],
      "execution_count": 0,
      "outputs": []
    },
    {
      "cell_type": "code",
      "metadata": {
        "id": "z3d05MXp7qXD",
        "colab_type": "code",
        "colab": {}
      },
      "source": [
        "# Define the model\n",
        "from keras.layers import Input\n",
        "from keras.models import Model\n",
        "from keras.layers import Add, BatchNormalization, Dropout, Activation, Lambda\n",
        "\n",
        "def ConvBN(x, c, kernel_size=3, strides=(1, 1),\n",
        "           kernel_initializer='glorot_uniform',\n",
        "           bn_mom=0.99, bn_eps=0.001):\n",
        "  x = Convolution2D(c, (3, 3), kernel_initializer=kernel_initializer,\n",
        "                    strides=strides, padding='same', use_bias=False) (x)\n",
        "  x = (BatchNormalization(momentum=bn_mom, epsilon=bn_eps)) (x)\n",
        "  x = (Activation('relu')) (x)\n",
        "  return x\n",
        "\n",
        "\n",
        "def ConvBlk(x, c, convs=1, kernel_size=3,\n",
        "            kernel_initializer='glorot_uniform',\n",
        "            bn_mom=0.99, bn_eps=0.001):\n",
        "  for i in range(convs):\n",
        "    x = ConvBN(x, c, kernel_size=kernel_size,\n",
        "               kernel_initializer=kernel_initializer,\n",
        "               bn_mom=bn_mom, bn_eps=bn_eps)\n",
        "  x = MaxPooling2D(pool_size=(2, 2))(x)\n",
        "  return x\n",
        "\n",
        "\n",
        "def ConvResBlk(x, c, convs=1, res_convs=2, kernel_size=3,\n",
        "               kernel_initializer='glorot_uniform',\n",
        "               bn_mom=0.99, bn_eps=0.001):\n",
        "  x = ConvBlk(x, c, convs=convs, kernel_size=kernel_size,\n",
        "              kernel_initializer=kernel_initializer,\n",
        "              bn_mom=bn_mom, bn_eps=bn_eps)\n",
        "\n",
        "  residualx = x\n",
        "  for i in range(res_convs):\n",
        "    residualx = ConvBN(residualx, c, kernel_size=kernel_size,\n",
        "                     kernel_initializer=kernel_initializer,\n",
        "                     bn_mom=bn_mom, bn_eps=bn_eps)\n",
        "  return Add()([x, residualx])\n",
        "\n",
        "def get_model():\n",
        "  _input =  Input(shape=(32,32,3))\n",
        "  c = 64\n",
        "  x = ConvBN(_input, c)\n",
        "  x = ConvResBlk(x, c*2, res_convs=2)\n",
        "  x = ConvBlk(x, c*4)\n",
        "  x = ConvResBlk(x, c*8, res_convs=2)\n",
        "  x = GlobalMaxPooling2D()(x)\n",
        "  x = Dense(10, activation='softmax') (x)\n",
        "  _output = Lambda(lambda x: x *0.125)(x)\n",
        "\n",
        "  model = Model(inputs=_input, outputs=_output)\n",
        "\n",
        "  return model"
      ],
      "execution_count": 0,
      "outputs": []
    },
    {
      "cell_type": "code",
      "metadata": {
        "id": "Bphb4uq3C4sO",
        "colab_type": "code",
        "colab": {
          "base_uri": "https://localhost:8080/",
          "height": 1000
        },
        "outputId": "0ce8c514-75ec-4afc-b009-0efd082f390e"
      },
      "source": [
        "model = get_new_model()\n",
        "model.summary()"
      ],
      "execution_count": 18,
      "outputs": [
        {
          "output_type": "stream",
          "text": [
            "__________________________________________________________________________________________________\n",
            "Layer (type)                    Output Shape         Param #     Connected to                     \n",
            "==================================================================================================\n",
            "input_5 (InputLayer)            (None, 32, 32, 3)    0                                            \n",
            "__________________________________________________________________________________________________\n",
            "conv2d_14 (Conv2D)              (None, 32, 32, 64)   1728        input_5[0][0]                    \n",
            "__________________________________________________________________________________________________\n",
            "batch_normalization_12 (BatchNo (None, 32, 32, 64)   256         conv2d_14[0][0]                  \n",
            "__________________________________________________________________________________________________\n",
            "activation_12 (Activation)      (None, 32, 32, 64)   0           batch_normalization_12[0][0]     \n",
            "__________________________________________________________________________________________________\n",
            "conv2d_15 (Conv2D)              (None, 32, 32, 128)  73728       activation_12[0][0]              \n",
            "__________________________________________________________________________________________________\n",
            "batch_normalization_13 (BatchNo (None, 32, 32, 128)  512         conv2d_15[0][0]                  \n",
            "__________________________________________________________________________________________________\n",
            "activation_13 (Activation)      (None, 32, 32, 128)  0           batch_normalization_13[0][0]     \n",
            "__________________________________________________________________________________________________\n",
            "max_pooling2d_5 (MaxPooling2D)  (None, 16, 16, 128)  0           activation_13[0][0]              \n",
            "__________________________________________________________________________________________________\n",
            "conv2d_16 (Conv2D)              (None, 16, 16, 128)  147456      max_pooling2d_5[0][0]            \n",
            "__________________________________________________________________________________________________\n",
            "batch_normalization_14 (BatchNo (None, 16, 16, 128)  512         conv2d_16[0][0]                  \n",
            "__________________________________________________________________________________________________\n",
            "activation_14 (Activation)      (None, 16, 16, 128)  0           batch_normalization_14[0][0]     \n",
            "__________________________________________________________________________________________________\n",
            "conv2d_17 (Conv2D)              (None, 16, 16, 128)  147456      activation_14[0][0]              \n",
            "__________________________________________________________________________________________________\n",
            "batch_normalization_15 (BatchNo (None, 16, 16, 128)  512         conv2d_17[0][0]                  \n",
            "__________________________________________________________________________________________________\n",
            "activation_15 (Activation)      (None, 16, 16, 128)  0           batch_normalization_15[0][0]     \n",
            "__________________________________________________________________________________________________\n",
            "add_3 (Add)                     (None, 16, 16, 128)  0           max_pooling2d_5[0][0]            \n",
            "                                                                 activation_15[0][0]              \n",
            "__________________________________________________________________________________________________\n",
            "conv2d_18 (Conv2D)              (None, 16, 16, 256)  294912      add_3[0][0]                      \n",
            "__________________________________________________________________________________________________\n",
            "batch_normalization_16 (BatchNo (None, 16, 16, 256)  1024        conv2d_18[0][0]                  \n",
            "__________________________________________________________________________________________________\n",
            "activation_16 (Activation)      (None, 16, 16, 256)  0           batch_normalization_16[0][0]     \n",
            "__________________________________________________________________________________________________\n",
            "max_pooling2d_6 (MaxPooling2D)  (None, 8, 8, 256)    0           activation_16[0][0]              \n",
            "__________________________________________________________________________________________________\n",
            "conv2d_19 (Conv2D)              (None, 8, 8, 512)    1179648     max_pooling2d_6[0][0]            \n",
            "__________________________________________________________________________________________________\n",
            "batch_normalization_17 (BatchNo (None, 8, 8, 512)    2048        conv2d_19[0][0]                  \n",
            "__________________________________________________________________________________________________\n",
            "activation_17 (Activation)      (None, 8, 8, 512)    0           batch_normalization_17[0][0]     \n",
            "__________________________________________________________________________________________________\n",
            "max_pooling2d_7 (MaxPooling2D)  (None, 4, 4, 512)    0           activation_17[0][0]              \n",
            "__________________________________________________________________________________________________\n",
            "conv2d_20 (Conv2D)              (None, 4, 4, 512)    2359296     max_pooling2d_7[0][0]            \n",
            "__________________________________________________________________________________________________\n",
            "batch_normalization_18 (BatchNo (None, 4, 4, 512)    2048        conv2d_20[0][0]                  \n",
            "__________________________________________________________________________________________________\n",
            "activation_18 (Activation)      (None, 4, 4, 512)    0           batch_normalization_18[0][0]     \n",
            "__________________________________________________________________________________________________\n",
            "conv2d_21 (Conv2D)              (None, 4, 4, 512)    2359296     activation_18[0][0]              \n",
            "__________________________________________________________________________________________________\n",
            "batch_normalization_19 (BatchNo (None, 4, 4, 512)    2048        conv2d_21[0][0]                  \n",
            "__________________________________________________________________________________________________\n",
            "activation_19 (Activation)      (None, 4, 4, 512)    0           batch_normalization_19[0][0]     \n",
            "__________________________________________________________________________________________________\n",
            "add_4 (Add)                     (None, 4, 4, 512)    0           max_pooling2d_7[0][0]            \n",
            "                                                                 activation_19[0][0]              \n",
            "__________________________________________________________________________________________________\n",
            "global_max_pooling2d_2 (GlobalM (None, 512)          0           add_4[0][0]                      \n",
            "__________________________________________________________________________________________________\n",
            "dense_2 (Dense)                 (None, 10)           5130        global_max_pooling2d_2[0][0]     \n",
            "__________________________________________________________________________________________________\n",
            "lambda_2 (Lambda)               (None, 10)           0           dense_2[0][0]                    \n",
            "==================================================================================================\n",
            "Total params: 6,577,610\n",
            "Trainable params: 6,573,130\n",
            "Non-trainable params: 4,480\n",
            "__________________________________________________________________________________________________\n"
          ],
          "name": "stdout"
        }
      ]
    },
    {
      "cell_type": "markdown",
      "metadata": {
        "id": "LkgpEA3tJsr3",
        "colab_type": "text"
      },
      "source": [
        "### HyperParameters"
      ]
    },
    {
      "cell_type": "code",
      "metadata": {
        "id": "-TlncGnlJrl6",
        "colab_type": "code",
        "colab": {}
      },
      "source": [
        "BATCH_SIZE = 512 #@param [\"512\", \"256\", \"128\"] {type:\"raw\"}\n",
        "MOMENTUM = 0.9 #@param [\"0.9\", \"0.95\", \"0.975\"] {type:\"raw\"}\n",
        "EPOCHS = 24 #@param {type:\"slider\", min:0, max:100, step:1}"
      ],
      "execution_count": 0,
      "outputs": []
    },
    {
      "cell_type": "markdown",
      "metadata": {
        "id": "1GQuAXDKp9hS",
        "colab_type": "text"
      },
      "source": [
        "### Find Optimal LR Range"
      ]
    },
    {
      "cell_type": "code",
      "metadata": {
        "id": "e6znfyRRoXWk",
        "colab_type": "code",
        "colab": {
          "base_uri": "https://localhost:8080/",
          "height": 1000
        },
        "outputId": "8ef6f8a0-4e8a-4ff6-ad6e-f857d99c07d1"
      },
      "source": [
        "from nn_utils import lr_utils\n",
        "\n",
        "lr_finder = lr_utils.LR_Finder(\n",
        "    start_lr=1e-5,\n",
        "    end_lr=10,\n",
        "    step_size=np.ceil(\n",
        "        (X_train.shape[0])/BATCH_SIZE\n",
        "    )\n",
        ")\n",
        "\n",
        "model = get_model()\n",
        "\n",
        "# Save initial weights, as we are finding Optimal LR for this initial weight\n",
        "model.save_weights('initial_weights.hd5')\n",
        "\n",
        "model.compile(loss='categorical_crossentropy',\n",
        "              optimizer='adam',\n",
        "              metrics=['accuracy'])\n",
        "\n",
        "# Ensure that number of epochs = 1 when calling fit()\n",
        "model.fit(X_train, Y_train, epochs=1, batch_size=BATCH_SIZE, callbacks=[lr_finder])"
      ],
      "execution_count": 20,
      "outputs": [
        {
          "output_type": "stream",
          "text": [
            "W0731 08:05:46.898382 139722868434816 deprecation_wrapper.py:119] From /usr/local/lib/python3.6/dist-packages/keras/optimizers.py:790: The name tf.train.Optimizer is deprecated. Please use tf.compat.v1.train.Optimizer instead.\n",
            "\n",
            "W0731 08:05:47.057129 139722868434816 deprecation.py:323] From /usr/local/lib/python3.6/dist-packages/tensorflow/python/ops/math_grad.py:1250: add_dispatch_support.<locals>.wrapper (from tensorflow.python.ops.array_ops) is deprecated and will be removed in a future version.\n",
            "Instructions for updating:\n",
            "Use tf.where in 2.0, which has the same broadcast rule as np.where\n"
          ],
          "name": "stderr"
        },
        {
          "output_type": "stream",
          "text": [
            "Epoch 1/1\n",
            "50000/50000 [==============================] - 58s 1ms/step - loss: 3.1851 - acc: 0.2529\n"
          ],
          "name": "stdout"
        },
        {
          "output_type": "execute_result",
          "data": {
            "text/plain": [
              "<keras.callbacks.History at 0x7f132a40c240>"
            ]
          },
          "metadata": {
            "tags": []
          },
          "execution_count": 20
        }
      ]
    },
    {
      "cell_type": "code",
      "metadata": {
        "id": "qlaLmTc0pZ7a",
        "colab_type": "code",
        "colab": {
          "base_uri": "https://localhost:8080/",
          "height": 282
        },
        "outputId": "c9478ecf-0f63-48c0-b654-98c8882a65e8"
      },
      "source": [
        "lr_finder.plot_lr()\n"
      ],
      "execution_count": 21,
      "outputs": [
        {
          "output_type": "display_data",
          "data": {
            "image/png": "[encoded data removed]",
            "text/plain": [
              "<Figure size 432x288 with 1 Axes>"
            ]
          },
          "metadata": {
            "tags": []
          }
        }
      ]
    },
    {
      "cell_type": "code",
      "metadata": {
        "id": "8rGBULHdplHs",
        "colab_type": "code",
        "colab": {
          "base_uri": "https://localhost:8080/",
          "height": 285
        },
        "outputId": "0e775418-e573-4292-ce61-a8e910766133"
      },
      "source": [
        "lr_finder.plot_loss()"
      ],
      "execution_count": 22,
      "outputs": [
        {
          "output_type": "display_data",
          "data": {
            "image/png": "[encoded data removed]",
            "text/plain": [
              "<Figure size 432x288 with 1 Axes>"
            ]
          },
          "metadata": {
            "tags": []
          }
        }
      ]
    },
    {
      "cell_type": "code",
      "metadata": {
        "id": "UiCC6Txvpmj4",
        "colab_type": "code",
        "colab": {
          "base_uri": "https://localhost:8080/",
          "height": 285
        },
        "outputId": "38090ff2-0bbf-4e7d-c78c-b5c1adc39a0b"
      },
      "source": [
        "lr_finder.plot_smoothed_loss()"
      ],
      "execution_count": 23,
      "outputs": [
        {
          "output_type": "display_data",
          "data": {
            "image/png": "[encoded data removed]",
            "text/plain": [
              "<Figure size 432x288 with 1 Axes>"
            ]
          },
          "metadata": {
            "tags": []
          }
        }
      ]
    },
    {
      "cell_type": "markdown",
      "metadata": {
        "id": "v8CM6wdtrHs7",
        "colab_type": "text"
      },
      "source": [
        "* From above, we can see optimal LR is somewhere between 0.001 & 0.02\n",
        "* Mostly it increase slightly after 0.02\n",
        "* Will use 0.02 as max LR value"
      ]
    },
    {
      "cell_type": "code",
      "metadata": {
        "id": "4gPfvAi-8nwk",
        "colab_type": "code",
        "outputId": "c86742b9-bcc1-410d-861e-b8d0528e7673",
        "colab": {
          "base_uri": "https://localhost:8080/",
          "height": 1000
        }
      },
      "source": [
        "from keras.preprocessing.image import ImageDataGenerator\n",
        "from keras.callbacks import ModelCheckpoint\n",
        "from keras.optimizers import SGD\n",
        "from nn_utils import lr_utils\n",
        "\n",
        "checkpoint = ModelCheckpoint(\n",
        "    \"assignment_12_best_weights.hdf5\",\n",
        "    monitor='val_acc',\n",
        "    verbose=1,\n",
        "    save_best_only=True,\n",
        "    mode='max'\n",
        ")\n",
        "\n",
        "lr_manager = lr_utils.OneCycleLR(max_lr=0.02, maximum_momentum=MOMENTUM, verbose=True, batch_size=BATCH_SIZE)\n",
        "\n",
        "callbacks_list = [lr_manager, checkpoint]\n",
        "\n",
        "# Load the model & Compile it\n",
        "model = get_model()\n",
        "\n",
        "# Load saved initial weights, as we are using Optimal LR found for this initial weight\n",
        "model.load_weights('initial_weights.hd5')\n",
        "\n",
        "# These values will be overridden by the above callback\n",
        "optimizer = SGD(lr=0.04, momentum=MOMENTUM, nesterov=True)\n",
        "\n",
        "model.compile(loss='categorical_crossentropy', optimizer=optimizer, metrics=['accuracy'])\n",
        "\n",
        "DATA_AUGMENTATION = True\n",
        "\n",
        "# train the model\n",
        "start = time.time()\n",
        "\n",
        "# Train the model\n",
        "if DATA_AUGMENTATION:\n",
        "  datagen = ImageDataGenerator(\n",
        "      width_shift_range=4,\n",
        "      height_shift_range=4,\n",
        "      horizontal_flip=True,\n",
        "      fill_mode='reflect',\n",
        "      preprocessing_function=preprocessing.get_random_eraser(v_l=0, v_h=1, p=0.2)\n",
        "  )\n",
        "\n",
        "  model_info = model.fit_generator(\n",
        "      datagen.flow(X_train, Y_train, batch_size = BATCH_SIZE),\n",
        "      steps_per_epoch=X_train.shape[0] // BATCH_SIZE,\n",
        "      nb_epoch = EPOCHS,\n",
        "      validation_data = (X_test, Y_test),\n",
        "      callbacks=callbacks_list, \n",
        "      verbose=1)\n",
        "else:\n",
        "  model_info = model.fit(\n",
        "          X_train,\n",
        "          Y_train,\n",
        "          batch_size=BATCH_SIZE,\n",
        "          epochs=EPOCHS,\n",
        "          validation_data=(X_test, Y_test),\n",
        "          shuffle=True,\n",
        "          verbose=1,\n",
        "          callbacks=callbacks_list)\n",
        "\n",
        "end = time.time()\n",
        "print (\"Model took %0.2f seconds to train\"%(end - start))"
      ],
      "execution_count": 27,
      "outputs": [
        {
          "output_type": "stream",
          "text": [
            "/usr/local/lib/python3.6/dist-packages/ipykernel_launcher.py:50: UserWarning: The semantics of the Keras 2 argument `steps_per_epoch` is not the same as the Keras 1 argument `samples_per_epoch`. `steps_per_epoch` is the number of batches to draw from the generator at each epoch. Basically steps_per_epoch = samples_per_epoch/batch_size. Similarly `nb_val_samples`->`validation_steps` and `val_samples`->`steps` arguments have changed. Update your method calls accordingly.\n",
            "/usr/local/lib/python3.6/dist-packages/ipykernel_launcher.py:50: UserWarning: Update your `fit_generator` call to the Keras 2 API: `fit_generator(<keras_pre..., steps_per_epoch=97, validation_data=(array([[[..., callbacks=[<nn_utils..., verbose=1, epochs=24)`\n"
          ],
          "name": "stderr"
        },
        {
          "output_type": "stream",
          "text": [
            "Epoch 1/24\n",
            "97/97 [==============================] - 49s 507ms/step - loss: 1.8814 - acc: 0.4316 - val_loss: 2.0278 - val_acc: 0.3381\n",
            " - lr: 0.00365 - momentum: 0.90 \n",
            "\n",
            "Epoch 00001: val_acc improved from -inf to 0.33810, saving model to assignment_12_best_weights.hdf5\n",
            "Epoch 2/24\n",
            "97/97 [==============================] - 47s 485ms/step - loss: 1.3098 - acc: 0.5548 - val_loss: 1.5750 - val_acc: 0.5031\n",
            " - lr: 0.00532 - momentum: 0.89 \n",
            "\n",
            "Epoch 00002: val_acc improved from 0.33810 to 0.50310, saving model to assignment_12_best_weights.hdf5\n",
            "Epoch 3/24\n",
            "97/97 [==============================] - 47s 485ms/step - loss: 1.1912 - acc: 0.6091 - val_loss: 2.1699 - val_acc: 0.4865\n",
            " - lr: 0.00699 - momentum: 0.89 \n",
            "\n",
            "Epoch 00003: val_acc did not improve from 0.50310\n",
            "Epoch 4/24\n",
            "97/97 [==============================] - 47s 485ms/step - loss: 1.0949 - acc: 0.6478 - val_loss: 1.3051 - val_acc: 0.6414\n",
            " - lr: 0.00865 - momentum: 0.88 \n",
            "\n",
            "Epoch 00004: val_acc improved from 0.50310 to 0.64140, saving model to assignment_12_best_weights.hdf5\n",
            "Epoch 5/24\n",
            "97/97 [==============================] - 47s 485ms/step - loss: 1.0442 - acc: 0.6781 - val_loss: 1.4958 - val_acc: 0.6005\n",
            " - lr: 0.01032 - momentum: 0.88 \n",
            "\n",
            "Epoch 00005: val_acc did not improve from 0.64140\n",
            "Epoch 6/24\n",
            "97/97 [==============================] - 47s 485ms/step - loss: 0.9475 - acc: 0.7048 - val_loss: 1.2065 - val_acc: 0.6448\n",
            " - lr: 0.01199 - momentum: 0.87 \n",
            "\n",
            "Epoch 00006: val_acc improved from 0.64140 to 0.64480, saving model to assignment_12_best_weights.hdf5\n",
            "Epoch 7/24\n",
            "97/97 [==============================] - 47s 485ms/step - loss: 0.9085 - acc: 0.7274 - val_loss: 1.0038 - val_acc: 0.7357\n",
            " - lr: 0.01366 - momentum: 0.87 \n",
            "\n",
            "Epoch 00007: val_acc improved from 0.64480 to 0.73570, saving model to assignment_12_best_weights.hdf5\n",
            "Epoch 8/24\n",
            "97/97 [==============================] - 47s 486ms/step - loss: 0.8559 - acc: 0.7423 - val_loss: 0.7855 - val_acc: 0.7510\n",
            " - lr: 0.01532 - momentum: 0.86 \n",
            "\n",
            "Epoch 00008: val_acc improved from 0.73570 to 0.75100, saving model to assignment_12_best_weights.hdf5\n",
            "Epoch 9/24\n",
            "97/97 [==============================] - 47s 485ms/step - loss: 0.8115 - acc: 0.7558 - val_loss: 0.8060 - val_acc: 0.7690\n",
            " - lr: 0.01699 - momentum: 0.86 \n",
            "\n",
            "Epoch 00009: val_acc improved from 0.75100 to 0.76900, saving model to assignment_12_best_weights.hdf5\n",
            "Epoch 10/24\n",
            "97/97 [==============================] - 47s 485ms/step - loss: 0.7902 - acc: 0.7659 - val_loss: 0.9010 - val_acc: 0.7409\n",
            " - lr: 0.01866 - momentum: 0.85 \n",
            "\n",
            "Epoch 00010: val_acc did not improve from 0.76900\n",
            "Epoch 11/24\n",
            "97/97 [==============================] - 47s 485ms/step - loss: 0.6886 - acc: 0.7887 - val_loss: 0.7596 - val_acc: 0.7643\n",
            " - lr: 0.01967 - momentum: 0.85 \n",
            "\n",
            "Epoch 00011: val_acc did not improve from 0.76900\n",
            "Epoch 12/24\n",
            "97/97 [==============================] - 47s 484ms/step - loss: 0.5805 - acc: 0.8130 - val_loss: 0.7719 - val_acc: 0.7735\n",
            " - lr: 0.01801 - momentum: 0.86 \n",
            "\n",
            "Epoch 00012: val_acc improved from 0.76900 to 0.77350, saving model to assignment_12_best_weights.hdf5\n",
            "Epoch 13/24\n",
            "97/97 [==============================] - 47s 485ms/step - loss: 0.4416 - acc: 0.8498 - val_loss: 0.6135 - val_acc: 0.8060\n",
            " - lr: 0.01634 - momentum: 0.86 \n",
            "\n",
            "Epoch 00013: val_acc improved from 0.77350 to 0.80600, saving model to assignment_12_best_weights.hdf5\n",
            "Epoch 14/24\n",
            "97/97 [==============================] - 47s 485ms/step - loss: 0.4013 - acc: 0.8616 - val_loss: 0.5188 - val_acc: 0.8314\n",
            " - lr: 0.01467 - momentum: 0.86 \n",
            "\n",
            "Epoch 00014: val_acc improved from 0.80600 to 0.83140, saving model to assignment_12_best_weights.hdf5\n",
            "Epoch 15/24\n",
            "97/97 [==============================] - 47s 485ms/step - loss: 0.3479 - acc: 0.8799 - val_loss: 0.4968 - val_acc: 0.8388\n",
            " - lr: 0.01300 - momentum: 0.87 \n",
            "\n",
            "Epoch 00015: val_acc improved from 0.83140 to 0.83880, saving model to assignment_12_best_weights.hdf5\n",
            "Epoch 16/24\n",
            "97/97 [==============================] - 47s 485ms/step - loss: 0.3097 - acc: 0.8928 - val_loss: 0.4274 - val_acc: 0.8598\n",
            " - lr: 0.01134 - momentum: 0.87 \n",
            "\n",
            "Epoch 00016: val_acc improved from 0.83880 to 0.85980, saving model to assignment_12_best_weights.hdf5\n",
            "Epoch 17/24\n",
            "97/97 [==============================] - 47s 485ms/step - loss: 0.2840 - acc: 0.9026 - val_loss: 0.4085 - val_acc: 0.8616\n",
            " - lr: 0.00967 - momentum: 0.88 \n",
            "\n",
            "Epoch 00017: val_acc improved from 0.85980 to 0.86160, saving model to assignment_12_best_weights.hdf5\n",
            "Epoch 18/24\n",
            "97/97 [==============================] - 47s 485ms/step - loss: 0.2567 - acc: 0.9107 - val_loss: 0.3914 - val_acc: 0.8708\n",
            " - lr: 0.00800 - momentum: 0.88 \n",
            "\n",
            "Epoch 00018: val_acc improved from 0.86160 to 0.87080, saving model to assignment_12_best_weights.hdf5\n",
            "Epoch 19/24\n",
            "97/97 [==============================] - 47s 485ms/step - loss: 0.2378 - acc: 0.9178 - val_loss: 0.3790 - val_acc: 0.8770\n",
            " - lr: 0.00633 - momentum: 0.89 \n",
            "\n",
            "Epoch 00019: val_acc improved from 0.87080 to 0.87700, saving model to assignment_12_best_weights.hdf5\n",
            "Epoch 20/24\n",
            "97/97 [==============================] - 47s 485ms/step - loss: 0.2223 - acc: 0.9246 - val_loss: 0.3720 - val_acc: 0.8802\n",
            " - lr: 0.00466 - momentum: 0.89 \n",
            "\n",
            "Epoch 00020: val_acc improved from 0.87700 to 0.88020, saving model to assignment_12_best_weights.hdf5\n",
            "Epoch 21/24\n",
            "97/97 [==============================] - 47s 486ms/step - loss: 0.2059 - acc: 0.9303 - val_loss: 0.3593 - val_acc: 0.8777\n",
            " - lr: 0.00300 - momentum: 0.90 \n",
            "\n",
            "Epoch 00021: val_acc did not improve from 0.88020\n",
            "Epoch 22/24\n",
            "97/97 [==============================] - 47s 486ms/step - loss: 0.1924 - acc: 0.9361 - val_loss: 0.3519 - val_acc: 0.8823\n",
            " - lr: 0.00167 - momentum: 0.90 \n",
            "\n",
            "Epoch 00022: val_acc improved from 0.88020 to 0.88230, saving model to assignment_12_best_weights.hdf5\n",
            "Epoch 23/24\n",
            "97/97 [==============================] - 47s 486ms/step - loss: 0.1828 - acc: 0.9390 - val_loss: 0.3382 - val_acc: 0.8901\n",
            " - lr: 0.00085 - momentum: 0.90 \n",
            "\n",
            "Epoch 00023: val_acc improved from 0.88230 to 0.89010, saving model to assignment_12_best_weights.hdf5\n",
            "Epoch 24/24\n",
            "97/97 [==============================] - 47s 486ms/step - loss: 0.1728 - acc: 0.9441 - val_loss: 0.3346 - val_acc: 0.8900\n",
            " - lr: 0.00003 - momentum: 0.90 \n",
            "\n",
            "Epoch 00024: val_acc did not improve from 0.89010\n",
            "Model took 1139.03 seconds to train\n"
          ],
          "name": "stdout"
        }
      ]
    },
    {
      "cell_type": "code",
      "metadata": {
        "id": "b9Dt-0q4EJxC",
        "colab_type": "code",
        "colab": {
          "base_uri": "https://localhost:8080/",
          "height": 49
        },
        "outputId": "fdd5be47-185a-4e15-bdf4-c9cadc1d1d89"
      },
      "source": [
        "print(\"LR Range : \", min(lr_manager.history['lr']), max(lr_manager.history['lr']))\n",
        "print(\"Momentum Range : \", min(lr_manager.history['momentum']), max(lr_manager.history['momentum']))"
      ],
      "execution_count": 28,
      "outputs": [
        {
          "output_type": "stream",
          "text": [
            "LR Range :  2.8461538e-05 0.02\n",
            "Momentum Range :  0.85 0.9\n"
          ],
          "name": "stdout"
        }
      ]
    },
    {
      "cell_type": "code",
      "metadata": {
        "id": "nWsuQFayETlI",
        "colab_type": "code",
        "colab": {
          "base_uri": "https://localhost:8080/",
          "height": 294
        },
        "outputId": "aa7d2f91-6fca-4dd9-b502-660063f6727d"
      },
      "source": [
        "plt.xlabel('Training Iterations')\n",
        "plt.ylabel('Learning Rate')\n",
        "plt.title(\"CLR\")\n",
        "plt.plot(lr_manager.history['lr'])\n",
        "plt.show()"
      ],
      "execution_count": 29,
      "outputs": [
        {
          "output_type": "display_data",
          "data": {
            "image/png": "[encoded data removed]",
            "text/plain": [
              "<Figure size 432x288 with 1 Axes>"
            ]
          },
          "metadata": {
            "tags": []
          }
        }
      ]
    },
    {
      "cell_type": "code",
      "metadata": {
        "id": "8d6Knc5LEUxX",
        "colab_type": "code",
        "colab": {
          "base_uri": "https://localhost:8080/",
          "height": 294
        },
        "outputId": "834265c9-072d-4a81-a37d-f62a3993cc77"
      },
      "source": [
        "plt.xlabel('Training Iterations')\n",
        "plt.ylabel('Momentum')\n",
        "plt.title(\"CLR\")\n",
        "plt.plot(lr_manager.history['momentum'])\n",
        "plt.show()"
      ],
      "execution_count": 30,
      "outputs": [
        {
          "output_type": "display_data",
          "data": {
            "image/png": "[encoded data removed]",
            "text/plain": [
              "<Figure size 432x288 with 1 Axes>"
            ]
          },
          "metadata": {
            "tags": []
          }
        }
      ]
    },
    {
      "cell_type": "markdown",
      "metadata": {
        "id": "gs1lWu3zWr3Q",
        "colab_type": "text"
      },
      "source": [
        "### Save the model weights\n",
        "* Better to save the model weights\n",
        "* Following downloads it to your local computer\n",
        "* You can upload it to Google Drive and give downloadable link"
      ]
    },
    {
      "cell_type": "code",
      "metadata": {
        "id": "96WkcJq2Wq3V",
        "colab_type": "code",
        "colab": {}
      },
      "source": [
        "from google.colab import files\n",
        "files.download(\"assignment_12_best_weights.hdf5\")"
      ],
      "execution_count": 0,
      "outputs": []
    }
  ]
}