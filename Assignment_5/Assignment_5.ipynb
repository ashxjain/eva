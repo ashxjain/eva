{
  "nbformat": 4,
  "nbformat_minor": 0,
  "metadata": {
    "colab": {
      "name": "Assignment-5.ipynb",
      "version": "0.3.2",
      "provenance": [],
      "collapsed_sections": []
    },
    "kernelspec": {
      "name": "python3",
      "display_name": "Python 3"
    },
    "accelerator": "GPU"
  },
  "cells": [
    {
      "cell_type": "code",
      "metadata": {
        "id": "0SJyVpgSxHt4",
        "colab_type": "code",
        "colab": {}
      },
      "source": [
        "import numpy as np\n",
        "\n",
        "from keras.models import Sequential\n",
        "from keras.layers import Dense, Dropout, Activation, Flatten, Add, BatchNormalization\n",
        "from keras.layers import Convolution2D, MaxPooling2D\n",
        "from keras.utils import np_utils\n",
        "\n",
        "from keras.datasets import mnist"
      ],
      "execution_count": 0,
      "outputs": []
    },
    {
      "cell_type": "code",
      "metadata": {
        "id": "YlEUplvoxKAT",
        "colab_type": "code",
        "colab": {}
      },
      "source": [
        "(X_train, y_train), (X_test, y_test) = mnist.load_data()\n"
      ],
      "execution_count": 0,
      "outputs": []
    },
    {
      "cell_type": "code",
      "metadata": {
        "id": "I6Y9Va-xxMXG",
        "colab_type": "code",
        "outputId": "66557124-f0a5-4450-eb12-1148799ad7e6",
        "colab": {
          "base_uri": "https://localhost:8080/",
          "height": 303
        }
      },
      "source": [
        "print (X_train.shape)\n",
        "from matplotlib import pyplot as plt\n",
        "%matplotlib inline\n",
        "plt.imshow(X_train[1])"
      ],
      "execution_count": 115,
      "outputs": [
        {
          "output_type": "stream",
          "text": [
            "(60000, 28, 28)\n"
          ],
          "name": "stdout"
        },
        {
          "output_type": "execute_result",
          "data": {
            "text/plain": [
              "<matplotlib.image.AxesImage at 0x7f92ab756eb8>"
            ]
          },
          "metadata": {
            "tags": []
          },
          "execution_count": 115
        },
        {
          "output_type": "display_data",
          "data": {
            "image/png": "[encoded data removed]",
            "text/plain": [
              "<Figure size 432x288 with 1 Axes>"
            ]
          },
          "metadata": {
            "tags": []
          }
        }
      ]
    },
    {
      "cell_type": "code",
      "metadata": {
        "id": "lxDZxPhhxOgO",
        "colab_type": "code",
        "colab": {}
      },
      "source": [
        "X_train = X_train.reshape(X_train.shape[0], 28, 28,1)\n",
        "X_test = X_test.reshape(X_test.shape[0], 28, 28,1)"
      ],
      "execution_count": 0,
      "outputs": []
    },
    {
      "cell_type": "code",
      "metadata": {
        "id": "3HzMqbTnxQQW",
        "colab_type": "code",
        "colab": {}
      },
      "source": [
        "X_train = X_train.astype('float32')\n",
        "X_test = X_test.astype('float32')\n",
        "X_train /= 255\n",
        "X_test /= 255"
      ],
      "execution_count": 0,
      "outputs": []
    },
    {
      "cell_type": "code",
      "metadata": {
        "id": "mhirEhqVuoTh",
        "colab_type": "code",
        "colab": {}
      },
      "source": [
        "from keras.preprocessing.image import ImageDataGenerator\n",
        "\n",
        "# create generator that centers pixel values\n",
        "datagen = ImageDataGenerator(featurewise_center=True, featurewise_std_normalization=True)\n",
        "datagen.fit(X_train)"
      ],
      "execution_count": 0,
      "outputs": []
    },
    {
      "cell_type": "code",
      "metadata": {
        "id": "7LdYiW6ixR9e",
        "colab_type": "code",
        "colab": {}
      },
      "source": [
        "y_train[:10]\n",
        "Y_train = np_utils.to_categorical(y_train, 10)\n",
        "Y_test = np_utils.to_categorical(y_test, 10)"
      ],
      "execution_count": 0,
      "outputs": []
    },
    {
      "cell_type": "code",
      "metadata": {
        "id": "rFR0F9j0xVp2",
        "colab_type": "code",
        "outputId": "c3434ef7-5cb9-4c48-9dea-6ca1a628acb9",
        "colab": {
          "base_uri": "https://localhost:8080/",
          "height": 187
        }
      },
      "source": [
        "Y_train[:10]"
      ],
      "execution_count": 120,
      "outputs": [
        {
          "output_type": "execute_result",
          "data": {
            "text/plain": [
              "array([[0., 0., 0., 0., 0., 1., 0., 0., 0., 0.],\n",
              "       [1., 0., 0., 0., 0., 0., 0., 0., 0., 0.],\n",
              "       [0., 0., 0., 0., 1., 0., 0., 0., 0., 0.],\n",
              "       [0., 1., 0., 0., 0., 0., 0., 0., 0., 0.],\n",
              "       [0., 0., 0., 0., 0., 0., 0., 0., 0., 1.],\n",
              "       [0., 0., 1., 0., 0., 0., 0., 0., 0., 0.],\n",
              "       [0., 1., 0., 0., 0., 0., 0., 0., 0., 0.],\n",
              "       [0., 0., 0., 1., 0., 0., 0., 0., 0., 0.],\n",
              "       [0., 1., 0., 0., 0., 0., 0., 0., 0., 0.],\n",
              "       [0., 0., 0., 0., 1., 0., 0., 0., 0., 0.]], dtype=float32)"
            ]
          },
          "metadata": {
            "tags": []
          },
          "execution_count": 120
        }
      ]
    },
    {
      "cell_type": "code",
      "metadata": {
        "id": "mDpXf4YQxXRm",
        "colab_type": "code",
        "outputId": "81121b76-dd98-4e06-85af-14c2767e8b20",
        "colab": {
          "base_uri": "https://localhost:8080/",
          "height": 1414
        }
      },
      "source": [
        "from keras.layers import Activation\n",
        "from keras import regularizers\n",
        "\n",
        "model = Sequential()\n",
        "\n",
        "lambda_val = 0.01\n",
        " \n",
        "model.add(Convolution2D(16, 3, 3, input_shape=(28,28,1), kernel_regularizer=regularizers.l2(lambda_val))) #26\n",
        "model.add(BatchNormalization())\n",
        "model.add(Activation('relu'))\n",
        "model.add(Dropout(0.1))\n",
        "\n",
        "model.add(Convolution2D(32, 3, 3, kernel_regularizer=regularizers.l2(lambda_val))) #24\n",
        "model.add(BatchNormalization())\n",
        "model.add(Activation('relu'))\n",
        "model.add(Dropout(0.1))\n",
        "\n",
        "model.add(Convolution2D(10, 1, 1, kernel_regularizer=regularizers.l2(lambda_val))) #22\n",
        "model.add(Activation('relu'))\n",
        "\n",
        "model.add(MaxPooling2D(pool_size=(2, 2)))#11\n",
        "\n",
        "model.add(Convolution2D(16, 3, 3, kernel_regularizer=regularizers.l2(lambda_val)))#9\n",
        "model.add(BatchNormalization())\n",
        "model.add(Activation('relu'))\n",
        "model.add(Dropout(0.1))\n",
        "\n",
        "\n",
        "model.add(Convolution2D(16, 3, 3, kernel_regularizer=regularizers.l2(lambda_val)))#7\n",
        "model.add(BatchNormalization())\n",
        "model.add(Activation('relu'))\n",
        "model.add(Dropout(0.1))\n",
        "\n",
        "\n",
        "model.add(Convolution2D(16, 3, 3, kernel_regularizer=regularizers.l2(lambda_val)))#5\n",
        "model.add(BatchNormalization())\n",
        "model.add(Activation('relu'))\n",
        "model.add(Dropout(0.1))\n",
        "\n",
        "\n",
        "model.add(Convolution2D(16, 3, 3, kernel_regularizer=regularizers.l2(lambda_val)))#3\n",
        "model.add(BatchNormalization())\n",
        "model.add(Activation('relu'))\n",
        "model.add(Dropout(0.1))\n",
        "\n",
        "\n",
        "model.add(Convolution2D(10, 4, 4, kernel_regularizer=regularizers.l2(lambda_val)))\n",
        "model.add(BatchNormalization())\n",
        "model.add(Dropout(0.1))\n",
        "\n",
        "\n",
        "model.add(Flatten())\n",
        "model.add(Activation('softmax'))\n",
        "\n",
        "\n",
        "model.summary()"
      ],
      "execution_count": 121,
      "outputs": [
        {
          "output_type": "stream",
          "text": [
            "/usr/local/lib/python3.6/dist-packages/ipykernel_launcher.py:8: UserWarning: Update your `Conv2D` call to the Keras 2 API: `Conv2D(16, (3, 3), input_shape=(28, 28, 1..., kernel_regularizer=<keras.reg...)`\n",
            "  \n",
            "/usr/local/lib/python3.6/dist-packages/ipykernel_launcher.py:13: UserWarning: Update your `Conv2D` call to the Keras 2 API: `Conv2D(32, (3, 3), kernel_regularizer=<keras.reg...)`\n",
            "  del sys.path[0]\n",
            "/usr/local/lib/python3.6/dist-packages/ipykernel_launcher.py:18: UserWarning: Update your `Conv2D` call to the Keras 2 API: `Conv2D(10, (1, 1), kernel_regularizer=<keras.reg...)`\n",
            "/usr/local/lib/python3.6/dist-packages/ipykernel_launcher.py:23: UserWarning: Update your `Conv2D` call to the Keras 2 API: `Conv2D(16, (3, 3), kernel_regularizer=<keras.reg...)`\n",
            "/usr/local/lib/python3.6/dist-packages/ipykernel_launcher.py:29: UserWarning: Update your `Conv2D` call to the Keras 2 API: `Conv2D(16, (3, 3), kernel_regularizer=<keras.reg...)`\n",
            "/usr/local/lib/python3.6/dist-packages/ipykernel_launcher.py:35: UserWarning: Update your `Conv2D` call to the Keras 2 API: `Conv2D(16, (3, 3), kernel_regularizer=<keras.reg...)`\n",
            "/usr/local/lib/python3.6/dist-packages/ipykernel_launcher.py:41: UserWarning: Update your `Conv2D` call to the Keras 2 API: `Conv2D(16, (3, 3), kernel_regularizer=<keras.reg...)`\n"
          ],
          "name": "stderr"
        },
        {
          "output_type": "stream",
          "text": [
            "_________________________________________________________________\n",
            "Layer (type)                 Output Shape              Param #   \n",
            "=================================================================\n",
            "conv2d_73 (Conv2D)           (None, 26, 26, 16)        160       \n",
            "_________________________________________________________________\n",
            "batch_normalization_64 (Batc (None, 26, 26, 16)        64        \n",
            "_________________________________________________________________\n",
            "activation_52 (Activation)   (None, 26, 26, 16)        0         \n",
            "_________________________________________________________________\n",
            "dropout_64 (Dropout)         (None, 26, 26, 16)        0         \n",
            "_________________________________________________________________\n",
            "conv2d_74 (Conv2D)           (None, 24, 24, 32)        4640      \n",
            "_________________________________________________________________\n",
            "batch_normalization_65 (Batc (None, 24, 24, 32)        128       \n",
            "_________________________________________________________________\n",
            "activation_53 (Activation)   (None, 24, 24, 32)        0         \n",
            "_________________________________________________________________\n",
            "dropout_65 (Dropout)         (None, 24, 24, 32)        0         \n",
            "_________________________________________________________________\n",
            "conv2d_75 (Conv2D)           (None, 24, 24, 10)        330       \n",
            "_________________________________________________________________\n",
            "activation_54 (Activation)   (None, 24, 24, 10)        0         \n",
            "_________________________________________________________________\n",
            "max_pooling2d_10 (MaxPooling (None, 12, 12, 10)        0         \n",
            "_________________________________________________________________\n",
            "conv2d_76 (Conv2D)           (None, 10, 10, 16)        1456      \n",
            "_________________________________________________________________\n",
            "batch_normalization_66 (Batc (None, 10, 10, 16)        64        \n",
            "_________________________________________________________________\n",
            "activation_55 (Activation)   (None, 10, 10, 16)        0         \n",
            "_________________________________________________________________\n",
            "dropout_66 (Dropout)         (None, 10, 10, 16)        0         \n",
            "_________________________________________________________________\n",
            "conv2d_77 (Conv2D)           (None, 8, 8, 16)          2320      \n",
            "_________________________________________________________________\n",
            "batch_normalization_67 (Batc (None, 8, 8, 16)          64        \n",
            "_________________________________________________________________\n",
            "activation_56 (Activation)   (None, 8, 8, 16)          0         \n",
            "_________________________________________________________________\n",
            "dropout_67 (Dropout)         (None, 8, 8, 16)          0         \n",
            "_________________________________________________________________\n",
            "conv2d_78 (Conv2D)           (None, 6, 6, 16)          2320      \n",
            "_________________________________________________________________\n",
            "batch_normalization_68 (Batc (None, 6, 6, 16)          64        \n",
            "_________________________________________________________________\n",
            "activation_57 (Activation)   (None, 6, 6, 16)          0         \n",
            "_________________________________________________________________\n",
            "dropout_68 (Dropout)         (None, 6, 6, 16)          0         \n",
            "_________________________________________________________________\n",
            "conv2d_79 (Conv2D)           (None, 4, 4, 16)          2320      \n",
            "_________________________________________________________________\n",
            "batch_normalization_69 (Batc (None, 4, 4, 16)          64        \n",
            "_________________________________________________________________\n",
            "activation_58 (Activation)   (None, 4, 4, 16)          0         \n",
            "_________________________________________________________________\n",
            "dropout_69 (Dropout)         (None, 4, 4, 16)          0         \n",
            "_________________________________________________________________\n",
            "conv2d_80 (Conv2D)           (None, 1, 1, 10)          2570      \n",
            "_________________________________________________________________\n",
            "batch_normalization_70 (Batc (None, 1, 1, 10)          40        \n",
            "_________________________________________________________________\n",
            "dropout_70 (Dropout)         (None, 1, 1, 10)          0         \n",
            "_________________________________________________________________\n",
            "flatten_10 (Flatten)         (None, 10)                0         \n",
            "_________________________________________________________________\n",
            "activation_59 (Activation)   (None, 10)                0         \n",
            "=================================================================\n",
            "Total params: 16,604\n",
            "Trainable params: 16,360\n",
            "Non-trainable params: 244\n",
            "_________________________________________________________________\n"
          ],
          "name": "stdout"
        },
        {
          "output_type": "stream",
          "text": [
            "/usr/local/lib/python3.6/dist-packages/ipykernel_launcher.py:47: UserWarning: Update your `Conv2D` call to the Keras 2 API: `Conv2D(10, (4, 4), kernel_regularizer=<keras.reg...)`\n"
          ],
          "name": "stderr"
        }
      ]
    },
    {
      "cell_type": "code",
      "metadata": {
        "id": "L2IicGJ4x3Be",
        "colab_type": "code",
        "outputId": "9a245373-ae7c-44de-d1dc-305d00a558e0",
        "colab": {
          "base_uri": "https://localhost:8080/",
          "height": 4114
        }
      },
      "source": [
        "from keras.optimizers import Adam\n",
        "from keras.callbacks import LearningRateScheduler\n",
        "from keras.callbacks import ModelCheckpoint\n",
        "\n",
        "def scheduler(epoch, lr):\n",
        "  return round(0.003 * 1/(1 + 0.319 * epoch), 10)\n",
        "\n",
        "# HyperParameters\n",
        "lr = 0.003\n",
        "batch_size = 128\n",
        "epochs = 40\n",
        "\n",
        "model.compile(loss='categorical_crossentropy', optimizer=Adam(lr=lr), metrics=['accuracy'])\n",
        "\n",
        "checkpoint = ModelCheckpoint(\"best_weights.hdf5\", monitor='val_acc', verbose=1, save_best_only=True, mode='max')\n",
        "\n",
        "train_iterator = datagen.flow(X_train, Y_train, batch_size=batch_size)\n",
        "val_iterator = datagen.flow(X_test, Y_test, batch_size=batch_size, shuffle=False)\n",
        "\n",
        "model.fit_generator(train_iterator, steps_per_epoch=len(X_train)/batch_size, validation_data=val_iterator, validation_steps=len(X_test)//batch_size, epochs=epochs, callbacks=[LearningRateScheduler(scheduler, verbose=1), checkpoint])\n"
      ],
      "execution_count": 122,
      "outputs": [
        {
          "output_type": "stream",
          "text": [
            "Epoch 1/40\n",
            "\n",
            "Epoch 00001: LearningRateScheduler setting learning rate to 0.003.\n",
            "468/468 [==============================] - 17s 37ms/step - loss: 0.8915 - acc: 0.8508 - val_loss: 1.6645 - val_acc: 0.5387\n",
            "\n",
            "Epoch 00001: val_acc improved from -inf to 0.53866, saving model to best_weights.hdf5\n",
            "Epoch 2/40\n",
            "\n",
            "Epoch 00002: LearningRateScheduler setting learning rate to 0.0022744503.\n",
            "468/468 [==============================] - 9s 19ms/step - loss: 0.3533 - acc: 0.9197 - val_loss: 0.1837 - val_acc: 0.9810\n",
            "\n",
            "Epoch 00002: val_acc improved from 0.53866 to 0.98096, saving model to best_weights.hdf5\n",
            "Epoch 3/40\n",
            "\n",
            "Epoch 00003: LearningRateScheduler setting learning rate to 0.0018315018.\n",
            "468/468 [==============================] - 9s 19ms/step - loss: 0.2957 - acc: 0.9332 - val_loss: 0.1929 - val_acc: 0.9768\n",
            "\n",
            "Epoch 00003: val_acc did not improve from 0.98096\n",
            "Epoch 4/40\n",
            "\n",
            "Epoch 00004: LearningRateScheduler setting learning rate to 0.0015329586.\n",
            "468/468 [==============================] - 9s 19ms/step - loss: 0.2655 - acc: 0.9370 - val_loss: 0.1403 - val_acc: 0.9820\n",
            "\n",
            "Epoch 00004: val_acc improved from 0.98096 to 0.98197, saving model to best_weights.hdf5\n",
            "Epoch 5/40\n",
            "\n",
            "Epoch 00005: LearningRateScheduler setting learning rate to 0.0013181019.\n",
            "468/468 [==============================] - 9s 20ms/step - loss: 0.2443 - acc: 0.9417 - val_loss: 0.1351 - val_acc: 0.9809\n",
            "\n",
            "Epoch 00005: val_acc did not improve from 0.98197\n",
            "Epoch 6/40\n",
            "\n",
            "Epoch 00006: LearningRateScheduler setting learning rate to 0.0011560694.\n",
            "468/468 [==============================] - 10s 21ms/step - loss: 0.2294 - acc: 0.9422 - val_loss: 0.1500 - val_acc: 0.9747\n",
            "\n",
            "Epoch 00006: val_acc did not improve from 0.98197\n",
            "Epoch 7/40\n",
            "\n",
            "Epoch 00007: LearningRateScheduler setting learning rate to 0.0010295127.\n",
            "468/468 [==============================] - 9s 20ms/step - loss: 0.2171 - acc: 0.9433 - val_loss: 0.1389 - val_acc: 0.9784\n",
            "\n",
            "Epoch 00007: val_acc did not improve from 0.98197\n",
            "Epoch 8/40\n",
            "\n",
            "Epoch 00008: LearningRateScheduler setting learning rate to 0.0009279307.\n",
            "468/468 [==============================] - 10s 21ms/step - loss: 0.2037 - acc: 0.9470 - val_loss: 0.1087 - val_acc: 0.9845\n",
            "\n",
            "Epoch 00008: val_acc improved from 0.98197 to 0.98450, saving model to best_weights.hdf5\n",
            "Epoch 9/40\n",
            "\n",
            "Epoch 00009: LearningRateScheduler setting learning rate to 0.0008445946.\n",
            "468/468 [==============================] - 9s 19ms/step - loss: 0.1945 - acc: 0.9463 - val_loss: 0.1176 - val_acc: 0.9829\n",
            "\n",
            "Epoch 00009: val_acc did not improve from 0.98450\n",
            "Epoch 10/40\n",
            "\n",
            "Epoch 00010: LearningRateScheduler setting learning rate to 0.0007749935.\n",
            "468/468 [==============================] - 9s 20ms/step - loss: 0.1917 - acc: 0.9462 - val_loss: 0.0849 - val_acc: 0.9889\n",
            "\n",
            "Epoch 00010: val_acc improved from 0.98450 to 0.98886, saving model to best_weights.hdf5\n",
            "Epoch 11/40\n",
            "\n",
            "Epoch 00011: LearningRateScheduler setting learning rate to 0.0007159905.\n",
            "468/468 [==============================] - 9s 19ms/step - loss: 0.1805 - acc: 0.9474 - val_loss: 0.0865 - val_acc: 0.9880\n",
            "\n",
            "Epoch 00011: val_acc did not improve from 0.98886\n",
            "Epoch 12/40\n",
            "\n",
            "Epoch 00012: LearningRateScheduler setting learning rate to 0.000665336.\n",
            "468/468 [==============================] - 9s 19ms/step - loss: 0.1760 - acc: 0.9489 - val_loss: 0.0842 - val_acc: 0.9866\n",
            "\n",
            "Epoch 00012: val_acc did not improve from 0.98886\n",
            "Epoch 13/40\n",
            "\n",
            "Epoch 00013: LearningRateScheduler setting learning rate to 0.0006213753.\n",
            "468/468 [==============================] - 9s 20ms/step - loss: 0.1733 - acc: 0.9481 - val_loss: 0.0805 - val_acc: 0.9877\n",
            "\n",
            "Epoch 00013: val_acc did not improve from 0.98886\n",
            "Epoch 14/40\n",
            "\n",
            "Epoch 00014: LearningRateScheduler setting learning rate to 0.0005828638.\n",
            "468/468 [==============================] - 9s 19ms/step - loss: 0.1673 - acc: 0.9502 - val_loss: 0.0785 - val_acc: 0.9872\n",
            "\n",
            "Epoch 00014: val_acc did not improve from 0.98886\n",
            "Epoch 15/40\n",
            "\n",
            "Epoch 00015: LearningRateScheduler setting learning rate to 0.0005488474.\n",
            "468/468 [==============================] - 9s 20ms/step - loss: 0.1651 - acc: 0.9488 - val_loss: 0.0949 - val_acc: 0.9842\n",
            "\n",
            "Epoch 00015: val_acc did not improve from 0.98886\n",
            "Epoch 16/40\n",
            "\n",
            "Epoch 00016: LearningRateScheduler setting learning rate to 0.0005185825.\n",
            "468/468 [==============================] - 10s 21ms/step - loss: 0.1594 - acc: 0.9503 - val_loss: 0.0741 - val_acc: 0.9881\n",
            "\n",
            "Epoch 00016: val_acc did not improve from 0.98886\n",
            "Epoch 17/40\n",
            "\n",
            "Epoch 00017: LearningRateScheduler setting learning rate to 0.000491481.\n",
            "468/468 [==============================] - 10s 20ms/step - loss: 0.1563 - acc: 0.9511 - val_loss: 0.0785 - val_acc: 0.9872\n",
            "\n",
            "Epoch 00017: val_acc did not improve from 0.98886\n",
            "Epoch 18/40\n",
            "\n",
            "Epoch 00018: LearningRateScheduler setting learning rate to 0.0004670715.\n",
            "468/468 [==============================] - 9s 20ms/step - loss: 0.1517 - acc: 0.9518 - val_loss: 0.0626 - val_acc: 0.9920\n",
            "\n",
            "Epoch 00018: val_acc improved from 0.98886 to 0.99200, saving model to best_weights.hdf5\n",
            "Epoch 19/40\n",
            "\n",
            "Epoch 00019: LearningRateScheduler setting learning rate to 0.0004449718.\n",
            "468/468 [==============================] - 9s 19ms/step - loss: 0.1505 - acc: 0.9517 - val_loss: 0.0709 - val_acc: 0.9896\n",
            "\n",
            "Epoch 00019: val_acc did not improve from 0.99200\n",
            "Epoch 20/40\n",
            "\n",
            "Epoch 00020: LearningRateScheduler setting learning rate to 0.000424869.\n",
            "468/468 [==============================] - 9s 19ms/step - loss: 0.1456 - acc: 0.9537 - val_loss: 0.0682 - val_acc: 0.9896\n",
            "\n",
            "Epoch 00020: val_acc did not improve from 0.99200\n",
            "Epoch 21/40\n",
            "\n",
            "Epoch 00021: LearningRateScheduler setting learning rate to 0.0004065041.\n",
            "468/468 [==============================] - 9s 19ms/step - loss: 0.1442 - acc: 0.9527 - val_loss: 0.0620 - val_acc: 0.9902\n",
            "\n",
            "Epoch 00021: val_acc did not improve from 0.99200\n",
            "Epoch 22/40\n",
            "\n",
            "Epoch 00022: LearningRateScheduler setting learning rate to 0.000389661.\n",
            "468/468 [==============================] - 9s 19ms/step - loss: 0.1471 - acc: 0.9526 - val_loss: 0.0628 - val_acc: 0.9901\n",
            "\n",
            "Epoch 00022: val_acc did not improve from 0.99200\n",
            "Epoch 23/40\n",
            "\n",
            "Epoch 00023: LearningRateScheduler setting learning rate to 0.0003741581.\n",
            "468/468 [==============================] - 9s 19ms/step - loss: 0.1422 - acc: 0.9517 - val_loss: 0.0577 - val_acc: 0.9918\n",
            "\n",
            "Epoch 00023: val_acc did not improve from 0.99200\n",
            "Epoch 24/40\n",
            "\n",
            "Epoch 00024: LearningRateScheduler setting learning rate to 0.0003598417.\n",
            "468/468 [==============================] - 9s 19ms/step - loss: 0.1415 - acc: 0.9532 - val_loss: 0.1132 - val_acc: 0.9738\n",
            "\n",
            "Epoch 00024: val_acc did not improve from 0.99200\n",
            "Epoch 25/40\n",
            "\n",
            "Epoch 00025: LearningRateScheduler setting learning rate to 0.0003465804.\n",
            "468/468 [==============================] - 10s 21ms/step - loss: 0.1369 - acc: 0.9542 - val_loss: 0.0568 - val_acc: 0.9917\n",
            "\n",
            "Epoch 00025: val_acc did not improve from 0.99200\n",
            "Epoch 26/40\n",
            "\n",
            "Epoch 00026: LearningRateScheduler setting learning rate to 0.0003342618.\n",
            "468/468 [==============================] - 9s 20ms/step - loss: 0.1358 - acc: 0.9556 - val_loss: 0.0523 - val_acc: 0.9927\n",
            "\n",
            "Epoch 00026: val_acc improved from 0.99200 to 0.99271, saving model to best_weights.hdf5\n",
            "Epoch 27/40\n",
            "\n",
            "Epoch 00027: LearningRateScheduler setting learning rate to 0.0003227889.\n",
            "468/468 [==============================] - 9s 19ms/step - loss: 0.1381 - acc: 0.9527 - val_loss: 0.0654 - val_acc: 0.9891\n",
            "\n",
            "Epoch 00027: val_acc did not improve from 0.99271\n",
            "Epoch 28/40\n",
            "\n",
            "Epoch 00028: LearningRateScheduler setting learning rate to 0.0003120774.\n",
            "468/468 [==============================] - 9s 19ms/step - loss: 0.1325 - acc: 0.9547 - val_loss: 0.0498 - val_acc: 0.9931\n",
            "\n",
            "Epoch 00028: val_acc improved from 0.99271 to 0.99311, saving model to best_weights.hdf5\n",
            "Epoch 29/40\n",
            "\n",
            "Epoch 00029: LearningRateScheduler setting learning rate to 0.000302054.\n",
            "468/468 [==============================] - 9s 19ms/step - loss: 0.1319 - acc: 0.9536 - val_loss: 0.0485 - val_acc: 0.9938\n",
            "\n",
            "Epoch 00029: val_acc improved from 0.99311 to 0.99382, saving model to best_weights.hdf5\n",
            "Epoch 30/40\n",
            "\n",
            "Epoch 00030: LearningRateScheduler setting learning rate to 0.0002926544.\n",
            "468/468 [==============================] - 9s 20ms/step - loss: 0.1293 - acc: 0.9543 - val_loss: 0.0466 - val_acc: 0.9943\n",
            "\n",
            "Epoch 00030: val_acc improved from 0.99382 to 0.99433, saving model to best_weights.hdf5\n",
            "Epoch 31/40\n",
            "\n",
            "Epoch 00031: LearningRateScheduler setting learning rate to 0.0002838221.\n",
            "468/468 [==============================] - 9s 19ms/step - loss: 0.1251 - acc: 0.9557 - val_loss: 0.0458 - val_acc: 0.9939\n",
            "\n",
            "Epoch 00031: val_acc did not improve from 0.99433\n",
            "Epoch 32/40\n",
            "\n",
            "Epoch 00032: LearningRateScheduler setting learning rate to 0.0002755074.\n",
            "468/468 [==============================] - 9s 19ms/step - loss: 0.1271 - acc: 0.9546 - val_loss: 0.0603 - val_acc: 0.9895\n",
            "\n",
            "Epoch 00032: val_acc did not improve from 0.99433\n",
            "Epoch 33/40\n",
            "\n",
            "Epoch 00033: LearningRateScheduler setting learning rate to 0.000267666.\n",
            "468/468 [==============================] - 9s 19ms/step - loss: 0.1296 - acc: 0.9536 - val_loss: 0.0548 - val_acc: 0.9902\n",
            "\n",
            "Epoch 00033: val_acc did not improve from 0.99433\n",
            "Epoch 34/40\n",
            "\n",
            "Epoch 00034: LearningRateScheduler setting learning rate to 0.0002602585.\n",
            "468/468 [==============================] - 10s 21ms/step - loss: 0.1274 - acc: 0.9558 - val_loss: 0.0498 - val_acc: 0.9922\n",
            "\n",
            "Epoch 00034: val_acc did not improve from 0.99433\n",
            "Epoch 35/40\n",
            "\n",
            "Epoch 00035: LearningRateScheduler setting learning rate to 0.00025325.\n",
            "468/468 [==============================] - 9s 20ms/step - loss: 0.1248 - acc: 0.9557 - val_loss: 0.0483 - val_acc: 0.9932\n",
            "\n",
            "Epoch 00035: val_acc did not improve from 0.99433\n",
            "Epoch 36/40\n",
            "\n",
            "Epoch 00036: LearningRateScheduler setting learning rate to 0.0002466091.\n",
            "468/468 [==============================] - 9s 19ms/step - loss: 0.1234 - acc: 0.9553 - val_loss: 0.0599 - val_acc: 0.9893\n",
            "\n",
            "Epoch 00036: val_acc did not improve from 0.99433\n",
            "Epoch 37/40\n",
            "\n",
            "Epoch 00037: LearningRateScheduler setting learning rate to 0.0002403076.\n",
            "468/468 [==============================] - 9s 19ms/step - loss: 0.1229 - acc: 0.9550 - val_loss: 0.0469 - val_acc: 0.9929\n",
            "\n",
            "Epoch 00037: val_acc did not improve from 0.99433\n",
            "Epoch 38/40\n",
            "\n",
            "Epoch 00038: LearningRateScheduler setting learning rate to 0.0002343201.\n",
            "468/468 [==============================] - 9s 19ms/step - loss: 0.1229 - acc: 0.9553 - val_loss: 0.0449 - val_acc: 0.9932\n",
            "\n",
            "Epoch 00038: val_acc did not improve from 0.99433\n",
            "Epoch 39/40\n",
            "\n",
            "Epoch 00039: LearningRateScheduler setting learning rate to 0.0002286237.\n",
            "468/468 [==============================] - 9s 20ms/step - loss: 0.1197 - acc: 0.9561 - val_loss: 0.0538 - val_acc: 0.9900\n",
            "\n",
            "Epoch 00039: val_acc did not improve from 0.99433\n",
            "Epoch 40/40\n",
            "\n",
            "Epoch 00040: LearningRateScheduler setting learning rate to 0.0002231977.\n",
            "468/468 [==============================] - 10s 21ms/step - loss: 0.1232 - acc: 0.9546 - val_loss: 0.0464 - val_acc: 0.9929\n",
            "\n",
            "Epoch 00040: val_acc did not improve from 0.99433\n"
          ],
          "name": "stdout"
        },
        {
          "output_type": "execute_result",
          "data": {
            "text/plain": [
              "<keras.callbacks.History at 0x7f92ab672a90>"
            ]
          },
          "metadata": {
            "tags": []
          },
          "execution_count": 122
        }
      ]
    },
    {
      "cell_type": "code",
      "metadata": {
        "id": "m2qDl21ozBnW",
        "colab_type": "code",
        "outputId": "4414f2d5-ce36-4ac6-e136-456e8a673cda",
        "colab": {
          "base_uri": "https://localhost:8080/",
          "height": 34
        }
      },
      "source": [
        "model.load_weights(\"best_weights.hdf5\")\n",
        "model.compile(loss='categorical_crossentropy', optimizer=Adam(lr=lr), metrics=['accuracy'])\n",
        "\n",
        "val_iterator = datagen.flow(X_test, Y_test, batch_size=batch_size, shuffle=False)\n",
        "score = model.evaluate_generator(val_iterator, steps=len(X_test)/batch_size, verbose=0)\n",
        "\n",
        "print(score)"
      ],
      "execution_count": 160,
      "outputs": [
        {
          "output_type": "stream",
          "text": [
            "[0.04633838073015213, 0.9944]\n"
          ],
          "name": "stdout"
        }
      ]
    },
    {
      "cell_type": "code",
      "metadata": {
        "id": "oZkOk1JsyoB-",
        "colab_type": "code",
        "outputId": "990b9434-5279-4fdd-8ad8-2e8fae92ceb0",
        "colab": {
          "base_uri": "https://localhost:8080/",
          "height": 34
        }
      },
      "source": [
        "val_iterator = datagen.flow(X_test, Y_test, batch_size=batch_size, shuffle=False)\n",
        "\n",
        "Y_pred = model.predict_generator(val_iterator, steps=len(X_test)/batch_size)\n",
        "\n",
        "Y_pred_actual = np.argmax(Y_pred, axis=1)\n",
        "Y_test_actual = np.argmax(Y_test, axis=1)\n",
        "\n",
        "misclassified_indices = []\n",
        "for i in range(len(Y_pred_actual)):\n",
        "  if Y_pred_actual[i] != Y_test_actual[i]:\n",
        "    misclassified_indices.append(i)\n",
        "print(\"Total Mis-classified Images: \", len(misclassified_indices))"
      ],
      "execution_count": 204,
      "outputs": [
        {
          "output_type": "stream",
          "text": [
            "Total Mis-classified Images:  56\n"
          ],
          "name": "stdout"
        }
      ]
    },
    {
      "cell_type": "code",
      "metadata": {
        "id": "JEcWNYj2UwPu",
        "colab_type": "code",
        "colab": {
          "base_uri": "https://localhost:8080/",
          "height": 1041
        },
        "outputId": "6d0ac286-4213-4199-c8d4-ac4af4a712d9"
      },
      "source": [
        "from matplotlib import pyplot as plt\n",
        "%matplotlib inline\n",
        "\n",
        "w=28\n",
        "h=28\n",
        "fig=plt.figure(figsize=(18, 18))\n",
        "columns = 5\n",
        "rows = 5\n",
        "for i in range(columns*rows):\n",
        "    fig.add_subplot(rows, columns, i+1)\n",
        "    index = misclassified_indices[i]\n",
        "    plt.imshow(X_test[index].reshape(w, h))\n",
        "    annotation = \"Actual: %d, Predicted: %d\" % (Y_test_actual[index], Y_pred_actual[index])\n",
        "    plt.annotate(annotation, xy=(0,0), xytext=(0,-1.2), fontsize=13)\n",
        "plt.show()"
      ],
      "execution_count": 205,
      "outputs": [
        {
          "output_type": "display_data",
          "data": {
            "image/png": "[encoded data removed]",
            "text/plain": [
              "<Figure size 1296x1296 with 25 Axes>"
            ]
          },
          "metadata": {
            "tags": []
          }
        }
      ]
    }
  ]
}